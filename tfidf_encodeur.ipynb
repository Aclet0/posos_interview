{
 "cells": [
  {
   "cell_type": "code",
   "execution_count": 1,
   "metadata": {},
   "outputs": [
    {
     "name": "stderr",
     "output_type": "stream",
     "text": [
      "/Users/antoine/Documents/Tests/interview/Posos/posos_interview/venvPosos/lib/python3.7/site-packages/sklearn/externals/six.py:31: DeprecationWarning: The module is deprecated in version 0.21 and will be removed in version 0.23 since we've dropped support for Python 2.7. Please rely on the official version of six (https://pypi.org/project/six/).\n",
      "  \"(https://pypi.org/project/six/).\", DeprecationWarning)\n",
      "/Users/antoine/Documents/Tests/interview/Posos/posos_interview/venvPosos/lib/python3.7/site-packages/sklearn/externals/joblib/__init__.py:15: DeprecationWarning: sklearn.externals.joblib is deprecated in 0.21 and will be removed in 0.23. Please import this functionality directly from joblib, which can be installed with: pip install joblib. If this warning is raised when loading pickled models, you may need to re-serialize those models with scikit-learn 0.21+.\n",
      "  warnings.warn(msg, category=DeprecationWarning)\n"
     ]
    }
   ],
   "source": [
    "import sklearn\n",
    "import mglearn\n",
    "import numpy as np\n",
    "import pandas as pd\n",
    "import re\n",
    "import matplotlib.pyplot as plt"
   ]
  },
  {
   "cell_type": "raw",
   "metadata": {},
   "source": [
    "Here is my jupyter notebook for the training of different models for the project posos_sample\n",
    "\n",
    "1- Quick data exploration\n",
    "2- CountVectorizer with SVC model\n",
    "3- TFIDF vectorizer and gridSearch on SVM param\n",
    "4- Try to normalize to improve SVM perf\n",
    "5- Test with French Stemmer\n",
    "6- Word2vec with SVM - final model served by api server"
   ]
  },
  {
   "cell_type": "code",
   "execution_count": 2,
   "metadata": {},
   "outputs": [
    {
     "name": "stdout",
     "output_type": "stream",
     "text": [
      "input_test_b1Yip6O.csv input_train.csv        output_train.csv\r\n"
     ]
    }
   ],
   "source": [
    "!ls data"
   ]
  },
  {
   "cell_type": "code",
   "execution_count": 3,
   "metadata": {},
   "outputs": [],
   "source": [
    "input_train = pd.read_csv(\"data/input_train.csv\")\n",
    "output_train = pd.read_csv(\"data/output_train.csv\")"
   ]
  },
  {
   "cell_type": "markdown",
   "metadata": {},
   "source": [
    "# 1- Quick data exploration"
   ]
  },
  {
   "cell_type": "code",
   "execution_count": 4,
   "metadata": {
    "scrolled": true
   },
   "outputs": [
    {
     "data": {
      "text/html": [
       "<div>\n",
       "<style scoped>\n",
       "    .dataframe tbody tr th:only-of-type {\n",
       "        vertical-align: middle;\n",
       "    }\n",
       "\n",
       "    .dataframe tbody tr th {\n",
       "        vertical-align: top;\n",
       "    }\n",
       "\n",
       "    .dataframe thead th {\n",
       "        text-align: right;\n",
       "    }\n",
       "</style>\n",
       "<table border=\"1\" class=\"dataframe\">\n",
       "  <thead>\n",
       "    <tr style=\"text-align: right;\">\n",
       "      <th></th>\n",
       "      <th>index</th>\n",
       "      <th>intention</th>\n",
       "    </tr>\n",
       "  </thead>\n",
       "  <tbody>\n",
       "    <tr>\n",
       "      <td>0</td>\n",
       "      <td>28</td>\n",
       "      <td>1796</td>\n",
       "    </tr>\n",
       "    <tr>\n",
       "      <td>1</td>\n",
       "      <td>31</td>\n",
       "      <td>565</td>\n",
       "    </tr>\n",
       "    <tr>\n",
       "      <td>2</td>\n",
       "      <td>44</td>\n",
       "      <td>560</td>\n",
       "    </tr>\n",
       "    <tr>\n",
       "      <td>3</td>\n",
       "      <td>22</td>\n",
       "      <td>461</td>\n",
       "    </tr>\n",
       "    <tr>\n",
       "      <td>4</td>\n",
       "      <td>48</td>\n",
       "      <td>387</td>\n",
       "    </tr>\n",
       "  </tbody>\n",
       "</table>\n",
       "</div>"
      ],
      "text/plain": [
       "   index  intention\n",
       "0     28       1796\n",
       "1     31        565\n",
       "2     44        560\n",
       "3     22        461\n",
       "4     48        387"
      ]
     },
     "execution_count": 4,
     "metadata": {},
     "output_type": "execute_result"
    }
   ],
   "source": [
    "intention_count_df = output_train[\"intention\"].value_counts().reset_index()\n",
    "intention_count_df.head()"
   ]
  },
  {
   "cell_type": "code",
   "execution_count": 5,
   "metadata": {},
   "outputs": [
    {
     "data": {
      "image/png": "[encoded data removed]",
      "text/plain": [
       "<Figure size 864x864 with 1 Axes>"
      ]
     },
     "metadata": {
      "needs_background": "light"
     },
     "output_type": "display_data"
    }
   ],
   "source": [
    "ind = np.arange(intention_count_df.shape[0])\n",
    "fig, ax = plt.subplots(figsize=(12,12))\n",
    "rects = ax.barh(ind, intention_count_df[\"intention\"].values)\n",
    "ax.set_yticks(ind)\n",
    "ax.set_yticklabels(intention_count_df[\"index\"].values ,rotation='horizontal')\n",
    "plt.show()"
   ]
  },
  {
   "cell_type": "code",
   "execution_count": 6,
   "metadata": {},
   "outputs": [
    {
     "data": {
      "text/plain": [
       "((8028, 2), (8028, 2))"
      ]
     },
     "execution_count": 6,
     "metadata": {},
     "output_type": "execute_result"
    }
   ],
   "source": [
    "input_train.shape, output_train.shape"
   ]
  },
  {
   "cell_type": "code",
   "execution_count": 7,
   "metadata": {},
   "outputs": [
    {
     "data": {
      "text/html": [
       "<div>\n",
       "<style scoped>\n",
       "    .dataframe tbody tr th:only-of-type {\n",
       "        vertical-align: middle;\n",
       "    }\n",
       "\n",
       "    .dataframe tbody tr th {\n",
       "        vertical-align: top;\n",
       "    }\n",
       "\n",
       "    .dataframe thead th {\n",
       "        text-align: right;\n",
       "    }\n",
       "</style>\n",
       "<table border=\"1\" class=\"dataframe\">\n",
       "  <thead>\n",
       "    <tr style=\"text-align: right;\">\n",
       "      <th></th>\n",
       "      <th>ID</th>\n",
       "      <th>question</th>\n",
       "    </tr>\n",
       "  </thead>\n",
       "  <tbody>\n",
       "    <tr>\n",
       "      <td>0</td>\n",
       "      <td>0</td>\n",
       "      <td>bonjour,  je m suis trompé de forum pour ma qu...</td>\n",
       "    </tr>\n",
       "    <tr>\n",
       "      <td>1</td>\n",
       "      <td>1</td>\n",
       "      <td>est ce que le motilium me soulagera contre les...</td>\n",
       "    </tr>\n",
       "    <tr>\n",
       "      <td>2</td>\n",
       "      <td>2</td>\n",
       "      <td>mon médecin m'a prescrit adenyl. au 2ème cache...</td>\n",
       "    </tr>\n",
       "    <tr>\n",
       "      <td>3</td>\n",
       "      <td>3</td>\n",
       "      <td>Est-ce qu'il existe une forme adaptée aux enfa...</td>\n",
       "    </tr>\n",
       "    <tr>\n",
       "      <td>4</td>\n",
       "      <td>4</td>\n",
       "      <td>mon  medecin  me soigne  pour  une  rhino  pha...</td>\n",
       "    </tr>\n",
       "  </tbody>\n",
       "</table>\n",
       "</div>"
      ],
      "text/plain": [
       "   ID                                           question\n",
       "0   0  bonjour,  je m suis trompé de forum pour ma qu...\n",
       "1   1  est ce que le motilium me soulagera contre les...\n",
       "2   2  mon médecin m'a prescrit adenyl. au 2ème cache...\n",
       "3   3  Est-ce qu'il existe une forme adaptée aux enfa...\n",
       "4   4  mon  medecin  me soigne  pour  une  rhino  pha..."
      ]
     },
     "execution_count": 7,
     "metadata": {},
     "output_type": "execute_result"
    }
   ],
   "source": [
    "input_train.head()"
   ]
  },
  {
   "cell_type": "code",
   "execution_count": 8,
   "metadata": {},
   "outputs": [
    {
     "data": {
      "text/html": [
       "<div>\n",
       "<style scoped>\n",
       "    .dataframe tbody tr th:only-of-type {\n",
       "        vertical-align: middle;\n",
       "    }\n",
       "\n",
       "    .dataframe tbody tr th {\n",
       "        vertical-align: top;\n",
       "    }\n",
       "\n",
       "    .dataframe thead th {\n",
       "        text-align: right;\n",
       "    }\n",
       "</style>\n",
       "<table border=\"1\" class=\"dataframe\">\n",
       "  <thead>\n",
       "    <tr style=\"text-align: right;\">\n",
       "      <th></th>\n",
       "      <th>ID</th>\n",
       "      <th>intention</th>\n",
       "    </tr>\n",
       "  </thead>\n",
       "  <tbody>\n",
       "    <tr>\n",
       "      <td>0</td>\n",
       "      <td>0</td>\n",
       "      <td>28</td>\n",
       "    </tr>\n",
       "    <tr>\n",
       "      <td>1</td>\n",
       "      <td>1</td>\n",
       "      <td>31</td>\n",
       "    </tr>\n",
       "    <tr>\n",
       "      <td>2</td>\n",
       "      <td>2</td>\n",
       "      <td>28</td>\n",
       "    </tr>\n",
       "    <tr>\n",
       "      <td>3</td>\n",
       "      <td>3</td>\n",
       "      <td>44</td>\n",
       "    </tr>\n",
       "    <tr>\n",
       "      <td>4</td>\n",
       "      <td>4</td>\n",
       "      <td>31</td>\n",
       "    </tr>\n",
       "  </tbody>\n",
       "</table>\n",
       "</div>"
      ],
      "text/plain": [
       "   ID  intention\n",
       "0   0         28\n",
       "1   1         31\n",
       "2   2         28\n",
       "3   3         44\n",
       "4   4         31"
      ]
     },
     "execution_count": 8,
     "metadata": {},
     "output_type": "execute_result"
    }
   ],
   "source": [
    "output_train.head()"
   ]
  },
  {
   "cell_type": "raw",
   "metadata": {},
   "source": [
    "Conclusion:\n",
    "We notice that are our input data give classification results which have some categories with very few example to learn of and other with a lot of data.\n",
    "we also see that input data have specific characters such as \",\" \"?\" some accents \"é\" \"è\" and that we can have some spelling issues which will complexify our classification problem"
   ]
  },
  {
   "cell_type": "markdown",
   "metadata": {},
   "source": [
    "# 2- CountVectorizer with SVC model"
   ]
  },
  {
   "cell_type": "raw",
   "metadata": {},
   "source": [
    "Here I'm testing a simple CountVectorizer with french stop words and min frequency.\n",
    "To get a first result I'm not using grid search on SVC parameter"
   ]
  },
  {
   "cell_type": "code",
   "execution_count": 9,
   "metadata": {},
   "outputs": [],
   "source": [
    "from sklearn.feature_extraction.text import TfidfVectorizer, CountVectorizer\n",
    "from sklearn.model_selection import train_test_split\n",
    "from sklearn.svm import SVC\n",
    "from nltk.corpus import stopwords\n",
    "import nltk"
   ]
  },
  {
   "cell_type": "code",
   "execution_count": 10,
   "metadata": {},
   "outputs": [
    {
     "name": "stderr",
     "output_type": "stream",
     "text": [
      "[nltk_data] Downloading package stopwords to\n",
      "[nltk_data]     /Users/antoine/nltk_data...\n",
      "[nltk_data]   Package stopwords is already up-to-date!\n"
     ]
    }
   ],
   "source": [
    "nltk.download('stopwords')\n",
    "stop_words_fr = stopwords.words(\"french\")"
   ]
  },
  {
   "cell_type": "code",
   "execution_count": 11,
   "metadata": {},
   "outputs": [],
   "source": [
    "x_vect_count = CountVectorizer(min_df=5, stop_words=stop_words_fr).fit(input_train[\"question\"])"
   ]
  },
  {
   "cell_type": "code",
   "execution_count": 12,
   "metadata": {},
   "outputs": [
    {
     "name": "stdout",
     "output_type": "stream",
     "text": [
      "feature len 2046\n",
      "\n",
      "feature begining ['00', '10', '100', '100mg', '10h', '10mg', '11', '11h', '12', '12h', '13', '14', '15', '150', '150mg', '15ch', '16', '17', '18', '19'] \n",
      "\n",
      "feature midlr ['arnica', 'arret', 'arrete', 'arreter', 'arreté', 'arrive', 'arrivent', 'arriver', 'arrivé', 'arrivée', 'arrivées', 'arréter', 'arrété', 'arrêt', 'arrête', 'arrêter', 'arrêté', 'arrêtée', 'arsenicum', 'aspegic'] \n"
     ]
    }
   ],
   "source": [
    "feature_names = x_vect_count.get_feature_names()\n",
    "print(\"feature len {}\\n\".format(len(feature_names)))\n",
    "print(\"feature begining {} \\n\".format(feature_names[:20]))\n",
    "print(\"feature midlr {} \".format(feature_names[200:220]))"
   ]
  },
  {
   "cell_type": "code",
   "execution_count": 13,
   "metadata": {},
   "outputs": [],
   "source": [
    "x_train_count = x_vect_count.transform(input_train[\"question\"])\n",
    "y = output_train[\"intention\"]"
   ]
  },
  {
   "cell_type": "code",
   "execution_count": 14,
   "metadata": {},
   "outputs": [
    {
     "data": {
      "text/plain": [
       "(8028, 2046)"
      ]
     },
     "execution_count": 14,
     "metadata": {},
     "output_type": "execute_result"
    }
   ],
   "source": [
    "x_train_count.shape"
   ]
  },
  {
   "cell_type": "code",
   "execution_count": 15,
   "metadata": {},
   "outputs": [
    {
     "data": {
      "text/plain": [
       "(array([ 145,  300,  348,  467,  490,  541,  550,  794,  805,  885,  887,\n",
       "         922, 1081, 1105, 1121, 1223, 1302, 1310, 1428, 1453, 1537, 1601,\n",
       "        1685, 1869, 1905, 1991]),)"
      ]
     },
     "execution_count": 15,
     "metadata": {},
     "output_type": "execute_result"
    }
   ],
   "source": [
    "# example with first sentence\n",
    "np.nonzero(x_train_count[:1,:].toarray()[0])"
   ]
  },
  {
   "cell_type": "code",
   "execution_count": 16,
   "metadata": {},
   "outputs": [],
   "source": [
    "x_train, x_test, y_train, y_test = train_test_split(x_train_count, y)"
   ]
  },
  {
   "cell_type": "code",
   "execution_count": 17,
   "metadata": {},
   "outputs": [
    {
     "data": {
      "text/plain": [
       "((6021, 2046), (6021,))"
      ]
     },
     "execution_count": 17,
     "metadata": {},
     "output_type": "execute_result"
    }
   ],
   "source": [
    "x_train.shape, y_train.shape"
   ]
  },
  {
   "cell_type": "code",
   "execution_count": 18,
   "metadata": {},
   "outputs": [
    {
     "name": "stderr",
     "output_type": "stream",
     "text": [
      "/Users/antoine/Documents/Tests/interview/Posos/posos_interview/venvPosos/lib/python3.7/site-packages/sklearn/svm/base.py:193: FutureWarning: The default value of gamma will change from 'auto' to 'scale' in version 0.22 to account better for unscaled features. Set gamma explicitly to 'auto' or 'scale' to avoid this warning.\n",
      "  \"avoid this warning.\", FutureWarning)\n"
     ]
    }
   ],
   "source": [
    "svc = SVC().fit(x_train, y_train)"
   ]
  },
  {
   "cell_type": "code",
   "execution_count": 19,
   "metadata": {},
   "outputs": [
    {
     "data": {
      "text/plain": [
       "(0.22454741737252948, 0.22122571001494767)"
      ]
     },
     "execution_count": 19,
     "metadata": {},
     "output_type": "execute_result"
    }
   ],
   "source": [
    "svc.score(x_train, y_train), svc.score(x_test, y_test)"
   ]
  },
  {
   "cell_type": "raw",
   "metadata": {},
   "source": [
    "Conclusion:\n",
    "Our vocabulary have some numbers which might be not really usefull for us to learn on.\n",
    "Because of spelling mistake we have similar words on our vocabulary \"arréter\", \"arrêter\" \n",
    "Removing accent might help us.\n",
    "Final score of SVC model is very low"
   ]
  },
  {
   "cell_type": "markdown",
   "metadata": {},
   "source": [
    "# 3- TFIDF vectorizer and gridSearch on SVM param"
   ]
  },
  {
   "cell_type": "raw",
   "metadata": {},
   "source": [
    "Here I'm trying tfidf vectorizer using stop words, removing ponctuation.\n",
    "I'm using GridSearch here to improve SVM parameter"
   ]
  },
  {
   "cell_type": "code",
   "execution_count": 20,
   "metadata": {},
   "outputs": [],
   "source": [
    "# need to clean a bit my sentences remove - , : ...\n",
    "from sklearn.model_selection import GridSearchCV\n",
    "import matplotlib.pyplot as plt\n",
    "from mlxtend.evaluate import confusion_matrix\n",
    "from mlxtend.plotting import plot_confusion_matrix\n",
    "import nltk\n",
    "from sklearn.metrics import f1_score"
   ]
  },
  {
   "cell_type": "code",
   "execution_count": 21,
   "metadata": {},
   "outputs": [],
   "source": [
    "stop_words_fr = stopwords.words(\"french\")\n",
    "cleaned_sentence_array = [re.sub(\",|-|'|\\.|\\?\" ,\" \", str(row)).lower() for row  in input_train[\"question\"]   ]           "
   ]
  },
  {
   "cell_type": "code",
   "execution_count": 22,
   "metadata": {},
   "outputs": [
    {
     "data": {
      "text/plain": [
       "'bonjour   je m suis trompé de forum pour ma question alors je la repose ici  je pris pour la première fois hier du paroxétine et ce matin c est une catastrophe  picotement dasn tous le corps annonciateur de sueur froide très très massive et de vomissement  j en suis à deux crises depuis 5 heure du mat  la cela semble passer mes mes mains reste moites et chaude estce normal pour la première fois merci a tous'"
      ]
     },
     "execution_count": 22,
     "metadata": {},
     "output_type": "execute_result"
    }
   ],
   "source": [
    "cleaned_sentence_array[0]  "
   ]
  },
  {
   "cell_type": "code",
   "execution_count": 23,
   "metadata": {},
   "outputs": [],
   "source": [
    "y = output_train[\"intention\"]"
   ]
  },
  {
   "cell_type": "code",
   "execution_count": 24,
   "metadata": {},
   "outputs": [],
   "source": [
    "text_train_idf = TfidfVectorizer(min_df=5, stop_words=stop_words_fr).fit_transform(cleaned_sentence_array)"
   ]
  },
  {
   "cell_type": "code",
   "execution_count": 25,
   "metadata": {},
   "outputs": [
    {
     "data": {
      "text/plain": [
       "<8028x2046 sparse matrix of type '<class 'numpy.float64'>'\n",
       "\twith 59954 stored elements in Compressed Sparse Row format>"
      ]
     },
     "execution_count": 25,
     "metadata": {},
     "output_type": "execute_result"
    }
   ],
   "source": [
    "text_train_idf"
   ]
  },
  {
   "cell_type": "code",
   "execution_count": 26,
   "metadata": {},
   "outputs": [],
   "source": [
    "x_train_idf, x_test_idf, y_train_idf, y_test_idf = train_test_split(text_train_idf, y)"
   ]
  },
  {
   "cell_type": "code",
   "execution_count": 27,
   "metadata": {},
   "outputs": [
    {
     "data": {
      "text/plain": [
       "((6021, 2046), (2007, 2046))"
      ]
     },
     "execution_count": 27,
     "metadata": {},
     "output_type": "execute_result"
    }
   ],
   "source": [
    "x_train_idf.shape ,x_test_idf.shape"
   ]
  },
  {
   "cell_type": "code",
   "execution_count": 28,
   "metadata": {},
   "outputs": [],
   "source": [
    "grid = {\"C\":[0.001,0.01,1,10,100], \"gamma\":[0.001,0.01,1,10,100]}"
   ]
  },
  {
   "cell_type": "code",
   "execution_count": 29,
   "metadata": {},
   "outputs": [],
   "source": [
    "gs_idf = GridSearchCV(SVC(), grid, cv=3)"
   ]
  },
  {
   "cell_type": "code",
   "execution_count": 30,
   "metadata": {},
   "outputs": [
    {
     "data": {
      "text/plain": [
       "GridSearchCV(cv=3, error_score='raise-deprecating',\n",
       "             estimator=SVC(C=1.0, cache_size=200, class_weight=None, coef0=0.0,\n",
       "                           decision_function_shape='ovr', degree=3,\n",
       "                           gamma='auto_deprecated', kernel='rbf', max_iter=-1,\n",
       "                           probability=False, random_state=None, shrinking=True,\n",
       "                           tol=0.001, verbose=False),\n",
       "             iid='warn', n_jobs=None,\n",
       "             param_grid={'C': [0.001, 0.01, 1, 10, 100],\n",
       "                         'gamma': [0.001, 0.01, 1, 10, 100]},\n",
       "             pre_dispatch='2*n_jobs', refit=True, return_train_score=False,\n",
       "             scoring=None, verbose=0)"
      ]
     },
     "execution_count": 30,
     "metadata": {},
     "output_type": "execute_result"
    }
   ],
   "source": [
    "gs_idf.fit(x_train_idf, y_train_idf)"
   ]
  },
  {
   "cell_type": "code",
   "execution_count": 31,
   "metadata": {},
   "outputs": [
    {
     "data": {
      "text/plain": [
       "SVC(C=100, cache_size=200, class_weight=None, coef0=0.0,\n",
       "    decision_function_shape='ovr', degree=3, gamma=0.01, kernel='rbf',\n",
       "    max_iter=-1, probability=False, random_state=None, shrinking=True,\n",
       "    tol=0.001, verbose=False)"
      ]
     },
     "execution_count": 31,
     "metadata": {},
     "output_type": "execute_result"
    }
   ],
   "source": [
    "gs_idf.best_estimator_"
   ]
  },
  {
   "cell_type": "code",
   "execution_count": 32,
   "metadata": {},
   "outputs": [
    {
     "data": {
      "text/plain": [
       "0.5979073243647235"
      ]
     },
     "execution_count": 32,
     "metadata": {},
     "output_type": "execute_result"
    }
   ],
   "source": [
    "gs_idf.best_score_"
   ]
  },
  {
   "cell_type": "code",
   "execution_count": 33,
   "metadata": {},
   "outputs": [
    {
     "data": {
      "text/plain": [
       "(0.9277528649725959, 0.6422521175884405)"
      ]
     },
     "execution_count": 33,
     "metadata": {},
     "output_type": "execute_result"
    }
   ],
   "source": [
    "gs_idf.score(x_train_idf, y_train_idf), gs_idf.score(x_test_idf, y_test_idf)"
   ]
  },
  {
   "cell_type": "code",
   "execution_count": 34,
   "metadata": {
    "scrolled": true
   },
   "outputs": [
    {
     "data": {
      "text/html": [
       "<div>\n",
       "<style scoped>\n",
       "    .dataframe tbody tr th:only-of-type {\n",
       "        vertical-align: middle;\n",
       "    }\n",
       "\n",
       "    .dataframe tbody tr th {\n",
       "        vertical-align: top;\n",
       "    }\n",
       "\n",
       "    .dataframe thead th {\n",
       "        text-align: right;\n",
       "    }\n",
       "</style>\n",
       "<table border=\"1\" class=\"dataframe\">\n",
       "  <thead>\n",
       "    <tr style=\"text-align: right;\">\n",
       "      <th></th>\n",
       "      <th>mean_fit_time</th>\n",
       "      <th>std_fit_time</th>\n",
       "      <th>mean_score_time</th>\n",
       "      <th>std_score_time</th>\n",
       "      <th>param_C</th>\n",
       "      <th>param_gamma</th>\n",
       "      <th>params</th>\n",
       "      <th>split0_test_score</th>\n",
       "      <th>split1_test_score</th>\n",
       "      <th>split2_test_score</th>\n",
       "      <th>mean_test_score</th>\n",
       "      <th>std_test_score</th>\n",
       "      <th>rank_test_score</th>\n",
       "    </tr>\n",
       "  </thead>\n",
       "  <tbody>\n",
       "    <tr>\n",
       "      <td>0</td>\n",
       "      <td>1.216575</td>\n",
       "      <td>0.046292</td>\n",
       "      <td>0.779283</td>\n",
       "      <td>0.012595</td>\n",
       "      <td>0.001</td>\n",
       "      <td>0.001</td>\n",
       "      <td>{'C': 0.001, 'gamma': 0.001}</td>\n",
       "      <td>0.219368</td>\n",
       "      <td>0.220896</td>\n",
       "      <td>0.222949</td>\n",
       "      <td>0.221060</td>\n",
       "      <td>0.001466</td>\n",
       "      <td>13</td>\n",
       "    </tr>\n",
       "    <tr>\n",
       "      <td>1</td>\n",
       "      <td>1.185414</td>\n",
       "      <td>0.010319</td>\n",
       "      <td>0.787589</td>\n",
       "      <td>0.012911</td>\n",
       "      <td>0.001</td>\n",
       "      <td>0.01</td>\n",
       "      <td>{'C': 0.001, 'gamma': 0.01}</td>\n",
       "      <td>0.219368</td>\n",
       "      <td>0.220896</td>\n",
       "      <td>0.222949</td>\n",
       "      <td>0.221060</td>\n",
       "      <td>0.001466</td>\n",
       "      <td>13</td>\n",
       "    </tr>\n",
       "    <tr>\n",
       "      <td>2</td>\n",
       "      <td>1.285827</td>\n",
       "      <td>0.015386</td>\n",
       "      <td>0.797695</td>\n",
       "      <td>0.001278</td>\n",
       "      <td>0.001</td>\n",
       "      <td>1</td>\n",
       "      <td>{'C': 0.001, 'gamma': 1}</td>\n",
       "      <td>0.219368</td>\n",
       "      <td>0.220896</td>\n",
       "      <td>0.222949</td>\n",
       "      <td>0.221060</td>\n",
       "      <td>0.001466</td>\n",
       "      <td>13</td>\n",
       "    </tr>\n",
       "    <tr>\n",
       "      <td>3</td>\n",
       "      <td>1.338576</td>\n",
       "      <td>0.031415</td>\n",
       "      <td>0.821477</td>\n",
       "      <td>0.019980</td>\n",
       "      <td>0.001</td>\n",
       "      <td>10</td>\n",
       "      <td>{'C': 0.001, 'gamma': 10}</td>\n",
       "      <td>0.219368</td>\n",
       "      <td>0.220896</td>\n",
       "      <td>0.222949</td>\n",
       "      <td>0.221060</td>\n",
       "      <td>0.001466</td>\n",
       "      <td>13</td>\n",
       "    </tr>\n",
       "    <tr>\n",
       "      <td>4</td>\n",
       "      <td>1.939587</td>\n",
       "      <td>0.321562</td>\n",
       "      <td>0.829152</td>\n",
       "      <td>0.022164</td>\n",
       "      <td>0.001</td>\n",
       "      <td>100</td>\n",
       "      <td>{'C': 0.001, 'gamma': 100}</td>\n",
       "      <td>0.219368</td>\n",
       "      <td>0.220896</td>\n",
       "      <td>0.222949</td>\n",
       "      <td>0.221060</td>\n",
       "      <td>0.001466</td>\n",
       "      <td>13</td>\n",
       "    </tr>\n",
       "    <tr>\n",
       "      <td>5</td>\n",
       "      <td>1.258374</td>\n",
       "      <td>0.044565</td>\n",
       "      <td>0.820662</td>\n",
       "      <td>0.019674</td>\n",
       "      <td>0.01</td>\n",
       "      <td>0.001</td>\n",
       "      <td>{'C': 0.01, 'gamma': 0.001}</td>\n",
       "      <td>0.219368</td>\n",
       "      <td>0.220896</td>\n",
       "      <td>0.222949</td>\n",
       "      <td>0.221060</td>\n",
       "      <td>0.001466</td>\n",
       "      <td>13</td>\n",
       "    </tr>\n",
       "    <tr>\n",
       "      <td>6</td>\n",
       "      <td>1.240423</td>\n",
       "      <td>0.010875</td>\n",
       "      <td>0.817313</td>\n",
       "      <td>0.007727</td>\n",
       "      <td>0.01</td>\n",
       "      <td>0.01</td>\n",
       "      <td>{'C': 0.01, 'gamma': 0.01}</td>\n",
       "      <td>0.219368</td>\n",
       "      <td>0.220896</td>\n",
       "      <td>0.222949</td>\n",
       "      <td>0.221060</td>\n",
       "      <td>0.001466</td>\n",
       "      <td>13</td>\n",
       "    </tr>\n",
       "    <tr>\n",
       "      <td>7</td>\n",
       "      <td>2.519312</td>\n",
       "      <td>0.009278</td>\n",
       "      <td>0.887078</td>\n",
       "      <td>0.053688</td>\n",
       "      <td>0.01</td>\n",
       "      <td>1</td>\n",
       "      <td>{'C': 0.01, 'gamma': 1}</td>\n",
       "      <td>0.219368</td>\n",
       "      <td>0.220896</td>\n",
       "      <td>0.222949</td>\n",
       "      <td>0.221060</td>\n",
       "      <td>0.001466</td>\n",
       "      <td>13</td>\n",
       "    </tr>\n",
       "    <tr>\n",
       "      <td>8</td>\n",
       "      <td>3.863713</td>\n",
       "      <td>0.036316</td>\n",
       "      <td>0.833320</td>\n",
       "      <td>0.006301</td>\n",
       "      <td>0.01</td>\n",
       "      <td>10</td>\n",
       "      <td>{'C': 0.01, 'gamma': 10}</td>\n",
       "      <td>0.219368</td>\n",
       "      <td>0.220896</td>\n",
       "      <td>0.222949</td>\n",
       "      <td>0.221060</td>\n",
       "      <td>0.001466</td>\n",
       "      <td>13</td>\n",
       "    </tr>\n",
       "    <tr>\n",
       "      <td>9</td>\n",
       "      <td>3.733848</td>\n",
       "      <td>0.043921</td>\n",
       "      <td>0.822739</td>\n",
       "      <td>0.006702</td>\n",
       "      <td>0.01</td>\n",
       "      <td>100</td>\n",
       "      <td>{'C': 0.01, 'gamma': 100}</td>\n",
       "      <td>0.219368</td>\n",
       "      <td>0.220896</td>\n",
       "      <td>0.222949</td>\n",
       "      <td>0.221060</td>\n",
       "      <td>0.001466</td>\n",
       "      <td>13</td>\n",
       "    </tr>\n",
       "    <tr>\n",
       "      <td>10</td>\n",
       "      <td>1.581564</td>\n",
       "      <td>0.049029</td>\n",
       "      <td>0.857137</td>\n",
       "      <td>0.057953</td>\n",
       "      <td>1</td>\n",
       "      <td>0.001</td>\n",
       "      <td>{'C': 1, 'gamma': 0.001}</td>\n",
       "      <td>0.219368</td>\n",
       "      <td>0.220896</td>\n",
       "      <td>0.222949</td>\n",
       "      <td>0.221060</td>\n",
       "      <td>0.001466</td>\n",
       "      <td>13</td>\n",
       "    </tr>\n",
       "    <tr>\n",
       "      <td>11</td>\n",
       "      <td>2.079832</td>\n",
       "      <td>0.082372</td>\n",
       "      <td>0.803953</td>\n",
       "      <td>0.017544</td>\n",
       "      <td>1</td>\n",
       "      <td>0.01</td>\n",
       "      <td>{'C': 1, 'gamma': 0.01}</td>\n",
       "      <td>0.219368</td>\n",
       "      <td>0.220896</td>\n",
       "      <td>0.222949</td>\n",
       "      <td>0.221060</td>\n",
       "      <td>0.001466</td>\n",
       "      <td>13</td>\n",
       "    </tr>\n",
       "    <tr>\n",
       "      <td>12</td>\n",
       "      <td>3.754468</td>\n",
       "      <td>0.060446</td>\n",
       "      <td>0.842404</td>\n",
       "      <td>0.049522</td>\n",
       "      <td>1</td>\n",
       "      <td>1</td>\n",
       "      <td>{'C': 1, 'gamma': 1}</td>\n",
       "      <td>0.526186</td>\n",
       "      <td>0.533333</td>\n",
       "      <td>0.525918</td>\n",
       "      <td>0.528484</td>\n",
       "      <td>0.003435</td>\n",
       "      <td>4</td>\n",
       "    </tr>\n",
       "    <tr>\n",
       "      <td>13</td>\n",
       "      <td>5.323910</td>\n",
       "      <td>0.031527</td>\n",
       "      <td>0.814231</td>\n",
       "      <td>0.006036</td>\n",
       "      <td>1</td>\n",
       "      <td>10</td>\n",
       "      <td>{'C': 1, 'gamma': 10}</td>\n",
       "      <td>0.287055</td>\n",
       "      <td>0.280100</td>\n",
       "      <td>0.286361</td>\n",
       "      <td>0.284504</td>\n",
       "      <td>0.003131</td>\n",
       "      <td>9</td>\n",
       "    </tr>\n",
       "    <tr>\n",
       "      <td>14</td>\n",
       "      <td>5.329727</td>\n",
       "      <td>0.122724</td>\n",
       "      <td>0.837655</td>\n",
       "      <td>0.009888</td>\n",
       "      <td>1</td>\n",
       "      <td>100</td>\n",
       "      <td>{'C': 1, 'gamma': 100}</td>\n",
       "      <td>0.287055</td>\n",
       "      <td>0.280100</td>\n",
       "      <td>0.286361</td>\n",
       "      <td>0.284504</td>\n",
       "      <td>0.003131</td>\n",
       "      <td>9</td>\n",
       "    </tr>\n",
       "    <tr>\n",
       "      <td>15</td>\n",
       "      <td>1.998057</td>\n",
       "      <td>0.023053</td>\n",
       "      <td>0.813677</td>\n",
       "      <td>0.005726</td>\n",
       "      <td>10</td>\n",
       "      <td>0.001</td>\n",
       "      <td>{'C': 10, 'gamma': 0.001}</td>\n",
       "      <td>0.219368</td>\n",
       "      <td>0.220896</td>\n",
       "      <td>0.222949</td>\n",
       "      <td>0.221060</td>\n",
       "      <td>0.001466</td>\n",
       "      <td>13</td>\n",
       "    </tr>\n",
       "    <tr>\n",
       "      <td>16</td>\n",
       "      <td>2.192762</td>\n",
       "      <td>0.052579</td>\n",
       "      <td>0.808047</td>\n",
       "      <td>0.003935</td>\n",
       "      <td>10</td>\n",
       "      <td>0.01</td>\n",
       "      <td>{'C': 10, 'gamma': 0.01}</td>\n",
       "      <td>0.370553</td>\n",
       "      <td>0.374129</td>\n",
       "      <td>0.375440</td>\n",
       "      <td>0.373360</td>\n",
       "      <td>0.002067</td>\n",
       "      <td>6</td>\n",
       "    </tr>\n",
       "    <tr>\n",
       "      <td>17</td>\n",
       "      <td>3.842112</td>\n",
       "      <td>0.082737</td>\n",
       "      <td>0.800989</td>\n",
       "      <td>0.002941</td>\n",
       "      <td>10</td>\n",
       "      <td>1</td>\n",
       "      <td>{'C': 10, 'gamma': 1}</td>\n",
       "      <td>0.566700</td>\n",
       "      <td>0.563682</td>\n",
       "      <td>0.574736</td>\n",
       "      <td>0.568344</td>\n",
       "      <td>0.004653</td>\n",
       "      <td>2</td>\n",
       "    </tr>\n",
       "    <tr>\n",
       "      <td>18</td>\n",
       "      <td>5.511059</td>\n",
       "      <td>0.072250</td>\n",
       "      <td>0.801242</td>\n",
       "      <td>0.007249</td>\n",
       "      <td>10</td>\n",
       "      <td>10</td>\n",
       "      <td>{'C': 10, 'gamma': 10}</td>\n",
       "      <td>0.287549</td>\n",
       "      <td>0.280597</td>\n",
       "      <td>0.287368</td>\n",
       "      <td>0.285169</td>\n",
       "      <td>0.003237</td>\n",
       "      <td>7</td>\n",
       "    </tr>\n",
       "    <tr>\n",
       "      <td>19</td>\n",
       "      <td>5.370066</td>\n",
       "      <td>0.057164</td>\n",
       "      <td>0.804642</td>\n",
       "      <td>0.012859</td>\n",
       "      <td>10</td>\n",
       "      <td>100</td>\n",
       "      <td>{'C': 10, 'gamma': 100}</td>\n",
       "      <td>0.287055</td>\n",
       "      <td>0.280100</td>\n",
       "      <td>0.286361</td>\n",
       "      <td>0.284504</td>\n",
       "      <td>0.003131</td>\n",
       "      <td>9</td>\n",
       "    </tr>\n",
       "    <tr>\n",
       "      <td>20</td>\n",
       "      <td>2.185504</td>\n",
       "      <td>0.018684</td>\n",
       "      <td>0.824260</td>\n",
       "      <td>0.017039</td>\n",
       "      <td>100</td>\n",
       "      <td>0.001</td>\n",
       "      <td>{'C': 100, 'gamma': 0.001}</td>\n",
       "      <td>0.373024</td>\n",
       "      <td>0.378607</td>\n",
       "      <td>0.375440</td>\n",
       "      <td>0.375685</td>\n",
       "      <td>0.002291</td>\n",
       "      <td>5</td>\n",
       "    </tr>\n",
       "    <tr>\n",
       "      <td>21</td>\n",
       "      <td>2.404841</td>\n",
       "      <td>0.032812</td>\n",
       "      <td>0.802519</td>\n",
       "      <td>0.011075</td>\n",
       "      <td>100</td>\n",
       "      <td>0.01</td>\n",
       "      <td>{'C': 100, 'gamma': 0.01}</td>\n",
       "      <td>0.607708</td>\n",
       "      <td>0.582587</td>\n",
       "      <td>0.603422</td>\n",
       "      <td>0.597907</td>\n",
       "      <td>0.010985</td>\n",
       "      <td>1</td>\n",
       "    </tr>\n",
       "    <tr>\n",
       "      <td>22</td>\n",
       "      <td>3.901091</td>\n",
       "      <td>0.058651</td>\n",
       "      <td>0.810770</td>\n",
       "      <td>0.004362</td>\n",
       "      <td>100</td>\n",
       "      <td>1</td>\n",
       "      <td>{'C': 100, 'gamma': 1}</td>\n",
       "      <td>0.566700</td>\n",
       "      <td>0.563682</td>\n",
       "      <td>0.574736</td>\n",
       "      <td>0.568344</td>\n",
       "      <td>0.004653</td>\n",
       "      <td>2</td>\n",
       "    </tr>\n",
       "    <tr>\n",
       "      <td>23</td>\n",
       "      <td>5.656962</td>\n",
       "      <td>0.156622</td>\n",
       "      <td>0.810799</td>\n",
       "      <td>0.010400</td>\n",
       "      <td>100</td>\n",
       "      <td>10</td>\n",
       "      <td>{'C': 100, 'gamma': 10}</td>\n",
       "      <td>0.287549</td>\n",
       "      <td>0.280597</td>\n",
       "      <td>0.287368</td>\n",
       "      <td>0.285169</td>\n",
       "      <td>0.003237</td>\n",
       "      <td>7</td>\n",
       "    </tr>\n",
       "    <tr>\n",
       "      <td>24</td>\n",
       "      <td>5.465522</td>\n",
       "      <td>0.114334</td>\n",
       "      <td>0.814744</td>\n",
       "      <td>0.044798</td>\n",
       "      <td>100</td>\n",
       "      <td>100</td>\n",
       "      <td>{'C': 100, 'gamma': 100}</td>\n",
       "      <td>0.287055</td>\n",
       "      <td>0.280100</td>\n",
       "      <td>0.286361</td>\n",
       "      <td>0.284504</td>\n",
       "      <td>0.003131</td>\n",
       "      <td>9</td>\n",
       "    </tr>\n",
       "  </tbody>\n",
       "</table>\n",
       "</div>"
      ],
      "text/plain": [
       "    mean_fit_time  std_fit_time  mean_score_time  std_score_time param_C  \\\n",
       "0        1.216575      0.046292         0.779283        0.012595   0.001   \n",
       "1        1.185414      0.010319         0.787589        0.012911   0.001   \n",
       "2        1.285827      0.015386         0.797695        0.001278   0.001   \n",
       "3        1.338576      0.031415         0.821477        0.019980   0.001   \n",
       "4        1.939587      0.321562         0.829152        0.022164   0.001   \n",
       "5        1.258374      0.044565         0.820662        0.019674    0.01   \n",
       "6        1.240423      0.010875         0.817313        0.007727    0.01   \n",
       "7        2.519312      0.009278         0.887078        0.053688    0.01   \n",
       "8        3.863713      0.036316         0.833320        0.006301    0.01   \n",
       "9        3.733848      0.043921         0.822739        0.006702    0.01   \n",
       "10       1.581564      0.049029         0.857137        0.057953       1   \n",
       "11       2.079832      0.082372         0.803953        0.017544       1   \n",
       "12       3.754468      0.060446         0.842404        0.049522       1   \n",
       "13       5.323910      0.031527         0.814231        0.006036       1   \n",
       "14       5.329727      0.122724         0.837655        0.009888       1   \n",
       "15       1.998057      0.023053         0.813677        0.005726      10   \n",
       "16       2.192762      0.052579         0.808047        0.003935      10   \n",
       "17       3.842112      0.082737         0.800989        0.002941      10   \n",
       "18       5.511059      0.072250         0.801242        0.007249      10   \n",
       "19       5.370066      0.057164         0.804642        0.012859      10   \n",
       "20       2.185504      0.018684         0.824260        0.017039     100   \n",
       "21       2.404841      0.032812         0.802519        0.011075     100   \n",
       "22       3.901091      0.058651         0.810770        0.004362     100   \n",
       "23       5.656962      0.156622         0.810799        0.010400     100   \n",
       "24       5.465522      0.114334         0.814744        0.044798     100   \n",
       "\n",
       "   param_gamma                        params  split0_test_score  \\\n",
       "0        0.001  {'C': 0.001, 'gamma': 0.001}           0.219368   \n",
       "1         0.01   {'C': 0.001, 'gamma': 0.01}           0.219368   \n",
       "2            1      {'C': 0.001, 'gamma': 1}           0.219368   \n",
       "3           10     {'C': 0.001, 'gamma': 10}           0.219368   \n",
       "4          100    {'C': 0.001, 'gamma': 100}           0.219368   \n",
       "5        0.001   {'C': 0.01, 'gamma': 0.001}           0.219368   \n",
       "6         0.01    {'C': 0.01, 'gamma': 0.01}           0.219368   \n",
       "7            1       {'C': 0.01, 'gamma': 1}           0.219368   \n",
       "8           10      {'C': 0.01, 'gamma': 10}           0.219368   \n",
       "9          100     {'C': 0.01, 'gamma': 100}           0.219368   \n",
       "10       0.001      {'C': 1, 'gamma': 0.001}           0.219368   \n",
       "11        0.01       {'C': 1, 'gamma': 0.01}           0.219368   \n",
       "12           1          {'C': 1, 'gamma': 1}           0.526186   \n",
       "13          10         {'C': 1, 'gamma': 10}           0.287055   \n",
       "14         100        {'C': 1, 'gamma': 100}           0.287055   \n",
       "15       0.001     {'C': 10, 'gamma': 0.001}           0.219368   \n",
       "16        0.01      {'C': 10, 'gamma': 0.01}           0.370553   \n",
       "17           1         {'C': 10, 'gamma': 1}           0.566700   \n",
       "18          10        {'C': 10, 'gamma': 10}           0.287549   \n",
       "19         100       {'C': 10, 'gamma': 100}           0.287055   \n",
       "20       0.001    {'C': 100, 'gamma': 0.001}           0.373024   \n",
       "21        0.01     {'C': 100, 'gamma': 0.01}           0.607708   \n",
       "22           1        {'C': 100, 'gamma': 1}           0.566700   \n",
       "23          10       {'C': 100, 'gamma': 10}           0.287549   \n",
       "24         100      {'C': 100, 'gamma': 100}           0.287055   \n",
       "\n",
       "    split1_test_score  split2_test_score  mean_test_score  std_test_score  \\\n",
       "0            0.220896           0.222949         0.221060        0.001466   \n",
       "1            0.220896           0.222949         0.221060        0.001466   \n",
       "2            0.220896           0.222949         0.221060        0.001466   \n",
       "3            0.220896           0.222949         0.221060        0.001466   \n",
       "4            0.220896           0.222949         0.221060        0.001466   \n",
       "5            0.220896           0.222949         0.221060        0.001466   \n",
       "6            0.220896           0.222949         0.221060        0.001466   \n",
       "7            0.220896           0.222949         0.221060        0.001466   \n",
       "8            0.220896           0.222949         0.221060        0.001466   \n",
       "9            0.220896           0.222949         0.221060        0.001466   \n",
       "10           0.220896           0.222949         0.221060        0.001466   \n",
       "11           0.220896           0.222949         0.221060        0.001466   \n",
       "12           0.533333           0.525918         0.528484        0.003435   \n",
       "13           0.280100           0.286361         0.284504        0.003131   \n",
       "14           0.280100           0.286361         0.284504        0.003131   \n",
       "15           0.220896           0.222949         0.221060        0.001466   \n",
       "16           0.374129           0.375440         0.373360        0.002067   \n",
       "17           0.563682           0.574736         0.568344        0.004653   \n",
       "18           0.280597           0.287368         0.285169        0.003237   \n",
       "19           0.280100           0.286361         0.284504        0.003131   \n",
       "20           0.378607           0.375440         0.375685        0.002291   \n",
       "21           0.582587           0.603422         0.597907        0.010985   \n",
       "22           0.563682           0.574736         0.568344        0.004653   \n",
       "23           0.280597           0.287368         0.285169        0.003237   \n",
       "24           0.280100           0.286361         0.284504        0.003131   \n",
       "\n",
       "    rank_test_score  \n",
       "0                13  \n",
       "1                13  \n",
       "2                13  \n",
       "3                13  \n",
       "4                13  \n",
       "5                13  \n",
       "6                13  \n",
       "7                13  \n",
       "8                13  \n",
       "9                13  \n",
       "10               13  \n",
       "11               13  \n",
       "12                4  \n",
       "13                9  \n",
       "14                9  \n",
       "15               13  \n",
       "16                6  \n",
       "17                2  \n",
       "18                7  \n",
       "19                9  \n",
       "20                5  \n",
       "21                1  \n",
       "22                2  \n",
       "23                7  \n",
       "24                9  "
      ]
     },
     "execution_count": 34,
     "metadata": {},
     "output_type": "execute_result"
    }
   ],
   "source": [
    "pd.DataFrame(gs_idf.cv_results_)"
   ]
  },
  {
   "cell_type": "raw",
   "metadata": {},
   "source": [
    "Conclusion:\n",
    "With TfidfVectorizer and GridSearch we are getting much better result.\n",
    "We have a big difference between our train score and our test score which can let us think we are overfitting training data"
   ]
  },
  {
   "cell_type": "markdown",
   "metadata": {},
   "source": [
    "# 4- Try to normalize to improve SVM perf"
   ]
  },
  {
   "cell_type": "raw",
   "metadata": {},
   "source": [
    "Here I'm trying to normalize my training data in ordre to improve SVM performance\n",
    "I'm also try L1 normalization"
   ]
  },
  {
   "cell_type": "code",
   "execution_count": 35,
   "metadata": {},
   "outputs": [],
   "source": [
    "from sklearn.preprocessing import MinMaxScaler, MaxAbsScaler\n",
    "scaler = MaxAbsScaler()\n",
    "x_train_scaled = scaler.fit_transform(x_train_idf)\n",
    "x_test_scaled = scaler.transform(x_test_idf)"
   ]
  },
  {
   "cell_type": "code",
   "execution_count": 36,
   "metadata": {},
   "outputs": [],
   "source": [
    "grid = {\"C\":[0.01,1,10,100], \"gamma\":[0.01,1,10,100]}\n",
    "gs_idf_norm = GridSearchCV(SVC(), grid, cv=3)"
   ]
  },
  {
   "cell_type": "code",
   "execution_count": 37,
   "metadata": {},
   "outputs": [
    {
     "data": {
      "text/plain": [
       "GridSearchCV(cv=3, error_score='raise-deprecating',\n",
       "             estimator=SVC(C=1.0, cache_size=200, class_weight=None, coef0=0.0,\n",
       "                           decision_function_shape='ovr', degree=3,\n",
       "                           gamma='auto_deprecated', kernel='rbf', max_iter=-1,\n",
       "                           probability=False, random_state=None, shrinking=True,\n",
       "                           tol=0.001, verbose=False),\n",
       "             iid='warn', n_jobs=None,\n",
       "             param_grid={'C': [0.01, 1, 10, 100], 'gamma': [0.01, 1, 10, 100]},\n",
       "             pre_dispatch='2*n_jobs', refit=True, return_train_score=False,\n",
       "             scoring=None, verbose=0)"
      ]
     },
     "execution_count": 37,
     "metadata": {},
     "output_type": "execute_result"
    }
   ],
   "source": [
    "gs_idf_norm.fit(x_train_scaled, y_train_idf)"
   ]
  },
  {
   "cell_type": "code",
   "execution_count": 38,
   "metadata": {},
   "outputs": [
    {
     "data": {
      "text/plain": [
       "SVC(C=100, cache_size=200, class_weight=None, coef0=0.0,\n",
       "    decision_function_shape='ovr', degree=3, gamma=0.01, kernel='rbf',\n",
       "    max_iter=-1, probability=False, random_state=None, shrinking=True,\n",
       "    tol=0.001, verbose=False)"
      ]
     },
     "execution_count": 38,
     "metadata": {},
     "output_type": "execute_result"
    }
   ],
   "source": [
    "gs_idf_norm.best_estimator_"
   ]
  },
  {
   "cell_type": "code",
   "execution_count": 39,
   "metadata": {},
   "outputs": [
    {
     "data": {
      "text/plain": [
       "0.5763162265404418"
      ]
     },
     "execution_count": 39,
     "metadata": {},
     "output_type": "execute_result"
    }
   ],
   "source": [
    "gs_idf_norm.best_score_"
   ]
  },
  {
   "cell_type": "code",
   "execution_count": 40,
   "metadata": {},
   "outputs": [],
   "source": [
    "text_train_l1 = TfidfVectorizer(min_df=5, stop_words=stop_words_fr, norm='l1').fit_transform(cleaned_sentence_array)"
   ]
  },
  {
   "cell_type": "code",
   "execution_count": 41,
   "metadata": {},
   "outputs": [],
   "source": [
    "x_train_idf_l1, x_test_idf_l1, y_train_idf_l1, y_test_idf_l1 = train_test_split(text_train_l1,y)"
   ]
  },
  {
   "cell_type": "code",
   "execution_count": 42,
   "metadata": {},
   "outputs": [],
   "source": [
    "gs_grid_l1 = GridSearchCV(SVC(), grid, cv=3)"
   ]
  },
  {
   "cell_type": "code",
   "execution_count": 43,
   "metadata": {},
   "outputs": [
    {
     "data": {
      "text/plain": [
       "GridSearchCV(cv=3, error_score='raise-deprecating',\n",
       "             estimator=SVC(C=1.0, cache_size=200, class_weight=None, coef0=0.0,\n",
       "                           decision_function_shape='ovr', degree=3,\n",
       "                           gamma='auto_deprecated', kernel='rbf', max_iter=-1,\n",
       "                           probability=False, random_state=None, shrinking=True,\n",
       "                           tol=0.001, verbose=False),\n",
       "             iid='warn', n_jobs=None,\n",
       "             param_grid={'C': [0.01, 1, 10, 100], 'gamma': [0.01, 1, 10, 100]},\n",
       "             pre_dispatch='2*n_jobs', refit=True, return_train_score=False,\n",
       "             scoring=None, verbose=0)"
      ]
     },
     "execution_count": 43,
     "metadata": {},
     "output_type": "execute_result"
    }
   ],
   "source": [
    "gs_grid_l1.fit(x_train_idf_l1,y_train_idf_l1)"
   ]
  },
  {
   "cell_type": "code",
   "execution_count": 44,
   "metadata": {},
   "outputs": [
    {
     "data": {
      "text/plain": [
       "SVC(C=10, cache_size=200, class_weight=None, coef0=0.0,\n",
       "    decision_function_shape='ovr', degree=3, gamma=1, kernel='rbf', max_iter=-1,\n",
       "    probability=False, random_state=None, shrinking=True, tol=0.001,\n",
       "    verbose=False)"
      ]
     },
     "execution_count": 44,
     "metadata": {},
     "output_type": "execute_result"
    }
   ],
   "source": [
    "gs_grid_l1.best_estimator_"
   ]
  },
  {
   "cell_type": "code",
   "execution_count": 45,
   "metadata": {},
   "outputs": [
    {
     "data": {
      "text/plain": [
       "0.5791396777943864"
      ]
     },
     "execution_count": 45,
     "metadata": {},
     "output_type": "execute_result"
    }
   ],
   "source": [
    "gs_grid_l1.best_score_"
   ]
  },
  {
   "cell_type": "raw",
   "metadata": {},
   "source": [
    "Conclusion:\n",
    "Both attempt to improve scores didn't work that much\n",
    "I wonder if it is really possible to normalize result of an tfidfVectorisation and if MaxAbsScaler is really usefull in this case"
   ]
  },
  {
   "cell_type": "markdown",
   "metadata": {},
   "source": [
    "# 5- Test with French Stemmer"
   ]
  },
  {
   "cell_type": "raw",
   "metadata": {},
   "source": [
    "Try FRENCH STEMMER"
   ]
  },
  {
   "cell_type": "code",
   "execution_count": 46,
   "metadata": {},
   "outputs": [],
   "source": [
    "stemmer_fr=nltk.stem.snowball.FrenchStemmer()"
   ]
  },
  {
   "cell_type": "code",
   "execution_count": 47,
   "metadata": {},
   "outputs": [],
   "source": [
    "def stemming_tokenizer_fr(str_input):\n",
    "    \"\"\" stem and remove ponctuation from input str\"\"\"\n",
    "    words = re.sub(\",|-|'|\\.|\\?\", \" \", str_input).lower().split()\n",
    "    words = [stemmer_fr.stem(word) for word in words]\n",
    "    return words"
   ]
  },
  {
   "cell_type": "code",
   "execution_count": 48,
   "metadata": {},
   "outputs": [
    {
     "name": "stderr",
     "output_type": "stream",
     "text": [
      "/Users/antoine/Documents/Tests/interview/Posos/posos_interview/venvPosos/lib/python3.7/site-packages/sklearn/feature_extraction/text.py:300: UserWarning: Your stop_words may be inconsistent with your preprocessing. Tokenizing the stop words generated tokens ['aur', 'aurion', 'auron', 'avi', 'avion', 'avon', 'ayon', 'dan', 'e', 'euss', 'eussion', 'eûm', 'fuss', 'fussion', 'fûm', 'mêm', 'notr', 'ser', 'serion', 'seron', 'soi', 'somm', 'soyon', 'votr', 'éti', 'étion', 'ête'] not in stop_words.\n",
      "  'stop_words.' % sorted(inconsistent))\n"
     ]
    }
   ],
   "source": [
    "tf_vectorizer_stem = TfidfVectorizer(tokenizer=stemming_tokenizer_fr,\n",
    "                       stop_words = stop_words_fr,\n",
    "                       min_df = 5).fit(input_train[\"question\"])"
   ]
  },
  {
   "cell_type": "code",
   "execution_count": 49,
   "metadata": {},
   "outputs": [],
   "source": [
    "x_fr = tf_vectorizer_stem.transform(input_train[\"question\"])"
   ]
  },
  {
   "cell_type": "code",
   "execution_count": 50,
   "metadata": {},
   "outputs": [],
   "source": [
    "x_train_stem, x_test_stem, y_train_stem, y_test_stem = train_test_split(x_fr, y)"
   ]
  },
  {
   "cell_type": "code",
   "execution_count": 51,
   "metadata": {},
   "outputs": [
    {
     "data": {
      "text/plain": [
       "(6021, 1862)"
      ]
     },
     "execution_count": 51,
     "metadata": {},
     "output_type": "execute_result"
    }
   ],
   "source": [
    "x_train_stem.shape"
   ]
  },
  {
   "cell_type": "code",
   "execution_count": 52,
   "metadata": {},
   "outputs": [],
   "source": [
    "grid = {\"C\":[0.01,1,10,100], \"gamma\":[0.01,1,10,100]}\n",
    "gs_stem = GridSearchCV(SVC(), grid, cv=5)"
   ]
  },
  {
   "cell_type": "code",
   "execution_count": 53,
   "metadata": {},
   "outputs": [
    {
     "name": "stderr",
     "output_type": "stream",
     "text": [
      "/Users/antoine/Documents/Tests/interview/Posos/posos_interview/venvPosos/lib/python3.7/site-packages/sklearn/model_selection/_split.py:657: Warning: The least populated class in y has only 3 members, which is too few. The minimum number of members in any class cannot be less than n_splits=5.\n",
      "  % (min_groups, self.n_splits)), Warning)\n"
     ]
    },
    {
     "data": {
      "text/plain": [
       "GridSearchCV(cv=5, error_score='raise-deprecating',\n",
       "             estimator=SVC(C=1.0, cache_size=200, class_weight=None, coef0=0.0,\n",
       "                           decision_function_shape='ovr', degree=3,\n",
       "                           gamma='auto_deprecated', kernel='rbf', max_iter=-1,\n",
       "                           probability=False, random_state=None, shrinking=True,\n",
       "                           tol=0.001, verbose=False),\n",
       "             iid='warn', n_jobs=None,\n",
       "             param_grid={'C': [0.01, 1, 10, 100], 'gamma': [0.01, 1, 10, 100]},\n",
       "             pre_dispatch='2*n_jobs', refit=True, return_train_score=False,\n",
       "             scoring=None, verbose=0)"
      ]
     },
     "execution_count": 53,
     "metadata": {},
     "output_type": "execute_result"
    }
   ],
   "source": [
    "gs_stem.fit(x_train_stem, y_train_stem)"
   ]
  },
  {
   "cell_type": "code",
   "execution_count": 54,
   "metadata": {},
   "outputs": [
    {
     "data": {
      "text/plain": [
       "(0.9287493771798705, 0.6387643248629796)"
      ]
     },
     "execution_count": 54,
     "metadata": {},
     "output_type": "execute_result"
    }
   ],
   "source": [
    "gs_stem.score(x_train_stem, y_train_stem), gs_stem.score(x_test_stem, y_test_stem)"
   ]
  },
  {
   "cell_type": "code",
   "execution_count": 55,
   "metadata": {},
   "outputs": [
    {
     "data": {
      "text/plain": [
       "(0.6283009466865969, {'C': 100, 'gamma': 0.01})"
      ]
     },
     "execution_count": 55,
     "metadata": {},
     "output_type": "execute_result"
    }
   ],
   "source": [
    "gs_stem.best_score_, gs_stem.best_params_"
   ]
  },
  {
   "cell_type": "code",
   "execution_count": 56,
   "metadata": {
    "scrolled": true
   },
   "outputs": [
    {
     "data": {
      "text/html": [
       "<div>\n",
       "<style scoped>\n",
       "    .dataframe tbody tr th:only-of-type {\n",
       "        vertical-align: middle;\n",
       "    }\n",
       "\n",
       "    .dataframe tbody tr th {\n",
       "        vertical-align: top;\n",
       "    }\n",
       "\n",
       "    .dataframe thead th {\n",
       "        text-align: right;\n",
       "    }\n",
       "</style>\n",
       "<table border=\"1\" class=\"dataframe\">\n",
       "  <thead>\n",
       "    <tr style=\"text-align: right;\">\n",
       "      <th></th>\n",
       "      <th>mean_fit_time</th>\n",
       "      <th>std_fit_time</th>\n",
       "      <th>mean_score_time</th>\n",
       "      <th>std_score_time</th>\n",
       "      <th>param_C</th>\n",
       "      <th>param_gamma</th>\n",
       "      <th>params</th>\n",
       "      <th>split0_test_score</th>\n",
       "      <th>split1_test_score</th>\n",
       "      <th>split2_test_score</th>\n",
       "      <th>split3_test_score</th>\n",
       "      <th>split4_test_score</th>\n",
       "      <th>mean_test_score</th>\n",
       "      <th>std_test_score</th>\n",
       "      <th>rank_test_score</th>\n",
       "    </tr>\n",
       "  </thead>\n",
       "  <tbody>\n",
       "    <tr>\n",
       "      <td>0</td>\n",
       "      <td>1.953566</td>\n",
       "      <td>0.036938</td>\n",
       "      <td>0.619341</td>\n",
       "      <td>0.011050</td>\n",
       "      <td>0.01</td>\n",
       "      <td>0.01</td>\n",
       "      <td>{'C': 0.01, 'gamma': 0.01}</td>\n",
       "      <td>0.216680</td>\n",
       "      <td>0.217284</td>\n",
       "      <td>0.218543</td>\n",
       "      <td>0.221291</td>\n",
       "      <td>0.223350</td>\n",
       "      <td>0.219399</td>\n",
       "      <td>0.002515</td>\n",
       "      <td>13</td>\n",
       "    </tr>\n",
       "    <tr>\n",
       "      <td>1</td>\n",
       "      <td>3.696692</td>\n",
       "      <td>0.034225</td>\n",
       "      <td>0.647223</td>\n",
       "      <td>0.013524</td>\n",
       "      <td>0.01</td>\n",
       "      <td>1</td>\n",
       "      <td>{'C': 0.01, 'gamma': 1}</td>\n",
       "      <td>0.216680</td>\n",
       "      <td>0.217284</td>\n",
       "      <td>0.218543</td>\n",
       "      <td>0.221291</td>\n",
       "      <td>0.223350</td>\n",
       "      <td>0.219399</td>\n",
       "      <td>0.002515</td>\n",
       "      <td>13</td>\n",
       "    </tr>\n",
       "    <tr>\n",
       "      <td>2</td>\n",
       "      <td>6.164146</td>\n",
       "      <td>0.174770</td>\n",
       "      <td>0.679783</td>\n",
       "      <td>0.036229</td>\n",
       "      <td>0.01</td>\n",
       "      <td>10</td>\n",
       "      <td>{'C': 0.01, 'gamma': 10}</td>\n",
       "      <td>0.216680</td>\n",
       "      <td>0.217284</td>\n",
       "      <td>0.218543</td>\n",
       "      <td>0.221291</td>\n",
       "      <td>0.223350</td>\n",
       "      <td>0.219399</td>\n",
       "      <td>0.002515</td>\n",
       "      <td>13</td>\n",
       "    </tr>\n",
       "    <tr>\n",
       "      <td>3</td>\n",
       "      <td>6.034370</td>\n",
       "      <td>0.150627</td>\n",
       "      <td>0.713986</td>\n",
       "      <td>0.108664</td>\n",
       "      <td>0.01</td>\n",
       "      <td>100</td>\n",
       "      <td>{'C': 0.01, 'gamma': 100}</td>\n",
       "      <td>0.216680</td>\n",
       "      <td>0.217284</td>\n",
       "      <td>0.218543</td>\n",
       "      <td>0.221291</td>\n",
       "      <td>0.223350</td>\n",
       "      <td>0.219399</td>\n",
       "      <td>0.002515</td>\n",
       "      <td>13</td>\n",
       "    </tr>\n",
       "    <tr>\n",
       "      <td>4</td>\n",
       "      <td>2.958145</td>\n",
       "      <td>0.031080</td>\n",
       "      <td>0.626025</td>\n",
       "      <td>0.004397</td>\n",
       "      <td>1</td>\n",
       "      <td>0.01</td>\n",
       "      <td>{'C': 1, 'gamma': 0.01}</td>\n",
       "      <td>0.217498</td>\n",
       "      <td>0.219753</td>\n",
       "      <td>0.222682</td>\n",
       "      <td>0.223806</td>\n",
       "      <td>0.228426</td>\n",
       "      <td>0.222388</td>\n",
       "      <td>0.003719</td>\n",
       "      <td>12</td>\n",
       "    </tr>\n",
       "    <tr>\n",
       "      <td>5</td>\n",
       "      <td>4.876793</td>\n",
       "      <td>0.088448</td>\n",
       "      <td>0.572221</td>\n",
       "      <td>0.012488</td>\n",
       "      <td>1</td>\n",
       "      <td>1</td>\n",
       "      <td>{'C': 1, 'gamma': 1}</td>\n",
       "      <td>0.564186</td>\n",
       "      <td>0.562140</td>\n",
       "      <td>0.573675</td>\n",
       "      <td>0.570830</td>\n",
       "      <td>0.582910</td>\n",
       "      <td>0.570669</td>\n",
       "      <td>0.007379</td>\n",
       "      <td>4</td>\n",
       "    </tr>\n",
       "    <tr>\n",
       "      <td>6</td>\n",
       "      <td>7.655931</td>\n",
       "      <td>0.058615</td>\n",
       "      <td>0.601197</td>\n",
       "      <td>0.015784</td>\n",
       "      <td>1</td>\n",
       "      <td>10</td>\n",
       "      <td>{'C': 1, 'gamma': 10}</td>\n",
       "      <td>0.286999</td>\n",
       "      <td>0.287243</td>\n",
       "      <td>0.287252</td>\n",
       "      <td>0.292540</td>\n",
       "      <td>0.293570</td>\n",
       "      <td>0.289487</td>\n",
       "      <td>0.002898</td>\n",
       "      <td>8</td>\n",
       "    </tr>\n",
       "    <tr>\n",
       "      <td>7</td>\n",
       "      <td>7.844696</td>\n",
       "      <td>0.374233</td>\n",
       "      <td>0.630442</td>\n",
       "      <td>0.014866</td>\n",
       "      <td>1</td>\n",
       "      <td>100</td>\n",
       "      <td>{'C': 1, 'gamma': 100}</td>\n",
       "      <td>0.286999</td>\n",
       "      <td>0.287243</td>\n",
       "      <td>0.287252</td>\n",
       "      <td>0.292540</td>\n",
       "      <td>0.293570</td>\n",
       "      <td>0.289487</td>\n",
       "      <td>0.002898</td>\n",
       "      <td>8</td>\n",
       "    </tr>\n",
       "    <tr>\n",
       "      <td>8</td>\n",
       "      <td>3.155400</td>\n",
       "      <td>0.109356</td>\n",
       "      <td>0.635475</td>\n",
       "      <td>0.032316</td>\n",
       "      <td>10</td>\n",
       "      <td>0.01</td>\n",
       "      <td>{'C': 10, 'gamma': 0.01}</td>\n",
       "      <td>0.429272</td>\n",
       "      <td>0.424691</td>\n",
       "      <td>0.432119</td>\n",
       "      <td>0.431685</td>\n",
       "      <td>0.435702</td>\n",
       "      <td>0.430659</td>\n",
       "      <td>0.003634</td>\n",
       "      <td>5</td>\n",
       "    </tr>\n",
       "    <tr>\n",
       "      <td>9</td>\n",
       "      <td>5.527478</td>\n",
       "      <td>0.057311</td>\n",
       "      <td>0.614772</td>\n",
       "      <td>0.024291</td>\n",
       "      <td>10</td>\n",
       "      <td>1</td>\n",
       "      <td>{'C': 10, 'gamma': 1}</td>\n",
       "      <td>0.604252</td>\n",
       "      <td>0.589300</td>\n",
       "      <td>0.605960</td>\n",
       "      <td>0.608550</td>\n",
       "      <td>0.607445</td>\n",
       "      <td>0.603056</td>\n",
       "      <td>0.007066</td>\n",
       "      <td>3</td>\n",
       "    </tr>\n",
       "    <tr>\n",
       "      <td>10</td>\n",
       "      <td>7.815215</td>\n",
       "      <td>0.221878</td>\n",
       "      <td>0.584464</td>\n",
       "      <td>0.025680</td>\n",
       "      <td>10</td>\n",
       "      <td>10</td>\n",
       "      <td>{'C': 10, 'gamma': 10}</td>\n",
       "      <td>0.287817</td>\n",
       "      <td>0.286420</td>\n",
       "      <td>0.288079</td>\n",
       "      <td>0.294216</td>\n",
       "      <td>0.293570</td>\n",
       "      <td>0.289985</td>\n",
       "      <td>0.003212</td>\n",
       "      <td>6</td>\n",
       "    </tr>\n",
       "    <tr>\n",
       "      <td>11</td>\n",
       "      <td>8.219171</td>\n",
       "      <td>0.295087</td>\n",
       "      <td>0.597773</td>\n",
       "      <td>0.024542</td>\n",
       "      <td>10</td>\n",
       "      <td>100</td>\n",
       "      <td>{'C': 10, 'gamma': 100}</td>\n",
       "      <td>0.286999</td>\n",
       "      <td>0.287243</td>\n",
       "      <td>0.287252</td>\n",
       "      <td>0.292540</td>\n",
       "      <td>0.293570</td>\n",
       "      <td>0.289487</td>\n",
       "      <td>0.002898</td>\n",
       "      <td>8</td>\n",
       "    </tr>\n",
       "    <tr>\n",
       "      <td>12</td>\n",
       "      <td>3.081087</td>\n",
       "      <td>0.074916</td>\n",
       "      <td>0.591690</td>\n",
       "      <td>0.018957</td>\n",
       "      <td>100</td>\n",
       "      <td>0.01</td>\n",
       "      <td>{'C': 100, 'gamma': 0.01}</td>\n",
       "      <td>0.640229</td>\n",
       "      <td>0.608230</td>\n",
       "      <td>0.634106</td>\n",
       "      <td>0.627829</td>\n",
       "      <td>0.631134</td>\n",
       "      <td>0.628301</td>\n",
       "      <td>0.010889</td>\n",
       "      <td>1</td>\n",
       "    </tr>\n",
       "    <tr>\n",
       "      <td>13</td>\n",
       "      <td>5.367342</td>\n",
       "      <td>0.129932</td>\n",
       "      <td>0.593909</td>\n",
       "      <td>0.022385</td>\n",
       "      <td>100</td>\n",
       "      <td>1</td>\n",
       "      <td>{'C': 100, 'gamma': 1}</td>\n",
       "      <td>0.604252</td>\n",
       "      <td>0.590123</td>\n",
       "      <td>0.604305</td>\n",
       "      <td>0.610226</td>\n",
       "      <td>0.608291</td>\n",
       "      <td>0.603388</td>\n",
       "      <td>0.007058</td>\n",
       "      <td>2</td>\n",
       "    </tr>\n",
       "    <tr>\n",
       "      <td>14</td>\n",
       "      <td>7.682780</td>\n",
       "      <td>0.106058</td>\n",
       "      <td>0.568454</td>\n",
       "      <td>0.014115</td>\n",
       "      <td>100</td>\n",
       "      <td>10</td>\n",
       "      <td>{'C': 100, 'gamma': 10}</td>\n",
       "      <td>0.287817</td>\n",
       "      <td>0.286420</td>\n",
       "      <td>0.288079</td>\n",
       "      <td>0.294216</td>\n",
       "      <td>0.293570</td>\n",
       "      <td>0.289985</td>\n",
       "      <td>0.003212</td>\n",
       "      <td>6</td>\n",
       "    </tr>\n",
       "    <tr>\n",
       "      <td>15</td>\n",
       "      <td>7.796836</td>\n",
       "      <td>0.098553</td>\n",
       "      <td>0.581782</td>\n",
       "      <td>0.024618</td>\n",
       "      <td>100</td>\n",
       "      <td>100</td>\n",
       "      <td>{'C': 100, 'gamma': 100}</td>\n",
       "      <td>0.286999</td>\n",
       "      <td>0.287243</td>\n",
       "      <td>0.287252</td>\n",
       "      <td>0.292540</td>\n",
       "      <td>0.293570</td>\n",
       "      <td>0.289487</td>\n",
       "      <td>0.002898</td>\n",
       "      <td>8</td>\n",
       "    </tr>\n",
       "  </tbody>\n",
       "</table>\n",
       "</div>"
      ],
      "text/plain": [
       "    mean_fit_time  std_fit_time  mean_score_time  std_score_time param_C  \\\n",
       "0        1.953566      0.036938         0.619341        0.011050    0.01   \n",
       "1        3.696692      0.034225         0.647223        0.013524    0.01   \n",
       "2        6.164146      0.174770         0.679783        0.036229    0.01   \n",
       "3        6.034370      0.150627         0.713986        0.108664    0.01   \n",
       "4        2.958145      0.031080         0.626025        0.004397       1   \n",
       "5        4.876793      0.088448         0.572221        0.012488       1   \n",
       "6        7.655931      0.058615         0.601197        0.015784       1   \n",
       "7        7.844696      0.374233         0.630442        0.014866       1   \n",
       "8        3.155400      0.109356         0.635475        0.032316      10   \n",
       "9        5.527478      0.057311         0.614772        0.024291      10   \n",
       "10       7.815215      0.221878         0.584464        0.025680      10   \n",
       "11       8.219171      0.295087         0.597773        0.024542      10   \n",
       "12       3.081087      0.074916         0.591690        0.018957     100   \n",
       "13       5.367342      0.129932         0.593909        0.022385     100   \n",
       "14       7.682780      0.106058         0.568454        0.014115     100   \n",
       "15       7.796836      0.098553         0.581782        0.024618     100   \n",
       "\n",
       "   param_gamma                      params  split0_test_score  \\\n",
       "0         0.01  {'C': 0.01, 'gamma': 0.01}           0.216680   \n",
       "1            1     {'C': 0.01, 'gamma': 1}           0.216680   \n",
       "2           10    {'C': 0.01, 'gamma': 10}           0.216680   \n",
       "3          100   {'C': 0.01, 'gamma': 100}           0.216680   \n",
       "4         0.01     {'C': 1, 'gamma': 0.01}           0.217498   \n",
       "5            1        {'C': 1, 'gamma': 1}           0.564186   \n",
       "6           10       {'C': 1, 'gamma': 10}           0.286999   \n",
       "7          100      {'C': 1, 'gamma': 100}           0.286999   \n",
       "8         0.01    {'C': 10, 'gamma': 0.01}           0.429272   \n",
       "9            1       {'C': 10, 'gamma': 1}           0.604252   \n",
       "10          10      {'C': 10, 'gamma': 10}           0.287817   \n",
       "11         100     {'C': 10, 'gamma': 100}           0.286999   \n",
       "12        0.01   {'C': 100, 'gamma': 0.01}           0.640229   \n",
       "13           1      {'C': 100, 'gamma': 1}           0.604252   \n",
       "14          10     {'C': 100, 'gamma': 10}           0.287817   \n",
       "15         100    {'C': 100, 'gamma': 100}           0.286999   \n",
       "\n",
       "    split1_test_score  split2_test_score  split3_test_score  \\\n",
       "0            0.217284           0.218543           0.221291   \n",
       "1            0.217284           0.218543           0.221291   \n",
       "2            0.217284           0.218543           0.221291   \n",
       "3            0.217284           0.218543           0.221291   \n",
       "4            0.219753           0.222682           0.223806   \n",
       "5            0.562140           0.573675           0.570830   \n",
       "6            0.287243           0.287252           0.292540   \n",
       "7            0.287243           0.287252           0.292540   \n",
       "8            0.424691           0.432119           0.431685   \n",
       "9            0.589300           0.605960           0.608550   \n",
       "10           0.286420           0.288079           0.294216   \n",
       "11           0.287243           0.287252           0.292540   \n",
       "12           0.608230           0.634106           0.627829   \n",
       "13           0.590123           0.604305           0.610226   \n",
       "14           0.286420           0.288079           0.294216   \n",
       "15           0.287243           0.287252           0.292540   \n",
       "\n",
       "    split4_test_score  mean_test_score  std_test_score  rank_test_score  \n",
       "0            0.223350         0.219399        0.002515               13  \n",
       "1            0.223350         0.219399        0.002515               13  \n",
       "2            0.223350         0.219399        0.002515               13  \n",
       "3            0.223350         0.219399        0.002515               13  \n",
       "4            0.228426         0.222388        0.003719               12  \n",
       "5            0.582910         0.570669        0.007379                4  \n",
       "6            0.293570         0.289487        0.002898                8  \n",
       "7            0.293570         0.289487        0.002898                8  \n",
       "8            0.435702         0.430659        0.003634                5  \n",
       "9            0.607445         0.603056        0.007066                3  \n",
       "10           0.293570         0.289985        0.003212                6  \n",
       "11           0.293570         0.289487        0.002898                8  \n",
       "12           0.631134         0.628301        0.010889                1  \n",
       "13           0.608291         0.603388        0.007058                2  \n",
       "14           0.293570         0.289985        0.003212                6  \n",
       "15           0.293570         0.289487        0.002898                8  "
      ]
     },
     "execution_count": 56,
     "metadata": {},
     "output_type": "execute_result"
    }
   ],
   "source": [
    "pd.DataFrame(gs_stem.cv_results_)"
   ]
  },
  {
   "cell_type": "code",
   "execution_count": 57,
   "metadata": {},
   "outputs": [],
   "source": [
    "# MATRICE DE CONFUSION / RAPPEL / F1_SCORE"
   ]
  },
  {
   "cell_type": "code",
   "execution_count": 58,
   "metadata": {},
   "outputs": [],
   "source": [
    "pred = gs_stem.predict(x_test_stem)\n",
    "confusion = confusion_matrix(y_test_stem, pred)"
   ]
  },
  {
   "cell_type": "code",
   "execution_count": 59,
   "metadata": {},
   "outputs": [
    {
     "data": {
      "image/png": "[encoded data removed]",
      "text/plain": [
       "<Figure size 1296x1296 with 1 Axes>"
      ]
     },
     "metadata": {
      "needs_background": "light"
     },
     "output_type": "display_data"
    }
   ],
   "source": [
    "fig, ax = plot_confusion_matrix(conf_mat=confusion, figsize=(18,18))\n",
    "plt.show()"
   ]
  },
  {
   "cell_type": "code",
   "execution_count": 60,
   "metadata": {},
   "outputs": [
    {
     "name": "stderr",
     "output_type": "stream",
     "text": [
      "/Users/antoine/Documents/Tests/interview/Posos/posos_interview/venvPosos/lib/python3.7/site-packages/sklearn/metrics/classification.py:1437: UndefinedMetricWarning: F-score is ill-defined and being set to 0.0 in labels with no predicted samples.\n",
      "  'precision', 'predicted', average, warn_for)\n"
     ]
    },
    {
     "data": {
      "text/plain": [
       "(0.6387643248629796, 0.5348644765816226)"
      ]
     },
     "execution_count": 60,
     "metadata": {},
     "output_type": "execute_result"
    }
   ],
   "source": [
    "f1_score(y_test_stem, pred, average=\"micro\") ,f1_score(y_test_stem, pred, average=\"macro\") "
   ]
  },
  {
   "cell_type": "markdown",
   "metadata": {},
   "source": [
    "# 6 - Word2vec with SVM - Final model served by api"
   ]
  },
  {
   "cell_type": "markdown",
   "metadata": {},
   "source": [
    "Here I'm trying Word2Vec vectorizer with SVM model\n",
    "This will be the model served"
   ]
  },
  {
   "cell_type": "code",
   "execution_count": 61,
   "metadata": {},
   "outputs": [],
   "source": [
    "from gensim.models import Word2Vec\n",
    "from sklearn.model_selection import GridSearchCV\n",
    "from sklearn.svm import SVC\n",
    "import pickle"
   ]
  },
  {
   "cell_type": "code",
   "execution_count": 62,
   "metadata": {},
   "outputs": [
    {
     "data": {
      "text/plain": [
       "(8028, 2)"
      ]
     },
     "execution_count": 62,
     "metadata": {},
     "output_type": "execute_result"
    }
   ],
   "source": [
    "input_train.shape"
   ]
  },
  {
   "cell_type": "code",
   "execution_count": 63,
   "metadata": {},
   "outputs": [
    {
     "data": {
      "text/html": [
       "<div>\n",
       "<style scoped>\n",
       "    .dataframe tbody tr th:only-of-type {\n",
       "        vertical-align: middle;\n",
       "    }\n",
       "\n",
       "    .dataframe tbody tr th {\n",
       "        vertical-align: top;\n",
       "    }\n",
       "\n",
       "    .dataframe thead th {\n",
       "        text-align: right;\n",
       "    }\n",
       "</style>\n",
       "<table border=\"1\" class=\"dataframe\">\n",
       "  <thead>\n",
       "    <tr style=\"text-align: right;\">\n",
       "      <th></th>\n",
       "      <th>ID</th>\n",
       "      <th>question</th>\n",
       "    </tr>\n",
       "  </thead>\n",
       "  <tbody>\n",
       "    <tr>\n",
       "      <td>0</td>\n",
       "      <td>0</td>\n",
       "      <td>bonjour,  je m suis trompé de forum pour ma qu...</td>\n",
       "    </tr>\n",
       "    <tr>\n",
       "      <td>1</td>\n",
       "      <td>1</td>\n",
       "      <td>est ce que le motilium me soulagera contre les...</td>\n",
       "    </tr>\n",
       "    <tr>\n",
       "      <td>2</td>\n",
       "      <td>2</td>\n",
       "      <td>mon médecin m'a prescrit adenyl. au 2ème cache...</td>\n",
       "    </tr>\n",
       "    <tr>\n",
       "      <td>3</td>\n",
       "      <td>3</td>\n",
       "      <td>Est-ce qu'il existe une forme adaptée aux enfa...</td>\n",
       "    </tr>\n",
       "    <tr>\n",
       "      <td>4</td>\n",
       "      <td>4</td>\n",
       "      <td>mon  medecin  me soigne  pour  une  rhino  pha...</td>\n",
       "    </tr>\n",
       "  </tbody>\n",
       "</table>\n",
       "</div>"
      ],
      "text/plain": [
       "   ID                                           question\n",
       "0   0  bonjour,  je m suis trompé de forum pour ma qu...\n",
       "1   1  est ce que le motilium me soulagera contre les...\n",
       "2   2  mon médecin m'a prescrit adenyl. au 2ème cache...\n",
       "3   3  Est-ce qu'il existe une forme adaptée aux enfa...\n",
       "4   4  mon  medecin  me soigne  pour  une  rhino  pha..."
      ]
     },
     "execution_count": 63,
     "metadata": {},
     "output_type": "execute_result"
    }
   ],
   "source": [
    "input_train.head()"
   ]
  },
  {
   "cell_type": "code",
   "execution_count": 64,
   "metadata": {},
   "outputs": [
    {
     "data": {
      "text/plain": [
       "'bonjour   je m suis trompé de forum pour ma question alors je la repose ici  je pris pour la première fois hier du paroxétine et ce matin c est une catastrophe  picotement dasn tous le corps annonciateur de sueur froide très très massive et de vomissement  j en suis à deux crises depuis 5 heure du mat  la cela semble passer mes mes mains reste moites et chaude estce normal pour la première fois merci a tous'"
      ]
     },
     "execution_count": 64,
     "metadata": {},
     "output_type": "execute_result"
    }
   ],
   "source": [
    "stop_words_fr = stopwords.words(\"french\")\n",
    "cleaned_sentence_array = [re.sub(\",|-|'|\\.|\\?\" ,\" \", str(row)) for row  in input_train[\"question\"]   ]\n",
    "cleaned_sentence_array[0]             "
   ]
  },
  {
   "cell_type": "code",
   "execution_count": 76,
   "metadata": {},
   "outputs": [],
   "source": [
    "\n",
    "def get_sentence_splited_list(cleaned_sentence_array):\n",
    "    \"\"\"\n",
    "    cleaned_sentence_array: list of sentences- each sentences is already clean from punctutation\n",
    "    return: a list of list- each sentences is converted in a list of word\n",
    "    \"\"\"\n",
    "    sentence_splited_list = []\n",
    "    for sentence in cleaned_sentence_array:\n",
    "        new_splited_sentence = []\n",
    "        for word in sentence.split(\" \"):\n",
    "            if word and len(word) >2 and word not in stop_words_fr:\n",
    "                new_splited_sentence.append(word.lower())\n",
    "        sentence_splited_list.append(new_splited_sentence) \n",
    "    return sentence_splited_list\n",
    "    "
   ]
  },
  {
   "cell_type": "code",
   "execution_count": 77,
   "metadata": {},
   "outputs": [],
   "source": [
    "def get_vector_list(sentence_splited_list, w2v_model):\n",
    "    \"\"\"\n",
    "    sentence_splited_list: list of list of words\n",
    "    w2v_model: word2Vec vectorize\n",
    "    For each sentence only words present in w2v vocabulary are kept and transformed in vectorize form\n",
    "    Then we average vectors values for each sentence\n",
    "    Sentence with 0 word from vocabs are stored in empty_vector_list\n",
    "    \"\"\"\n",
    "    empty_vector_list = []\n",
    "    vector_list = []\n",
    "    for index, word_list in enumerate(sentence_splited_list): #[1:2]:\n",
    "        vocab_words = []\n",
    "        for word in word_list:\n",
    "            if word in w2v_model.wv.vocab.keys():\n",
    "                vocab_words.append(w2v_model.wv[word])\n",
    "        if not vocab_words:\n",
    "            empty_vector_list.append(index)\n",
    "        else:\n",
    "            mean_vect = np.mean(vocab_words, axis=0)\n",
    "            vector_list.append(mean_vect)\n",
    "    return vector_list, empty_vector_list"
   ]
  },
  {
   "cell_type": "code",
   "execution_count": 78,
   "metadata": {
    "scrolled": true
   },
   "outputs": [
    {
     "data": {
      "text/html": [
       "<div>\n",
       "<style scoped>\n",
       "    .dataframe tbody tr th:only-of-type {\n",
       "        vertical-align: middle;\n",
       "    }\n",
       "\n",
       "    .dataframe tbody tr th {\n",
       "        vertical-align: top;\n",
       "    }\n",
       "\n",
       "    .dataframe thead th {\n",
       "        text-align: right;\n",
       "    }\n",
       "</style>\n",
       "<table border=\"1\" class=\"dataframe\">\n",
       "  <thead>\n",
       "    <tr style=\"text-align: right;\">\n",
       "      <th></th>\n",
       "      <th>question_splited</th>\n",
       "    </tr>\n",
       "  </thead>\n",
       "  <tbody>\n",
       "    <tr>\n",
       "      <td>0</td>\n",
       "      <td>[bonjour, trompé, forum, question, alors, repo...</td>\n",
       "    </tr>\n",
       "    <tr>\n",
       "      <td>1</td>\n",
       "      <td>[motilium, soulagera, contre, nausées]</td>\n",
       "    </tr>\n",
       "    <tr>\n",
       "      <td>2</td>\n",
       "      <td>[médecin, prescrit, adenyl, 2ème, cachet, maux...</td>\n",
       "    </tr>\n",
       "    <tr>\n",
       "      <td>3</td>\n",
       "      <td>[est, existe, forme, adaptée, enfant, 5ans, mi...</td>\n",
       "    </tr>\n",
       "    <tr>\n",
       "      <td>4</td>\n",
       "      <td>[medecin, soigne, rhino, pharingite, prescrit,...</td>\n",
       "    </tr>\n",
       "  </tbody>\n",
       "</table>\n",
       "</div>"
      ],
      "text/plain": [
       "                                    question_splited\n",
       "0  [bonjour, trompé, forum, question, alors, repo...\n",
       "1             [motilium, soulagera, contre, nausées]\n",
       "2  [médecin, prescrit, adenyl, 2ème, cachet, maux...\n",
       "3  [est, existe, forme, adaptée, enfant, 5ans, mi...\n",
       "4  [medecin, soigne, rhino, pharingite, prescrit,..."
      ]
     },
     "execution_count": 78,
     "metadata": {},
     "output_type": "execute_result"
    }
   ],
   "source": [
    "sentence_splited_list = get_sentence_splited_list(cleaned_sentence_array)\n",
    "splited_df = pd.DataFrame({\"question_splited\": sentence_splited_list})\n",
    "splited_df.head()"
   ]
  },
  {
   "cell_type": "code",
   "execution_count": 79,
   "metadata": {
    "scrolled": true
   },
   "outputs": [],
   "source": [
    "w2v_model = Word2Vec(sentence_splited_list,\n",
    "                     min_count=10,\n",
    "                     window=2,\n",
    "                     size=100,\n",
    "                     sample=6e-5, \n",
    "                     alpha=0.03, \n",
    "                     min_alpha=0.0007, \n",
    "                     negative=20,\n",
    "                     sg=1\n",
    "                     )\n",
    "vector_list, empty_vector_list = get_vector_list(sentence_splited_list, w2v_model)"
   ]
  },
  {
   "cell_type": "code",
   "execution_count": 80,
   "metadata": {
    "scrolled": true
   },
   "outputs": [
    {
     "data": {
      "text/plain": [
       "dict_keys(['bonjour', 'forum', 'question', 'alors', 'ici', 'pris', 'première', 'fois', 'hier', 'paroxétine', 'matin', 'tous', 'corps', 'très', 'vomissement', 'deux', 'crises', 'depuis', 'heure', 'cela', 'semble', 'passer', 'mains', 'reste', 'normal', 'merci', 'contre', 'nausées', 'médecin', 'prescrit', '2ème', 'cachet', 'maux', 'tête', 'palpitations', 'sueurs', 'chaleur', 'tremblements', 'dès', 'arrêt', 'médicament', 'symptômes', 'déjà', 'arrivé', 'quelqu', 'est', 'existe', 'forme', 'enfant', 'medecin', 'amoxicilline', 'comme', 'anti', 'vraiment', 'cette', 'indication', 'viens', 'enceinte', 'savez', 'peux', 'dangereux', 'long', 'terme', 'sous', 'mercilon', 'saignements', 'quoi', 'prend', 'trinordiol', 'fin', 'plaquette', 'copain', 'pilule', 'donc', 'bien', 'efficace', 'debut', 'douleur', 'poitrine', 'impression', 'peu', 'plus', 'mal', 'bas', 'dois', 'laroxyl', 'doses', 'stress', 'psy', 'dit', 'prendre', '50mg', 'sertraline', 'soir', 'peut', '100mg', 'midi', 'bientot', 'semaine', 'sais', 'gratte', 'point', 'lié', 'antibiotique', 'quel', 'vaccin', 'cancer', 'col', 'vaccins', 'possible', 'pendant', 'grossesse', 'être', 'mis', 'savoir', 'bout', 'combien', 'injections', 'produit', 'faire', 'effets', 'jours', 'après', 'chaque', 'injection', 'sentir', 'comment', 'traiter', 'cuivre', 'eau', 'marché', '1er', 'indésirables', 'quels', 'risques', 'millepertuis', 'meme', 'temps', 'quand', 'termine', 'avoir', 'sexuels', 'quelle', 'durée', 'conservation', 'fais', 'grossir', 'sans', 'prise', 'toujours', 'protégée', 'non', 'utiliser', 'patch', 'evra', 'commencé', 'pdt', 'mois', 'temesta', 'deroxat', 'anxiolytique', 'antidépresseur', 'presque', 'effexor', 'xanax', 'cas', 'crise', 'angoisse', 'car', 'fait', 'voila', 'raison', 'rien', 'avaler', 'habitude', 'mange', 'chose', 'provoque', 'prends', 'jour', 'malgré', 'remarqué', 'peur', 'vacances', 'durer', 'type', 'vois', 'premiere', 'une', 'reçoit', 'prescription', 'bébé', 'demande', 'encore', 'aide', 'maigrir', '300', 'plein', 'partout', 'traitement', 'secondaires', 'commencer', 'puis', 'procurer', 'vitamine', 'provoquer', 'bouffées', 'anxiété', 'gastro', 'traitant', 'ensemble', 'réaction', 'petits', 'rouges', 'arreté', 'grippe', 'fer', 'oublier', 'rapport', 'protégé', 'celle', 'repris', 'dernière', 'normalement', 'risque', 'etre', 'risperdal', 'clomid', 'filles', 'fortes', 'estomac', 'connaissez', 'lovenox', 'rupture', 'aimerais', 'gel', 'sert', 'agit', 'lysanxia', 'dose', 'sirop', 'rhume', 'problème', 'vendredi', 'dernier', 'règles', 'nuit', 'jeudi', '22h', 'voudrais', '1ere', 'trop', 'tard', 'premier', 'regles', 'sexuel', 'cours', 'préservatif', 'conseillez', 'prenne', 'lendemain', 'avance', 'atarax', 'mélodia', 'voulais', 'prix', 'générique', '20mg', 'passé', 'reprendre', 'vers', 'fallait', 'comprimés', 'seropram', 'jasmine', 'poids', 'abilify', '100', 'pensez', 'mère', 'pieds', 'prescrire', 'avant', 'valium', 'ordonnance', 'moment', 'faut', 'augmentation', 'demi', 'aussi', 'fatiguée', 'voir', 'surtout', 'passe', 'beaucoup', 'moins', 'perdre', 'pourrait', 'aider', 'seulement', 'pillule', 'daily', 'probleme', 'sein', 'prescris', 'jasminelle', 'parait', 'saignement', 'vont', 'parce', 'solian', 'souffre', 'tout', 'début', 'poussée', 'acné', 'prenais', 'ludéal', 'près', 'ans', 'récemment', 'leeloo', 'aujourd', 'hui', 'dépression', 'que', 'souhaiterais', 'médicaments', 'oubli', 'microval', 'dépendance', 'ixprim', 'remplacer', 'copine', 'octobre', 'traitements', 'medicament', 'prozac', 'calme', 'arret', 'arrêter', 'malade', 'creme', 'mycose', 'pharmacie', 'continu', 'efferalgan', 'compatible', 'dimanche', 'urticaire', 'jambes', 'bras', 'allergie', 'stresam', 'arrêté', 'important', 'inquiète', 'continue', 'voudrai', 'molécule', 'nourrisson', 'cure', 'vrai', 'granules', 'gouttes', 'melodia', 'tant', 'contraception', 'skenan', 'doliprane', 'seins', 'gonfle', 'varnoline', 'vertiges', 'stilnox', 'entraine', 'seroquel', 'effet', 'femme', 'seule', 'fasse', 'malheureusement', 'hépatite', 'droit', 'solution', 'haldol', 'méliane', 'surdosage', 'danger', 'utilisé', 'petites', 'problèmes', 'dos', 'entre', 'rivotril', 'crois', 'soleil', 'ludeal', 'oublié', 'composition', 'boite', 'équivalent', 'laisser', 'patients', 'diane', 'chez', 'patiente', 'dosages', 'solupred', 'ginseng', 'utile', 'arrivent', 'milieu', 'cycle', 'marche', 'alternative', 'cialis', 'androcur', 'conseils', 'triafémi', 'oublie', 'comprimé', 'veux', 'dire', 'différents', 'enchaîner', 'plaquettes', 'toute', 'cerazette', 'stablon', 'connait', 'rotarix', 'bonjour!', 'arreter', 'quelles', 'autres', 'pilules', 'uniquement', 'norset', 'fièvre', 'jaune', 'placebo', 'dtp', 'enfin', 'disponible', 'cause', 'sur', 'chamomilla', 'duphaston', '9ch', 'gelsemium', 'pharmacienne', 'souhaiterai', 'pourquoi', 'ibuprofène', 'disponibles', 'teva', 'santé', 'différence', 'classe', 'thérapeutique', 'vie', 'utilise', 'svp', 'lorsqu', 'apparition', 'durant', 'attendre', 'complètement', 'perdu', '7jours', 'sevrage', 'demander', 'tercian', 'seroplex', 'donne', 'donner', 'secondaire', 'lexomil', 'surgestone', 'ixel', 'week', 'end', 'cet', '200', 'déconseillé', '12h', '5mg', 'assez', 'ainsi', 'panique', 'mieux', 'tombe', 'etc', 'dis', '10mg', 'gélules', 'causer', 'importante', 'patient', 'oui', 'cycléane', 'dure', 'action', 'les', 'antibiotiques', 'utérus', 'docteur', 'libido', 'veille', 'migraines', 'délivrance', 'posologie', 'ovulation', 'jusqu', 'depakote', 'insomnie', 'ressent', 'norlevo', 'tomber', 'carlin', 'maintenant', 'marron', 'trouver', 'dosage', 'mirena', 'faible', 'souvent', 'toutes', 'hors', 'amm', 'voie', 'xeroquel', 'mg)', 'commence', 'substituer', 'remboursé', 'vais', 'concernant', 'angoisses', 'dormir', 'convient', 'minesse', 'dosée', 'changement', 'ensuite', 'trouvé', 'bizarre', 'test', 'france', 'colpotrophine', 'ovule', 'autre', 'tres', 'tete', 'apres', 'compte', 'date', 'grave', 'huile', 'foie', 'cholestérol', 'bon', 'vacciner', 'generique', 'cystite', 'sterilet', 'visage', 'repas', 'ventre', 'veut', 'fatigue', 'reprends', 'pourriez', 'lyrica', 'fille', 'pouvez', 'éviter', 'certains', 'efficacité', 'escitalopram', 'personnes', 'part', 'doit', 'envie', 'subutex', 'quelques', 'mettre', 'implant', 'boutons', 'cérazette', 'environ', 'pertes', 'blanches', 'bcp', 'abondantes', 'inexium', 'lors', '2eme', 'recommence', 'petit', 'regle', 'avis', 'cependant', 'imovane', 'propranolol', 'diminuer', 'homéopathique', 'crampes', 'méthadone', 'conseillé', 'calcium', 'jamais', 'gynéco', 'douleurs', 'peuvent', 'indiqué', 'souhaite', 'possibles', 'alcool', 'suite', 'tétanos', 'semaines', 'pose', 'diu', 'advil', 'paracetamol', 'femmes', 'mauvaise', 'partir', 'nuvaring', 'anneau', 'retiré', 'tôt', 'rapports', 'juste', 'magnesium', 'dermato', 'moral', 'symptomes', 'quantité', 'notice', 'yaz', 'ceux', 'sang', 'tranxene', 'appétit', 'manger', 'fils', 'mardi', 'lequel', 'âge', 'fonctionne', 'passée', 'plaques', 'ror', 'adépal', 'reprise', 'crème', 'ovules', 'mari', 'troubles', 'seresta', 'belara', 'vient', 'sens', 'petite', 'venir', 'pillules', 'ami', 'période', 'forte', 'retard', 'minidril', 'jai', 'fini', 'vitamines', 'cachets', 'font', 'spiruline', 'marque', 'changer', 'actuellement', 'actif', 'indésirable', 'acide', 'indications', 'recommencer', 'aucun', 'suivante', 'recommandé', 'zoloft', '500', 'allait', 'utrogestan', 'poser', 'stérilet', 'plusieurs', 'tension', 'til', 'humeur', 'morphine', 'ceci', 'deja', 'prenant', 'infos', 'sujet', 'place', 'paroxetine', 'cymbalta', 'mai', 'devais', 'sachant', 'exemple', 'charge', 'optimizette', 'gros', 'cycles', 'antibio', 'mars', 'problemes', 'sommeil', 'faite', 'devrait', 'seul', 'noroxine', '400', 'augmentin', 'soigner', 'mélanger', 'gardasil', 'peau', 'oubliée', 'demandais', 'contraceptive', 'etait', 'pense', 'années', 'lithium', 'triella', 'continuer', 'cycleane', 'voilà', '1/2', 'certaines', 'acheter', 'tramadol', 'pause', 'coup', 'samedi', 'appliquer', 'conséquence', 'nouvelle', 'ordre', 'sinon', 'asthme', 'mon', 'gygy', 'donné', 'retrait', 'arrivée', 'deuxieme', 'croyez', 'deuxième', 'enchainer', 'afin', 'régles', 'entendu', 'qlaira', 'vaginale', 'homeo', 'produits', 'marrons', 'ignatia', 'celui', 'normale', 'niveau', 'pouvais', 'pouvoir', 'repevax', 'utilisation', 'connaît', 'huiles', 'essentielles', 'sait', 'attends', 'comprime', 'puisse', 'essayé', 'recommencé', 'généraliste', '(en', 'traite', 'rappel', 'prevenar', 'reviennent', 'elles', 'quelque', 'derniers', 'devrais', 'crestor', 'accoutumance', 'retrouver', 'nez', 'fort', 'nasonex', 'plutôt', 'longue', 'rapidement', 'décidé', 'heures', 'lorsque', 'ultra', 'douloureuses', 'homéopathie', 'perte', 'pourrais', 'voulu', 'musculaires', 'supporte', 'dors', 'simplement', 'traité', 'associer', 'lieu', 'conséquences', 'chute', 'cheveux', 'renseigner', 'aprés', 'fievre', 'transpiration', 'excessive', 'également', 'prochaine', 'protégés', 'eme', 'nausée', 'c’est', 'connu', 'explique', 'soucis', '(donc', 'goutte', 'journée', 'dafalgan', 'arrête', 'dés', 'essentielle', 'acnée', 'optilova', 'pareil', 'aller', 'consulter', 'longtemps', 'déja', 'ressenti', 'témoignages', 'nom', 'citalopram', 'sensation', 'homme', 'arrive', 'personne', 'dessus', 'précise', 'doute', 'souci', 'lundi', 'vomir', 'faisait', 'totalement', 'réponses', 'parler', 'pire', 'réponse', 'questions', 'besoin', 'message', 'aimerai', 'directement', 'roaccutane', 'déroxat', 'grosse', 'minerva', 'préservatifs', 'pouvait', 'change', 'vaccination', 'psychiatre', 'liste', 'donormyl', 'vente', 'accouchement', 'endroit', 'vomissements', 'mercredi', 'changé', '(daily', 'septembre', 'mêmes', 'sorte', 'anafranil', '150', 'vaginal', 'cherche', 'prévention', 'divarius', 'hépatique', 'prévu', 'bref', 'sauf', 'progressivement', 'langue', 'estreva', 'nexplanon', 'régime', 'amie', 'finir', 'contient', 'maximale', 'paracétamol', 'levothyrox', 'mise', 'gorge', 'genre', 'revaxis', 'rendue', 'bonsoir', 'zyprexa', 'gélule', 'coucher', 'varicelle', 'sédatif', 'certain', 'orelox', 'boire', 'rendre', 'poils', 'lait', 'diminution', 'démangeaisons', 'pharmacien', 'nux', 'vomica', 'température', 'seroxat', 'contraceptif', 'spasfon', 'délivrer', 'lutenyl', 'boîte', 'dont', 'magnésium', 'meliane', 'exactement', 'leponex', 'etais', 'plavix', 'lyoc', 'adepal', 'derniere', 'preservatif', 'nouveau', 'brunes', 'blanc', 'toux', 'influenzinum', 'coeur', 'enfants', 'diminue', 'allaitement', 'mildac', 'délai', 'jours)', 'pommade', '5ch', 'hyper', 'baisse', 'avlocardyl', 'gyneco', 'compatibles', 'phobie', 'sociale', 'zinc', 'désir', 'juillet', 'règle', 'migraine', 'protéger', 'biogaran', 'flacon', 'année', 'infection', 'urinaire', 'frigo', 'maximum', 'vagin', 'age', 'association', 'lesquels', '40mg', 'champix', 'sécurité', 'folique', 'provames', 'mauvais', 'prennent', 'fausse', 'trouve', 'trois', 'taux', 'thymuline', 'bonne', 'moyen', 'suivi', 'retour', '(je', 'kilos', 'parfois', 'hormones', 'mode', 'sandoz', 'interaction', 'injectable', 'tardyferon', 'débuter', 'doc', 'prenez', 'passage', 'arrete', 'gynécologue', 'enlever', 'remède', 'pour', 'positifs', '(ou', 'gé)', 'agir', 'manque', 'mylan', 'prescrite', 'floxyfral', 'etat', 'soulager', 'décaler', 'connaître', 'luteran', 'entrainer', 'bénéfiques', 'monuril', 'salut', 'mets', 'yeux', 'habituellement', 'alprazolam', 'notamment', 'état', 'enchainé', 'trés', 'teinture', 'valdoxan', 'progesterone', 'baisser', 'spotting', 'solutions', 'conseiller', 'écrit', 'vacciné', 'allergique', 'lutényl', 'grande', 'demain', 'depression', 'durent', 'bouche', 'refaire', 'pyostacine', 'lutéran', 'polio', 'lumalia', 'pilule)', 'diarrhée', 'gelules', 'diluer', 'jour)', 'adresse', 'j’ai', 'suivant', 'habituelle', 'selon', 'augmenté', 'insomnies', 'interruption', 'conseil', 'rouge', 'nuits', 'arnica', 'antidépresseurs', 'pourtant', 'met', 'augmenter', 'juin', 'maladie', 'ressens', 'harmonet', 'poid', 'ailleurs', 'présente', 'ancienne', 'vite', 'reponses', 'régulièrement', 'fatigué', 'suivre', 'ete', 'indesirables', '500mg', 'aucune', 'séroplex', '24h', 'medicaments', 'remplacement', 'éclairer', 'constipation', 'infanrix', 'fumer', 'premiers', 'libre', 'progestérone', 'arriver', 'partie', 'bebe', 'holgyeme', 'lien', 'avril', 'prises', 'vogalene', 'par', 'bilan', '&amp;'])"
      ]
     },
     "execution_count": 80,
     "metadata": {},
     "output_type": "execute_result"
    }
   ],
   "source": [
    "w2v_model.wv.vocab.keys()"
   ]
  },
  {
   "cell_type": "code",
   "execution_count": 81,
   "metadata": {},
   "outputs": [],
   "source": [
    "# We save our word2vec vectorizer\n",
    "filename = 'models/word2vec_model.sav'\n",
    "pickle.dump(w2v_model, open(filename, 'wb'))"
   ]
  },
  {
   "cell_type": "code",
   "execution_count": 82,
   "metadata": {
    "scrolled": true
   },
   "outputs": [
    {
     "data": {
      "text/plain": [
       "7820"
      ]
     },
     "execution_count": 82,
     "metadata": {},
     "output_type": "execute_result"
    }
   ],
   "source": [
    "len(vector_list)"
   ]
  },
  {
   "cell_type": "code",
   "execution_count": 83,
   "metadata": {},
   "outputs": [],
   "source": [
    "# here we remove form our output training sentence without any word from our w2v vocab\n",
    "output_without_na = output_train.intention.copy()\n",
    "for index in reversed(empty_vector_list):\n",
    "    output_without_na.pop(index)\n"
   ]
  },
  {
   "cell_type": "code",
   "execution_count": 84,
   "metadata": {},
   "outputs": [
    {
     "data": {
      "text/plain": [
       "(8028, 7820)"
      ]
     },
     "execution_count": 84,
     "metadata": {},
     "output_type": "execute_result"
    }
   ],
   "source": [
    "len(output_train.intention), len(output_without_na)"
   ]
  },
  {
   "cell_type": "code",
   "execution_count": 85,
   "metadata": {},
   "outputs": [
    {
     "data": {
      "text/plain": [
       "208"
      ]
     },
     "execution_count": 85,
     "metadata": {},
     "output_type": "execute_result"
    }
   ],
   "source": [
    "len(empty_vector_list)"
   ]
  },
  {
   "cell_type": "code",
   "execution_count": 86,
   "metadata": {},
   "outputs": [
    {
     "data": {
      "text/plain": [
       "[array([-1.79419797e-02, -6.40537962e-02, -6.33883872e-04,  1.08894825e-01,\n",
       "        -3.22890818e-01, -3.03120911e-01,  1.76303074e-01, -1.39539421e-01,\n",
       "        -9.11625773e-02,  7.85579160e-02,  2.85120159e-01, -1.61017716e-01,\n",
       "        -1.91939455e-02,  5.51179312e-02,  2.65845388e-01, -1.43367186e-01,\n",
       "         7.02555552e-02,  7.35921189e-02,  1.77429244e-01,  2.09833551e-02,\n",
       "         9.72741544e-02,  2.36055672e-01, -1.87988997e-01,  3.82830724e-02,\n",
       "         1.23637103e-01, -2.25972995e-01, -3.45747694e-02,  1.17001928e-01,\n",
       "        -1.11517878e-02, -8.64263549e-02, -6.71496242e-02,  1.94316044e-01,\n",
       "        -2.85333037e-01, -6.20574281e-02, -2.09946692e-01, -1.27345651e-01,\n",
       "         1.26831070e-01, -3.22279304e-01, -2.92761117e-01,  1.84820890e-01,\n",
       "        -2.27604464e-01, -1.64124072e-01, -1.17882155e-01, -1.21690659e-02,\n",
       "         3.37942764e-02,  1.26490235e-01,  1.35190398e-01, -9.84236076e-02,\n",
       "        -1.27752796e-01,  3.02067213e-02,  2.30476037e-01,  4.38756384e-02,\n",
       "         2.09515661e-01, -1.12222128e-01, -2.97128290e-01,  2.05967650e-01,\n",
       "        -8.23011696e-02,  1.23398796e-01, -1.04717556e-02,  8.08760747e-02,\n",
       "         3.02939028e-01, -1.73789352e-01,  3.72729972e-02,  3.24874893e-02,\n",
       "        -1.58859566e-01, -1.56511992e-01,  5.89218829e-03,  1.03457637e-01,\n",
       "         1.16765283e-01, -7.86140338e-02, -4.68581319e-02,  1.77953869e-01,\n",
       "         2.38917723e-01, -1.94943026e-02, -1.43574893e-01,  1.08972721e-01,\n",
       "        -1.47158176e-01,  8.67513940e-03,  1.98829472e-01, -4.54392779e-04,\n",
       "        -4.43573594e-02, -1.67245537e-01,  2.65721709e-01,  1.93705484e-01,\n",
       "         9.78275612e-02,  1.95156261e-01,  9.42967311e-02, -1.55357465e-01,\n",
       "        -5.42710237e-02,  8.20866749e-02,  2.76795216e-02, -4.71347630e-01,\n",
       "         5.03447093e-02, -4.71325248e-01,  1.88056812e-01, -5.59468195e-02,\n",
       "        -2.02403545e-01, -4.14604127e-01,  1.79643437e-01, -1.42565727e-01],\n",
       "       dtype=float32)]"
      ]
     },
     "execution_count": 86,
     "metadata": {},
     "output_type": "execute_result"
    }
   ],
   "source": [
    "vector_list[:1]"
   ]
  },
  {
   "cell_type": "code",
   "execution_count": 87,
   "metadata": {},
   "outputs": [],
   "source": [
    "x_train, x_test, y_train, y_test = train_test_split(vector_list, output_without_na) "
   ]
  },
  {
   "cell_type": "code",
   "execution_count": 88,
   "metadata": {},
   "outputs": [],
   "source": [
    "x_train_df = pd.DataFrame(x_train)\n",
    "x_test_df = pd.DataFrame(x_test)"
   ]
  },
  {
   "cell_type": "code",
   "execution_count": 89,
   "metadata": {},
   "outputs": [
    {
     "data": {
      "text/html": [
       "<div>\n",
       "<style scoped>\n",
       "    .dataframe tbody tr th:only-of-type {\n",
       "        vertical-align: middle;\n",
       "    }\n",
       "\n",
       "    .dataframe tbody tr th {\n",
       "        vertical-align: top;\n",
       "    }\n",
       "\n",
       "    .dataframe thead th {\n",
       "        text-align: right;\n",
       "    }\n",
       "</style>\n",
       "<table border=\"1\" class=\"dataframe\">\n",
       "  <thead>\n",
       "    <tr style=\"text-align: right;\">\n",
       "      <th></th>\n",
       "      <th>0</th>\n",
       "      <th>1</th>\n",
       "      <th>2</th>\n",
       "      <th>3</th>\n",
       "      <th>4</th>\n",
       "      <th>5</th>\n",
       "      <th>6</th>\n",
       "      <th>7</th>\n",
       "      <th>8</th>\n",
       "      <th>9</th>\n",
       "      <th>...</th>\n",
       "      <th>90</th>\n",
       "      <th>91</th>\n",
       "      <th>92</th>\n",
       "      <th>93</th>\n",
       "      <th>94</th>\n",
       "      <th>95</th>\n",
       "      <th>96</th>\n",
       "      <th>97</th>\n",
       "      <th>98</th>\n",
       "      <th>99</th>\n",
       "    </tr>\n",
       "  </thead>\n",
       "  <tbody>\n",
       "    <tr>\n",
       "      <td>0</td>\n",
       "      <td>-0.016476</td>\n",
       "      <td>-0.064488</td>\n",
       "      <td>-0.000781</td>\n",
       "      <td>0.109632</td>\n",
       "      <td>-0.320165</td>\n",
       "      <td>-0.301332</td>\n",
       "      <td>0.175650</td>\n",
       "      <td>-0.137943</td>\n",
       "      <td>-0.090444</td>\n",
       "      <td>0.076757</td>\n",
       "      <td>...</td>\n",
       "      <td>0.028423</td>\n",
       "      <td>-0.469037</td>\n",
       "      <td>0.049647</td>\n",
       "      <td>-0.468508</td>\n",
       "      <td>0.187633</td>\n",
       "      <td>-0.054452</td>\n",
       "      <td>-0.200969</td>\n",
       "      <td>-0.412037</td>\n",
       "      <td>0.178575</td>\n",
       "      <td>-0.142883</td>\n",
       "    </tr>\n",
       "    <tr>\n",
       "      <td>1</td>\n",
       "      <td>-0.016000</td>\n",
       "      <td>-0.061311</td>\n",
       "      <td>0.001326</td>\n",
       "      <td>0.109842</td>\n",
       "      <td>-0.313431</td>\n",
       "      <td>-0.296039</td>\n",
       "      <td>0.171637</td>\n",
       "      <td>-0.134884</td>\n",
       "      <td>-0.088350</td>\n",
       "      <td>0.075042</td>\n",
       "      <td>...</td>\n",
       "      <td>0.028455</td>\n",
       "      <td>-0.457482</td>\n",
       "      <td>0.049352</td>\n",
       "      <td>-0.457899</td>\n",
       "      <td>0.181887</td>\n",
       "      <td>-0.053060</td>\n",
       "      <td>-0.194417</td>\n",
       "      <td>-0.400817</td>\n",
       "      <td>0.173800</td>\n",
       "      <td>-0.139335</td>\n",
       "    </tr>\n",
       "    <tr>\n",
       "      <td>2</td>\n",
       "      <td>-0.018345</td>\n",
       "      <td>-0.065598</td>\n",
       "      <td>-0.001842</td>\n",
       "      <td>0.110842</td>\n",
       "      <td>-0.323709</td>\n",
       "      <td>-0.303627</td>\n",
       "      <td>0.176870</td>\n",
       "      <td>-0.138978</td>\n",
       "      <td>-0.090068</td>\n",
       "      <td>0.077863</td>\n",
       "      <td>...</td>\n",
       "      <td>0.027229</td>\n",
       "      <td>-0.471103</td>\n",
       "      <td>0.049106</td>\n",
       "      <td>-0.471349</td>\n",
       "      <td>0.189129</td>\n",
       "      <td>-0.056195</td>\n",
       "      <td>-0.201071</td>\n",
       "      <td>-0.414446</td>\n",
       "      <td>0.178415</td>\n",
       "      <td>-0.143146</td>\n",
       "    </tr>\n",
       "    <tr>\n",
       "      <td>3</td>\n",
       "      <td>-0.016121</td>\n",
       "      <td>-0.063092</td>\n",
       "      <td>-0.002162</td>\n",
       "      <td>0.110475</td>\n",
       "      <td>-0.317014</td>\n",
       "      <td>-0.300502</td>\n",
       "      <td>0.174975</td>\n",
       "      <td>-0.135973</td>\n",
       "      <td>-0.090516</td>\n",
       "      <td>0.076551</td>\n",
       "      <td>...</td>\n",
       "      <td>0.027423</td>\n",
       "      <td>-0.465611</td>\n",
       "      <td>0.050955</td>\n",
       "      <td>-0.462721</td>\n",
       "      <td>0.184811</td>\n",
       "      <td>-0.056351</td>\n",
       "      <td>-0.199614</td>\n",
       "      <td>-0.408511</td>\n",
       "      <td>0.176988</td>\n",
       "      <td>-0.142029</td>\n",
       "    </tr>\n",
       "    <tr>\n",
       "      <td>4</td>\n",
       "      <td>-0.016944</td>\n",
       "      <td>-0.065301</td>\n",
       "      <td>-0.002127</td>\n",
       "      <td>0.109150</td>\n",
       "      <td>-0.319090</td>\n",
       "      <td>-0.299867</td>\n",
       "      <td>0.178237</td>\n",
       "      <td>-0.138782</td>\n",
       "      <td>-0.088450</td>\n",
       "      <td>0.076824</td>\n",
       "      <td>...</td>\n",
       "      <td>0.024235</td>\n",
       "      <td>-0.464762</td>\n",
       "      <td>0.045925</td>\n",
       "      <td>-0.466905</td>\n",
       "      <td>0.182849</td>\n",
       "      <td>-0.055194</td>\n",
       "      <td>-0.199242</td>\n",
       "      <td>-0.411663</td>\n",
       "      <td>0.172710</td>\n",
       "      <td>-0.143179</td>\n",
       "    </tr>\n",
       "  </tbody>\n",
       "</table>\n",
       "<p>5 rows × 100 columns</p>\n",
       "</div>"
      ],
      "text/plain": [
       "         0         1         2         3         4         5         6   \\\n",
       "0 -0.016476 -0.064488 -0.000781  0.109632 -0.320165 -0.301332  0.175650   \n",
       "1 -0.016000 -0.061311  0.001326  0.109842 -0.313431 -0.296039  0.171637   \n",
       "2 -0.018345 -0.065598 -0.001842  0.110842 -0.323709 -0.303627  0.176870   \n",
       "3 -0.016121 -0.063092 -0.002162  0.110475 -0.317014 -0.300502  0.174975   \n",
       "4 -0.016944 -0.065301 -0.002127  0.109150 -0.319090 -0.299867  0.178237   \n",
       "\n",
       "         7         8         9   ...        90        91        92        93  \\\n",
       "0 -0.137943 -0.090444  0.076757  ...  0.028423 -0.469037  0.049647 -0.468508   \n",
       "1 -0.134884 -0.088350  0.075042  ...  0.028455 -0.457482  0.049352 -0.457899   \n",
       "2 -0.138978 -0.090068  0.077863  ...  0.027229 -0.471103  0.049106 -0.471349   \n",
       "3 -0.135973 -0.090516  0.076551  ...  0.027423 -0.465611  0.050955 -0.462721   \n",
       "4 -0.138782 -0.088450  0.076824  ...  0.024235 -0.464762  0.045925 -0.466905   \n",
       "\n",
       "         94        95        96        97        98        99  \n",
       "0  0.187633 -0.054452 -0.200969 -0.412037  0.178575 -0.142883  \n",
       "1  0.181887 -0.053060 -0.194417 -0.400817  0.173800 -0.139335  \n",
       "2  0.189129 -0.056195 -0.201071 -0.414446  0.178415 -0.143146  \n",
       "3  0.184811 -0.056351 -0.199614 -0.408511  0.176988 -0.142029  \n",
       "4  0.182849 -0.055194 -0.199242 -0.411663  0.172710 -0.143179  \n",
       "\n",
       "[5 rows x 100 columns]"
      ]
     },
     "execution_count": 89,
     "metadata": {},
     "output_type": "execute_result"
    }
   ],
   "source": [
    "x_train_df.head()"
   ]
  },
  {
   "cell_type": "code",
   "execution_count": 90,
   "metadata": {},
   "outputs": [],
   "source": [
    "# initial grid\n",
    "#grid = {\"gamma\": [0.001, 0.01, 0.1,1,10, 100], \"C\":[0.001, 0.01, 0.1,1,10,100]}\n",
    "# to accelerate calculation\n",
    "grid = {\"gamma\": [ 100, 1000], \"C\":[1000,100]}"
   ]
  },
  {
   "cell_type": "code",
   "execution_count": 91,
   "metadata": {},
   "outputs": [],
   "source": [
    "gs_wv = GridSearchCV(SVC(probability=True),grid, cv=3)"
   ]
  },
  {
   "cell_type": "code",
   "execution_count": 92,
   "metadata": {},
   "outputs": [
    {
     "data": {
      "text/plain": [
       "GridSearchCV(cv=3, error_score='raise-deprecating',\n",
       "             estimator=SVC(C=1.0, cache_size=200, class_weight=None, coef0=0.0,\n",
       "                           decision_function_shape='ovr', degree=3,\n",
       "                           gamma='auto_deprecated', kernel='rbf', max_iter=-1,\n",
       "                           probability=True, random_state=None, shrinking=True,\n",
       "                           tol=0.001, verbose=False),\n",
       "             iid='warn', n_jobs=None,\n",
       "             param_grid={'C': [1000, 100], 'gamma': [100, 1000]},\n",
       "             pre_dispatch='2*n_jobs', refit=True, return_train_score=False,\n",
       "             scoring=None, verbose=0)"
      ]
     },
     "execution_count": 92,
     "metadata": {},
     "output_type": "execute_result"
    }
   ],
   "source": [
    "gs_wv.fit(x_train_df, y_train)"
   ]
  },
  {
   "cell_type": "code",
   "execution_count": 93,
   "metadata": {},
   "outputs": [
    {
     "data": {
      "text/plain": [
       "SVC(C=100, cache_size=200, class_weight=None, coef0=0.0,\n",
       "    decision_function_shape='ovr', degree=3, gamma=100, kernel='rbf',\n",
       "    max_iter=-1, probability=True, random_state=None, shrinking=True, tol=0.001,\n",
       "    verbose=False)"
      ]
     },
     "execution_count": 93,
     "metadata": {},
     "output_type": "execute_result"
    }
   ],
   "source": [
    "gs_wv.best_estimator_"
   ]
  },
  {
   "cell_type": "code",
   "execution_count": 94,
   "metadata": {},
   "outputs": [
    {
     "data": {
      "text/plain": [
       "0.46052855924978686"
      ]
     },
     "execution_count": 94,
     "metadata": {},
     "output_type": "execute_result"
    }
   ],
   "source": [
    "gs_wv.best_score_"
   ]
  },
  {
   "cell_type": "code",
   "execution_count": 95,
   "metadata": {},
   "outputs": [
    {
     "data": {
      "text/plain": [
       "(0.718158567774936, 0.49514066496163683)"
      ]
     },
     "execution_count": 95,
     "metadata": {},
     "output_type": "execute_result"
    }
   ],
   "source": [
    "gs_wv.score(x_train_df, y_train), gs_wv.score(x_test_df, y_test)"
   ]
  },
  {
   "cell_type": "code",
   "execution_count": 96,
   "metadata": {},
   "outputs": [],
   "source": [
    "# We now save our svm model\n",
    "filename_svm = 'models/svm_wv_model.sav'\n",
    "pickle.dump(gs_wv.best_estimator_, open(filename_svm, 'wb'))"
   ]
  },
  {
   "cell_type": "code",
   "execution_count": 97,
   "metadata": {},
   "outputs": [],
   "source": [
    "pred = gs_wv.predict(x_test_df)\n",
    "confusion = confusion_matrix(y_test, pred)"
   ]
  },
  {
   "cell_type": "code",
   "execution_count": 98,
   "metadata": {},
   "outputs": [
    {
     "data": {
      "image/png": "[encoded data removed]",
      "text/plain": [
       "<Figure size 1296x1296 with 1 Axes>"
      ]
     },
     "metadata": {
      "needs_background": "light"
     },
     "output_type": "display_data"
    }
   ],
   "source": [
    "fig, ax = plot_confusion_matrix(conf_mat=confusion, figsize=(18,18))\n",
    "plt.show()"
   ]
  },
  {
   "cell_type": "code",
   "execution_count": 99,
   "metadata": {},
   "outputs": [
    {
     "name": "stderr",
     "output_type": "stream",
     "text": [
      "/Users/antoine/Documents/Tests/interview/Posos/posos_interview/venvPosos/lib/python3.7/site-packages/sklearn/metrics/classification.py:1437: UndefinedMetricWarning: F-score is ill-defined and being set to 0.0 in labels with no predicted samples.\n",
      "  'precision', 'predicted', average, warn_for)\n"
     ]
    },
    {
     "data": {
      "text/plain": [
       "(0.49514066496163683, 0.34710858257587013)"
      ]
     },
     "execution_count": 99,
     "metadata": {},
     "output_type": "execute_result"
    }
   ],
   "source": [
    "f1_score(y_test, pred, average=\"micro\") ,f1_score(y_test, pred, average=\"macro\") "
   ]
  },
  {
   "cell_type": "code",
   "execution_count": 101,
   "metadata": {},
   "outputs": [
    {
     "data": {
      "text/plain": [
       "SVC(C=100, cache_size=200, class_weight=None, coef0=0.0,\n",
       "    decision_function_shape='ovr', degree=3, gamma=100, kernel='rbf',\n",
       "    max_iter=-1, probability=True, random_state=None, shrinking=True, tol=0.001,\n",
       "    verbose=False)"
      ]
     },
     "execution_count": 101,
     "metadata": {},
     "output_type": "execute_result"
    }
   ],
   "source": [
    "loaded_model = pickle.load(open(filename_svm, 'rb'))\n",
    "loaded_model"
   ]
  },
  {
   "cell_type": "code",
   "execution_count": 102,
   "metadata": {},
   "outputs": [
    {
     "data": {
      "text/plain": [
       "0.49514066496163683"
      ]
     },
     "execution_count": 102,
     "metadata": {},
     "output_type": "execute_result"
    }
   ],
   "source": [
    "loaded_model.score(x_test_df, y_test)"
   ]
  },
  {
   "cell_type": "code",
   "execution_count": 103,
   "metadata": {},
   "outputs": [],
   "source": [
    "# TEST on query"
   ]
  },
  {
   "cell_type": "code",
   "execution_count": 104,
   "metadata": {},
   "outputs": [],
   "source": [
    "query_to_test = \"risques poisson cru pendant la grossesse ?\""
   ]
  },
  {
   "cell_type": "code",
   "execution_count": 105,
   "metadata": {},
   "outputs": [],
   "source": [
    "cleaned_query_to_test = [re.sub(\",|-|'|\\.|\\?\" ,\" \", str(query_to_test)).split(\" \") ]"
   ]
  },
  {
   "cell_type": "code",
   "execution_count": 106,
   "metadata": {},
   "outputs": [
    {
     "data": {
      "text/plain": [
       "[['risques', 'poisson', 'cru', 'pendant', 'la', 'grossesse', '', '']]"
      ]
     },
     "execution_count": 106,
     "metadata": {},
     "output_type": "execute_result"
    }
   ],
   "source": [
    "cleaned_query_to_test"
   ]
  },
  {
   "cell_type": "code",
   "execution_count": 107,
   "metadata": {},
   "outputs": [],
   "source": [
    "cleaned_query_vectorized = get_vector_list(cleaned_query_to_test, w2v_model) "
   ]
  },
  {
   "cell_type": "code",
   "execution_count": 108,
   "metadata": {},
   "outputs": [
    {
     "data": {
      "text/plain": [
       "array([44])"
      ]
     },
     "execution_count": 108,
     "metadata": {},
     "output_type": "execute_result"
    }
   ],
   "source": [
    "loaded_model.predict(cleaned_query_vectorized[0])"
   ]
  },
  {
   "cell_type": "code",
   "execution_count": 111,
   "metadata": {},
   "outputs": [
    {
     "data": {
      "text/plain": [
       "array([[3.45324894e-03, 5.87622092e-04, 2.61138830e-04, 3.59013280e-04,\n",
       "        1.46096382e-03, 9.99134005e-04, 2.54092566e-04, 1.13979767e-03,\n",
       "        1.16462319e-03, 5.54801006e-04, 6.00386855e-04, 1.41794997e-03,\n",
       "        2.36175480e-03, 1.11565547e-03, 5.63288925e-03, 1.91328804e-04,\n",
       "        5.89337125e-04, 7.86990991e-04, 5.39898996e-04, 5.91222728e-04,\n",
       "        3.68534396e-04, 1.61078266e-03, 4.22929160e-03, 1.32896196e-03,\n",
       "        6.64150336e-04, 1.41822001e-03, 1.80642188e-03, 8.89254332e-04,\n",
       "        3.12620513e-03, 8.30461215e-04, 1.31435482e-03, 1.13195038e-02,\n",
       "        1.29553223e-02, 3.29174476e-03, 2.29214703e-03, 1.49301278e-03,\n",
       "        6.78085162e-04, 4.26236177e-03, 8.40627959e-04, 1.31548749e-03,\n",
       "        3.41049689e-04, 6.23822491e-04, 2.65053229e-03, 7.69990816e-03,\n",
       "        8.67944207e-01, 4.43983455e-04, 2.59873719e-04, 5.37287146e-03,\n",
       "        3.37263097e-02, 5.18033009e-04, 3.22627366e-04]])"
      ]
     },
     "execution_count": 111,
     "metadata": {},
     "output_type": "execute_result"
    }
   ],
   "source": [
    "loaded_model.predict_proba(cleaned_query_vectorized[0])"
   ]
  },
  {
   "cell_type": "code",
   "execution_count": 112,
   "metadata": {},
   "outputs": [
    {
     "data": {
      "text/plain": [
       "44"
      ]
     },
     "execution_count": 112,
     "metadata": {},
     "output_type": "execute_result"
    }
   ],
   "source": [
    "np.argmax(loaded_model.predict_proba(cleaned_query_vectorized[0]))"
   ]
  },
  {
   "cell_type": "code",
   "execution_count": 113,
   "metadata": {},
   "outputs": [
    {
     "data": {
      "text/plain": [
       "0.8679442068206417"
      ]
     },
     "execution_count": 113,
     "metadata": {},
     "output_type": "execute_result"
    }
   ],
   "source": [
    "loaded_model.predict_proba(cleaned_query_vectorized[0])[0][44]"
   ]
  },
  {
   "cell_type": "code",
   "execution_count": null,
   "metadata": {},
   "outputs": [],
   "source": []
  },
  {
   "cell_type": "code",
   "execution_count": null,
   "metadata": {},
   "outputs": [],
   "source": []
  }
 ],
 "metadata": {
  "kernelspec": {
   "display_name": "Python 3",
   "language": "python",
   "name": "python3"
  },
  "language_info": {
   "codemirror_mode": {
    "name": "ipython",
    "version": 3
   },
   "file_extension": ".py",
   "mimetype": "text/x-python",
   "name": "python",
   "nbconvert_exporter": "python",
   "pygments_lexer": "ipython3",
   "version": "3.7.3"
  }
 },
 "nbformat": 4,
 "nbformat_minor": 2
}
