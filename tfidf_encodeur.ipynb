{
 "cells": [
  {
   "cell_type": "code",
   "execution_count": 10,
   "metadata": {},
   "outputs": [],
   "source": [
    "import sklearn\n",
    "import mglearn\n",
    "import numpy as np\n",
    "import pandas as pd\n",
    "import re\n",
    "import matplotlib.pyplot as plt"
   ]
  },
  {
   "cell_type": "code",
   "execution_count": 11,
   "metadata": {},
   "outputs": [
    {
     "name": "stdout",
     "output_type": "stream",
     "text": [
      "input_test_b1Yip6O.csv input_train.csv        output_train.csv\r\n"
     ]
    }
   ],
   "source": [
    "!ls data"
   ]
  },
  {
   "cell_type": "code",
   "execution_count": 12,
   "metadata": {},
   "outputs": [],
   "source": [
    "input_train = pd.read_csv(\"data/input_train.csv\")\n",
    "output_train = pd.read_csv(\"data/output_train.csv\")"
   ]
  },
  {
   "cell_type": "code",
   "execution_count": 13,
   "metadata": {
    "scrolled": true
   },
   "outputs": [
    {
     "data": {
      "text/html": [
       "<div>\n",
       "<style scoped>\n",
       "    .dataframe tbody tr th:only-of-type {\n",
       "        vertical-align: middle;\n",
       "    }\n",
       "\n",
       "    .dataframe tbody tr th {\n",
       "        vertical-align: top;\n",
       "    }\n",
       "\n",
       "    .dataframe thead th {\n",
       "        text-align: right;\n",
       "    }\n",
       "</style>\n",
       "<table border=\"1\" class=\"dataframe\">\n",
       "  <thead>\n",
       "    <tr style=\"text-align: right;\">\n",
       "      <th></th>\n",
       "      <th>index</th>\n",
       "      <th>intention</th>\n",
       "    </tr>\n",
       "  </thead>\n",
       "  <tbody>\n",
       "    <tr>\n",
       "      <td>0</td>\n",
       "      <td>28</td>\n",
       "      <td>1796</td>\n",
       "    </tr>\n",
       "    <tr>\n",
       "      <td>1</td>\n",
       "      <td>31</td>\n",
       "      <td>565</td>\n",
       "    </tr>\n",
       "    <tr>\n",
       "      <td>2</td>\n",
       "      <td>44</td>\n",
       "      <td>560</td>\n",
       "    </tr>\n",
       "    <tr>\n",
       "      <td>3</td>\n",
       "      <td>22</td>\n",
       "      <td>461</td>\n",
       "    </tr>\n",
       "    <tr>\n",
       "      <td>4</td>\n",
       "      <td>48</td>\n",
       "      <td>387</td>\n",
       "    </tr>\n",
       "  </tbody>\n",
       "</table>\n",
       "</div>"
      ],
      "text/plain": [
       "   index  intention\n",
       "0     28       1796\n",
       "1     31        565\n",
       "2     44        560\n",
       "3     22        461\n",
       "4     48        387"
      ]
     },
     "execution_count": 13,
     "metadata": {},
     "output_type": "execute_result"
    }
   ],
   "source": [
    "intention_count_df = output_train[\"intention\"].value_counts().reset_index()\n",
    "intention_count_df.head()"
   ]
  },
  {
   "cell_type": "code",
   "execution_count": 14,
   "metadata": {},
   "outputs": [
    {
     "data": {
      "image/png": "[encoded data removed]",
      "text/plain": [
       "<Figure size 864x864 with 1 Axes>"
      ]
     },
     "metadata": {
      "needs_background": "light"
     },
     "output_type": "display_data"
    }
   ],
   "source": [
    "ind = np.arange(intention_count_df.shape[0])\n",
    "fig, ax = plt.subplots(figsize=(12,12))\n",
    "rects = ax.barh(ind, intention_count_df[\"intention\"].values)\n",
    "ax.set_yticks(ind)\n",
    "ax.set_yticklabels(intention_count_df[\"index\"].values ,rotation='horizontal')\n",
    "plt.show()"
   ]
  },
  {
   "cell_type": "code",
   "execution_count": 15,
   "metadata": {},
   "outputs": [
    {
     "data": {
      "text/plain": [
       "((8028, 2), (8028, 2))"
      ]
     },
     "execution_count": 15,
     "metadata": {},
     "output_type": "execute_result"
    }
   ],
   "source": [
    "input_train.shape, output_train.shape"
   ]
  },
  {
   "cell_type": "code",
   "execution_count": 16,
   "metadata": {},
   "outputs": [
    {
     "data": {
      "text/html": [
       "<div>\n",
       "<style scoped>\n",
       "    .dataframe tbody tr th:only-of-type {\n",
       "        vertical-align: middle;\n",
       "    }\n",
       "\n",
       "    .dataframe tbody tr th {\n",
       "        vertical-align: top;\n",
       "    }\n",
       "\n",
       "    .dataframe thead th {\n",
       "        text-align: right;\n",
       "    }\n",
       "</style>\n",
       "<table border=\"1\" class=\"dataframe\">\n",
       "  <thead>\n",
       "    <tr style=\"text-align: right;\">\n",
       "      <th></th>\n",
       "      <th>ID</th>\n",
       "      <th>question</th>\n",
       "    </tr>\n",
       "  </thead>\n",
       "  <tbody>\n",
       "    <tr>\n",
       "      <td>0</td>\n",
       "      <td>0</td>\n",
       "      <td>bonjour,  je m suis trompé de forum pour ma qu...</td>\n",
       "    </tr>\n",
       "    <tr>\n",
       "      <td>1</td>\n",
       "      <td>1</td>\n",
       "      <td>est ce que le motilium me soulagera contre les...</td>\n",
       "    </tr>\n",
       "    <tr>\n",
       "      <td>2</td>\n",
       "      <td>2</td>\n",
       "      <td>mon médecin m'a prescrit adenyl. au 2ème cache...</td>\n",
       "    </tr>\n",
       "    <tr>\n",
       "      <td>3</td>\n",
       "      <td>3</td>\n",
       "      <td>Est-ce qu'il existe une forme adaptée aux enfa...</td>\n",
       "    </tr>\n",
       "    <tr>\n",
       "      <td>4</td>\n",
       "      <td>4</td>\n",
       "      <td>mon  medecin  me soigne  pour  une  rhino  pha...</td>\n",
       "    </tr>\n",
       "  </tbody>\n",
       "</table>\n",
       "</div>"
      ],
      "text/plain": [
       "   ID                                           question\n",
       "0   0  bonjour,  je m suis trompé de forum pour ma qu...\n",
       "1   1  est ce que le motilium me soulagera contre les...\n",
       "2   2  mon médecin m'a prescrit adenyl. au 2ème cache...\n",
       "3   3  Est-ce qu'il existe une forme adaptée aux enfa...\n",
       "4   4  mon  medecin  me soigne  pour  une  rhino  pha..."
      ]
     },
     "execution_count": 16,
     "metadata": {},
     "output_type": "execute_result"
    }
   ],
   "source": [
    "input_train.head()"
   ]
  },
  {
   "cell_type": "code",
   "execution_count": 17,
   "metadata": {},
   "outputs": [
    {
     "data": {
      "text/html": [
       "<div>\n",
       "<style scoped>\n",
       "    .dataframe tbody tr th:only-of-type {\n",
       "        vertical-align: middle;\n",
       "    }\n",
       "\n",
       "    .dataframe tbody tr th {\n",
       "        vertical-align: top;\n",
       "    }\n",
       "\n",
       "    .dataframe thead th {\n",
       "        text-align: right;\n",
       "    }\n",
       "</style>\n",
       "<table border=\"1\" class=\"dataframe\">\n",
       "  <thead>\n",
       "    <tr style=\"text-align: right;\">\n",
       "      <th></th>\n",
       "      <th>ID</th>\n",
       "      <th>intention</th>\n",
       "    </tr>\n",
       "  </thead>\n",
       "  <tbody>\n",
       "    <tr>\n",
       "      <td>0</td>\n",
       "      <td>0</td>\n",
       "      <td>28</td>\n",
       "    </tr>\n",
       "    <tr>\n",
       "      <td>1</td>\n",
       "      <td>1</td>\n",
       "      <td>31</td>\n",
       "    </tr>\n",
       "    <tr>\n",
       "      <td>2</td>\n",
       "      <td>2</td>\n",
       "      <td>28</td>\n",
       "    </tr>\n",
       "    <tr>\n",
       "      <td>3</td>\n",
       "      <td>3</td>\n",
       "      <td>44</td>\n",
       "    </tr>\n",
       "    <tr>\n",
       "      <td>4</td>\n",
       "      <td>4</td>\n",
       "      <td>31</td>\n",
       "    </tr>\n",
       "  </tbody>\n",
       "</table>\n",
       "</div>"
      ],
      "text/plain": [
       "   ID  intention\n",
       "0   0         28\n",
       "1   1         31\n",
       "2   2         28\n",
       "3   3         44\n",
       "4   4         31"
      ]
     },
     "execution_count": 17,
     "metadata": {},
     "output_type": "execute_result"
    }
   ],
   "source": [
    "output_train.head()"
   ]
  },
  {
   "cell_type": "markdown",
   "metadata": {},
   "source": [
    "# CountVectorizer with SVC model"
   ]
  },
  {
   "cell_type": "code",
   "execution_count": 19,
   "metadata": {},
   "outputs": [],
   "source": [
    "from sklearn.feature_extraction.text import TfidfVectorizer, CountVectorizer\n",
    "from sklearn.model_selection import train_test_split\n",
    "from sklearn.svm import SVC\n",
    "from nltk.corpus import stopwords\n",
    "import nltk"
   ]
  },
  {
   "cell_type": "code",
   "execution_count": 20,
   "metadata": {},
   "outputs": [
    {
     "name": "stderr",
     "output_type": "stream",
     "text": [
      "[nltk_data] Downloading package stopwords to\n",
      "[nltk_data]     /Users/antoine/nltk_data...\n",
      "[nltk_data]   Package stopwords is already up-to-date!\n"
     ]
    }
   ],
   "source": [
    "nltk.download('stopwords')\n",
    "stop_words_fr = stopwords.words(\"french\")\n",
    "x_vect_count = CountVectorizer(min_df=5, stop_words=stop_words_fr).fit(input_train[\"question\"])\n",
    "x_train_count = x_vect_count.transform(input_train[\"question\"])\n",
    "y = output_train[\"intention\"]"
   ]
  },
  {
   "cell_type": "code",
   "execution_count": 21,
   "metadata": {},
   "outputs": [
    {
     "name": "stdout",
     "output_type": "stream",
     "text": [
      " feature len 2046\n",
      "\n",
      "feature begining ['00', '10', '100', '100mg', '10h', '10mg', '11', '11h', '12', '12h', '13', '14', '15', '150', '150mg', '15ch', '16', '17', '18', '19'] \n",
      "\n",
      "feature midlr ['arnica', 'arret', 'arrete', 'arreter', 'arreté', 'arrive', 'arrivent', 'arriver', 'arrivé', 'arrivée', 'arrivées', 'arréter', 'arrété', 'arrêt', 'arrête', 'arrêter', 'arrêté', 'arrêtée', 'arsenicum', 'aspegic'] \n"
     ]
    }
   ],
   "source": [
    "feature_names = x_vect_count.get_feature_names()\n",
    "print(\" feature len {}\\n\".format(len(feature_names)))\n",
    "print(\"feature begining {} \\n\".format(feature_names[:20]))\n",
    "print(\"feature midlr {} \".format(feature_names[200:220]))"
   ]
  },
  {
   "cell_type": "code",
   "execution_count": 22,
   "metadata": {},
   "outputs": [
    {
     "data": {
      "text/plain": [
       "(8028, 2046)"
      ]
     },
     "execution_count": 22,
     "metadata": {},
     "output_type": "execute_result"
    }
   ],
   "source": [
    "x_train_count.shape"
   ]
  },
  {
   "cell_type": "code",
   "execution_count": 23,
   "metadata": {},
   "outputs": [
    {
     "data": {
      "text/plain": [
       "(array([0, 0, 0, 0, 0, 0, 0, 0, 0, 0, 0, 0, 0, 0, 0, 0, 0, 0, 0, 0, 0, 0,\n",
       "        0, 0, 0, 0]),\n",
       " array([ 145,  300,  348,  467,  490,  541,  550,  794,  805,  885,  887,\n",
       "         922, 1081, 1105, 1121, 1223, 1302, 1310, 1428, 1453, 1537, 1601,\n",
       "        1685, 1869, 1905, 1991]))"
      ]
     },
     "execution_count": 23,
     "metadata": {},
     "output_type": "execute_result"
    }
   ],
   "source": [
    "np.nonzero(x_train_count[:1,:].toarray())"
   ]
  },
  {
   "cell_type": "code",
   "execution_count": 24,
   "metadata": {},
   "outputs": [],
   "source": [
    "x_train, x_test, y_train, y_test = train_test_split(x_train_count, y)"
   ]
  },
  {
   "cell_type": "code",
   "execution_count": 25,
   "metadata": {},
   "outputs": [
    {
     "data": {
      "text/plain": [
       "((6021, 2046), (6021,))"
      ]
     },
     "execution_count": 25,
     "metadata": {},
     "output_type": "execute_result"
    }
   ],
   "source": [
    "x_train.shape, y_train.shape"
   ]
  },
  {
   "cell_type": "code",
   "execution_count": 26,
   "metadata": {},
   "outputs": [
    {
     "name": "stderr",
     "output_type": "stream",
     "text": [
      "/Users/antoine/Documents/Tests/interview/Posos/posos_interview/venvPosos/lib/python3.7/site-packages/sklearn/svm/base.py:193: FutureWarning: The default value of gamma will change from 'auto' to 'scale' in version 0.22 to account better for unscaled features. Set gamma explicitly to 'auto' or 'scale' to avoid this warning.\n",
      "  \"avoid this warning.\", FutureWarning)\n"
     ]
    }
   ],
   "source": [
    "svc = SVC().fit(x_train, y_train)"
   ]
  },
  {
   "cell_type": "code",
   "execution_count": 27,
   "metadata": {},
   "outputs": [
    {
     "data": {
      "text/plain": [
       "(0.22122571001494767, 0.2311908320876931)"
      ]
     },
     "execution_count": 27,
     "metadata": {},
     "output_type": "execute_result"
    }
   ],
   "source": [
    "svc.score(x_train, y_train), svc.score(x_test, y_test)"
   ]
  },
  {
   "cell_type": "markdown",
   "metadata": {},
   "source": [
    "# TFIDF vectorizer and gridSearch on SVM param"
   ]
  },
  {
   "cell_type": "code",
   "execution_count": 28,
   "metadata": {},
   "outputs": [],
   "source": [
    "# need to clean a bit my sentences remove - , : ...\n",
    "from sklearn.model_selection import GridSearchCV\n",
    "import matplotlib.pyplot as plt\n",
    "from mlxtend.evaluate import confusion_matrix\n",
    "from mlxtend.plotting import plot_confusion_matrix\n",
    "import nltk\n",
    "from sklearn.metrics import f1_score"
   ]
  },
  {
   "cell_type": "code",
   "execution_count": 29,
   "metadata": {},
   "outputs": [
    {
     "data": {
      "text/plain": [
       "'bonjour   je m suis trompé de forum pour ma question alors je la repose ici  je pris pour la première fois hier du paroxétine et ce matin c est une catastrophe  picotement dasn tous le corps annonciateur de sueur froide très très massive et de vomissement  j en suis à deux crises depuis 5 heure du mat  la cela semble passer mes mes mains reste moites et chaude estce normal pour la première fois merci a tous'"
      ]
     },
     "execution_count": 29,
     "metadata": {},
     "output_type": "execute_result"
    }
   ],
   "source": [
    "stop_words_fr = stopwords.words(\"french\")\n",
    "cleaned_sentence_array = [re.sub(\",|-|'|\\.|\\?\" ,\" \", str(row)).lower() for row  in input_train[\"question\"]   ]\n",
    "cleaned_sentence_array[0]             "
   ]
  },
  {
   "cell_type": "code",
   "execution_count": 30,
   "metadata": {},
   "outputs": [
    {
     "data": {
      "text/plain": [
       "0       bonjour,  je m suis trompé de forum pour ma qu...\n",
       "1       est ce que le motilium me soulagera contre les...\n",
       "2       mon médecin m'a prescrit adenyl. au 2ème cache...\n",
       "3       Est-ce qu'il existe une forme adaptée aux enfa...\n",
       "4       mon  medecin  me soigne  pour  une  rhino  pha...\n",
       "                              ...                        \n",
       "8023    en combien de temps un antibio n'est plus prés...\n",
       "8024    j'ai fait vacciner de revaxis mon fils 'année ...\n",
       "8025    Un patient m’a ramené une ordonnance de 3x1g d...\n",
       "8026    prise pillule du lendemain, faire une pause en...\n",
       "8027                                    advil médicament?\n",
       "Name: question, Length: 8028, dtype: object"
      ]
     },
     "execution_count": 30,
     "metadata": {},
     "output_type": "execute_result"
    }
   ],
   "source": [
    "input_train[\"question\"]"
   ]
  },
  {
   "cell_type": "code",
   "execution_count": 31,
   "metadata": {},
   "outputs": [],
   "source": [
    "y = output_train[\"intention\"]"
   ]
  },
  {
   "cell_type": "code",
   "execution_count": 32,
   "metadata": {},
   "outputs": [],
   "source": [
    "text_train = TfidfVectorizer(min_df=5, stop_words=stop_words_fr).fit_transform(cleaned_sentence_array)"
   ]
  },
  {
   "cell_type": "code",
   "execution_count": 33,
   "metadata": {},
   "outputs": [
    {
     "data": {
      "text/plain": [
       "<8028x2046 sparse matrix of type '<class 'numpy.float64'>'\n",
       "\twith 59954 stored elements in Compressed Sparse Row format>"
      ]
     },
     "execution_count": 33,
     "metadata": {},
     "output_type": "execute_result"
    }
   ],
   "source": [
    "text_train"
   ]
  },
  {
   "cell_type": "code",
   "execution_count": 34,
   "metadata": {},
   "outputs": [],
   "source": [
    "x_train_idf, x_test_idf, y_train_idf, y_test_idf = train_test_split(text_train,y)"
   ]
  },
  {
   "cell_type": "code",
   "execution_count": 35,
   "metadata": {},
   "outputs": [
    {
     "data": {
      "text/plain": [
       "((6021, 2046), (2007, 2046))"
      ]
     },
     "execution_count": 35,
     "metadata": {},
     "output_type": "execute_result"
    }
   ],
   "source": [
    "x_train_idf.shape ,x_test_idf.shape"
   ]
  },
  {
   "cell_type": "code",
   "execution_count": 36,
   "metadata": {},
   "outputs": [],
   "source": [
    "grid = {\"C\":[0.001,0.01,1,10,100], \"gamma\":[0.001,0.01,1,10,100]}"
   ]
  },
  {
   "cell_type": "code",
   "execution_count": 37,
   "metadata": {},
   "outputs": [],
   "source": [
    "gs_idf = GridSearchCV(SVC(), grid, cv=3)"
   ]
  },
  {
   "cell_type": "code",
   "execution_count": 38,
   "metadata": {},
   "outputs": [
    {
     "data": {
      "text/plain": [
       "GridSearchCV(cv=3, error_score='raise-deprecating',\n",
       "             estimator=SVC(C=1.0, cache_size=200, class_weight=None, coef0=0.0,\n",
       "                           decision_function_shape='ovr', degree=3,\n",
       "                           gamma='auto_deprecated', kernel='rbf', max_iter=-1,\n",
       "                           probability=False, random_state=None, shrinking=True,\n",
       "                           tol=0.001, verbose=False),\n",
       "             iid='warn', n_jobs=None,\n",
       "             param_grid={'C': [0.001, 0.01, 1, 10, 100],\n",
       "                         'gamma': [0.001, 0.01, 1, 10, 100]},\n",
       "             pre_dispatch='2*n_jobs', refit=True, return_train_score=False,\n",
       "             scoring=None, verbose=0)"
      ]
     },
     "execution_count": 38,
     "metadata": {},
     "output_type": "execute_result"
    }
   ],
   "source": [
    "gs_idf.fit(x_train_idf, y_train_idf)"
   ]
  },
  {
   "cell_type": "code",
   "execution_count": 40,
   "metadata": {},
   "outputs": [
    {
     "data": {
      "text/plain": [
       "SVC(C=100, cache_size=200, class_weight=None, coef0=0.0,\n",
       "    decision_function_shape='ovr', degree=3, gamma=0.01, kernel='rbf',\n",
       "    max_iter=-1, probability=False, random_state=None, shrinking=True,\n",
       "    tol=0.001, verbose=False)"
      ]
     },
     "execution_count": 40,
     "metadata": {},
     "output_type": "execute_result"
    }
   ],
   "source": [
    "gs_idf.best_estimator_"
   ]
  },
  {
   "cell_type": "code",
   "execution_count": 41,
   "metadata": {},
   "outputs": [
    {
     "data": {
      "text/plain": [
       "0.5975751536289653"
      ]
     },
     "execution_count": 41,
     "metadata": {},
     "output_type": "execute_result"
    }
   ],
   "source": [
    "gs_idf.best_score_"
   ]
  },
  {
   "cell_type": "code",
   "execution_count": 42,
   "metadata": {},
   "outputs": [
    {
     "data": {
      "text/plain": [
       "(0.9302441454907823, 0.6347782760338814)"
      ]
     },
     "execution_count": 42,
     "metadata": {},
     "output_type": "execute_result"
    }
   ],
   "source": [
    "gs_idf.score(x_train_idf, y_train_idf), gs_idf.score(x_test_idf, y_test_idf)"
   ]
  },
  {
   "cell_type": "code",
   "execution_count": 43,
   "metadata": {
    "collapsed": true
   },
   "outputs": [
    {
     "data": {
      "text/html": [
       "<div>\n",
       "<style scoped>\n",
       "    .dataframe tbody tr th:only-of-type {\n",
       "        vertical-align: middle;\n",
       "    }\n",
       "\n",
       "    .dataframe tbody tr th {\n",
       "        vertical-align: top;\n",
       "    }\n",
       "\n",
       "    .dataframe thead th {\n",
       "        text-align: right;\n",
       "    }\n",
       "</style>\n",
       "<table border=\"1\" class=\"dataframe\">\n",
       "  <thead>\n",
       "    <tr style=\"text-align: right;\">\n",
       "      <th></th>\n",
       "      <th>mean_fit_time</th>\n",
       "      <th>std_fit_time</th>\n",
       "      <th>mean_score_time</th>\n",
       "      <th>std_score_time</th>\n",
       "      <th>param_C</th>\n",
       "      <th>param_gamma</th>\n",
       "      <th>params</th>\n",
       "      <th>split0_test_score</th>\n",
       "      <th>split1_test_score</th>\n",
       "      <th>split2_test_score</th>\n",
       "      <th>mean_test_score</th>\n",
       "      <th>std_test_score</th>\n",
       "      <th>rank_test_score</th>\n",
       "    </tr>\n",
       "  </thead>\n",
       "  <tbody>\n",
       "    <tr>\n",
       "      <td>0</td>\n",
       "      <td>1.162352</td>\n",
       "      <td>0.025397</td>\n",
       "      <td>0.769652</td>\n",
       "      <td>0.024800</td>\n",
       "      <td>0.001</td>\n",
       "      <td>0.001</td>\n",
       "      <td>{'C': 0.001, 'gamma': 0.001}</td>\n",
       "      <td>0.222332</td>\n",
       "      <td>0.224327</td>\n",
       "      <td>0.226017</td>\n",
       "      <td>0.224215</td>\n",
       "      <td>0.001507</td>\n",
       "      <td>13</td>\n",
       "    </tr>\n",
       "    <tr>\n",
       "      <td>1</td>\n",
       "      <td>1.194869</td>\n",
       "      <td>0.035580</td>\n",
       "      <td>0.783181</td>\n",
       "      <td>0.008217</td>\n",
       "      <td>0.001</td>\n",
       "      <td>0.01</td>\n",
       "      <td>{'C': 0.001, 'gamma': 0.01}</td>\n",
       "      <td>0.222332</td>\n",
       "      <td>0.224327</td>\n",
       "      <td>0.226017</td>\n",
       "      <td>0.224215</td>\n",
       "      <td>0.001507</td>\n",
       "      <td>13</td>\n",
       "    </tr>\n",
       "    <tr>\n",
       "      <td>2</td>\n",
       "      <td>1.253960</td>\n",
       "      <td>0.024602</td>\n",
       "      <td>0.764962</td>\n",
       "      <td>0.022280</td>\n",
       "      <td>0.001</td>\n",
       "      <td>1</td>\n",
       "      <td>{'C': 0.001, 'gamma': 1}</td>\n",
       "      <td>0.222332</td>\n",
       "      <td>0.224327</td>\n",
       "      <td>0.226017</td>\n",
       "      <td>0.224215</td>\n",
       "      <td>0.001507</td>\n",
       "      <td>13</td>\n",
       "    </tr>\n",
       "    <tr>\n",
       "      <td>3</td>\n",
       "      <td>1.332503</td>\n",
       "      <td>0.009859</td>\n",
       "      <td>0.789356</td>\n",
       "      <td>0.014221</td>\n",
       "      <td>0.001</td>\n",
       "      <td>10</td>\n",
       "      <td>{'C': 0.001, 'gamma': 10}</td>\n",
       "      <td>0.222332</td>\n",
       "      <td>0.224327</td>\n",
       "      <td>0.226017</td>\n",
       "      <td>0.224215</td>\n",
       "      <td>0.001507</td>\n",
       "      <td>13</td>\n",
       "    </tr>\n",
       "    <tr>\n",
       "      <td>4</td>\n",
       "      <td>1.625952</td>\n",
       "      <td>0.050824</td>\n",
       "      <td>0.720015</td>\n",
       "      <td>0.009173</td>\n",
       "      <td>0.001</td>\n",
       "      <td>100</td>\n",
       "      <td>{'C': 0.001, 'gamma': 100}</td>\n",
       "      <td>0.222332</td>\n",
       "      <td>0.224327</td>\n",
       "      <td>0.226017</td>\n",
       "      <td>0.224215</td>\n",
       "      <td>0.001507</td>\n",
       "      <td>13</td>\n",
       "    </tr>\n",
       "    <tr>\n",
       "      <td>5</td>\n",
       "      <td>1.158387</td>\n",
       "      <td>0.045073</td>\n",
       "      <td>0.772382</td>\n",
       "      <td>0.008439</td>\n",
       "      <td>0.01</td>\n",
       "      <td>0.001</td>\n",
       "      <td>{'C': 0.01, 'gamma': 0.001}</td>\n",
       "      <td>0.222332</td>\n",
       "      <td>0.224327</td>\n",
       "      <td>0.226017</td>\n",
       "      <td>0.224215</td>\n",
       "      <td>0.001507</td>\n",
       "      <td>13</td>\n",
       "    </tr>\n",
       "    <tr>\n",
       "      <td>6</td>\n",
       "      <td>1.172730</td>\n",
       "      <td>0.010794</td>\n",
       "      <td>0.760697</td>\n",
       "      <td>0.010527</td>\n",
       "      <td>0.01</td>\n",
       "      <td>0.01</td>\n",
       "      <td>{'C': 0.01, 'gamma': 0.01}</td>\n",
       "      <td>0.222332</td>\n",
       "      <td>0.224327</td>\n",
       "      <td>0.226017</td>\n",
       "      <td>0.224215</td>\n",
       "      <td>0.001507</td>\n",
       "      <td>13</td>\n",
       "    </tr>\n",
       "    <tr>\n",
       "      <td>7</td>\n",
       "      <td>2.344112</td>\n",
       "      <td>0.036115</td>\n",
       "      <td>0.767392</td>\n",
       "      <td>0.007460</td>\n",
       "      <td>0.01</td>\n",
       "      <td>1</td>\n",
       "      <td>{'C': 0.01, 'gamma': 1}</td>\n",
       "      <td>0.222332</td>\n",
       "      <td>0.224327</td>\n",
       "      <td>0.226017</td>\n",
       "      <td>0.224215</td>\n",
       "      <td>0.001507</td>\n",
       "      <td>13</td>\n",
       "    </tr>\n",
       "    <tr>\n",
       "      <td>8</td>\n",
       "      <td>3.559976</td>\n",
       "      <td>0.073908</td>\n",
       "      <td>0.775563</td>\n",
       "      <td>0.006988</td>\n",
       "      <td>0.01</td>\n",
       "      <td>10</td>\n",
       "      <td>{'C': 0.01, 'gamma': 10}</td>\n",
       "      <td>0.222332</td>\n",
       "      <td>0.224327</td>\n",
       "      <td>0.226017</td>\n",
       "      <td>0.224215</td>\n",
       "      <td>0.001507</td>\n",
       "      <td>13</td>\n",
       "    </tr>\n",
       "    <tr>\n",
       "      <td>9</td>\n",
       "      <td>3.478414</td>\n",
       "      <td>0.074139</td>\n",
       "      <td>0.768969</td>\n",
       "      <td>0.007021</td>\n",
       "      <td>0.01</td>\n",
       "      <td>100</td>\n",
       "      <td>{'C': 0.01, 'gamma': 100}</td>\n",
       "      <td>0.222332</td>\n",
       "      <td>0.224327</td>\n",
       "      <td>0.226017</td>\n",
       "      <td>0.224215</td>\n",
       "      <td>0.001507</td>\n",
       "      <td>13</td>\n",
       "    </tr>\n",
       "    <tr>\n",
       "      <td>10</td>\n",
       "      <td>1.412295</td>\n",
       "      <td>0.020316</td>\n",
       "      <td>0.743780</td>\n",
       "      <td>0.001738</td>\n",
       "      <td>1</td>\n",
       "      <td>0.001</td>\n",
       "      <td>{'C': 1, 'gamma': 0.001}</td>\n",
       "      <td>0.222332</td>\n",
       "      <td>0.224327</td>\n",
       "      <td>0.226017</td>\n",
       "      <td>0.224215</td>\n",
       "      <td>0.001507</td>\n",
       "      <td>13</td>\n",
       "    </tr>\n",
       "    <tr>\n",
       "      <td>11</td>\n",
       "      <td>1.917463</td>\n",
       "      <td>0.027638</td>\n",
       "      <td>0.765487</td>\n",
       "      <td>0.006777</td>\n",
       "      <td>1</td>\n",
       "      <td>0.01</td>\n",
       "      <td>{'C': 1, 'gamma': 0.01}</td>\n",
       "      <td>0.222332</td>\n",
       "      <td>0.224327</td>\n",
       "      <td>0.226017</td>\n",
       "      <td>0.224215</td>\n",
       "      <td>0.001507</td>\n",
       "      <td>13</td>\n",
       "    </tr>\n",
       "    <tr>\n",
       "      <td>12</td>\n",
       "      <td>3.517316</td>\n",
       "      <td>0.089574</td>\n",
       "      <td>0.766542</td>\n",
       "      <td>0.006913</td>\n",
       "      <td>1</td>\n",
       "      <td>1</td>\n",
       "      <td>{'C': 1, 'gamma': 1}</td>\n",
       "      <td>0.517292</td>\n",
       "      <td>0.527916</td>\n",
       "      <td>0.527875</td>\n",
       "      <td>0.524332</td>\n",
       "      <td>0.005009</td>\n",
       "      <td>4</td>\n",
       "    </tr>\n",
       "    <tr>\n",
       "      <td>13</td>\n",
       "      <td>4.996446</td>\n",
       "      <td>0.090584</td>\n",
       "      <td>0.759374</td>\n",
       "      <td>0.006907</td>\n",
       "      <td>1</td>\n",
       "      <td>10</td>\n",
       "      <td>{'C': 1, 'gamma': 10}</td>\n",
       "      <td>0.290020</td>\n",
       "      <td>0.285643</td>\n",
       "      <td>0.287293</td>\n",
       "      <td>0.287660</td>\n",
       "      <td>0.001809</td>\n",
       "      <td>9</td>\n",
       "    </tr>\n",
       "    <tr>\n",
       "      <td>14</td>\n",
       "      <td>4.878861</td>\n",
       "      <td>0.088135</td>\n",
       "      <td>0.758295</td>\n",
       "      <td>0.007185</td>\n",
       "      <td>1</td>\n",
       "      <td>100</td>\n",
       "      <td>{'C': 1, 'gamma': 100}</td>\n",
       "      <td>0.290020</td>\n",
       "      <td>0.285643</td>\n",
       "      <td>0.287293</td>\n",
       "      <td>0.287660</td>\n",
       "      <td>0.001809</td>\n",
       "      <td>9</td>\n",
       "    </tr>\n",
       "    <tr>\n",
       "      <td>15</td>\n",
       "      <td>1.882599</td>\n",
       "      <td>0.034169</td>\n",
       "      <td>0.746517</td>\n",
       "      <td>0.008907</td>\n",
       "      <td>10</td>\n",
       "      <td>0.001</td>\n",
       "      <td>{'C': 10, 'gamma': 0.001}</td>\n",
       "      <td>0.222332</td>\n",
       "      <td>0.224327</td>\n",
       "      <td>0.226017</td>\n",
       "      <td>0.224215</td>\n",
       "      <td>0.001507</td>\n",
       "      <td>13</td>\n",
       "    </tr>\n",
       "    <tr>\n",
       "      <td>16</td>\n",
       "      <td>2.060498</td>\n",
       "      <td>0.065959</td>\n",
       "      <td>0.744754</td>\n",
       "      <td>0.002897</td>\n",
       "      <td>10</td>\n",
       "      <td>0.01</td>\n",
       "      <td>{'C': 10, 'gamma': 0.01}</td>\n",
       "      <td>0.377470</td>\n",
       "      <td>0.362413</td>\n",
       "      <td>0.375691</td>\n",
       "      <td>0.371865</td>\n",
       "      <td>0.006721</td>\n",
       "      <td>6</td>\n",
       "    </tr>\n",
       "    <tr>\n",
       "      <td>17</td>\n",
       "      <td>3.603588</td>\n",
       "      <td>0.086493</td>\n",
       "      <td>0.743192</td>\n",
       "      <td>0.007180</td>\n",
       "      <td>10</td>\n",
       "      <td>1</td>\n",
       "      <td>{'C': 10, 'gamma': 1}</td>\n",
       "      <td>0.550395</td>\n",
       "      <td>0.568295</td>\n",
       "      <td>0.574083</td>\n",
       "      <td>0.564192</td>\n",
       "      <td>0.010097</td>\n",
       "      <td>3</td>\n",
       "    </tr>\n",
       "    <tr>\n",
       "      <td>18</td>\n",
       "      <td>5.070967</td>\n",
       "      <td>0.074962</td>\n",
       "      <td>0.736680</td>\n",
       "      <td>0.004545</td>\n",
       "      <td>10</td>\n",
       "      <td>10</td>\n",
       "      <td>{'C': 10, 'gamma': 10}</td>\n",
       "      <td>0.290020</td>\n",
       "      <td>0.287139</td>\n",
       "      <td>0.287293</td>\n",
       "      <td>0.288158</td>\n",
       "      <td>0.001326</td>\n",
       "      <td>7</td>\n",
       "    </tr>\n",
       "    <tr>\n",
       "      <td>19</td>\n",
       "      <td>5.042174</td>\n",
       "      <td>0.090757</td>\n",
       "      <td>0.735401</td>\n",
       "      <td>0.007604</td>\n",
       "      <td>10</td>\n",
       "      <td>100</td>\n",
       "      <td>{'C': 10, 'gamma': 100}</td>\n",
       "      <td>0.290020</td>\n",
       "      <td>0.285643</td>\n",
       "      <td>0.287293</td>\n",
       "      <td>0.287660</td>\n",
       "      <td>0.001809</td>\n",
       "      <td>9</td>\n",
       "    </tr>\n",
       "    <tr>\n",
       "      <td>20</td>\n",
       "      <td>2.006570</td>\n",
       "      <td>0.033400</td>\n",
       "      <td>0.740704</td>\n",
       "      <td>0.006619</td>\n",
       "      <td>100</td>\n",
       "      <td>0.001</td>\n",
       "      <td>{'C': 100, 'gamma': 0.001}</td>\n",
       "      <td>0.380929</td>\n",
       "      <td>0.365404</td>\n",
       "      <td>0.378704</td>\n",
       "      <td>0.375021</td>\n",
       "      <td>0.006858</td>\n",
       "      <td>5</td>\n",
       "    </tr>\n",
       "    <tr>\n",
       "      <td>21</td>\n",
       "      <td>2.196374</td>\n",
       "      <td>0.045590</td>\n",
       "      <td>0.725262</td>\n",
       "      <td>0.000606</td>\n",
       "      <td>100</td>\n",
       "      <td>0.01</td>\n",
       "      <td>{'C': 100, 'gamma': 0.01}</td>\n",
       "      <td>0.594862</td>\n",
       "      <td>0.593220</td>\n",
       "      <td>0.604721</td>\n",
       "      <td>0.597575</td>\n",
       "      <td>0.005068</td>\n",
       "      <td>1</td>\n",
       "    </tr>\n",
       "    <tr>\n",
       "      <td>22</td>\n",
       "      <td>3.589537</td>\n",
       "      <td>0.050986</td>\n",
       "      <td>0.733022</td>\n",
       "      <td>0.006191</td>\n",
       "      <td>100</td>\n",
       "      <td>1</td>\n",
       "      <td>{'C': 100, 'gamma': 1}</td>\n",
       "      <td>0.550889</td>\n",
       "      <td>0.568295</td>\n",
       "      <td>0.574083</td>\n",
       "      <td>0.564358</td>\n",
       "      <td>0.009870</td>\n",
       "      <td>2</td>\n",
       "    </tr>\n",
       "    <tr>\n",
       "      <td>23</td>\n",
       "      <td>5.140106</td>\n",
       "      <td>0.029094</td>\n",
       "      <td>0.750806</td>\n",
       "      <td>0.019596</td>\n",
       "      <td>100</td>\n",
       "      <td>10</td>\n",
       "      <td>{'C': 100, 'gamma': 10}</td>\n",
       "      <td>0.290020</td>\n",
       "      <td>0.287139</td>\n",
       "      <td>0.287293</td>\n",
       "      <td>0.288158</td>\n",
       "      <td>0.001326</td>\n",
       "      <td>7</td>\n",
       "    </tr>\n",
       "    <tr>\n",
       "      <td>24</td>\n",
       "      <td>5.029773</td>\n",
       "      <td>0.081103</td>\n",
       "      <td>0.735586</td>\n",
       "      <td>0.007704</td>\n",
       "      <td>100</td>\n",
       "      <td>100</td>\n",
       "      <td>{'C': 100, 'gamma': 100}</td>\n",
       "      <td>0.290020</td>\n",
       "      <td>0.285643</td>\n",
       "      <td>0.287293</td>\n",
       "      <td>0.287660</td>\n",
       "      <td>0.001809</td>\n",
       "      <td>9</td>\n",
       "    </tr>\n",
       "  </tbody>\n",
       "</table>\n",
       "</div>"
      ],
      "text/plain": [
       "    mean_fit_time  std_fit_time  mean_score_time  std_score_time param_C  \\\n",
       "0        1.162352      0.025397         0.769652        0.024800   0.001   \n",
       "1        1.194869      0.035580         0.783181        0.008217   0.001   \n",
       "2        1.253960      0.024602         0.764962        0.022280   0.001   \n",
       "3        1.332503      0.009859         0.789356        0.014221   0.001   \n",
       "4        1.625952      0.050824         0.720015        0.009173   0.001   \n",
       "5        1.158387      0.045073         0.772382        0.008439    0.01   \n",
       "6        1.172730      0.010794         0.760697        0.010527    0.01   \n",
       "7        2.344112      0.036115         0.767392        0.007460    0.01   \n",
       "8        3.559976      0.073908         0.775563        0.006988    0.01   \n",
       "9        3.478414      0.074139         0.768969        0.007021    0.01   \n",
       "10       1.412295      0.020316         0.743780        0.001738       1   \n",
       "11       1.917463      0.027638         0.765487        0.006777       1   \n",
       "12       3.517316      0.089574         0.766542        0.006913       1   \n",
       "13       4.996446      0.090584         0.759374        0.006907       1   \n",
       "14       4.878861      0.088135         0.758295        0.007185       1   \n",
       "15       1.882599      0.034169         0.746517        0.008907      10   \n",
       "16       2.060498      0.065959         0.744754        0.002897      10   \n",
       "17       3.603588      0.086493         0.743192        0.007180      10   \n",
       "18       5.070967      0.074962         0.736680        0.004545      10   \n",
       "19       5.042174      0.090757         0.735401        0.007604      10   \n",
       "20       2.006570      0.033400         0.740704        0.006619     100   \n",
       "21       2.196374      0.045590         0.725262        0.000606     100   \n",
       "22       3.589537      0.050986         0.733022        0.006191     100   \n",
       "23       5.140106      0.029094         0.750806        0.019596     100   \n",
       "24       5.029773      0.081103         0.735586        0.007704     100   \n",
       "\n",
       "   param_gamma                        params  split0_test_score  \\\n",
       "0        0.001  {'C': 0.001, 'gamma': 0.001}           0.222332   \n",
       "1         0.01   {'C': 0.001, 'gamma': 0.01}           0.222332   \n",
       "2            1      {'C': 0.001, 'gamma': 1}           0.222332   \n",
       "3           10     {'C': 0.001, 'gamma': 10}           0.222332   \n",
       "4          100    {'C': 0.001, 'gamma': 100}           0.222332   \n",
       "5        0.001   {'C': 0.01, 'gamma': 0.001}           0.222332   \n",
       "6         0.01    {'C': 0.01, 'gamma': 0.01}           0.222332   \n",
       "7            1       {'C': 0.01, 'gamma': 1}           0.222332   \n",
       "8           10      {'C': 0.01, 'gamma': 10}           0.222332   \n",
       "9          100     {'C': 0.01, 'gamma': 100}           0.222332   \n",
       "10       0.001      {'C': 1, 'gamma': 0.001}           0.222332   \n",
       "11        0.01       {'C': 1, 'gamma': 0.01}           0.222332   \n",
       "12           1          {'C': 1, 'gamma': 1}           0.517292   \n",
       "13          10         {'C': 1, 'gamma': 10}           0.290020   \n",
       "14         100        {'C': 1, 'gamma': 100}           0.290020   \n",
       "15       0.001     {'C': 10, 'gamma': 0.001}           0.222332   \n",
       "16        0.01      {'C': 10, 'gamma': 0.01}           0.377470   \n",
       "17           1         {'C': 10, 'gamma': 1}           0.550395   \n",
       "18          10        {'C': 10, 'gamma': 10}           0.290020   \n",
       "19         100       {'C': 10, 'gamma': 100}           0.290020   \n",
       "20       0.001    {'C': 100, 'gamma': 0.001}           0.380929   \n",
       "21        0.01     {'C': 100, 'gamma': 0.01}           0.594862   \n",
       "22           1        {'C': 100, 'gamma': 1}           0.550889   \n",
       "23          10       {'C': 100, 'gamma': 10}           0.290020   \n",
       "24         100      {'C': 100, 'gamma': 100}           0.290020   \n",
       "\n",
       "    split1_test_score  split2_test_score  mean_test_score  std_test_score  \\\n",
       "0            0.224327           0.226017         0.224215        0.001507   \n",
       "1            0.224327           0.226017         0.224215        0.001507   \n",
       "2            0.224327           0.226017         0.224215        0.001507   \n",
       "3            0.224327           0.226017         0.224215        0.001507   \n",
       "4            0.224327           0.226017         0.224215        0.001507   \n",
       "5            0.224327           0.226017         0.224215        0.001507   \n",
       "6            0.224327           0.226017         0.224215        0.001507   \n",
       "7            0.224327           0.226017         0.224215        0.001507   \n",
       "8            0.224327           0.226017         0.224215        0.001507   \n",
       "9            0.224327           0.226017         0.224215        0.001507   \n",
       "10           0.224327           0.226017         0.224215        0.001507   \n",
       "11           0.224327           0.226017         0.224215        0.001507   \n",
       "12           0.527916           0.527875         0.524332        0.005009   \n",
       "13           0.285643           0.287293         0.287660        0.001809   \n",
       "14           0.285643           0.287293         0.287660        0.001809   \n",
       "15           0.224327           0.226017         0.224215        0.001507   \n",
       "16           0.362413           0.375691         0.371865        0.006721   \n",
       "17           0.568295           0.574083         0.564192        0.010097   \n",
       "18           0.287139           0.287293         0.288158        0.001326   \n",
       "19           0.285643           0.287293         0.287660        0.001809   \n",
       "20           0.365404           0.378704         0.375021        0.006858   \n",
       "21           0.593220           0.604721         0.597575        0.005068   \n",
       "22           0.568295           0.574083         0.564358        0.009870   \n",
       "23           0.287139           0.287293         0.288158        0.001326   \n",
       "24           0.285643           0.287293         0.287660        0.001809   \n",
       "\n",
       "    rank_test_score  \n",
       "0                13  \n",
       "1                13  \n",
       "2                13  \n",
       "3                13  \n",
       "4                13  \n",
       "5                13  \n",
       "6                13  \n",
       "7                13  \n",
       "8                13  \n",
       "9                13  \n",
       "10               13  \n",
       "11               13  \n",
       "12                4  \n",
       "13                9  \n",
       "14                9  \n",
       "15               13  \n",
       "16                6  \n",
       "17                3  \n",
       "18                7  \n",
       "19                9  \n",
       "20                5  \n",
       "21                1  \n",
       "22                2  \n",
       "23                7  \n",
       "24                9  "
      ]
     },
     "execution_count": 43,
     "metadata": {},
     "output_type": "execute_result"
    }
   ],
   "source": [
    "pd.DataFrame(gs_idf.cv_results_)"
   ]
  },
  {
   "cell_type": "markdown",
   "metadata": {},
   "source": [
    "# Try to normalize to improve SVM perf"
   ]
  },
  {
   "cell_type": "code",
   "execution_count": 44,
   "metadata": {},
   "outputs": [],
   "source": [
    "from sklearn.preprocessing import MinMaxScaler, MaxAbsScaler\n",
    "scaler = MaxAbsScaler()\n",
    "x_train_scaled = scaler.fit_transform(x_train_idf)\n",
    "x_test_scaled = scaler.transform(x_test_idf)"
   ]
  },
  {
   "cell_type": "code",
   "execution_count": 47,
   "metadata": {},
   "outputs": [],
   "source": [
    "grid = {\"C\":[0.001,0.01,1,10,100], \"gamma\":[0.001,0.01,1,10,100]}\n",
    "gs_idf_norm = GridSearchCV(SVC(), grid, cv=3)"
   ]
  },
  {
   "cell_type": "code",
   "execution_count": 48,
   "metadata": {},
   "outputs": [
    {
     "data": {
      "text/plain": [
       "GridSearchCV(cv=3, error_score='raise-deprecating',\n",
       "             estimator=SVC(C=1.0, cache_size=200, class_weight=None, coef0=0.0,\n",
       "                           decision_function_shape='ovr', degree=3,\n",
       "                           gamma='auto_deprecated', kernel='rbf', max_iter=-1,\n",
       "                           probability=False, random_state=None, shrinking=True,\n",
       "                           tol=0.001, verbose=False),\n",
       "             iid='warn', n_jobs=None,\n",
       "             param_grid={'C': [0.001, 0.01, 1, 10, 100],\n",
       "                         'gamma': [0.001, 0.01, 1, 10, 100]},\n",
       "             pre_dispatch='2*n_jobs', refit=True, return_train_score=False,\n",
       "             scoring=None, verbose=0)"
      ]
     },
     "execution_count": 48,
     "metadata": {},
     "output_type": "execute_result"
    }
   ],
   "source": [
    "gs_idf_norm.fit(x_train_scaled, y_train_idf)"
   ]
  },
  {
   "cell_type": "code",
   "execution_count": 49,
   "metadata": {},
   "outputs": [
    {
     "data": {
      "text/plain": [
       "SVC(C=100, cache_size=200, class_weight=None, coef0=0.0,\n",
       "    decision_function_shape='ovr', degree=3, gamma=0.01, kernel='rbf',\n",
       "    max_iter=-1, probability=False, random_state=None, shrinking=True,\n",
       "    tol=0.001, verbose=False)"
      ]
     },
     "execution_count": 49,
     "metadata": {},
     "output_type": "execute_result"
    }
   ],
   "source": [
    "gs_idf_norm.best_estimator_"
   ]
  },
  {
   "cell_type": "code",
   "execution_count": 50,
   "metadata": {},
   "outputs": [
    {
     "data": {
      "text/plain": [
       "0.582295299784089"
      ]
     },
     "execution_count": 50,
     "metadata": {},
     "output_type": "execute_result"
    }
   ],
   "source": [
    "gs_idf_norm.best_score_"
   ]
  },
  {
   "cell_type": "code",
   "execution_count": 56,
   "metadata": {},
   "outputs": [],
   "source": [
    "text_train_l1 = TfidfVectorizer(min_df=5, stop_words=stop_words_fr, norm='l1').fit_transform(cleaned_sentence_array)"
   ]
  },
  {
   "cell_type": "code",
   "execution_count": 57,
   "metadata": {},
   "outputs": [],
   "source": [
    "x_train_idf_l1, x_test_idf_l1, y_train_idf_l1, y_test_idf_l1 = train_test_split(text_train_l1,y)"
   ]
  },
  {
   "cell_type": "code",
   "execution_count": 58,
   "metadata": {},
   "outputs": [],
   "source": [
    "gs_grid_l1 = GridSearchCV(SVC(), grid, cv=3)"
   ]
  },
  {
   "cell_type": "code",
   "execution_count": 59,
   "metadata": {},
   "outputs": [
    {
     "data": {
      "text/plain": [
       "GridSearchCV(cv=3, error_score='raise-deprecating',\n",
       "             estimator=SVC(C=1.0, cache_size=200, class_weight=None, coef0=0.0,\n",
       "                           decision_function_shape='ovr', degree=3,\n",
       "                           gamma='auto_deprecated', kernel='rbf', max_iter=-1,\n",
       "                           probability=False, random_state=None, shrinking=True,\n",
       "                           tol=0.001, verbose=False),\n",
       "             iid='warn', n_jobs=None,\n",
       "             param_grid={'C': [0.001, 0.01, 1, 10, 100],\n",
       "                         'gamma': [0.001, 0.01, 1, 10, 100]},\n",
       "             pre_dispatch='2*n_jobs', refit=True, return_train_score=False,\n",
       "             scoring=None, verbose=0)"
      ]
     },
     "execution_count": 59,
     "metadata": {},
     "output_type": "execute_result"
    }
   ],
   "source": [
    "gs_grid_l1.fit(x_train_idf_l1,y_train_idf_l1)"
   ]
  },
  {
   "cell_type": "code",
   "execution_count": 60,
   "metadata": {},
   "outputs": [
    {
     "data": {
      "text/plain": [
       "SVC(C=10, cache_size=200, class_weight=None, coef0=0.0,\n",
       "    decision_function_shape='ovr', degree=3, gamma=1, kernel='rbf', max_iter=-1,\n",
       "    probability=False, random_state=None, shrinking=True, tol=0.001,\n",
       "    verbose=False)"
      ]
     },
     "execution_count": 60,
     "metadata": {},
     "output_type": "execute_result"
    }
   ],
   "source": [
    "gs_grid_l1.best_estimator_"
   ]
  },
  {
   "cell_type": "code",
   "execution_count": 61,
   "metadata": {},
   "outputs": [
    {
     "data": {
      "text/plain": [
       "0.580468360737419"
      ]
     },
     "execution_count": 61,
     "metadata": {},
     "output_type": "execute_result"
    }
   ],
   "source": [
    "gs_grid_l1.best_score_"
   ]
  },
  {
   "cell_type": "markdown",
   "metadata": {},
   "source": [
    "# Try French Stemmer"
   ]
  },
  {
   "cell_type": "code",
   "execution_count": 62,
   "metadata": {},
   "outputs": [],
   "source": [
    "# Try FRENCH STEMMER\n",
    "stemmer_fr=nltk.stem.snowball.FrenchStemmer()"
   ]
  },
  {
   "cell_type": "code",
   "execution_count": 63,
   "metadata": {},
   "outputs": [
    {
     "name": "stderr",
     "output_type": "stream",
     "text": [
      "/Users/antoine/Documents/Tests/interview/Posos/posos_interview/venvPosos/lib/python3.7/site-packages/sklearn/feature_extraction/text.py:300: UserWarning: Your stop_words may be inconsistent with your preprocessing. Tokenizing the stop words generated tokens ['aur', 'aurion', 'auron', 'avi', 'avion', 'avon', 'ayon', 'dan', 'e', 'euss', 'eussion', 'eûm', 'fuss', 'fussion', 'fûm', 'mêm', 'notr', 'ser', 'serion', 'seron', 'soi', 'somm', 'soyon', 'votr', 'éti', 'étion', 'ête'] not in stop_words.\n",
      "  'stop_words.' % sorted(inconsistent))\n"
     ]
    }
   ],
   "source": [
    "def stemming_tokenizer_fr(str_input):\n",
    "    words = re.sub(\",|-|'|\\.|\\?\", \" \", str_input).lower().split()\n",
    "    words = [stemmer_fr.stem(word) for word in words]\n",
    "    return words\n",
    "\n",
    "tf_vectorizer_stem = TfidfVectorizer(tokenizer=stemming_tokenizer_fr,\n",
    "                       stop_words = stop_words_fr,\n",
    "                       min_df = 5).fit(input_train[\"question\"])"
   ]
  },
  {
   "cell_type": "code",
   "execution_count": 64,
   "metadata": {},
   "outputs": [],
   "source": [
    "x_fr = tf_vectorizer_stem.transform(input_train[\"question\"])"
   ]
  },
  {
   "cell_type": "code",
   "execution_count": 65,
   "metadata": {},
   "outputs": [],
   "source": [
    "x_train_stem, x_test_stem, y_train_stem, y_test_stem = train_test_split(x_fr, y)"
   ]
  },
  {
   "cell_type": "code",
   "execution_count": 67,
   "metadata": {},
   "outputs": [
    {
     "data": {
      "text/plain": [
       "(6021, 1862)"
      ]
     },
     "execution_count": 67,
     "metadata": {},
     "output_type": "execute_result"
    }
   ],
   "source": [
    "x_train_stem.shape"
   ]
  },
  {
   "cell_type": "code",
   "execution_count": 68,
   "metadata": {},
   "outputs": [],
   "source": [
    "grid = {\"C\":[0.001,0.01,1,10,100], \"gamma\":[0.001,0.01,1,10,100]}\n",
    "gs_stem = GridSearchCV(SVC(), grid, cv=5)"
   ]
  },
  {
   "cell_type": "code",
   "execution_count": 69,
   "metadata": {},
   "outputs": [
    {
     "data": {
      "text/plain": [
       "GridSearchCV(cv=5, error_score='raise-deprecating',\n",
       "             estimator=SVC(C=1.0, cache_size=200, class_weight=None, coef0=0.0,\n",
       "                           decision_function_shape='ovr', degree=3,\n",
       "                           gamma='auto_deprecated', kernel='rbf', max_iter=-1,\n",
       "                           probability=False, random_state=None, shrinking=True,\n",
       "                           tol=0.001, verbose=False),\n",
       "             iid='warn', n_jobs=None,\n",
       "             param_grid={'C': [0.001, 0.01, 1, 10, 100],\n",
       "                         'gamma': [0.001, 0.01, 1, 10, 100]},\n",
       "             pre_dispatch='2*n_jobs', refit=True, return_train_score=False,\n",
       "             scoring=None, verbose=0)"
      ]
     },
     "execution_count": 69,
     "metadata": {},
     "output_type": "execute_result"
    }
   ],
   "source": [
    "gs_stem.fit(x_train_stem, y_train_stem)"
   ]
  },
  {
   "cell_type": "code",
   "execution_count": 71,
   "metadata": {},
   "outputs": [
    {
     "data": {
      "text/plain": [
       "(0.9325693406410895, 0.6292974588938715)"
      ]
     },
     "execution_count": 71,
     "metadata": {},
     "output_type": "execute_result"
    }
   ],
   "source": [
    "gs_stem.score(x_train_stem, y_train_stem), gs_stem.score(x_test_stem, y_test_stem)"
   ]
  },
  {
   "cell_type": "code",
   "execution_count": 73,
   "metadata": {},
   "outputs": [
    {
     "data": {
      "text/plain": [
       "(0.632120910147816, {'C': 100, 'gamma': 0.01})"
      ]
     },
     "execution_count": 73,
     "metadata": {},
     "output_type": "execute_result"
    }
   ],
   "source": [
    "gs_stem.best_score_, gs_stem.best_params_"
   ]
  },
  {
   "cell_type": "code",
   "execution_count": 74,
   "metadata": {
    "scrolled": true
   },
   "outputs": [
    {
     "data": {
      "text/html": [
       "<div>\n",
       "<style scoped>\n",
       "    .dataframe tbody tr th:only-of-type {\n",
       "        vertical-align: middle;\n",
       "    }\n",
       "\n",
       "    .dataframe tbody tr th {\n",
       "        vertical-align: top;\n",
       "    }\n",
       "\n",
       "    .dataframe thead th {\n",
       "        text-align: right;\n",
       "    }\n",
       "</style>\n",
       "<table border=\"1\" class=\"dataframe\">\n",
       "  <thead>\n",
       "    <tr style=\"text-align: right;\">\n",
       "      <th></th>\n",
       "      <th>mean_fit_time</th>\n",
       "      <th>std_fit_time</th>\n",
       "      <th>mean_score_time</th>\n",
       "      <th>std_score_time</th>\n",
       "      <th>param_C</th>\n",
       "      <th>param_gamma</th>\n",
       "      <th>params</th>\n",
       "      <th>split0_test_score</th>\n",
       "      <th>split1_test_score</th>\n",
       "      <th>split2_test_score</th>\n",
       "      <th>split3_test_score</th>\n",
       "      <th>split4_test_score</th>\n",
       "      <th>mean_test_score</th>\n",
       "      <th>std_test_score</th>\n",
       "      <th>rank_test_score</th>\n",
       "    </tr>\n",
       "  </thead>\n",
       "  <tbody>\n",
       "    <tr>\n",
       "      <td>0</td>\n",
       "      <td>1.806206</td>\n",
       "      <td>0.035109</td>\n",
       "      <td>0.578286</td>\n",
       "      <td>0.018589</td>\n",
       "      <td>0.001</td>\n",
       "      <td>0.001</td>\n",
       "      <td>{'C': 0.001, 'gamma': 0.001}</td>\n",
       "      <td>0.221405</td>\n",
       "      <td>0.222405</td>\n",
       "      <td>0.223881</td>\n",
       "      <td>0.225941</td>\n",
       "      <td>0.228426</td>\n",
       "      <td>0.224381</td>\n",
       "      <td>0.002517</td>\n",
       "      <td>15</td>\n",
       "    </tr>\n",
       "    <tr>\n",
       "      <td>1</td>\n",
       "      <td>1.813458</td>\n",
       "      <td>0.042076</td>\n",
       "      <td>0.593458</td>\n",
       "      <td>0.011538</td>\n",
       "      <td>0.001</td>\n",
       "      <td>0.01</td>\n",
       "      <td>{'C': 0.001, 'gamma': 0.01}</td>\n",
       "      <td>0.221405</td>\n",
       "      <td>0.222405</td>\n",
       "      <td>0.223881</td>\n",
       "      <td>0.225941</td>\n",
       "      <td>0.228426</td>\n",
       "      <td>0.224381</td>\n",
       "      <td>0.002517</td>\n",
       "      <td>15</td>\n",
       "    </tr>\n",
       "    <tr>\n",
       "      <td>2</td>\n",
       "      <td>1.893907</td>\n",
       "      <td>0.015780</td>\n",
       "      <td>0.574996</td>\n",
       "      <td>0.005602</td>\n",
       "      <td>0.001</td>\n",
       "      <td>1</td>\n",
       "      <td>{'C': 0.001, 'gamma': 1}</td>\n",
       "      <td>0.221405</td>\n",
       "      <td>0.222405</td>\n",
       "      <td>0.223881</td>\n",
       "      <td>0.225941</td>\n",
       "      <td>0.228426</td>\n",
       "      <td>0.224381</td>\n",
       "      <td>0.002517</td>\n",
       "      <td>15</td>\n",
       "    </tr>\n",
       "    <tr>\n",
       "      <td>3</td>\n",
       "      <td>2.009304</td>\n",
       "      <td>0.051902</td>\n",
       "      <td>0.591631</td>\n",
       "      <td>0.014787</td>\n",
       "      <td>0.001</td>\n",
       "      <td>10</td>\n",
       "      <td>{'C': 0.001, 'gamma': 10}</td>\n",
       "      <td>0.221405</td>\n",
       "      <td>0.222405</td>\n",
       "      <td>0.223881</td>\n",
       "      <td>0.225941</td>\n",
       "      <td>0.228426</td>\n",
       "      <td>0.224381</td>\n",
       "      <td>0.002517</td>\n",
       "      <td>15</td>\n",
       "    </tr>\n",
       "    <tr>\n",
       "      <td>4</td>\n",
       "      <td>2.520364</td>\n",
       "      <td>0.055631</td>\n",
       "      <td>0.555382</td>\n",
       "      <td>0.018976</td>\n",
       "      <td>0.001</td>\n",
       "      <td>100</td>\n",
       "      <td>{'C': 0.001, 'gamma': 100}</td>\n",
       "      <td>0.221405</td>\n",
       "      <td>0.222405</td>\n",
       "      <td>0.223881</td>\n",
       "      <td>0.225941</td>\n",
       "      <td>0.228426</td>\n",
       "      <td>0.224381</td>\n",
       "      <td>0.002517</td>\n",
       "      <td>15</td>\n",
       "    </tr>\n",
       "    <tr>\n",
       "      <td>5</td>\n",
       "      <td>1.828164</td>\n",
       "      <td>0.049838</td>\n",
       "      <td>0.595540</td>\n",
       "      <td>0.024737</td>\n",
       "      <td>0.01</td>\n",
       "      <td>0.001</td>\n",
       "      <td>{'C': 0.01, 'gamma': 0.001}</td>\n",
       "      <td>0.221405</td>\n",
       "      <td>0.222405</td>\n",
       "      <td>0.223881</td>\n",
       "      <td>0.225941</td>\n",
       "      <td>0.228426</td>\n",
       "      <td>0.224381</td>\n",
       "      <td>0.002517</td>\n",
       "      <td>15</td>\n",
       "    </tr>\n",
       "    <tr>\n",
       "      <td>6</td>\n",
       "      <td>1.836740</td>\n",
       "      <td>0.035654</td>\n",
       "      <td>0.593389</td>\n",
       "      <td>0.026917</td>\n",
       "      <td>0.01</td>\n",
       "      <td>0.01</td>\n",
       "      <td>{'C': 0.01, 'gamma': 0.01}</td>\n",
       "      <td>0.221405</td>\n",
       "      <td>0.222405</td>\n",
       "      <td>0.223881</td>\n",
       "      <td>0.225941</td>\n",
       "      <td>0.228426</td>\n",
       "      <td>0.224381</td>\n",
       "      <td>0.002517</td>\n",
       "      <td>15</td>\n",
       "    </tr>\n",
       "    <tr>\n",
       "      <td>7</td>\n",
       "      <td>3.476909</td>\n",
       "      <td>0.041664</td>\n",
       "      <td>0.599638</td>\n",
       "      <td>0.020430</td>\n",
       "      <td>0.01</td>\n",
       "      <td>1</td>\n",
       "      <td>{'C': 0.01, 'gamma': 1}</td>\n",
       "      <td>0.221405</td>\n",
       "      <td>0.222405</td>\n",
       "      <td>0.223881</td>\n",
       "      <td>0.225941</td>\n",
       "      <td>0.228426</td>\n",
       "      <td>0.224381</td>\n",
       "      <td>0.002517</td>\n",
       "      <td>15</td>\n",
       "    </tr>\n",
       "    <tr>\n",
       "      <td>8</td>\n",
       "      <td>5.596343</td>\n",
       "      <td>0.073619</td>\n",
       "      <td>0.629028</td>\n",
       "      <td>0.021846</td>\n",
       "      <td>0.01</td>\n",
       "      <td>10</td>\n",
       "      <td>{'C': 0.01, 'gamma': 10}</td>\n",
       "      <td>0.221405</td>\n",
       "      <td>0.222405</td>\n",
       "      <td>0.223881</td>\n",
       "      <td>0.225941</td>\n",
       "      <td>0.228426</td>\n",
       "      <td>0.224381</td>\n",
       "      <td>0.002517</td>\n",
       "      <td>15</td>\n",
       "    </tr>\n",
       "    <tr>\n",
       "      <td>9</td>\n",
       "      <td>5.430771</td>\n",
       "      <td>0.032492</td>\n",
       "      <td>0.602383</td>\n",
       "      <td>0.021260</td>\n",
       "      <td>0.01</td>\n",
       "      <td>100</td>\n",
       "      <td>{'C': 0.01, 'gamma': 100}</td>\n",
       "      <td>0.221405</td>\n",
       "      <td>0.222405</td>\n",
       "      <td>0.223881</td>\n",
       "      <td>0.225941</td>\n",
       "      <td>0.228426</td>\n",
       "      <td>0.224381</td>\n",
       "      <td>0.002517</td>\n",
       "      <td>15</td>\n",
       "    </tr>\n",
       "    <tr>\n",
       "      <td>10</td>\n",
       "      <td>2.208131</td>\n",
       "      <td>0.039547</td>\n",
       "      <td>0.588159</td>\n",
       "      <td>0.020144</td>\n",
       "      <td>1</td>\n",
       "      <td>0.001</td>\n",
       "      <td>{'C': 1, 'gamma': 0.001}</td>\n",
       "      <td>0.221405</td>\n",
       "      <td>0.222405</td>\n",
       "      <td>0.223881</td>\n",
       "      <td>0.225941</td>\n",
       "      <td>0.228426</td>\n",
       "      <td>0.224381</td>\n",
       "      <td>0.002517</td>\n",
       "      <td>15</td>\n",
       "    </tr>\n",
       "    <tr>\n",
       "      <td>11</td>\n",
       "      <td>2.810963</td>\n",
       "      <td>0.082232</td>\n",
       "      <td>0.582342</td>\n",
       "      <td>0.019178</td>\n",
       "      <td>1</td>\n",
       "      <td>0.01</td>\n",
       "      <td>{'C': 1, 'gamma': 0.01}</td>\n",
       "      <td>0.223856</td>\n",
       "      <td>0.226524</td>\n",
       "      <td>0.224710</td>\n",
       "      <td>0.228452</td>\n",
       "      <td>0.234349</td>\n",
       "      <td>0.227537</td>\n",
       "      <td>0.003720</td>\n",
       "      <td>14</td>\n",
       "    </tr>\n",
       "    <tr>\n",
       "      <td>12</td>\n",
       "      <td>5.115005</td>\n",
       "      <td>0.126812</td>\n",
       "      <td>0.584357</td>\n",
       "      <td>0.020084</td>\n",
       "      <td>1</td>\n",
       "      <td>1</td>\n",
       "      <td>{'C': 1, 'gamma': 1}</td>\n",
       "      <td>0.550654</td>\n",
       "      <td>0.569193</td>\n",
       "      <td>0.573798</td>\n",
       "      <td>0.577406</td>\n",
       "      <td>0.571066</td>\n",
       "      <td>0.568344</td>\n",
       "      <td>0.009353</td>\n",
       "      <td>4</td>\n",
       "    </tr>\n",
       "    <tr>\n",
       "      <td>13</td>\n",
       "      <td>7.988842</td>\n",
       "      <td>0.127203</td>\n",
       "      <td>0.587858</td>\n",
       "      <td>0.016408</td>\n",
       "      <td>1</td>\n",
       "      <td>10</td>\n",
       "      <td>{'C': 1, 'gamma': 10}</td>\n",
       "      <td>0.294935</td>\n",
       "      <td>0.299012</td>\n",
       "      <td>0.291874</td>\n",
       "      <td>0.282845</td>\n",
       "      <td>0.296954</td>\n",
       "      <td>0.293141</td>\n",
       "      <td>0.005641</td>\n",
       "      <td>9</td>\n",
       "    </tr>\n",
       "    <tr>\n",
       "      <td>14</td>\n",
       "      <td>8.004186</td>\n",
       "      <td>0.204293</td>\n",
       "      <td>0.631147</td>\n",
       "      <td>0.015696</td>\n",
       "      <td>1</td>\n",
       "      <td>100</td>\n",
       "      <td>{'C': 1, 'gamma': 100}</td>\n",
       "      <td>0.294118</td>\n",
       "      <td>0.298188</td>\n",
       "      <td>0.291874</td>\n",
       "      <td>0.282845</td>\n",
       "      <td>0.296954</td>\n",
       "      <td>0.292809</td>\n",
       "      <td>0.005425</td>\n",
       "      <td>10</td>\n",
       "    </tr>\n",
       "    <tr>\n",
       "      <td>15</td>\n",
       "      <td>2.941109</td>\n",
       "      <td>0.057117</td>\n",
       "      <td>0.630773</td>\n",
       "      <td>0.042794</td>\n",
       "      <td>10</td>\n",
       "      <td>0.001</td>\n",
       "      <td>{'C': 10, 'gamma': 0.001}</td>\n",
       "      <td>0.223856</td>\n",
       "      <td>0.227348</td>\n",
       "      <td>0.225539</td>\n",
       "      <td>0.228452</td>\n",
       "      <td>0.236887</td>\n",
       "      <td>0.228367</td>\n",
       "      <td>0.004494</td>\n",
       "      <td>13</td>\n",
       "    </tr>\n",
       "    <tr>\n",
       "      <td>16</td>\n",
       "      <td>2.893280</td>\n",
       "      <td>0.071490</td>\n",
       "      <td>0.583491</td>\n",
       "      <td>0.019812</td>\n",
       "      <td>10</td>\n",
       "      <td>0.01</td>\n",
       "      <td>{'C': 10, 'gamma': 0.01}</td>\n",
       "      <td>0.437908</td>\n",
       "      <td>0.438221</td>\n",
       "      <td>0.443615</td>\n",
       "      <td>0.426778</td>\n",
       "      <td>0.434010</td>\n",
       "      <td>0.436140</td>\n",
       "      <td>0.005567</td>\n",
       "      <td>6</td>\n",
       "    </tr>\n",
       "    <tr>\n",
       "      <td>17</td>\n",
       "      <td>5.085114</td>\n",
       "      <td>0.039634</td>\n",
       "      <td>0.551959</td>\n",
       "      <td>0.010828</td>\n",
       "      <td>10</td>\n",
       "      <td>1</td>\n",
       "      <td>{'C': 10, 'gamma': 1}</td>\n",
       "      <td>0.583333</td>\n",
       "      <td>0.609555</td>\n",
       "      <td>0.624378</td>\n",
       "      <td>0.612552</td>\n",
       "      <td>0.610829</td>\n",
       "      <td>0.608039</td>\n",
       "      <td>0.013549</td>\n",
       "      <td>2</td>\n",
       "    </tr>\n",
       "    <tr>\n",
       "      <td>18</td>\n",
       "      <td>7.544147</td>\n",
       "      <td>0.066948</td>\n",
       "      <td>0.548733</td>\n",
       "      <td>0.009283</td>\n",
       "      <td>10</td>\n",
       "      <td>10</td>\n",
       "      <td>{'C': 10, 'gamma': 10}</td>\n",
       "      <td>0.299020</td>\n",
       "      <td>0.299012</td>\n",
       "      <td>0.293532</td>\n",
       "      <td>0.282845</td>\n",
       "      <td>0.296954</td>\n",
       "      <td>0.294303</td>\n",
       "      <td>0.006045</td>\n",
       "      <td>7</td>\n",
       "    </tr>\n",
       "    <tr>\n",
       "      <td>19</td>\n",
       "      <td>8.098953</td>\n",
       "      <td>0.386968</td>\n",
       "      <td>0.626302</td>\n",
       "      <td>0.072740</td>\n",
       "      <td>10</td>\n",
       "      <td>100</td>\n",
       "      <td>{'C': 10, 'gamma': 100}</td>\n",
       "      <td>0.294118</td>\n",
       "      <td>0.298188</td>\n",
       "      <td>0.291874</td>\n",
       "      <td>0.282845</td>\n",
       "      <td>0.296954</td>\n",
       "      <td>0.292809</td>\n",
       "      <td>0.005425</td>\n",
       "      <td>10</td>\n",
       "    </tr>\n",
       "    <tr>\n",
       "      <td>20</td>\n",
       "      <td>2.913145</td>\n",
       "      <td>0.024695</td>\n",
       "      <td>0.604733</td>\n",
       "      <td>0.014348</td>\n",
       "      <td>100</td>\n",
       "      <td>0.001</td>\n",
       "      <td>{'C': 100, 'gamma': 0.001}</td>\n",
       "      <td>0.440359</td>\n",
       "      <td>0.438221</td>\n",
       "      <td>0.447761</td>\n",
       "      <td>0.428452</td>\n",
       "      <td>0.438240</td>\n",
       "      <td>0.438631</td>\n",
       "      <td>0.006159</td>\n",
       "      <td>5</td>\n",
       "    </tr>\n",
       "    <tr>\n",
       "      <td>21</td>\n",
       "      <td>2.960154</td>\n",
       "      <td>0.083559</td>\n",
       "      <td>0.582191</td>\n",
       "      <td>0.017631</td>\n",
       "      <td>100</td>\n",
       "      <td>0.01</td>\n",
       "      <td>{'C': 100, 'gamma': 0.01}</td>\n",
       "      <td>0.617647</td>\n",
       "      <td>0.630972</td>\n",
       "      <td>0.646766</td>\n",
       "      <td>0.632636</td>\n",
       "      <td>0.632826</td>\n",
       "      <td>0.632121</td>\n",
       "      <td>0.009272</td>\n",
       "      <td>1</td>\n",
       "    </tr>\n",
       "    <tr>\n",
       "      <td>22</td>\n",
       "      <td>5.336737</td>\n",
       "      <td>0.083059</td>\n",
       "      <td>0.577920</td>\n",
       "      <td>0.019800</td>\n",
       "      <td>100</td>\n",
       "      <td>1</td>\n",
       "      <td>{'C': 100, 'gamma': 1}</td>\n",
       "      <td>0.583333</td>\n",
       "      <td>0.609555</td>\n",
       "      <td>0.625207</td>\n",
       "      <td>0.611715</td>\n",
       "      <td>0.610829</td>\n",
       "      <td>0.608039</td>\n",
       "      <td>0.013704</td>\n",
       "      <td>2</td>\n",
       "    </tr>\n",
       "    <tr>\n",
       "      <td>23</td>\n",
       "      <td>8.396184</td>\n",
       "      <td>0.065256</td>\n",
       "      <td>0.603315</td>\n",
       "      <td>0.018591</td>\n",
       "      <td>100</td>\n",
       "      <td>10</td>\n",
       "      <td>{'C': 100, 'gamma': 10}</td>\n",
       "      <td>0.299020</td>\n",
       "      <td>0.299012</td>\n",
       "      <td>0.293532</td>\n",
       "      <td>0.282845</td>\n",
       "      <td>0.296954</td>\n",
       "      <td>0.294303</td>\n",
       "      <td>0.006045</td>\n",
       "      <td>7</td>\n",
       "    </tr>\n",
       "    <tr>\n",
       "      <td>24</td>\n",
       "      <td>8.033472</td>\n",
       "      <td>0.140960</td>\n",
       "      <td>0.596048</td>\n",
       "      <td>0.034175</td>\n",
       "      <td>100</td>\n",
       "      <td>100</td>\n",
       "      <td>{'C': 100, 'gamma': 100}</td>\n",
       "      <td>0.294118</td>\n",
       "      <td>0.298188</td>\n",
       "      <td>0.291874</td>\n",
       "      <td>0.282845</td>\n",
       "      <td>0.296954</td>\n",
       "      <td>0.292809</td>\n",
       "      <td>0.005425</td>\n",
       "      <td>10</td>\n",
       "    </tr>\n",
       "  </tbody>\n",
       "</table>\n",
       "</div>"
      ],
      "text/plain": [
       "    mean_fit_time  std_fit_time  mean_score_time  std_score_time param_C  \\\n",
       "0        1.806206      0.035109         0.578286        0.018589   0.001   \n",
       "1        1.813458      0.042076         0.593458        0.011538   0.001   \n",
       "2        1.893907      0.015780         0.574996        0.005602   0.001   \n",
       "3        2.009304      0.051902         0.591631        0.014787   0.001   \n",
       "4        2.520364      0.055631         0.555382        0.018976   0.001   \n",
       "5        1.828164      0.049838         0.595540        0.024737    0.01   \n",
       "6        1.836740      0.035654         0.593389        0.026917    0.01   \n",
       "7        3.476909      0.041664         0.599638        0.020430    0.01   \n",
       "8        5.596343      0.073619         0.629028        0.021846    0.01   \n",
       "9        5.430771      0.032492         0.602383        0.021260    0.01   \n",
       "10       2.208131      0.039547         0.588159        0.020144       1   \n",
       "11       2.810963      0.082232         0.582342        0.019178       1   \n",
       "12       5.115005      0.126812         0.584357        0.020084       1   \n",
       "13       7.988842      0.127203         0.587858        0.016408       1   \n",
       "14       8.004186      0.204293         0.631147        0.015696       1   \n",
       "15       2.941109      0.057117         0.630773        0.042794      10   \n",
       "16       2.893280      0.071490         0.583491        0.019812      10   \n",
       "17       5.085114      0.039634         0.551959        0.010828      10   \n",
       "18       7.544147      0.066948         0.548733        0.009283      10   \n",
       "19       8.098953      0.386968         0.626302        0.072740      10   \n",
       "20       2.913145      0.024695         0.604733        0.014348     100   \n",
       "21       2.960154      0.083559         0.582191        0.017631     100   \n",
       "22       5.336737      0.083059         0.577920        0.019800     100   \n",
       "23       8.396184      0.065256         0.603315        0.018591     100   \n",
       "24       8.033472      0.140960         0.596048        0.034175     100   \n",
       "\n",
       "   param_gamma                        params  split0_test_score  \\\n",
       "0        0.001  {'C': 0.001, 'gamma': 0.001}           0.221405   \n",
       "1         0.01   {'C': 0.001, 'gamma': 0.01}           0.221405   \n",
       "2            1      {'C': 0.001, 'gamma': 1}           0.221405   \n",
       "3           10     {'C': 0.001, 'gamma': 10}           0.221405   \n",
       "4          100    {'C': 0.001, 'gamma': 100}           0.221405   \n",
       "5        0.001   {'C': 0.01, 'gamma': 0.001}           0.221405   \n",
       "6         0.01    {'C': 0.01, 'gamma': 0.01}           0.221405   \n",
       "7            1       {'C': 0.01, 'gamma': 1}           0.221405   \n",
       "8           10      {'C': 0.01, 'gamma': 10}           0.221405   \n",
       "9          100     {'C': 0.01, 'gamma': 100}           0.221405   \n",
       "10       0.001      {'C': 1, 'gamma': 0.001}           0.221405   \n",
       "11        0.01       {'C': 1, 'gamma': 0.01}           0.223856   \n",
       "12           1          {'C': 1, 'gamma': 1}           0.550654   \n",
       "13          10         {'C': 1, 'gamma': 10}           0.294935   \n",
       "14         100        {'C': 1, 'gamma': 100}           0.294118   \n",
       "15       0.001     {'C': 10, 'gamma': 0.001}           0.223856   \n",
       "16        0.01      {'C': 10, 'gamma': 0.01}           0.437908   \n",
       "17           1         {'C': 10, 'gamma': 1}           0.583333   \n",
       "18          10        {'C': 10, 'gamma': 10}           0.299020   \n",
       "19         100       {'C': 10, 'gamma': 100}           0.294118   \n",
       "20       0.001    {'C': 100, 'gamma': 0.001}           0.440359   \n",
       "21        0.01     {'C': 100, 'gamma': 0.01}           0.617647   \n",
       "22           1        {'C': 100, 'gamma': 1}           0.583333   \n",
       "23          10       {'C': 100, 'gamma': 10}           0.299020   \n",
       "24         100      {'C': 100, 'gamma': 100}           0.294118   \n",
       "\n",
       "    split1_test_score  split2_test_score  split3_test_score  \\\n",
       "0            0.222405           0.223881           0.225941   \n",
       "1            0.222405           0.223881           0.225941   \n",
       "2            0.222405           0.223881           0.225941   \n",
       "3            0.222405           0.223881           0.225941   \n",
       "4            0.222405           0.223881           0.225941   \n",
       "5            0.222405           0.223881           0.225941   \n",
       "6            0.222405           0.223881           0.225941   \n",
       "7            0.222405           0.223881           0.225941   \n",
       "8            0.222405           0.223881           0.225941   \n",
       "9            0.222405           0.223881           0.225941   \n",
       "10           0.222405           0.223881           0.225941   \n",
       "11           0.226524           0.224710           0.228452   \n",
       "12           0.569193           0.573798           0.577406   \n",
       "13           0.299012           0.291874           0.282845   \n",
       "14           0.298188           0.291874           0.282845   \n",
       "15           0.227348           0.225539           0.228452   \n",
       "16           0.438221           0.443615           0.426778   \n",
       "17           0.609555           0.624378           0.612552   \n",
       "18           0.299012           0.293532           0.282845   \n",
       "19           0.298188           0.291874           0.282845   \n",
       "20           0.438221           0.447761           0.428452   \n",
       "21           0.630972           0.646766           0.632636   \n",
       "22           0.609555           0.625207           0.611715   \n",
       "23           0.299012           0.293532           0.282845   \n",
       "24           0.298188           0.291874           0.282845   \n",
       "\n",
       "    split4_test_score  mean_test_score  std_test_score  rank_test_score  \n",
       "0            0.228426         0.224381        0.002517               15  \n",
       "1            0.228426         0.224381        0.002517               15  \n",
       "2            0.228426         0.224381        0.002517               15  \n",
       "3            0.228426         0.224381        0.002517               15  \n",
       "4            0.228426         0.224381        0.002517               15  \n",
       "5            0.228426         0.224381        0.002517               15  \n",
       "6            0.228426         0.224381        0.002517               15  \n",
       "7            0.228426         0.224381        0.002517               15  \n",
       "8            0.228426         0.224381        0.002517               15  \n",
       "9            0.228426         0.224381        0.002517               15  \n",
       "10           0.228426         0.224381        0.002517               15  \n",
       "11           0.234349         0.227537        0.003720               14  \n",
       "12           0.571066         0.568344        0.009353                4  \n",
       "13           0.296954         0.293141        0.005641                9  \n",
       "14           0.296954         0.292809        0.005425               10  \n",
       "15           0.236887         0.228367        0.004494               13  \n",
       "16           0.434010         0.436140        0.005567                6  \n",
       "17           0.610829         0.608039        0.013549                2  \n",
       "18           0.296954         0.294303        0.006045                7  \n",
       "19           0.296954         0.292809        0.005425               10  \n",
       "20           0.438240         0.438631        0.006159                5  \n",
       "21           0.632826         0.632121        0.009272                1  \n",
       "22           0.610829         0.608039        0.013704                2  \n",
       "23           0.296954         0.294303        0.006045                7  \n",
       "24           0.296954         0.292809        0.005425               10  "
      ]
     },
     "execution_count": 74,
     "metadata": {},
     "output_type": "execute_result"
    }
   ],
   "source": [
    "pd.DataFrame(gs_stem.cv_results_)"
   ]
  },
  {
   "cell_type": "code",
   "execution_count": 75,
   "metadata": {},
   "outputs": [],
   "source": [
    "# MATRICE DE CONFUSION / RAPPEL / F1_SCORE"
   ]
  },
  {
   "cell_type": "code",
   "execution_count": 76,
   "metadata": {},
   "outputs": [],
   "source": [
    "pred = gs_stem.predict(x_test_stem)\n",
    "confusion = confusion_matrix(y_test_stem, pred)"
   ]
  },
  {
   "cell_type": "code",
   "execution_count": 78,
   "metadata": {},
   "outputs": [
    {
     "data": {
      "image/png": "[encoded data removed]",
      "text/plain": [
       "<Figure size 1296x1296 with 1 Axes>"
      ]
     },
     "metadata": {
      "needs_background": "light"
     },
     "output_type": "display_data"
    }
   ],
   "source": [
    "fig, ax = plot_confusion_matrix(conf_mat=confusion, figsize=(18,18))\n",
    "plt.show()"
   ]
  },
  {
   "cell_type": "code",
   "execution_count": 79,
   "metadata": {},
   "outputs": [
    {
     "name": "stderr",
     "output_type": "stream",
     "text": [
      "/Users/antoine/Documents/Tests/interview/Posos/posos_interview/venvPosos/lib/python3.7/site-packages/sklearn/metrics/classification.py:1437: UndefinedMetricWarning: F-score is ill-defined and being set to 0.0 in labels with no predicted samples.\n",
      "  'precision', 'predicted', average, warn_for)\n"
     ]
    },
    {
     "data": {
      "text/plain": [
       "(0.6292974588938715, 0.5201364404954408)"
      ]
     },
     "execution_count": 79,
     "metadata": {},
     "output_type": "execute_result"
    }
   ],
   "source": [
    "f1_score(y_test_stem, pred, average=\"micro\") ,f1_score(y_test_stem, pred, average=\"macro\") "
   ]
  },
  {
   "cell_type": "code",
   "execution_count": null,
   "metadata": {},
   "outputs": [],
   "source": []
  },
  {
   "cell_type": "code",
   "execution_count": null,
   "metadata": {},
   "outputs": [],
   "source": []
  },
  {
   "cell_type": "markdown",
   "metadata": {},
   "source": [
    "# Word2vec"
   ]
  },
  {
   "cell_type": "code",
   "execution_count": 80,
   "metadata": {},
   "outputs": [],
   "source": [
    "from gensim.models import Word2Vec\n",
    "from sklearn.model_selection import GridSearchCV\n",
    "from sklearn.svm import SVC\n",
    "import pickle"
   ]
  },
  {
   "cell_type": "code",
   "execution_count": 81,
   "metadata": {},
   "outputs": [
    {
     "data": {
      "text/plain": [
       "(8028, 2)"
      ]
     },
     "execution_count": 81,
     "metadata": {},
     "output_type": "execute_result"
    }
   ],
   "source": [
    "input_train.shape"
   ]
  },
  {
   "cell_type": "code",
   "execution_count": 82,
   "metadata": {},
   "outputs": [
    {
     "data": {
      "text/html": [
       "<div>\n",
       "<style scoped>\n",
       "    .dataframe tbody tr th:only-of-type {\n",
       "        vertical-align: middle;\n",
       "    }\n",
       "\n",
       "    .dataframe tbody tr th {\n",
       "        vertical-align: top;\n",
       "    }\n",
       "\n",
       "    .dataframe thead th {\n",
       "        text-align: right;\n",
       "    }\n",
       "</style>\n",
       "<table border=\"1\" class=\"dataframe\">\n",
       "  <thead>\n",
       "    <tr style=\"text-align: right;\">\n",
       "      <th></th>\n",
       "      <th>ID</th>\n",
       "      <th>question</th>\n",
       "    </tr>\n",
       "  </thead>\n",
       "  <tbody>\n",
       "    <tr>\n",
       "      <td>0</td>\n",
       "      <td>0</td>\n",
       "      <td>bonjour,  je m suis trompé de forum pour ma qu...</td>\n",
       "    </tr>\n",
       "    <tr>\n",
       "      <td>1</td>\n",
       "      <td>1</td>\n",
       "      <td>est ce que le motilium me soulagera contre les...</td>\n",
       "    </tr>\n",
       "    <tr>\n",
       "      <td>2</td>\n",
       "      <td>2</td>\n",
       "      <td>mon médecin m'a prescrit adenyl. au 2ème cache...</td>\n",
       "    </tr>\n",
       "    <tr>\n",
       "      <td>3</td>\n",
       "      <td>3</td>\n",
       "      <td>Est-ce qu'il existe une forme adaptée aux enfa...</td>\n",
       "    </tr>\n",
       "    <tr>\n",
       "      <td>4</td>\n",
       "      <td>4</td>\n",
       "      <td>mon  medecin  me soigne  pour  une  rhino  pha...</td>\n",
       "    </tr>\n",
       "  </tbody>\n",
       "</table>\n",
       "</div>"
      ],
      "text/plain": [
       "   ID                                           question\n",
       "0   0  bonjour,  je m suis trompé de forum pour ma qu...\n",
       "1   1  est ce que le motilium me soulagera contre les...\n",
       "2   2  mon médecin m'a prescrit adenyl. au 2ème cache...\n",
       "3   3  Est-ce qu'il existe une forme adaptée aux enfa...\n",
       "4   4  mon  medecin  me soigne  pour  une  rhino  pha..."
      ]
     },
     "execution_count": 82,
     "metadata": {},
     "output_type": "execute_result"
    }
   ],
   "source": [
    "input_train.head()"
   ]
  },
  {
   "cell_type": "code",
   "execution_count": 83,
   "metadata": {},
   "outputs": [
    {
     "data": {
      "text/plain": [
       "'bonjour   je m suis trompé de forum pour ma question alors je la repose ici  je pris pour la première fois hier du paroxétine et ce matin c est une catastrophe  picotement dasn tous le corps annonciateur de sueur froide très très massive et de vomissement  j en suis à deux crises depuis 5 heure du mat  la cela semble passer mes mes mains reste moites et chaude estce normal pour la première fois merci a tous'"
      ]
     },
     "execution_count": 83,
     "metadata": {},
     "output_type": "execute_result"
    }
   ],
   "source": [
    "stop_words_fr = stopwords.words(\"french\")\n",
    "cleaned_sentence_array = [re.sub(\",|-|'|\\.|\\?\" ,\" \", str(row)) for row  in input_train[\"question\"]   ]\n",
    "cleaned_sentence_array[0]             "
   ]
  },
  {
   "cell_type": "code",
   "execution_count": 84,
   "metadata": {},
   "outputs": [],
   "source": [
    "def get_sentence_splited_list(cleaned_sentence_array):\n",
    "    sentence_splited_list = []\n",
    "    for sentence in cleaned_sentence_array:\n",
    "        new_splited_sentence = []\n",
    "        for word in sentence.split(\" \"):\n",
    "            if word and len(word) >2 and word not in stop_words_fr:\n",
    "                new_splited_sentence.append(word.lower())\n",
    "        sentence_splited_list.append(new_splited_sentence) \n",
    "    return sentence_splited_list\n",
    "    "
   ]
  },
  {
   "cell_type": "code",
   "execution_count": 85,
   "metadata": {},
   "outputs": [],
   "source": [
    "def get_vector_list(sentence_splited_list, w2v_model):\n",
    "    empty_vector_list = []\n",
    "    vector_list = []\n",
    "    for index, word_list in enumerate(sentence_splited_list): #[1:2]:\n",
    "        vocab_words = []\n",
    "        for word in word_list:\n",
    "            if word in w2v_model.wv.vocab.keys():\n",
    "                vocab_words.append(w2v_model.wv[word])\n",
    "        if not vocab_words:\n",
    "            empty_vector_list.append(index)\n",
    "        else:\n",
    "            mean_vect = np.mean(vocab_words, axis=0)\n",
    "            vector_list.append(mean_vect)\n",
    "    return vector_list, empty_vector_list"
   ]
  },
  {
   "cell_type": "code",
   "execution_count": 86,
   "metadata": {
    "scrolled": true
   },
   "outputs": [
    {
     "data": {
      "text/html": [
       "<div>\n",
       "<style scoped>\n",
       "    .dataframe tbody tr th:only-of-type {\n",
       "        vertical-align: middle;\n",
       "    }\n",
       "\n",
       "    .dataframe tbody tr th {\n",
       "        vertical-align: top;\n",
       "    }\n",
       "\n",
       "    .dataframe thead th {\n",
       "        text-align: right;\n",
       "    }\n",
       "</style>\n",
       "<table border=\"1\" class=\"dataframe\">\n",
       "  <thead>\n",
       "    <tr style=\"text-align: right;\">\n",
       "      <th></th>\n",
       "      <th>question_splited</th>\n",
       "    </tr>\n",
       "  </thead>\n",
       "  <tbody>\n",
       "    <tr>\n",
       "      <td>0</td>\n",
       "      <td>[bonjour, trompé, forum, question, alors, repo...</td>\n",
       "    </tr>\n",
       "    <tr>\n",
       "      <td>1</td>\n",
       "      <td>[motilium, soulagera, contre, nausées]</td>\n",
       "    </tr>\n",
       "    <tr>\n",
       "      <td>2</td>\n",
       "      <td>[médecin, prescrit, adenyl, 2ème, cachet, maux...</td>\n",
       "    </tr>\n",
       "    <tr>\n",
       "      <td>3</td>\n",
       "      <td>[est, existe, forme, adaptée, enfant, 5ans, mi...</td>\n",
       "    </tr>\n",
       "    <tr>\n",
       "      <td>4</td>\n",
       "      <td>[medecin, soigne, rhino, pharingite, prescrit,...</td>\n",
       "    </tr>\n",
       "  </tbody>\n",
       "</table>\n",
       "</div>"
      ],
      "text/plain": [
       "                                    question_splited\n",
       "0  [bonjour, trompé, forum, question, alors, repo...\n",
       "1             [motilium, soulagera, contre, nausées]\n",
       "2  [médecin, prescrit, adenyl, 2ème, cachet, maux...\n",
       "3  [est, existe, forme, adaptée, enfant, 5ans, mi...\n",
       "4  [medecin, soigne, rhino, pharingite, prescrit,..."
      ]
     },
     "execution_count": 86,
     "metadata": {},
     "output_type": "execute_result"
    }
   ],
   "source": [
    "sentence_splited_list = get_sentence_splited_list(cleaned_sentence_array)\n",
    "splited_df = pd.DataFrame({\"question_splited\": sentence_splited_list})\n",
    "splited_df.head()"
   ]
  },
  {
   "cell_type": "code",
   "execution_count": 87,
   "metadata": {},
   "outputs": [
    {
     "data": {
      "text/plain": [
       "10812"
      ]
     },
     "execution_count": 87,
     "metadata": {},
     "output_type": "execute_result"
    }
   ],
   "source": [
    "from collections import defaultdict\n",
    "word_freq = defaultdict(int)\n",
    "for sent in sentence_splited_list:\n",
    "    for w in sent:\n",
    "        word_freq[w] += 1\n",
    "len(word_freq)"
   ]
  },
  {
   "cell_type": "code",
   "execution_count": 88,
   "metadata": {
    "scrolled": true
   },
   "outputs": [],
   "source": [
    "w2v_model = Word2Vec(sentence_splited_list,\n",
    "                     min_count=10,\n",
    "                     window=2,\n",
    "                     size=100,\n",
    "                     sample=6e-5, \n",
    "                     alpha=0.03, \n",
    "                     min_alpha=0.0007, \n",
    "                     negative=20,\n",
    "                     sg=1\n",
    "                     )\n",
    "vector_list, empty_vector_list = get_vector_list(sentence_splited_list, w2v_model)"
   ]
  },
  {
   "cell_type": "code",
   "execution_count": 89,
   "metadata": {
    "scrolled": true
   },
   "outputs": [
    {
     "data": {
      "text/plain": [
       "dict_keys(['bonjour', 'forum', 'question', 'alors', 'ici', 'pris', 'première', 'fois', 'hier', 'paroxétine', 'matin', 'tous', 'corps', 'très', 'vomissement', 'deux', 'crises', 'depuis', 'heure', 'cela', 'semble', 'passer', 'mains', 'reste', 'normal', 'merci', 'contre', 'nausées', 'médecin', 'prescrit', '2ème', 'cachet', 'maux', 'tête', 'palpitations', 'sueurs', 'chaleur', 'tremblements', 'dès', 'arrêt', 'médicament', 'symptômes', 'déjà', 'arrivé', 'quelqu', 'est', 'existe', 'forme', 'enfant', 'medecin', 'amoxicilline', 'comme', 'anti', 'vraiment', 'cette', 'indication', 'viens', 'enceinte', 'savez', 'peux', 'dangereux', 'long', 'terme', 'sous', 'mercilon', 'saignements', 'quoi', 'prend', 'trinordiol', 'fin', 'plaquette', 'copain', 'pilule', 'donc', 'bien', 'efficace', 'debut', 'douleur', 'poitrine', 'impression', 'peu', 'plus', 'mal', 'bas', 'dois', 'laroxyl', 'doses', 'stress', 'psy', 'dit', 'prendre', '50mg', 'sertraline', 'soir', 'peut', '100mg', 'midi', 'bientot', 'semaine', 'sais', 'gratte', 'point', 'lié', 'antibiotique', 'quel', 'vaccin', 'cancer', 'col', 'vaccins', 'possible', 'pendant', 'grossesse', 'être', 'mis', 'savoir', 'bout', 'combien', 'injections', 'produit', 'faire', 'effets', 'jours', 'après', 'chaque', 'injection', 'sentir', 'comment', 'traiter', 'cuivre', 'eau', 'marché', '1er', 'indésirables', 'quels', 'risques', 'millepertuis', 'meme', 'temps', 'quand', 'termine', 'avoir', 'sexuels', 'quelle', 'durée', 'conservation', 'fais', 'grossir', 'sans', 'prise', 'toujours', 'protégée', 'non', 'utiliser', 'patch', 'evra', 'commencé', 'pdt', 'mois', 'temesta', 'deroxat', 'anxiolytique', 'antidépresseur', 'presque', 'effexor', 'xanax', 'cas', 'crise', 'angoisse', 'car', 'fait', 'voila', 'raison', 'rien', 'avaler', 'habitude', 'mange', 'chose', 'provoque', 'prends', 'jour', 'malgré', 'remarqué', 'peur', 'vacances', 'durer', 'type', 'vois', 'premiere', 'une', 'reçoit', 'prescription', 'bébé', 'demande', 'encore', 'aide', 'maigrir', '300', 'plein', 'partout', 'traitement', 'secondaires', 'commencer', 'puis', 'procurer', 'vitamine', 'provoquer', 'bouffées', 'anxiété', 'gastro', 'traitant', 'ensemble', 'réaction', 'petits', 'rouges', 'arreté', 'grippe', 'fer', 'oublier', 'rapport', 'protégé', 'celle', 'repris', 'dernière', 'normalement', 'risque', 'etre', 'risperdal', 'clomid', 'filles', 'fortes', 'estomac', 'connaissez', 'lovenox', 'rupture', 'aimerais', 'gel', 'sert', 'agit', 'lysanxia', 'dose', 'sirop', 'rhume', 'problème', 'vendredi', 'dernier', 'règles', 'nuit', 'jeudi', '22h', 'voudrais', '1ere', 'trop', 'tard', 'premier', 'regles', 'sexuel', 'cours', 'préservatif', 'conseillez', 'prenne', 'lendemain', 'avance', 'atarax', 'mélodia', 'voulais', 'prix', 'générique', '20mg', 'passé', 'reprendre', 'vers', 'fallait', 'comprimés', 'seropram', 'jasmine', 'poids', 'abilify', '100', 'pensez', 'mère', 'pieds', 'prescrire', 'avant', 'valium', 'ordonnance', 'moment', 'faut', 'augmentation', 'demi', 'aussi', 'fatiguée', 'voir', 'surtout', 'passe', 'beaucoup', 'moins', 'perdre', 'pourrait', 'aider', 'seulement', 'pillule', 'daily', 'probleme', 'sein', 'prescris', 'jasminelle', 'parait', 'saignement', 'vont', 'parce', 'solian', 'souffre', 'tout', 'début', 'poussée', 'acné', 'prenais', 'ludéal', 'près', 'ans', 'récemment', 'leeloo', 'aujourd', 'hui', 'dépression', 'que', 'souhaiterais', 'médicaments', 'oubli', 'microval', 'dépendance', 'ixprim', 'remplacer', 'copine', 'octobre', 'traitements', 'medicament', 'prozac', 'calme', 'arret', 'arrêter', 'malade', 'creme', 'mycose', 'pharmacie', 'continu', 'efferalgan', 'compatible', 'dimanche', 'urticaire', 'jambes', 'bras', 'allergie', 'stresam', 'arrêté', 'important', 'inquiète', 'continue', 'voudrai', 'molécule', 'nourrisson', 'cure', 'vrai', 'granules', 'gouttes', 'melodia', 'tant', 'contraception', 'skenan', 'doliprane', 'seins', 'gonfle', 'varnoline', 'vertiges', 'stilnox', 'entraine', 'seroquel', 'effet', 'femme', 'seule', 'fasse', 'malheureusement', 'hépatite', 'droit', 'solution', 'haldol', 'méliane', 'surdosage', 'danger', 'utilisé', 'petites', 'problèmes', 'dos', 'entre', 'rivotril', 'crois', 'soleil', 'ludeal', 'oublié', 'composition', 'boite', 'équivalent', 'laisser', 'patients', 'diane', 'chez', 'patiente', 'dosages', 'solupred', 'ginseng', 'utile', 'arrivent', 'milieu', 'cycle', 'marche', 'alternative', 'cialis', 'androcur', 'conseils', 'triafémi', 'oublie', 'comprimé', 'veux', 'dire', 'différents', 'enchaîner', 'plaquettes', 'toute', 'cerazette', 'stablon', 'connait', 'rotarix', 'bonjour!', 'arreter', 'quelles', 'autres', 'pilules', 'uniquement', 'norset', 'fièvre', 'jaune', 'placebo', 'dtp', 'enfin', 'disponible', 'cause', 'sur', 'chamomilla', 'duphaston', '9ch', 'gelsemium', 'pharmacienne', 'souhaiterai', 'pourquoi', 'ibuprofène', 'disponibles', 'teva', 'santé', 'différence', 'classe', 'thérapeutique', 'vie', 'utilise', 'svp', 'lorsqu', 'apparition', 'durant', 'attendre', 'complètement', 'perdu', '7jours', 'sevrage', 'demander', 'tercian', 'seroplex', 'donne', 'donner', 'secondaire', 'lexomil', 'surgestone', 'ixel', 'week', 'end', 'cet', '200', 'déconseillé', '12h', '5mg', 'assez', 'ainsi', 'panique', 'mieux', 'tombe', 'etc', 'dis', '10mg', 'gélules', 'causer', 'importante', 'patient', 'oui', 'cycléane', 'dure', 'action', 'les', 'antibiotiques', 'utérus', 'docteur', 'libido', 'veille', 'migraines', 'délivrance', 'posologie', 'ovulation', 'jusqu', 'depakote', 'insomnie', 'ressent', 'norlevo', 'tomber', 'carlin', 'maintenant', 'marron', 'trouver', 'dosage', 'mirena', 'faible', 'souvent', 'toutes', 'hors', 'amm', 'voie', 'xeroquel', 'mg)', 'commence', 'substituer', 'remboursé', 'vais', 'concernant', 'angoisses', 'dormir', 'convient', 'minesse', 'dosée', 'changement', 'ensuite', 'trouvé', 'bizarre', 'test', 'france', 'colpotrophine', 'ovule', 'autre', 'tres', 'tete', 'apres', 'compte', 'date', 'grave', 'huile', 'foie', 'cholestérol', 'bon', 'vacciner', 'generique', 'cystite', 'sterilet', 'visage', 'repas', 'ventre', 'veut', 'fatigue', 'reprends', 'pourriez', 'lyrica', 'fille', 'pouvez', 'éviter', 'certains', 'efficacité', 'escitalopram', 'personnes', 'part', 'doit', 'envie', 'subutex', 'quelques', 'mettre', 'implant', 'boutons', 'cérazette', 'environ', 'pertes', 'blanches', 'bcp', 'abondantes', 'inexium', 'lors', '2eme', 'recommence', 'petit', 'regle', 'avis', 'cependant', 'imovane', 'propranolol', 'diminuer', 'homéopathique', 'crampes', 'méthadone', 'conseillé', 'calcium', 'jamais', 'gynéco', 'douleurs', 'peuvent', 'indiqué', 'souhaite', 'possibles', 'alcool', 'suite', 'tétanos', 'semaines', 'pose', 'diu', 'advil', 'paracetamol', 'femmes', 'mauvaise', 'partir', 'nuvaring', 'anneau', 'retiré', 'tôt', 'rapports', 'juste', 'magnesium', 'dermato', 'moral', 'symptomes', 'quantité', 'notice', 'yaz', 'ceux', 'sang', 'tranxene', 'appétit', 'manger', 'fils', 'mardi', 'lequel', 'âge', 'fonctionne', 'passée', 'plaques', 'ror', 'adépal', 'reprise', 'crème', 'ovules', 'mari', 'troubles', 'seresta', 'belara', 'vient', 'sens', 'petite', 'venir', 'pillules', 'ami', 'période', 'forte', 'retard', 'minidril', 'jai', 'fini', 'vitamines', 'cachets', 'font', 'spiruline', 'marque', 'changer', 'actuellement', 'actif', 'indésirable', 'acide', 'indications', 'recommencer', 'aucun', 'suivante', 'recommandé', 'zoloft', '500', 'allait', 'utrogestan', 'poser', 'stérilet', 'plusieurs', 'tension', 'til', 'humeur', 'morphine', 'ceci', 'deja', 'prenant', 'infos', 'sujet', 'place', 'paroxetine', 'cymbalta', 'mai', 'devais', 'sachant', 'exemple', 'charge', 'optimizette', 'gros', 'cycles', 'antibio', 'mars', 'problemes', 'sommeil', 'faite', 'devrait', 'seul', 'noroxine', '400', 'augmentin', 'soigner', 'mélanger', 'gardasil', 'peau', 'oubliée', 'demandais', 'contraceptive', 'etait', 'pense', 'années', 'lithium', 'triella', 'continuer', 'cycleane', 'voilà', '1/2', 'certaines', 'acheter', 'tramadol', 'pause', 'coup', 'samedi', 'appliquer', 'conséquence', 'nouvelle', 'ordre', 'sinon', 'asthme', 'mon', 'gygy', 'donné', 'retrait', 'arrivée', 'deuxieme', 'croyez', 'deuxième', 'enchainer', 'afin', 'régles', 'entendu', 'qlaira', 'vaginale', 'homeo', 'produits', 'marrons', 'ignatia', 'celui', 'normale', 'niveau', 'pouvais', 'pouvoir', 'repevax', 'utilisation', 'connaît', 'huiles', 'essentielles', 'sait', 'attends', 'comprime', 'puisse', 'essayé', 'recommencé', 'généraliste', '(en', 'traite', 'rappel', 'prevenar', 'reviennent', 'elles', 'quelque', 'derniers', 'devrais', 'crestor', 'accoutumance', 'retrouver', 'nez', 'fort', 'nasonex', 'plutôt', 'longue', 'rapidement', 'décidé', 'heures', 'lorsque', 'ultra', 'douloureuses', 'homéopathie', 'perte', 'pourrais', 'voulu', 'musculaires', 'supporte', 'dors', 'simplement', 'traité', 'associer', 'lieu', 'conséquences', 'chute', 'cheveux', 'renseigner', 'aprés', 'fievre', 'transpiration', 'excessive', 'également', 'prochaine', 'protégés', 'eme', 'nausée', 'c’est', 'connu', 'explique', 'soucis', '(donc', 'goutte', 'journée', 'dafalgan', 'arrête', 'dés', 'essentielle', 'acnée', 'optilova', 'pareil', 'aller', 'consulter', 'longtemps', 'déja', 'ressenti', 'témoignages', 'nom', 'citalopram', 'sensation', 'homme', 'arrive', 'personne', 'dessus', 'précise', 'doute', 'souci', 'lundi', 'vomir', 'faisait', 'totalement', 'réponses', 'parler', 'pire', 'réponse', 'questions', 'besoin', 'message', 'aimerai', 'directement', 'roaccutane', 'déroxat', 'grosse', 'minerva', 'préservatifs', 'pouvait', 'change', 'vaccination', 'psychiatre', 'liste', 'donormyl', 'vente', 'accouchement', 'endroit', 'vomissements', 'mercredi', 'changé', '(daily', 'septembre', 'mêmes', 'sorte', 'anafranil', '150', 'vaginal', 'cherche', 'prévention', 'divarius', 'hépatique', 'prévu', 'bref', 'sauf', 'progressivement', 'langue', 'estreva', 'nexplanon', 'régime', 'amie', 'finir', 'contient', 'maximale', 'paracétamol', 'levothyrox', 'mise', 'gorge', 'genre', 'revaxis', 'rendue', 'bonsoir', 'zyprexa', 'gélule', 'coucher', 'varicelle', 'sédatif', 'certain', 'orelox', 'boire', 'rendre', 'poils', 'lait', 'diminution', 'démangeaisons', 'pharmacien', 'nux', 'vomica', 'température', 'seroxat', 'contraceptif', 'spasfon', 'délivrer', 'lutenyl', 'boîte', 'dont', 'magnésium', 'meliane', 'exactement', 'leponex', 'etais', 'plavix', 'lyoc', 'adepal', 'derniere', 'preservatif', 'nouveau', 'brunes', 'blanc', 'toux', 'influenzinum', 'coeur', 'enfants', 'diminue', 'allaitement', 'mildac', 'délai', 'jours)', 'pommade', '5ch', 'hyper', 'baisse', 'avlocardyl', 'gyneco', 'compatibles', 'phobie', 'sociale', 'zinc', 'désir', 'juillet', 'règle', 'migraine', 'protéger', 'biogaran', 'flacon', 'année', 'infection', 'urinaire', 'frigo', 'maximum', 'vagin', 'age', 'association', 'lesquels', '40mg', 'champix', 'sécurité', 'folique', 'provames', 'mauvais', 'prennent', 'fausse', 'trouve', 'trois', 'taux', 'thymuline', 'bonne', 'moyen', 'suivi', 'retour', '(je', 'kilos', 'parfois', 'hormones', 'mode', 'sandoz', 'interaction', 'injectable', 'tardyferon', 'débuter', 'doc', 'prenez', 'passage', 'arrete', 'gynécologue', 'enlever', 'remède', 'pour', 'positifs', '(ou', 'gé)', 'agir', 'manque', 'mylan', 'prescrite', 'floxyfral', 'etat', 'soulager', 'décaler', 'connaître', 'luteran', 'entrainer', 'bénéfiques', 'monuril', 'salut', 'mets', 'yeux', 'habituellement', 'alprazolam', 'notamment', 'état', 'enchainé', 'trés', 'teinture', 'valdoxan', 'progesterone', 'baisser', 'spotting', 'solutions', 'conseiller', 'écrit', 'vacciné', 'allergique', 'lutényl', 'grande', 'demain', 'depression', 'durent', 'bouche', 'refaire', 'pyostacine', 'lutéran', 'polio', 'lumalia', 'pilule)', 'diarrhée', 'gelules', 'diluer', 'jour)', 'adresse', 'j’ai', 'suivant', 'habituelle', 'selon', 'augmenté', 'insomnies', 'interruption', 'conseil', 'rouge', 'nuits', 'arnica', 'antidépresseurs', 'pourtant', 'met', 'augmenter', 'juin', 'maladie', 'ressens', 'harmonet', 'poid', 'ailleurs', 'présente', 'ancienne', 'vite', 'reponses', 'régulièrement', 'fatigué', 'suivre', 'ete', 'indesirables', '500mg', 'aucune', 'séroplex', '24h', 'medicaments', 'remplacement', 'éclairer', 'constipation', 'infanrix', 'fumer', 'premiers', 'libre', 'progestérone', 'arriver', 'partie', 'bebe', 'holgyeme', 'lien', 'avril', 'prises', 'vogalene', 'par', 'bilan', '&amp;'])"
      ]
     },
     "execution_count": 89,
     "metadata": {},
     "output_type": "execute_result"
    }
   ],
   "source": [
    "w2v_model.wv.vocab.keys()"
   ]
  },
  {
   "cell_type": "code",
   "execution_count": 90,
   "metadata": {},
   "outputs": [],
   "source": [
    "filename = 'models/word2vec_model.sav'\n",
    "pickle.dump(w2v_model, open(filename, 'wb'))"
   ]
  },
  {
   "cell_type": "code",
   "execution_count": 91,
   "metadata": {
    "scrolled": true
   },
   "outputs": [
    {
     "data": {
      "text/plain": [
       "7820"
      ]
     },
     "execution_count": 91,
     "metadata": {},
     "output_type": "execute_result"
    }
   ],
   "source": [
    "len(vector_list)"
   ]
  },
  {
   "cell_type": "code",
   "execution_count": 92,
   "metadata": {},
   "outputs": [],
   "source": [
    "output_without_na = output_train.intention.copy()\n",
    "for index in reversed(empty_vector_list):\n",
    "    output_without_na.pop(index)\n"
   ]
  },
  {
   "cell_type": "code",
   "execution_count": 93,
   "metadata": {},
   "outputs": [
    {
     "data": {
      "text/plain": [
       "(8028, 7820)"
      ]
     },
     "execution_count": 93,
     "metadata": {},
     "output_type": "execute_result"
    }
   ],
   "source": [
    "len(output_train.intention), len(output_without_na)"
   ]
  },
  {
   "cell_type": "code",
   "execution_count": 94,
   "metadata": {},
   "outputs": [
    {
     "data": {
      "text/plain": [
       "208"
      ]
     },
     "execution_count": 94,
     "metadata": {},
     "output_type": "execute_result"
    }
   ],
   "source": [
    "len(empty_vector_list)"
   ]
  },
  {
   "cell_type": "code",
   "execution_count": 95,
   "metadata": {},
   "outputs": [
    {
     "data": {
      "text/plain": [
       "[array([-0.11679669,  0.12990016,  0.14120783, -0.04367175, -0.08307907,\n",
       "         0.16893338, -0.14071265,  0.08525995, -0.01262957, -0.3086473 ,\n",
       "        -0.04076633, -0.2024457 ,  0.12071459, -0.08975048, -0.08944187,\n",
       "         0.33501184,  0.21560176,  0.06492173, -0.07437339,  0.33040744,\n",
       "        -0.22194448, -0.2676223 ,  0.3561023 ,  0.29838073,  0.18721114,\n",
       "        -0.18110466, -0.10874292, -0.10249858, -0.07237063, -0.11125161,\n",
       "        -0.15645413, -0.15768112,  0.04233959,  0.06685279,  0.10476375,\n",
       "         0.00569374, -0.33375093, -0.28752175, -0.13510357,  0.01560076,\n",
       "         0.00180404, -0.15270013,  0.00832085,  0.03049718, -0.10855345,\n",
       "         0.03470321,  0.3121866 , -0.22215046, -0.37181967,  0.2910085 ,\n",
       "        -0.1588487 ,  0.04789663,  0.44026834,  0.22981606, -0.2895481 ,\n",
       "         0.10334448,  0.11447714, -0.04360408,  0.02725296, -0.02860413,\n",
       "        -0.15189768,  0.05905133, -0.03060391, -0.07690564,  0.05916586,\n",
       "         0.06923135, -0.05932782, -0.06006657,  0.09645355, -0.00283579,\n",
       "        -0.21415089,  0.17522117,  0.10365613,  0.11598793, -0.16374215,\n",
       "         0.04377149, -0.04785468, -0.02225855,  0.06107784, -0.09266265,\n",
       "        -0.03371229, -0.07524005, -0.09313867, -0.0703034 , -0.02096821,\n",
       "         0.05741793, -0.26920527,  0.02084265,  0.26322857, -0.08706795,\n",
       "         0.49081665,  0.14647903, -0.28131866,  0.02670562, -0.22863995,\n",
       "        -0.1332245 ,  0.02998612,  0.21937509,  0.12958726,  0.00370538],\n",
       "       dtype=float32)]"
      ]
     },
     "execution_count": 95,
     "metadata": {},
     "output_type": "execute_result"
    }
   ],
   "source": [
    "vector_list[:1]"
   ]
  },
  {
   "cell_type": "code",
   "execution_count": 96,
   "metadata": {},
   "outputs": [],
   "source": [
    "x_train, x_test, y_train, y_test = train_test_split(vector_list, output_without_na) "
   ]
  },
  {
   "cell_type": "code",
   "execution_count": 97,
   "metadata": {},
   "outputs": [],
   "source": [
    "x_train_df = pd.DataFrame(x_train)\n",
    "x_test_df = pd.DataFrame(x_test)"
   ]
  },
  {
   "cell_type": "code",
   "execution_count": 98,
   "metadata": {},
   "outputs": [
    {
     "data": {
      "text/html": [
       "<div>\n",
       "<style scoped>\n",
       "    .dataframe tbody tr th:only-of-type {\n",
       "        vertical-align: middle;\n",
       "    }\n",
       "\n",
       "    .dataframe tbody tr th {\n",
       "        vertical-align: top;\n",
       "    }\n",
       "\n",
       "    .dataframe thead th {\n",
       "        text-align: right;\n",
       "    }\n",
       "</style>\n",
       "<table border=\"1\" class=\"dataframe\">\n",
       "  <thead>\n",
       "    <tr style=\"text-align: right;\">\n",
       "      <th></th>\n",
       "      <th>0</th>\n",
       "      <th>1</th>\n",
       "      <th>2</th>\n",
       "      <th>3</th>\n",
       "      <th>4</th>\n",
       "      <th>5</th>\n",
       "      <th>6</th>\n",
       "      <th>7</th>\n",
       "      <th>8</th>\n",
       "      <th>9</th>\n",
       "      <th>...</th>\n",
       "      <th>90</th>\n",
       "      <th>91</th>\n",
       "      <th>92</th>\n",
       "      <th>93</th>\n",
       "      <th>94</th>\n",
       "      <th>95</th>\n",
       "      <th>96</th>\n",
       "      <th>97</th>\n",
       "      <th>98</th>\n",
       "      <th>99</th>\n",
       "    </tr>\n",
       "  </thead>\n",
       "  <tbody>\n",
       "    <tr>\n",
       "      <td>0</td>\n",
       "      <td>-0.111925</td>\n",
       "      <td>0.129307</td>\n",
       "      <td>0.141558</td>\n",
       "      <td>-0.043782</td>\n",
       "      <td>-0.084129</td>\n",
       "      <td>0.168808</td>\n",
       "      <td>-0.137221</td>\n",
       "      <td>0.086814</td>\n",
       "      <td>-0.010854</td>\n",
       "      <td>-0.299929</td>\n",
       "      <td>...</td>\n",
       "      <td>0.483232</td>\n",
       "      <td>0.146076</td>\n",
       "      <td>-0.274840</td>\n",
       "      <td>0.026015</td>\n",
       "      <td>-0.224728</td>\n",
       "      <td>-0.133701</td>\n",
       "      <td>0.027651</td>\n",
       "      <td>0.217261</td>\n",
       "      <td>0.129836</td>\n",
       "      <td>0.002603</td>\n",
       "    </tr>\n",
       "    <tr>\n",
       "      <td>1</td>\n",
       "      <td>-0.116772</td>\n",
       "      <td>0.129039</td>\n",
       "      <td>0.137516</td>\n",
       "      <td>-0.042822</td>\n",
       "      <td>-0.080779</td>\n",
       "      <td>0.164934</td>\n",
       "      <td>-0.141155</td>\n",
       "      <td>0.085885</td>\n",
       "      <td>-0.014263</td>\n",
       "      <td>-0.308686</td>\n",
       "      <td>...</td>\n",
       "      <td>0.486434</td>\n",
       "      <td>0.145351</td>\n",
       "      <td>-0.275367</td>\n",
       "      <td>0.026701</td>\n",
       "      <td>-0.227274</td>\n",
       "      <td>-0.129302</td>\n",
       "      <td>0.029982</td>\n",
       "      <td>0.216058</td>\n",
       "      <td>0.126093</td>\n",
       "      <td>0.004863</td>\n",
       "    </tr>\n",
       "    <tr>\n",
       "      <td>2</td>\n",
       "      <td>-0.115130</td>\n",
       "      <td>0.129066</td>\n",
       "      <td>0.141634</td>\n",
       "      <td>-0.042853</td>\n",
       "      <td>-0.082276</td>\n",
       "      <td>0.167438</td>\n",
       "      <td>-0.140388</td>\n",
       "      <td>0.085439</td>\n",
       "      <td>-0.014314</td>\n",
       "      <td>-0.302858</td>\n",
       "      <td>...</td>\n",
       "      <td>0.485510</td>\n",
       "      <td>0.143848</td>\n",
       "      <td>-0.278317</td>\n",
       "      <td>0.025954</td>\n",
       "      <td>-0.226683</td>\n",
       "      <td>-0.132590</td>\n",
       "      <td>0.028765</td>\n",
       "      <td>0.218959</td>\n",
       "      <td>0.124296</td>\n",
       "      <td>0.004350</td>\n",
       "    </tr>\n",
       "    <tr>\n",
       "      <td>3</td>\n",
       "      <td>-0.118425</td>\n",
       "      <td>0.130075</td>\n",
       "      <td>0.143488</td>\n",
       "      <td>-0.043445</td>\n",
       "      <td>-0.083976</td>\n",
       "      <td>0.168663</td>\n",
       "      <td>-0.141298</td>\n",
       "      <td>0.085545</td>\n",
       "      <td>-0.014009</td>\n",
       "      <td>-0.311077</td>\n",
       "      <td>...</td>\n",
       "      <td>0.493167</td>\n",
       "      <td>0.144151</td>\n",
       "      <td>-0.281169</td>\n",
       "      <td>0.026133</td>\n",
       "      <td>-0.230639</td>\n",
       "      <td>-0.134949</td>\n",
       "      <td>0.028037</td>\n",
       "      <td>0.218502</td>\n",
       "      <td>0.130194</td>\n",
       "      <td>0.002830</td>\n",
       "    </tr>\n",
       "    <tr>\n",
       "      <td>4</td>\n",
       "      <td>-0.116159</td>\n",
       "      <td>0.130641</td>\n",
       "      <td>0.142601</td>\n",
       "      <td>-0.044436</td>\n",
       "      <td>-0.083375</td>\n",
       "      <td>0.170761</td>\n",
       "      <td>-0.141377</td>\n",
       "      <td>0.085693</td>\n",
       "      <td>-0.014262</td>\n",
       "      <td>-0.309632</td>\n",
       "      <td>...</td>\n",
       "      <td>0.493779</td>\n",
       "      <td>0.147001</td>\n",
       "      <td>-0.281813</td>\n",
       "      <td>0.026488</td>\n",
       "      <td>-0.228977</td>\n",
       "      <td>-0.134111</td>\n",
       "      <td>0.029017</td>\n",
       "      <td>0.221356</td>\n",
       "      <td>0.129402</td>\n",
       "      <td>0.004734</td>\n",
       "    </tr>\n",
       "  </tbody>\n",
       "</table>\n",
       "<p>5 rows × 100 columns</p>\n",
       "</div>"
      ],
      "text/plain": [
       "         0         1         2         3         4         5         6   \\\n",
       "0 -0.111925  0.129307  0.141558 -0.043782 -0.084129  0.168808 -0.137221   \n",
       "1 -0.116772  0.129039  0.137516 -0.042822 -0.080779  0.164934 -0.141155   \n",
       "2 -0.115130  0.129066  0.141634 -0.042853 -0.082276  0.167438 -0.140388   \n",
       "3 -0.118425  0.130075  0.143488 -0.043445 -0.083976  0.168663 -0.141298   \n",
       "4 -0.116159  0.130641  0.142601 -0.044436 -0.083375  0.170761 -0.141377   \n",
       "\n",
       "         7         8         9   ...        90        91        92        93  \\\n",
       "0  0.086814 -0.010854 -0.299929  ...  0.483232  0.146076 -0.274840  0.026015   \n",
       "1  0.085885 -0.014263 -0.308686  ...  0.486434  0.145351 -0.275367  0.026701   \n",
       "2  0.085439 -0.014314 -0.302858  ...  0.485510  0.143848 -0.278317  0.025954   \n",
       "3  0.085545 -0.014009 -0.311077  ...  0.493167  0.144151 -0.281169  0.026133   \n",
       "4  0.085693 -0.014262 -0.309632  ...  0.493779  0.147001 -0.281813  0.026488   \n",
       "\n",
       "         94        95        96        97        98        99  \n",
       "0 -0.224728 -0.133701  0.027651  0.217261  0.129836  0.002603  \n",
       "1 -0.227274 -0.129302  0.029982  0.216058  0.126093  0.004863  \n",
       "2 -0.226683 -0.132590  0.028765  0.218959  0.124296  0.004350  \n",
       "3 -0.230639 -0.134949  0.028037  0.218502  0.130194  0.002830  \n",
       "4 -0.228977 -0.134111  0.029017  0.221356  0.129402  0.004734  \n",
       "\n",
       "[5 rows x 100 columns]"
      ]
     },
     "execution_count": 98,
     "metadata": {},
     "output_type": "execute_result"
    }
   ],
   "source": [
    "x_train_df.head()"
   ]
  },
  {
   "cell_type": "code",
   "execution_count": 99,
   "metadata": {},
   "outputs": [],
   "source": [
    "grid = {\"gamma\": [0.001, 0.01, 0.1,1,10, 100], \"C\":[0.001, 0.01, 0.1,1,10,100]}\n",
    "#grid = {\"gamma\": [ 100, 1000], \"C\":[1000,100]}"
   ]
  },
  {
   "cell_type": "code",
   "execution_count": 100,
   "metadata": {},
   "outputs": [],
   "source": [
    "gs_wv = GridSearchCV(SVC(probability=True),grid, cv=3)"
   ]
  },
  {
   "cell_type": "code",
   "execution_count": 101,
   "metadata": {},
   "outputs": [
    {
     "data": {
      "text/plain": [
       "GridSearchCV(cv=3, error_score='raise-deprecating',\n",
       "             estimator=SVC(C=1.0, cache_size=200, class_weight=None, coef0=0.0,\n",
       "                           decision_function_shape='ovr', degree=3,\n",
       "                           gamma='auto_deprecated', kernel='rbf', max_iter=-1,\n",
       "                           probability=True, random_state=None, shrinking=True,\n",
       "                           tol=0.001, verbose=False),\n",
       "             iid='warn', n_jobs=None,\n",
       "             param_grid={'C': [0.001, 0.01, 0.1, 1, 10, 100],\n",
       "                         'gamma': [0.001, 0.01, 0.1, 1, 10, 100]},\n",
       "             pre_dispatch='2*n_jobs', refit=True, return_train_score=False,\n",
       "             scoring=None, verbose=0)"
      ]
     },
     "execution_count": 101,
     "metadata": {},
     "output_type": "execute_result"
    }
   ],
   "source": [
    "gs_wv.fit(x_train_df, y_train)"
   ]
  },
  {
   "cell_type": "code",
   "execution_count": 102,
   "metadata": {},
   "outputs": [
    {
     "data": {
      "text/plain": [
       "SVC(C=100, cache_size=200, class_weight=None, coef0=0.0,\n",
       "    decision_function_shape='ovr', degree=3, gamma=100, kernel='rbf',\n",
       "    max_iter=-1, probability=True, random_state=None, shrinking=True, tol=0.001,\n",
       "    verbose=False)"
      ]
     },
     "execution_count": 102,
     "metadata": {},
     "output_type": "execute_result"
    }
   ],
   "source": [
    "gs_wv.best_estimator_"
   ]
  },
  {
   "cell_type": "code",
   "execution_count": 103,
   "metadata": {},
   "outputs": [
    {
     "data": {
      "text/plain": [
       "0.45507246376811594"
      ]
     },
     "execution_count": 103,
     "metadata": {},
     "output_type": "execute_result"
    }
   ],
   "source": [
    "gs_wv.best_score_"
   ]
  },
  {
   "cell_type": "code",
   "execution_count": 105,
   "metadata": {},
   "outputs": [
    {
     "data": {
      "text/plain": [
       "(0.7067348678601876, 0.4884910485933504)"
      ]
     },
     "execution_count": 105,
     "metadata": {},
     "output_type": "execute_result"
    }
   ],
   "source": [
    "gs_wv.score(x_train_df, y_train), gs_wv.score(x_test_df, y_test)"
   ]
  },
  {
   "cell_type": "code",
   "execution_count": 78,
   "metadata": {},
   "outputs": [],
   "source": [
    "pred = gs_wv.predict(x_test_df)\n",
    "confusion = confusion_matrix(y_test, pred)"
   ]
  },
  {
   "cell_type": "code",
   "execution_count": 79,
   "metadata": {},
   "outputs": [
    {
     "data": {
      "image/png": "[encoded data removed]",
      "text/plain": [
       "<Figure size 1296x1296 with 1 Axes>"
      ]
     },
     "metadata": {
      "needs_background": "light"
     },
     "output_type": "display_data"
    }
   ],
   "source": [
    "fig, ax = plot_confusion_matrix(conf_mat=confusion, figsize=(18,18))\n",
    "plt.show()"
   ]
  },
  {
   "cell_type": "code",
   "execution_count": 80,
   "metadata": {},
   "outputs": [
    {
     "name": "stderr",
     "output_type": "stream",
     "text": [
      "/Users/antoine/Documents/Tests/interview/Posos/posos_interview/venvPosos/lib/python3.7/site-packages/sklearn/metrics/classification.py:1437: UndefinedMetricWarning: F-score is ill-defined and being set to 0.0 in labels with no predicted samples.\n",
      "  'precision', 'predicted', average, warn_for)\n"
     ]
    },
    {
     "data": {
      "text/plain": [
       "(0.4762148337595908, 0.3127344443525843)"
      ]
     },
     "execution_count": 80,
     "metadata": {},
     "output_type": "execute_result"
    }
   ],
   "source": [
    "f1_score(y_test, pred, average=\"micro\") ,f1_score(y_test, pred, average=\"macro\") "
   ]
  },
  {
   "cell_type": "code",
   "execution_count": 81,
   "metadata": {},
   "outputs": [],
   "source": [
    "filename_svm = 'models/svm_wv_model.sav'\n",
    "pickle.dump(gs_wv.best_estimator_, open(filename_svm, 'wb'))"
   ]
  },
  {
   "cell_type": "code",
   "execution_count": 82,
   "metadata": {},
   "outputs": [
    {
     "data": {
      "text/plain": [
       "SVC(C=100, cache_size=200, class_weight=None, coef0=0.0,\n",
       "    decision_function_shape='ovr', degree=3, gamma=100, kernel='rbf',\n",
       "    max_iter=-1, probability=True, random_state=None, shrinking=True, tol=0.001,\n",
       "    verbose=False)"
      ]
     },
     "execution_count": 82,
     "metadata": {},
     "output_type": "execute_result"
    }
   ],
   "source": [
    "gs_wv.best_estimator_"
   ]
  },
  {
   "cell_type": "code",
   "execution_count": 83,
   "metadata": {},
   "outputs": [],
   "source": [
    "filename_svm = 'models/svm_wv_model.sav'"
   ]
  },
  {
   "cell_type": "code",
   "execution_count": 84,
   "metadata": {},
   "outputs": [
    {
     "data": {
      "text/plain": [
       "SVC(C=100, cache_size=200, class_weight=None, coef0=0.0,\n",
       "    decision_function_shape='ovr', degree=3, gamma=100, kernel='rbf',\n",
       "    max_iter=-1, probability=True, random_state=None, shrinking=True, tol=0.001,\n",
       "    verbose=False)"
      ]
     },
     "execution_count": 84,
     "metadata": {},
     "output_type": "execute_result"
    }
   ],
   "source": [
    "loaded_model = pickle.load(open(filename_svm, 'rb'))\n",
    "loaded_model"
   ]
  },
  {
   "cell_type": "code",
   "execution_count": 85,
   "metadata": {},
   "outputs": [
    {
     "data": {
      "text/plain": [
       "0.4762148337595908"
      ]
     },
     "execution_count": 85,
     "metadata": {},
     "output_type": "execute_result"
    }
   ],
   "source": [
    "loaded_model.score(x_test_df, y_test)"
   ]
  },
  {
   "cell_type": "code",
   "execution_count": 86,
   "metadata": {},
   "outputs": [],
   "source": [
    "# TEST on query"
   ]
  },
  {
   "cell_type": "code",
   "execution_count": 87,
   "metadata": {},
   "outputs": [],
   "source": [
    "query_to_test = \"risques poisson cru pendant la grossesse ?\""
   ]
  },
  {
   "cell_type": "code",
   "execution_count": 88,
   "metadata": {},
   "outputs": [],
   "source": [
    "cleaned_query_to_test = [re.sub(\",|-|'|\\.|\\?\" ,\" \", str(query_to_test)).split(\" \") ]"
   ]
  },
  {
   "cell_type": "code",
   "execution_count": 89,
   "metadata": {},
   "outputs": [
    {
     "data": {
      "text/plain": [
       "[['risques', 'poisson', 'cru', 'pendant', 'la', 'grossesse', '', '']]"
      ]
     },
     "execution_count": 89,
     "metadata": {},
     "output_type": "execute_result"
    }
   ],
   "source": [
    "cleaned_query_to_test"
   ]
  },
  {
   "cell_type": "code",
   "execution_count": 90,
   "metadata": {},
   "outputs": [],
   "source": [
    "cleaned_query_vectorized = get_vector_list(cleaned_query_to_test, w2v_model) "
   ]
  },
  {
   "cell_type": "code",
   "execution_count": 91,
   "metadata": {},
   "outputs": [
    {
     "data": {
      "text/plain": [
       "array([44])"
      ]
     },
     "execution_count": 91,
     "metadata": {},
     "output_type": "execute_result"
    }
   ],
   "source": [
    "loaded_model.predict(cleaned_query_vectorized[0])"
   ]
  },
  {
   "cell_type": "code",
   "execution_count": 99,
   "metadata": {},
   "outputs": [
    {
     "data": {
      "text/plain": [
       "([array([-0.0941275 ,  0.03645319, -0.1523491 ,  0.2320203 , -0.06239169,\n",
       "          0.22209795, -0.0265361 , -0.04952991, -0.06219365,  0.11961462,\n",
       "          0.07932341,  0.10187658,  0.03324719, -0.02323397, -0.16870777,\n",
       "         -0.05632761, -0.12117753, -0.0696787 ,  0.0506738 ,  0.00545292,\n",
       "          0.34525895,  0.00319484,  0.1154505 ,  0.19955695, -0.3469055 ,\n",
       "         -0.12535048, -0.05605337,  0.30258453,  0.04672601, -0.06304171,\n",
       "         -0.18323183, -0.0274012 ,  0.2814717 ,  0.00500825, -0.26435736,\n",
       "          0.07674479, -0.08536127,  0.16636303, -0.08346764, -0.02971424,\n",
       "          0.05281016, -0.0311511 ,  0.285229  , -0.2560178 ,  0.16080983,\n",
       "          0.05450256,  0.08472773,  0.03443843, -0.00888435, -0.41215757,\n",
       "         -0.10152227, -0.03409123,  0.08301149, -0.04246217,  0.248226  ,\n",
       "          0.13006932,  0.35104397,  0.04498231,  0.05716096, -0.5137158 ,\n",
       "         -0.02380779, -0.10377884,  0.1712842 , -0.04171622, -0.13175313,\n",
       "          0.16798162, -0.04106819, -0.06219684,  0.13071497, -0.08890054,\n",
       "         -0.08261189,  0.04559841,  0.38398838, -0.12754531,  0.25130564,\n",
       "          0.29609945,  0.19260514, -0.09443643,  0.0547737 , -0.2413045 ,\n",
       "          0.25449878, -0.15925261,  0.22147425, -0.04081446,  0.12994884,\n",
       "          0.14416265,  0.02329758, -0.01432821, -0.01736863, -0.09356296,\n",
       "          0.33665308,  0.12409458, -0.24948704, -0.03286514,  0.23528545,\n",
       "          0.29603806, -0.02196554, -0.07401517,  0.00933099, -0.18765016],\n",
       "        dtype=float32)], [])"
      ]
     },
     "execution_count": 99,
     "metadata": {},
     "output_type": "execute_result"
    }
   ],
   "source": [
    "cleaned_query_vectorized"
   ]
  },
  {
   "cell_type": "code",
   "execution_count": 97,
   "metadata": {},
   "outputs": [
    {
     "data": {
      "text/plain": [
       "[array([-0.0941275 ,  0.03645319, -0.1523491 ,  0.2320203 , -0.06239169,\n",
       "         0.22209795, -0.0265361 , -0.04952991, -0.06219365,  0.11961462,\n",
       "         0.07932341,  0.10187658,  0.03324719, -0.02323397, -0.16870777,\n",
       "        -0.05632761, -0.12117753, -0.0696787 ,  0.0506738 ,  0.00545292,\n",
       "         0.34525895,  0.00319484,  0.1154505 ,  0.19955695, -0.3469055 ,\n",
       "        -0.12535048, -0.05605337,  0.30258453,  0.04672601, -0.06304171,\n",
       "        -0.18323183, -0.0274012 ,  0.2814717 ,  0.00500825, -0.26435736,\n",
       "         0.07674479, -0.08536127,  0.16636303, -0.08346764, -0.02971424,\n",
       "         0.05281016, -0.0311511 ,  0.285229  , -0.2560178 ,  0.16080983,\n",
       "         0.05450256,  0.08472773,  0.03443843, -0.00888435, -0.41215757,\n",
       "        -0.10152227, -0.03409123,  0.08301149, -0.04246217,  0.248226  ,\n",
       "         0.13006932,  0.35104397,  0.04498231,  0.05716096, -0.5137158 ,\n",
       "        -0.02380779, -0.10377884,  0.1712842 , -0.04171622, -0.13175313,\n",
       "         0.16798162, -0.04106819, -0.06219684,  0.13071497, -0.08890054,\n",
       "        -0.08261189,  0.04559841,  0.38398838, -0.12754531,  0.25130564,\n",
       "         0.29609945,  0.19260514, -0.09443643,  0.0547737 , -0.2413045 ,\n",
       "         0.25449878, -0.15925261,  0.22147425, -0.04081446,  0.12994884,\n",
       "         0.14416265,  0.02329758, -0.01432821, -0.01736863, -0.09356296,\n",
       "         0.33665308,  0.12409458, -0.24948704, -0.03286514,  0.23528545,\n",
       "         0.29603806, -0.02196554, -0.07401517,  0.00933099, -0.18765016],\n",
       "       dtype=float32)]"
      ]
     },
     "execution_count": 97,
     "metadata": {},
     "output_type": "execute_result"
    }
   ],
   "source": [
    "cleaned_query_vectorized[0]"
   ]
  },
  {
   "cell_type": "code",
   "execution_count": 93,
   "metadata": {},
   "outputs": [
    {
     "data": {
      "text/plain": [
       "array([[2.83425696e-03, 9.77740230e-04, 3.04240081e-03, 6.67662232e-04,\n",
       "        3.67323709e-03, 8.06496716e-03, 2.12654467e-03, 1.82882905e-03,\n",
       "        9.64227203e-03, 1.60204634e-03, 1.69850244e-03, 7.95199375e-04,\n",
       "        1.00155360e-03, 6.55596286e-04, 4.36097266e-03, 6.17396546e-04,\n",
       "        2.22466613e-03, 5.90876556e-03, 2.07193277e-03, 3.99797039e-04,\n",
       "        1.62799129e-03, 3.08929588e-03, 3.79995176e-03, 2.03171196e-03,\n",
       "        2.58400114e-03, 5.08658591e-03, 7.51627882e-03, 3.16940530e-03,\n",
       "        2.36475763e-02, 2.88819989e-03, 1.15979310e-02, 3.50051940e-03,\n",
       "        2.07041352e-02, 6.52235254e-03, 8.32572921e-03, 3.13096574e-03,\n",
       "        1.13690291e-03, 7.77060976e-03, 1.54734710e-03, 3.01148645e-03,\n",
       "        7.68249335e-04, 2.14590236e-03, 6.39168877e-03, 1.19001151e-02,\n",
       "        6.92131252e-01, 2.31965332e-03, 5.45274796e-03, 1.12855427e-03,\n",
       "        9.91959005e-02, 1.21843321e-03, 4.64186144e-04]])"
      ]
     },
     "execution_count": 93,
     "metadata": {},
     "output_type": "execute_result"
    }
   ],
   "source": [
    "loaded_model.predict_proba(cleaned_query_vectorized[0])"
   ]
  },
  {
   "cell_type": "code",
   "execution_count": 94,
   "metadata": {},
   "outputs": [
    {
     "data": {
      "text/plain": [
       "44"
      ]
     },
     "execution_count": 94,
     "metadata": {},
     "output_type": "execute_result"
    }
   ],
   "source": [
    "np.argmax(loaded_model.predict_proba(cleaned_query_vectorized[0]))"
   ]
  },
  {
   "cell_type": "code",
   "execution_count": 95,
   "metadata": {},
   "outputs": [
    {
     "data": {
      "text/plain": [
       "0.6921312524380857"
      ]
     },
     "execution_count": 95,
     "metadata": {},
     "output_type": "execute_result"
    }
   ],
   "source": [
    "loaded_model.predict_proba(cleaned_query_vectorized[0])[0][44]"
   ]
  },
  {
   "cell_type": "code",
   "execution_count": null,
   "metadata": {},
   "outputs": [],
   "source": []
  },
  {
   "cell_type": "code",
   "execution_count": null,
   "metadata": {},
   "outputs": [],
   "source": []
  }
 ],
 "metadata": {
  "kernelspec": {
   "display_name": "Python 3",
   "language": "python",
   "name": "python3"
  },
  "language_info": {
   "codemirror_mode": {
    "name": "ipython",
    "version": 3
   },
   "file_extension": ".py",
   "mimetype": "text/x-python",
   "name": "python",
   "nbconvert_exporter": "python",
   "pygments_lexer": "ipython3",
   "version": "3.7.3"
  }
 },
 "nbformat": 4,
 "nbformat_minor": 2
}
