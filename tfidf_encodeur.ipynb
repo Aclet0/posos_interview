{
 "cells": [
  {
   "cell_type": "code",
   "execution_count": 1,
   "metadata": {},
   "outputs": [
    {
     "name": "stderr",
     "output_type": "stream",
     "text": [
      "/Users/antoine/Documents/Tests/interview/Posos/posos_interview/venvPosos/lib/python3.7/site-packages/sklearn/externals/six.py:31: DeprecationWarning: The module is deprecated in version 0.21 and will be removed in version 0.23 since we've dropped support for Python 2.7. Please rely on the official version of six (https://pypi.org/project/six/).\n",
      "  \"(https://pypi.org/project/six/).\", DeprecationWarning)\n",
      "/Users/antoine/Documents/Tests/interview/Posos/posos_interview/venvPosos/lib/python3.7/site-packages/sklearn/externals/joblib/__init__.py:15: DeprecationWarning: sklearn.externals.joblib is deprecated in 0.21 and will be removed in 0.23. Please import this functionality directly from joblib, which can be installed with: pip install joblib. If this warning is raised when loading pickled models, you may need to re-serialize those models with scikit-learn 0.21+.\n",
      "  warnings.warn(msg, category=DeprecationWarning)\n"
     ]
    }
   ],
   "source": [
    "import sklearn\n",
    "import mglearn\n",
    "import numpy as np\n",
    "import pandas as pd\n",
    "import re\n",
    "import matplotlib.pyplot as plt"
   ]
  },
  {
   "cell_type": "code",
   "execution_count": 2,
   "metadata": {},
   "outputs": [
    {
     "name": "stdout",
     "output_type": "stream",
     "text": [
      "input_test_b1Yip6O.csv input_train.csv        output_train.csv\r\n"
     ]
    }
   ],
   "source": [
    "!ls data"
   ]
  },
  {
   "cell_type": "code",
   "execution_count": 3,
   "metadata": {},
   "outputs": [],
   "source": [
    "input_train = pd.read_csv(\"data/input_train.csv\")\n",
    "output_train = pd.read_csv(\"data/output_train.csv\")"
   ]
  },
  {
   "cell_type": "code",
   "execution_count": 4,
   "metadata": {
    "scrolled": true
   },
   "outputs": [
    {
     "data": {
      "text/html": [
       "<div>\n",
       "<style scoped>\n",
       "    .dataframe tbody tr th:only-of-type {\n",
       "        vertical-align: middle;\n",
       "    }\n",
       "\n",
       "    .dataframe tbody tr th {\n",
       "        vertical-align: top;\n",
       "    }\n",
       "\n",
       "    .dataframe thead th {\n",
       "        text-align: right;\n",
       "    }\n",
       "</style>\n",
       "<table border=\"1\" class=\"dataframe\">\n",
       "  <thead>\n",
       "    <tr style=\"text-align: right;\">\n",
       "      <th></th>\n",
       "      <th>index</th>\n",
       "      <th>intention</th>\n",
       "    </tr>\n",
       "  </thead>\n",
       "  <tbody>\n",
       "    <tr>\n",
       "      <td>0</td>\n",
       "      <td>28</td>\n",
       "      <td>1796</td>\n",
       "    </tr>\n",
       "    <tr>\n",
       "      <td>1</td>\n",
       "      <td>31</td>\n",
       "      <td>565</td>\n",
       "    </tr>\n",
       "    <tr>\n",
       "      <td>2</td>\n",
       "      <td>44</td>\n",
       "      <td>560</td>\n",
       "    </tr>\n",
       "    <tr>\n",
       "      <td>3</td>\n",
       "      <td>22</td>\n",
       "      <td>461</td>\n",
       "    </tr>\n",
       "    <tr>\n",
       "      <td>4</td>\n",
       "      <td>48</td>\n",
       "      <td>387</td>\n",
       "    </tr>\n",
       "  </tbody>\n",
       "</table>\n",
       "</div>"
      ],
      "text/plain": [
       "   index  intention\n",
       "0     28       1796\n",
       "1     31        565\n",
       "2     44        560\n",
       "3     22        461\n",
       "4     48        387"
      ]
     },
     "execution_count": 4,
     "metadata": {},
     "output_type": "execute_result"
    }
   ],
   "source": [
    "intention_count_df = output_train[\"intention\"].value_counts().reset_index()\n",
    "intention_count_df.head()"
   ]
  },
  {
   "cell_type": "code",
   "execution_count": 5,
   "metadata": {},
   "outputs": [
    {
     "data": {
      "image/png": "[encoded data removed]",
      "text/plain": [
       "<Figure size 864x864 with 1 Axes>"
      ]
     },
     "metadata": {
      "needs_background": "light"
     },
     "output_type": "display_data"
    }
   ],
   "source": [
    "ind = np.arange(intention_count_df.shape[0])\n",
    "fig, ax = plt.subplots(figsize=(12,12))\n",
    "rects = ax.barh(ind, intention_count_df[\"intention\"].values)\n",
    "ax.set_yticks(ind)\n",
    "ax.set_yticklabels(intention_count_df[\"index\"].values ,rotation='horizontal')\n",
    "plt.show()"
   ]
  },
  {
   "cell_type": "code",
   "execution_count": 6,
   "metadata": {},
   "outputs": [
    {
     "data": {
      "text/plain": [
       "((8028, 2), (8028, 2))"
      ]
     },
     "execution_count": 6,
     "metadata": {},
     "output_type": "execute_result"
    }
   ],
   "source": [
    "input_train.shape, output_train.shape"
   ]
  },
  {
   "cell_type": "code",
   "execution_count": 7,
   "metadata": {},
   "outputs": [
    {
     "data": {
      "text/html": [
       "<div>\n",
       "<style scoped>\n",
       "    .dataframe tbody tr th:only-of-type {\n",
       "        vertical-align: middle;\n",
       "    }\n",
       "\n",
       "    .dataframe tbody tr th {\n",
       "        vertical-align: top;\n",
       "    }\n",
       "\n",
       "    .dataframe thead th {\n",
       "        text-align: right;\n",
       "    }\n",
       "</style>\n",
       "<table border=\"1\" class=\"dataframe\">\n",
       "  <thead>\n",
       "    <tr style=\"text-align: right;\">\n",
       "      <th></th>\n",
       "      <th>ID</th>\n",
       "      <th>question</th>\n",
       "    </tr>\n",
       "  </thead>\n",
       "  <tbody>\n",
       "    <tr>\n",
       "      <td>0</td>\n",
       "      <td>0</td>\n",
       "      <td>bonjour,  je m suis trompé de forum pour ma qu...</td>\n",
       "    </tr>\n",
       "    <tr>\n",
       "      <td>1</td>\n",
       "      <td>1</td>\n",
       "      <td>est ce que le motilium me soulagera contre les...</td>\n",
       "    </tr>\n",
       "    <tr>\n",
       "      <td>2</td>\n",
       "      <td>2</td>\n",
       "      <td>mon médecin m'a prescrit adenyl. au 2ème cache...</td>\n",
       "    </tr>\n",
       "    <tr>\n",
       "      <td>3</td>\n",
       "      <td>3</td>\n",
       "      <td>Est-ce qu'il existe une forme adaptée aux enfa...</td>\n",
       "    </tr>\n",
       "    <tr>\n",
       "      <td>4</td>\n",
       "      <td>4</td>\n",
       "      <td>mon  medecin  me soigne  pour  une  rhino  pha...</td>\n",
       "    </tr>\n",
       "  </tbody>\n",
       "</table>\n",
       "</div>"
      ],
      "text/plain": [
       "   ID                                           question\n",
       "0   0  bonjour,  je m suis trompé de forum pour ma qu...\n",
       "1   1  est ce que le motilium me soulagera contre les...\n",
       "2   2  mon médecin m'a prescrit adenyl. au 2ème cache...\n",
       "3   3  Est-ce qu'il existe une forme adaptée aux enfa...\n",
       "4   4  mon  medecin  me soigne  pour  une  rhino  pha..."
      ]
     },
     "execution_count": 7,
     "metadata": {},
     "output_type": "execute_result"
    }
   ],
   "source": [
    "input_train.head()"
   ]
  },
  {
   "cell_type": "code",
   "execution_count": 8,
   "metadata": {},
   "outputs": [
    {
     "data": {
      "text/html": [
       "<div>\n",
       "<style scoped>\n",
       "    .dataframe tbody tr th:only-of-type {\n",
       "        vertical-align: middle;\n",
       "    }\n",
       "\n",
       "    .dataframe tbody tr th {\n",
       "        vertical-align: top;\n",
       "    }\n",
       "\n",
       "    .dataframe thead th {\n",
       "        text-align: right;\n",
       "    }\n",
       "</style>\n",
       "<table border=\"1\" class=\"dataframe\">\n",
       "  <thead>\n",
       "    <tr style=\"text-align: right;\">\n",
       "      <th></th>\n",
       "      <th>ID</th>\n",
       "      <th>intention</th>\n",
       "    </tr>\n",
       "  </thead>\n",
       "  <tbody>\n",
       "    <tr>\n",
       "      <td>0</td>\n",
       "      <td>0</td>\n",
       "      <td>28</td>\n",
       "    </tr>\n",
       "    <tr>\n",
       "      <td>1</td>\n",
       "      <td>1</td>\n",
       "      <td>31</td>\n",
       "    </tr>\n",
       "    <tr>\n",
       "      <td>2</td>\n",
       "      <td>2</td>\n",
       "      <td>28</td>\n",
       "    </tr>\n",
       "    <tr>\n",
       "      <td>3</td>\n",
       "      <td>3</td>\n",
       "      <td>44</td>\n",
       "    </tr>\n",
       "    <tr>\n",
       "      <td>4</td>\n",
       "      <td>4</td>\n",
       "      <td>31</td>\n",
       "    </tr>\n",
       "  </tbody>\n",
       "</table>\n",
       "</div>"
      ],
      "text/plain": [
       "   ID  intention\n",
       "0   0         28\n",
       "1   1         31\n",
       "2   2         28\n",
       "3   3         44\n",
       "4   4         31"
      ]
     },
     "execution_count": 8,
     "metadata": {},
     "output_type": "execute_result"
    }
   ],
   "source": [
    "output_train.head()"
   ]
  },
  {
   "cell_type": "code",
   "execution_count": 9,
   "metadata": {},
   "outputs": [],
   "source": [
    "from sklearn.feature_extraction.text import TfidfVectorizer, CountVectorizer\n",
    "from sklearn.model_selection import train_test_split\n",
    "from sklearn.svm import SVC\n",
    "from nltk.corpus import stopwords\n",
    "import nltk"
   ]
  },
  {
   "cell_type": "code",
   "execution_count": 10,
   "metadata": {},
   "outputs": [
    {
     "name": "stderr",
     "output_type": "stream",
     "text": [
      "[nltk_data] Downloading package stopwords to\n",
      "[nltk_data]     /Users/antoine/nltk_data...\n",
      "[nltk_data]   Package stopwords is already up-to-date!\n"
     ]
    },
    {
     "data": {
      "text/plain": [
       "True"
      ]
     },
     "execution_count": 10,
     "metadata": {},
     "output_type": "execute_result"
    }
   ],
   "source": [
    "nltk.download('stopwords')"
   ]
  },
  {
   "cell_type": "code",
   "execution_count": 11,
   "metadata": {},
   "outputs": [],
   "source": [
    "stop_words_fr = stopwords.words(\"french\")\n",
    "x_vect_count = CountVectorizer(min_df=5, stop_words=stop_words_fr).fit(input_train[\"question\"])\n",
    "x_train_count = x_vect_count.transform(input_train[\"question\"])\n",
    "y = output_train[\"intention\"]"
   ]
  },
  {
   "cell_type": "code",
   "execution_count": 12,
   "metadata": {},
   "outputs": [
    {
     "name": "stdout",
     "output_type": "stream",
     "text": [
      " feature len 2046\n",
      "\n",
      "feature begining ['00', '10', '100', '100mg', '10h', '10mg', '11', '11h', '12', '12h', '13', '14', '15', '150', '150mg', '15ch', '16', '17', '18', '19'] \n",
      "\n",
      "feature midlr ['arnica', 'arret', 'arrete', 'arreter', 'arreté', 'arrive', 'arrivent', 'arriver', 'arrivé', 'arrivée', 'arrivées', 'arréter', 'arrété', 'arrêt', 'arrête', 'arrêter', 'arrêté', 'arrêtée', 'arsenicum', 'aspegic'] \n"
     ]
    }
   ],
   "source": [
    "feature_names = x_vect_count.get_feature_names()\n",
    "print(\" feature len {}\\n\".format(len(feature_names)))\n",
    "print(\"feature begining {} \\n\".format(feature_names[:20]))\n",
    "print(\"feature midlr {} \".format(feature_names[200:220]))"
   ]
  },
  {
   "cell_type": "code",
   "execution_count": 13,
   "metadata": {},
   "outputs": [
    {
     "data": {
      "text/plain": [
       "(8028, 2046)"
      ]
     },
     "execution_count": 13,
     "metadata": {},
     "output_type": "execute_result"
    }
   ],
   "source": [
    "x_train_count .shape"
   ]
  },
  {
   "cell_type": "code",
   "execution_count": 14,
   "metadata": {},
   "outputs": [
    {
     "data": {
      "text/plain": [
       "(array([0, 0, 0, 0, 0, 0, 0, 0, 0, 0, 0, 0, 0, 0, 0, 0, 0, 0, 0, 0, 0, 0,\n",
       "        0, 0, 0, 0]),\n",
       " array([ 145,  300,  348,  467,  490,  541,  550,  794,  805,  885,  887,\n",
       "         922, 1081, 1105, 1121, 1223, 1302, 1310, 1428, 1453, 1537, 1601,\n",
       "        1685, 1869, 1905, 1991]))"
      ]
     },
     "execution_count": 14,
     "metadata": {},
     "output_type": "execute_result"
    }
   ],
   "source": [
    "np.nonzero(x_train_count[:1,:].toarray())"
   ]
  },
  {
   "cell_type": "code",
   "execution_count": 15,
   "metadata": {},
   "outputs": [],
   "source": [
    "x_train, x_test, y_train, y_test = train_test_split(x_train_count, y)"
   ]
  },
  {
   "cell_type": "code",
   "execution_count": 16,
   "metadata": {},
   "outputs": [
    {
     "data": {
      "text/plain": [
       "((6021, 2046), (6021,))"
      ]
     },
     "execution_count": 16,
     "metadata": {},
     "output_type": "execute_result"
    }
   ],
   "source": [
    "x_train.shape, y_train.shape"
   ]
  },
  {
   "cell_type": "code",
   "execution_count": 17,
   "metadata": {},
   "outputs": [
    {
     "name": "stderr",
     "output_type": "stream",
     "text": [
      "/Users/antoine/Documents/Tests/interview/Posos/posos_interview/venvPosos/lib/python3.7/site-packages/sklearn/svm/base.py:193: FutureWarning: The default value of gamma will change from 'auto' to 'scale' in version 0.22 to account better for unscaled features. Set gamma explicitly to 'auto' or 'scale' to avoid this warning.\n",
      "  \"avoid this warning.\", FutureWarning)\n"
     ]
    }
   ],
   "source": [
    "svc = SVC().fit(x_train, y_train)"
   ]
  },
  {
   "cell_type": "code",
   "execution_count": 18,
   "metadata": {},
   "outputs": [
    {
     "data": {
      "text/plain": [
       "(0.22687261252283675, 0.2142501245640259)"
      ]
     },
     "execution_count": 18,
     "metadata": {},
     "output_type": "execute_result"
    }
   ],
   "source": [
    "svc.score(x_train, y_train), svc.score(x_test, y_test)"
   ]
  },
  {
   "cell_type": "markdown",
   "metadata": {},
   "source": [
    "# TFIDF method"
   ]
  },
  {
   "cell_type": "code",
   "execution_count": 19,
   "metadata": {},
   "outputs": [],
   "source": [
    "# need to clean a bit my sentences remove - , : ...\n",
    "from sklearn.model_selection import GridSearchCV\n",
    "import matplotlib.pyplot as plt\n",
    "from mlxtend.evaluate import confusion_matrix\n",
    "from mlxtend.plotting import plot_confusion_matrix\n",
    "import nltk\n",
    "from sklearn.metrics import f1_score"
   ]
  },
  {
   "cell_type": "code",
   "execution_count": 20,
   "metadata": {},
   "outputs": [
    {
     "data": {
      "text/plain": [
       "'bonjour   je m suis trompé de forum pour ma question alors je la repose ici  je pris pour la première fois hier du paroxétine et ce matin c est une catastrophe  picotement dasn tous le corps annonciateur de sueur froide très très massive et de vomissement  j en suis à deux crises depuis 5 heure du mat  la cela semble passer mes mes mains reste moites et chaude estce normal pour la première fois merci a tous'"
      ]
     },
     "execution_count": 20,
     "metadata": {},
     "output_type": "execute_result"
    }
   ],
   "source": [
    "stop_words_fr = stopwords.words(\"french\")\n",
    "cleaned_sentence_array = [re.sub(\",|-|'|\\.|\\?\" ,\" \", str(row)).lower() for row  in input_train[\"question\"]   ]\n",
    "cleaned_sentence_array[0]             "
   ]
  },
  {
   "cell_type": "code",
   "execution_count": 21,
   "metadata": {},
   "outputs": [
    {
     "data": {
      "text/plain": [
       "0       bonjour,  je m suis trompé de forum pour ma qu...\n",
       "1       est ce que le motilium me soulagera contre les...\n",
       "2       mon médecin m'a prescrit adenyl. au 2ème cache...\n",
       "3       Est-ce qu'il existe une forme adaptée aux enfa...\n",
       "4       mon  medecin  me soigne  pour  une  rhino  pha...\n",
       "                              ...                        \n",
       "8023    en combien de temps un antibio n'est plus prés...\n",
       "8024    j'ai fait vacciner de revaxis mon fils 'année ...\n",
       "8025    Un patient m’a ramené une ordonnance de 3x1g d...\n",
       "8026    prise pillule du lendemain, faire une pause en...\n",
       "8027                                    advil médicament?\n",
       "Name: question, Length: 8028, dtype: object"
      ]
     },
     "execution_count": 21,
     "metadata": {},
     "output_type": "execute_result"
    }
   ],
   "source": [
    "input_train[\"question\"]"
   ]
  },
  {
   "cell_type": "code",
   "execution_count": 22,
   "metadata": {},
   "outputs": [],
   "source": [
    "y = output_train[\"intention\"]"
   ]
  },
  {
   "cell_type": "code",
   "execution_count": 23,
   "metadata": {},
   "outputs": [],
   "source": [
    "text_train = TfidfVectorizer(min_df=5, stop_words=stop_words_fr).fit_transform(cleaned_sentence_array)"
   ]
  },
  {
   "cell_type": "code",
   "execution_count": 24,
   "metadata": {},
   "outputs": [
    {
     "data": {
      "text/plain": [
       "<8028x2046 sparse matrix of type '<class 'numpy.float64'>'\n",
       "\twith 59954 stored elements in Compressed Sparse Row format>"
      ]
     },
     "execution_count": 24,
     "metadata": {},
     "output_type": "execute_result"
    }
   ],
   "source": [
    "text_train"
   ]
  },
  {
   "cell_type": "code",
   "execution_count": 25,
   "metadata": {},
   "outputs": [],
   "source": [
    "x_train_idf, x_test_idf, y_train_idf, y_test_idf = train_test_split(text_train,y)"
   ]
  },
  {
   "cell_type": "code",
   "execution_count": 26,
   "metadata": {},
   "outputs": [
    {
     "data": {
      "text/plain": [
       "((6021, 2046), (2007, 2046))"
      ]
     },
     "execution_count": 26,
     "metadata": {},
     "output_type": "execute_result"
    }
   ],
   "source": [
    "x_train_idf.shape ,x_test_idf.shape"
   ]
  },
  {
   "cell_type": "code",
   "execution_count": 27,
   "metadata": {},
   "outputs": [],
   "source": [
    "#grid = {\"C\":[0.001,0.01,1,10,100], \"gamma\":[0.001,0.01,1,10,100]}"
   ]
  },
  {
   "cell_type": "code",
   "execution_count": 28,
   "metadata": {},
   "outputs": [],
   "source": [
    "#gs_idf = GridSearchCV(SVC(), grid, cv=3)"
   ]
  },
  {
   "cell_type": "code",
   "execution_count": 29,
   "metadata": {},
   "outputs": [],
   "source": [
    "#gs_idf.fit(x_train_idf, y_train_idf)"
   ]
  },
  {
   "cell_type": "code",
   "execution_count": 30,
   "metadata": {},
   "outputs": [],
   "source": [
    "#gs_idf.best_estimator_"
   ]
  },
  {
   "cell_type": "code",
   "execution_count": 31,
   "metadata": {},
   "outputs": [],
   "source": [
    "#gs_idf.best_score_"
   ]
  },
  {
   "cell_type": "code",
   "execution_count": 32,
   "metadata": {},
   "outputs": [],
   "source": [
    "#gs_idf.score(x_train_idf, y_train_idf), gs_idf.score(x_test_idf, y_test_idf)"
   ]
  },
  {
   "cell_type": "code",
   "execution_count": 33,
   "metadata": {
    "scrolled": true
   },
   "outputs": [],
   "source": [
    "#pd.DataFrame(gs_idf.cv_results_)"
   ]
  },
  {
   "cell_type": "code",
   "execution_count": 34,
   "metadata": {},
   "outputs": [],
   "source": [
    "# TRY to normalize to improve SVC perf"
   ]
  },
  {
   "cell_type": "code",
   "execution_count": 35,
   "metadata": {},
   "outputs": [],
   "source": [
    "#from sklearn.preprocessing import MinMaxScaler, MaxAbsScaler\n",
    "#scaler = MaxAbsScaler()\n",
    "#x_train_scaled = scaler.fit_transform(x_train_idf)\n",
    "#x_test_scaled = scaler.transform(x_test_idf)"
   ]
  },
  {
   "cell_type": "code",
   "execution_count": 36,
   "metadata": {},
   "outputs": [],
   "source": [
    "#svc_idf_scaled = SVC().fit(x_train_scaled, y_train_idf)"
   ]
  },
  {
   "cell_type": "code",
   "execution_count": 37,
   "metadata": {},
   "outputs": [],
   "source": [
    "#svc_idf_scaled.score(x_train_scaled, y_train_idf), svc_idf_scaled.score(x_test_scaled, y_test_idf)"
   ]
  },
  {
   "cell_type": "code",
   "execution_count": 38,
   "metadata": {},
   "outputs": [],
   "source": [
    "# Try FRENCH STEMMER\n",
    "stemmer_fr=nltk.stem.snowball.FrenchStemmer()"
   ]
  },
  {
   "cell_type": "code",
   "execution_count": 39,
   "metadata": {},
   "outputs": [
    {
     "name": "stderr",
     "output_type": "stream",
     "text": [
      "/Users/antoine/Documents/Tests/interview/Posos/posos_interview/venvPosos/lib/python3.7/site-packages/sklearn/feature_extraction/text.py:300: UserWarning: Your stop_words may be inconsistent with your preprocessing. Tokenizing the stop words generated tokens ['aur', 'aurion', 'auron', 'avi', 'avion', 'avon', 'ayon', 'dan', 'e', 'euss', 'eussion', 'eûm', 'fuss', 'fussion', 'fûm', 'mêm', 'notr', 'ser', 'serion', 'seron', 'soi', 'somm', 'soyon', 'votr', 'éti', 'étion', 'ête'] not in stop_words.\n",
      "  'stop_words.' % sorted(inconsistent))\n"
     ]
    }
   ],
   "source": [
    "def stemming_tokenizer_fr(str_input):\n",
    "    #cleaned_sentence_array = [re.sub(\",|-|'|\\.|\\?\" ,\" \", str(row)).lower() for row  in input_train[\"question\"]   ]\n",
    "\n",
    "    words = re.sub(\",|-|'|\\.|\\?\", \" \", str_input).lower().split()\n",
    "    words = [stemmer_fr.stem(word) for word in words]\n",
    "    return words\n",
    "\n",
    "tf_vectorizer_2 = TfidfVectorizer(tokenizer=stemming_tokenizer_fr,\n",
    "                       stop_words = stop_words_fr,\n",
    "                       min_df = 5).fit(input_train[\"question\"])"
   ]
  },
  {
   "cell_type": "code",
   "execution_count": 40,
   "metadata": {},
   "outputs": [],
   "source": [
    "#x_fr = tf_vectorizer_2.transform(input_train[\"question\"])"
   ]
  },
  {
   "cell_type": "code",
   "execution_count": 41,
   "metadata": {},
   "outputs": [],
   "source": [
    "#x_train_1, x_test_1, y_train_1, y_test_1 = train_test_split(x_fr, y)"
   ]
  },
  {
   "cell_type": "code",
   "execution_count": 42,
   "metadata": {},
   "outputs": [],
   "source": [
    "#x_train_1.shape"
   ]
  },
  {
   "cell_type": "code",
   "execution_count": 43,
   "metadata": {},
   "outputs": [],
   "source": [
    "#grid = {\"C\":[0.001,0.01,1,10,100], \"gamma\":[0.001,0.01,1,10,100]}\n",
    "#gs = GridSearchCV(SVC(), grid, cv=5)"
   ]
  },
  {
   "cell_type": "code",
   "execution_count": 44,
   "metadata": {},
   "outputs": [],
   "source": [
    "#gs.fit(x_train_1, y_train_1)"
   ]
  },
  {
   "cell_type": "code",
   "execution_count": 45,
   "metadata": {},
   "outputs": [],
   "source": [
    "#gs.score(x_train_1, y_train_1), gs.score(x_test_1, y_test_1)"
   ]
  },
  {
   "cell_type": "code",
   "execution_count": 46,
   "metadata": {},
   "outputs": [],
   "source": [
    "#gs.best_score_, gs.best_params_"
   ]
  },
  {
   "cell_type": "code",
   "execution_count": 47,
   "metadata": {
    "scrolled": true
   },
   "outputs": [],
   "source": [
    "#pd.DataFrame(gs.cv_results_)"
   ]
  },
  {
   "cell_type": "code",
   "execution_count": 48,
   "metadata": {},
   "outputs": [],
   "source": [
    "# MATRICE DE CONFUSION / RAPPEL / F1_SCORE"
   ]
  },
  {
   "cell_type": "code",
   "execution_count": 49,
   "metadata": {},
   "outputs": [],
   "source": [
    "#pred = gs.predict(x_test_1)\n",
    "#confusion = confusion_matrix(y_test_1, pred)"
   ]
  },
  {
   "cell_type": "code",
   "execution_count": 50,
   "metadata": {},
   "outputs": [],
   "source": [
    "#confusion"
   ]
  },
  {
   "cell_type": "code",
   "execution_count": 51,
   "metadata": {},
   "outputs": [],
   "source": [
    "#fig, ax = plot_confusion_matrix(conf_mat=confusion, figsize=(18,18))\n",
    "#plt.show()"
   ]
  },
  {
   "cell_type": "code",
   "execution_count": 52,
   "metadata": {},
   "outputs": [],
   "source": [
    "#f1_score(y_test_1, pred, average=\"micro\") ,f1_score(y_test_1, pred, average=\"macro\") "
   ]
  },
  {
   "cell_type": "code",
   "execution_count": null,
   "metadata": {},
   "outputs": [],
   "source": []
  },
  {
   "cell_type": "code",
   "execution_count": null,
   "metadata": {},
   "outputs": [],
   "source": []
  },
  {
   "cell_type": "markdown",
   "metadata": {},
   "source": [
    "# Word2vec"
   ]
  },
  {
   "cell_type": "code",
   "execution_count": 53,
   "metadata": {},
   "outputs": [],
   "source": [
    "from gensim.models import Word2Vec\n",
    "from sklearn.model_selection import GridSearchCV\n",
    "from sklearn.svm import SVC\n",
    "import pickle"
   ]
  },
  {
   "cell_type": "code",
   "execution_count": 54,
   "metadata": {},
   "outputs": [
    {
     "data": {
      "text/plain": [
       "(8028, 2)"
      ]
     },
     "execution_count": 54,
     "metadata": {},
     "output_type": "execute_result"
    }
   ],
   "source": [
    "input_train.shape"
   ]
  },
  {
   "cell_type": "code",
   "execution_count": 55,
   "metadata": {},
   "outputs": [
    {
     "data": {
      "text/html": [
       "<div>\n",
       "<style scoped>\n",
       "    .dataframe tbody tr th:only-of-type {\n",
       "        vertical-align: middle;\n",
       "    }\n",
       "\n",
       "    .dataframe tbody tr th {\n",
       "        vertical-align: top;\n",
       "    }\n",
       "\n",
       "    .dataframe thead th {\n",
       "        text-align: right;\n",
       "    }\n",
       "</style>\n",
       "<table border=\"1\" class=\"dataframe\">\n",
       "  <thead>\n",
       "    <tr style=\"text-align: right;\">\n",
       "      <th></th>\n",
       "      <th>ID</th>\n",
       "      <th>question</th>\n",
       "    </tr>\n",
       "  </thead>\n",
       "  <tbody>\n",
       "    <tr>\n",
       "      <td>0</td>\n",
       "      <td>0</td>\n",
       "      <td>bonjour,  je m suis trompé de forum pour ma qu...</td>\n",
       "    </tr>\n",
       "    <tr>\n",
       "      <td>1</td>\n",
       "      <td>1</td>\n",
       "      <td>est ce que le motilium me soulagera contre les...</td>\n",
       "    </tr>\n",
       "    <tr>\n",
       "      <td>2</td>\n",
       "      <td>2</td>\n",
       "      <td>mon médecin m'a prescrit adenyl. au 2ème cache...</td>\n",
       "    </tr>\n",
       "    <tr>\n",
       "      <td>3</td>\n",
       "      <td>3</td>\n",
       "      <td>Est-ce qu'il existe une forme adaptée aux enfa...</td>\n",
       "    </tr>\n",
       "    <tr>\n",
       "      <td>4</td>\n",
       "      <td>4</td>\n",
       "      <td>mon  medecin  me soigne  pour  une  rhino  pha...</td>\n",
       "    </tr>\n",
       "  </tbody>\n",
       "</table>\n",
       "</div>"
      ],
      "text/plain": [
       "   ID                                           question\n",
       "0   0  bonjour,  je m suis trompé de forum pour ma qu...\n",
       "1   1  est ce que le motilium me soulagera contre les...\n",
       "2   2  mon médecin m'a prescrit adenyl. au 2ème cache...\n",
       "3   3  Est-ce qu'il existe une forme adaptée aux enfa...\n",
       "4   4  mon  medecin  me soigne  pour  une  rhino  pha..."
      ]
     },
     "execution_count": 55,
     "metadata": {},
     "output_type": "execute_result"
    }
   ],
   "source": [
    "input_train.head()"
   ]
  },
  {
   "cell_type": "code",
   "execution_count": 56,
   "metadata": {},
   "outputs": [
    {
     "data": {
      "text/plain": [
       "'bonjour   je m suis trompé de forum pour ma question alors je la repose ici  je pris pour la première fois hier du paroxétine et ce matin c est une catastrophe  picotement dasn tous le corps annonciateur de sueur froide très très massive et de vomissement  j en suis à deux crises depuis 5 heure du mat  la cela semble passer mes mes mains reste moites et chaude estce normal pour la première fois merci a tous'"
      ]
     },
     "execution_count": 56,
     "metadata": {},
     "output_type": "execute_result"
    }
   ],
   "source": [
    "stop_words_fr = stopwords.words(\"french\")\n",
    "cleaned_sentence_array = [re.sub(\",|-|'|\\.|\\?\" ,\" \", str(row)) for row  in input_train[\"question\"]   ]\n",
    "cleaned_sentence_array[0]             "
   ]
  },
  {
   "cell_type": "code",
   "execution_count": 57,
   "metadata": {},
   "outputs": [],
   "source": [
    "def get_sentence_splited_list(cleaned_sentence_array):\n",
    "    sentence_splited_list = []\n",
    "    for sentence in cleaned_sentence_array:\n",
    "        new_splited_sentence = []\n",
    "        for word in sentence.split(\" \"):\n",
    "            if word and len(word) >2 and word not in stop_words_fr:\n",
    "                new_splited_sentence.append(word.lower())\n",
    "        sentence_splited_list.append(new_splited_sentence) \n",
    "    return sentence_splited_list\n",
    "    "
   ]
  },
  {
   "cell_type": "code",
   "execution_count": 58,
   "metadata": {},
   "outputs": [],
   "source": [
    "def get_vector_list(sentence_splited_list, w2v_model):\n",
    "    empty_vector_list = []\n",
    "    vector_list = []\n",
    "    for index, word_list in enumerate(sentence_splited_list): #[1:2]:\n",
    "        vocab_words = []\n",
    "        for word in word_list:\n",
    "            if word in w2v_model.wv.vocab.keys():\n",
    "                vocab_words.append(w2v_model.wv[word])\n",
    "        if not vocab_words:\n",
    "            empty_vector_list.append(index)\n",
    "        else:\n",
    "            mean_vect = np.mean(vocab_words, axis=0)\n",
    "            vector_list.append(mean_vect)\n",
    "    return vector_list, empty_vector_list"
   ]
  },
  {
   "cell_type": "code",
   "execution_count": 59,
   "metadata": {
    "scrolled": true
   },
   "outputs": [
    {
     "data": {
      "text/html": [
       "<div>\n",
       "<style scoped>\n",
       "    .dataframe tbody tr th:only-of-type {\n",
       "        vertical-align: middle;\n",
       "    }\n",
       "\n",
       "    .dataframe tbody tr th {\n",
       "        vertical-align: top;\n",
       "    }\n",
       "\n",
       "    .dataframe thead th {\n",
       "        text-align: right;\n",
       "    }\n",
       "</style>\n",
       "<table border=\"1\" class=\"dataframe\">\n",
       "  <thead>\n",
       "    <tr style=\"text-align: right;\">\n",
       "      <th></th>\n",
       "      <th>question_splited</th>\n",
       "    </tr>\n",
       "  </thead>\n",
       "  <tbody>\n",
       "    <tr>\n",
       "      <td>0</td>\n",
       "      <td>[bonjour, trompé, forum, question, alors, repo...</td>\n",
       "    </tr>\n",
       "    <tr>\n",
       "      <td>1</td>\n",
       "      <td>[motilium, soulagera, contre, nausées]</td>\n",
       "    </tr>\n",
       "    <tr>\n",
       "      <td>2</td>\n",
       "      <td>[médecin, prescrit, adenyl, 2ème, cachet, maux...</td>\n",
       "    </tr>\n",
       "    <tr>\n",
       "      <td>3</td>\n",
       "      <td>[est, existe, forme, adaptée, enfant, 5ans, mi...</td>\n",
       "    </tr>\n",
       "    <tr>\n",
       "      <td>4</td>\n",
       "      <td>[medecin, soigne, rhino, pharingite, prescrit,...</td>\n",
       "    </tr>\n",
       "  </tbody>\n",
       "</table>\n",
       "</div>"
      ],
      "text/plain": [
       "                                    question_splited\n",
       "0  [bonjour, trompé, forum, question, alors, repo...\n",
       "1             [motilium, soulagera, contre, nausées]\n",
       "2  [médecin, prescrit, adenyl, 2ème, cachet, maux...\n",
       "3  [est, existe, forme, adaptée, enfant, 5ans, mi...\n",
       "4  [medecin, soigne, rhino, pharingite, prescrit,..."
      ]
     },
     "execution_count": 59,
     "metadata": {},
     "output_type": "execute_result"
    }
   ],
   "source": [
    "sentence_splited_list = get_sentence_splited_list(cleaned_sentence_array)\n",
    "splited_df = pd.DataFrame({\"question_splited\": sentence_splited_list})\n",
    "splited_df.head()"
   ]
  },
  {
   "cell_type": "code",
   "execution_count": 60,
   "metadata": {},
   "outputs": [
    {
     "data": {
      "text/plain": [
       "10812"
      ]
     },
     "execution_count": 60,
     "metadata": {},
     "output_type": "execute_result"
    }
   ],
   "source": [
    "from collections import defaultdict\n",
    "word_freq = defaultdict(int)\n",
    "for sent in sentence_splited_list:\n",
    "    for w in sent:\n",
    "        word_freq[w] += 1\n",
    "len(word_freq)"
   ]
  },
  {
   "cell_type": "code",
   "execution_count": 61,
   "metadata": {
    "scrolled": true
   },
   "outputs": [],
   "source": [
    "w2v_model = Word2Vec(sentence_splited_list,\n",
    "                     min_count=10,\n",
    "                     window=2,\n",
    "                     size=100,\n",
    "                     sample=6e-5, \n",
    "                     alpha=0.03, \n",
    "                     min_alpha=0.0007, \n",
    "                     negative=20,\n",
    "                     sg=1\n",
    "                     )\n",
    "vector_list, empty_vector_list = get_vector_list(sentence_splited_list, w2v_model)"
   ]
  },
  {
   "cell_type": "code",
   "execution_count": 62,
   "metadata": {
    "scrolled": true
   },
   "outputs": [
    {
     "data": {
      "text/plain": [
       "dict_keys(['bonjour', 'forum', 'question', 'alors', 'ici', 'pris', 'première', 'fois', 'hier', 'paroxétine', 'matin', 'tous', 'corps', 'très', 'vomissement', 'deux', 'crises', 'depuis', 'heure', 'cela', 'semble', 'passer', 'mains', 'reste', 'normal', 'merci', 'contre', 'nausées', 'médecin', 'prescrit', '2ème', 'cachet', 'maux', 'tête', 'palpitations', 'sueurs', 'chaleur', 'tremblements', 'dès', 'arrêt', 'médicament', 'symptômes', 'déjà', 'arrivé', 'quelqu', 'est', 'existe', 'forme', 'enfant', 'medecin', 'amoxicilline', 'comme', 'anti', 'vraiment', 'cette', 'indication', 'viens', 'enceinte', 'savez', 'peux', 'dangereux', 'long', 'terme', 'sous', 'mercilon', 'saignements', 'quoi', 'prend', 'trinordiol', 'fin', 'plaquette', 'copain', 'pilule', 'donc', 'bien', 'efficace', 'debut', 'douleur', 'poitrine', 'impression', 'peu', 'plus', 'mal', 'bas', 'dois', 'laroxyl', 'doses', 'stress', 'psy', 'dit', 'prendre', '50mg', 'sertraline', 'soir', 'peut', '100mg', 'midi', 'bientot', 'semaine', 'sais', 'gratte', 'point', 'lié', 'antibiotique', 'quel', 'vaccin', 'cancer', 'col', 'vaccins', 'possible', 'pendant', 'grossesse', 'être', 'mis', 'savoir', 'bout', 'combien', 'injections', 'produit', 'faire', 'effets', 'jours', 'après', 'chaque', 'injection', 'sentir', 'comment', 'traiter', 'cuivre', 'eau', 'marché', '1er', 'indésirables', 'quels', 'risques', 'millepertuis', 'meme', 'temps', 'quand', 'termine', 'avoir', 'sexuels', 'quelle', 'durée', 'conservation', 'fais', 'grossir', 'sans', 'prise', 'toujours', 'protégée', 'non', 'utiliser', 'patch', 'evra', 'commencé', 'pdt', 'mois', 'temesta', 'deroxat', 'anxiolytique', 'antidépresseur', 'presque', 'effexor', 'xanax', 'cas', 'crise', 'angoisse', 'car', 'fait', 'voila', 'raison', 'rien', 'avaler', 'habitude', 'mange', 'chose', 'provoque', 'prends', 'jour', 'malgré', 'remarqué', 'peur', 'vacances', 'durer', 'type', 'vois', 'premiere', 'une', 'reçoit', 'prescription', 'bébé', 'demande', 'encore', 'aide', 'maigrir', '300', 'plein', 'partout', 'traitement', 'secondaires', 'commencer', 'puis', 'procurer', 'vitamine', 'provoquer', 'bouffées', 'anxiété', 'gastro', 'traitant', 'ensemble', 'réaction', 'petits', 'rouges', 'arreté', 'grippe', 'fer', 'oublier', 'rapport', 'protégé', 'celle', 'repris', 'dernière', 'normalement', 'risque', 'etre', 'risperdal', 'clomid', 'filles', 'fortes', 'estomac', 'connaissez', 'lovenox', 'rupture', 'aimerais', 'gel', 'sert', 'agit', 'lysanxia', 'dose', 'sirop', 'rhume', 'problème', 'vendredi', 'dernier', 'règles', 'nuit', 'jeudi', '22h', 'voudrais', '1ere', 'trop', 'tard', 'premier', 'regles', 'sexuel', 'cours', 'préservatif', 'conseillez', 'prenne', 'lendemain', 'avance', 'atarax', 'mélodia', 'voulais', 'prix', 'générique', '20mg', 'passé', 'reprendre', 'vers', 'fallait', 'comprimés', 'seropram', 'jasmine', 'poids', 'abilify', '100', 'pensez', 'mère', 'pieds', 'prescrire', 'avant', 'valium', 'ordonnance', 'moment', 'faut', 'augmentation', 'demi', 'aussi', 'fatiguée', 'voir', 'surtout', 'passe', 'beaucoup', 'moins', 'perdre', 'pourrait', 'aider', 'seulement', 'pillule', 'daily', 'probleme', 'sein', 'prescris', 'jasminelle', 'parait', 'saignement', 'vont', 'parce', 'solian', 'souffre', 'tout', 'début', 'poussée', 'acné', 'prenais', 'ludéal', 'près', 'ans', 'récemment', 'leeloo', 'aujourd', 'hui', 'dépression', 'que', 'souhaiterais', 'médicaments', 'oubli', 'microval', 'dépendance', 'ixprim', 'remplacer', 'copine', 'octobre', 'traitements', 'medicament', 'prozac', 'calme', 'arret', 'arrêter', 'malade', 'creme', 'mycose', 'pharmacie', 'continu', 'efferalgan', 'compatible', 'dimanche', 'urticaire', 'jambes', 'bras', 'allergie', 'stresam', 'arrêté', 'important', 'inquiète', 'continue', 'voudrai', 'molécule', 'nourrisson', 'cure', 'vrai', 'granules', 'gouttes', 'melodia', 'tant', 'contraception', 'skenan', 'doliprane', 'seins', 'gonfle', 'varnoline', 'vertiges', 'stilnox', 'entraine', 'seroquel', 'effet', 'femme', 'seule', 'fasse', 'malheureusement', 'hépatite', 'droit', 'solution', 'haldol', 'méliane', 'surdosage', 'danger', 'utilisé', 'petites', 'problèmes', 'dos', 'entre', 'rivotril', 'crois', 'soleil', 'ludeal', 'oublié', 'composition', 'boite', 'équivalent', 'laisser', 'patients', 'diane', 'chez', 'patiente', 'dosages', 'solupred', 'ginseng', 'utile', 'arrivent', 'milieu', 'cycle', 'marche', 'alternative', 'cialis', 'androcur', 'conseils', 'triafémi', 'oublie', 'comprimé', 'veux', 'dire', 'différents', 'enchaîner', 'plaquettes', 'toute', 'cerazette', 'stablon', 'connait', 'rotarix', 'bonjour!', 'arreter', 'quelles', 'autres', 'pilules', 'uniquement', 'norset', 'fièvre', 'jaune', 'placebo', 'dtp', 'enfin', 'disponible', 'cause', 'sur', 'chamomilla', 'duphaston', '9ch', 'gelsemium', 'pharmacienne', 'souhaiterai', 'pourquoi', 'ibuprofène', 'disponibles', 'teva', 'santé', 'différence', 'classe', 'thérapeutique', 'vie', 'utilise', 'svp', 'lorsqu', 'apparition', 'durant', 'attendre', 'complètement', 'perdu', '7jours', 'sevrage', 'demander', 'tercian', 'seroplex', 'donne', 'donner', 'secondaire', 'lexomil', 'surgestone', 'ixel', 'week', 'end', 'cet', '200', 'déconseillé', '12h', '5mg', 'assez', 'ainsi', 'panique', 'mieux', 'tombe', 'etc', 'dis', '10mg', 'gélules', 'causer', 'importante', 'patient', 'oui', 'cycléane', 'dure', 'action', 'les', 'antibiotiques', 'utérus', 'docteur', 'libido', 'veille', 'migraines', 'délivrance', 'posologie', 'ovulation', 'jusqu', 'depakote', 'insomnie', 'ressent', 'norlevo', 'tomber', 'carlin', 'maintenant', 'marron', 'trouver', 'dosage', 'mirena', 'faible', 'souvent', 'toutes', 'hors', 'amm', 'voie', 'xeroquel', 'mg)', 'commence', 'substituer', 'remboursé', 'vais', 'concernant', 'angoisses', 'dormir', 'convient', 'minesse', 'dosée', 'changement', 'ensuite', 'trouvé', 'bizarre', 'test', 'france', 'colpotrophine', 'ovule', 'autre', 'tres', 'tete', 'apres', 'compte', 'date', 'grave', 'huile', 'foie', 'cholestérol', 'bon', 'vacciner', 'generique', 'cystite', 'sterilet', 'visage', 'repas', 'ventre', 'veut', 'fatigue', 'reprends', 'pourriez', 'lyrica', 'fille', 'pouvez', 'éviter', 'certains', 'efficacité', 'escitalopram', 'personnes', 'part', 'doit', 'envie', 'subutex', 'quelques', 'mettre', 'implant', 'boutons', 'cérazette', 'environ', 'pertes', 'blanches', 'bcp', 'abondantes', 'inexium', 'lors', '2eme', 'recommence', 'petit', 'regle', 'avis', 'cependant', 'imovane', 'propranolol', 'diminuer', 'homéopathique', 'crampes', 'méthadone', 'conseillé', 'calcium', 'jamais', 'gynéco', 'douleurs', 'peuvent', 'indiqué', 'souhaite', 'possibles', 'alcool', 'suite', 'tétanos', 'semaines', 'pose', 'diu', 'advil', 'paracetamol', 'femmes', 'mauvaise', 'partir', 'nuvaring', 'anneau', 'retiré', 'tôt', 'rapports', 'juste', 'magnesium', 'dermato', 'moral', 'symptomes', 'quantité', 'notice', 'yaz', 'ceux', 'sang', 'tranxene', 'appétit', 'manger', 'fils', 'mardi', 'lequel', 'âge', 'fonctionne', 'passée', 'plaques', 'ror', 'adépal', 'reprise', 'crème', 'ovules', 'mari', 'troubles', 'seresta', 'belara', 'vient', 'sens', 'petite', 'venir', 'pillules', 'ami', 'période', 'forte', 'retard', 'minidril', 'jai', 'fini', 'vitamines', 'cachets', 'font', 'spiruline', 'marque', 'changer', 'actuellement', 'actif', 'indésirable', 'acide', 'indications', 'recommencer', 'aucun', 'suivante', 'recommandé', 'zoloft', '500', 'allait', 'utrogestan', 'poser', 'stérilet', 'plusieurs', 'tension', 'til', 'humeur', 'morphine', 'ceci', 'deja', 'prenant', 'infos', 'sujet', 'place', 'paroxetine', 'cymbalta', 'mai', 'devais', 'sachant', 'exemple', 'charge', 'optimizette', 'gros', 'cycles', 'antibio', 'mars', 'problemes', 'sommeil', 'faite', 'devrait', 'seul', 'noroxine', '400', 'augmentin', 'soigner', 'mélanger', 'gardasil', 'peau', 'oubliée', 'demandais', 'contraceptive', 'etait', 'pense', 'années', 'lithium', 'triella', 'continuer', 'cycleane', 'voilà', '1/2', 'certaines', 'acheter', 'tramadol', 'pause', 'coup', 'samedi', 'appliquer', 'conséquence', 'nouvelle', 'ordre', 'sinon', 'asthme', 'mon', 'gygy', 'donné', 'retrait', 'arrivée', 'deuxieme', 'croyez', 'deuxième', 'enchainer', 'afin', 'régles', 'entendu', 'qlaira', 'vaginale', 'homeo', 'produits', 'marrons', 'ignatia', 'celui', 'normale', 'niveau', 'pouvais', 'pouvoir', 'repevax', 'utilisation', 'connaît', 'huiles', 'essentielles', 'sait', 'attends', 'comprime', 'puisse', 'essayé', 'recommencé', 'généraliste', '(en', 'traite', 'rappel', 'prevenar', 'reviennent', 'elles', 'quelque', 'derniers', 'devrais', 'crestor', 'accoutumance', 'retrouver', 'nez', 'fort', 'nasonex', 'plutôt', 'longue', 'rapidement', 'décidé', 'heures', 'lorsque', 'ultra', 'douloureuses', 'homéopathie', 'perte', 'pourrais', 'voulu', 'musculaires', 'supporte', 'dors', 'simplement', 'traité', 'associer', 'lieu', 'conséquences', 'chute', 'cheveux', 'renseigner', 'aprés', 'fievre', 'transpiration', 'excessive', 'également', 'prochaine', 'protégés', 'eme', 'nausée', 'c’est', 'connu', 'explique', 'soucis', '(donc', 'goutte', 'journée', 'dafalgan', 'arrête', 'dés', 'essentielle', 'acnée', 'optilova', 'pareil', 'aller', 'consulter', 'longtemps', 'déja', 'ressenti', 'témoignages', 'nom', 'citalopram', 'sensation', 'homme', 'arrive', 'personne', 'dessus', 'précise', 'doute', 'souci', 'lundi', 'vomir', 'faisait', 'totalement', 'réponses', 'parler', 'pire', 'réponse', 'questions', 'besoin', 'message', 'aimerai', 'directement', 'roaccutane', 'déroxat', 'grosse', 'minerva', 'préservatifs', 'pouvait', 'change', 'vaccination', 'psychiatre', 'liste', 'donormyl', 'vente', 'accouchement', 'endroit', 'vomissements', 'mercredi', 'changé', '(daily', 'septembre', 'mêmes', 'sorte', 'anafranil', '150', 'vaginal', 'cherche', 'prévention', 'divarius', 'hépatique', 'prévu', 'bref', 'sauf', 'progressivement', 'langue', 'estreva', 'nexplanon', 'régime', 'amie', 'finir', 'contient', 'maximale', 'paracétamol', 'levothyrox', 'mise', 'gorge', 'genre', 'revaxis', 'rendue', 'bonsoir', 'zyprexa', 'gélule', 'coucher', 'varicelle', 'sédatif', 'certain', 'orelox', 'boire', 'rendre', 'poils', 'lait', 'diminution', 'démangeaisons', 'pharmacien', 'nux', 'vomica', 'température', 'seroxat', 'contraceptif', 'spasfon', 'délivrer', 'lutenyl', 'boîte', 'dont', 'magnésium', 'meliane', 'exactement', 'leponex', 'etais', 'plavix', 'lyoc', 'adepal', 'derniere', 'preservatif', 'nouveau', 'brunes', 'blanc', 'toux', 'influenzinum', 'coeur', 'enfants', 'diminue', 'allaitement', 'mildac', 'délai', 'jours)', 'pommade', '5ch', 'hyper', 'baisse', 'avlocardyl', 'gyneco', 'compatibles', 'phobie', 'sociale', 'zinc', 'désir', 'juillet', 'règle', 'migraine', 'protéger', 'biogaran', 'flacon', 'année', 'infection', 'urinaire', 'frigo', 'maximum', 'vagin', 'age', 'association', 'lesquels', '40mg', 'champix', 'sécurité', 'folique', 'provames', 'mauvais', 'prennent', 'fausse', 'trouve', 'trois', 'taux', 'thymuline', 'bonne', 'moyen', 'suivi', 'retour', '(je', 'kilos', 'parfois', 'hormones', 'mode', 'sandoz', 'interaction', 'injectable', 'tardyferon', 'débuter', 'doc', 'prenez', 'passage', 'arrete', 'gynécologue', 'enlever', 'remède', 'pour', 'positifs', '(ou', 'gé)', 'agir', 'manque', 'mylan', 'prescrite', 'floxyfral', 'etat', 'soulager', 'décaler', 'connaître', 'luteran', 'entrainer', 'bénéfiques', 'monuril', 'salut', 'mets', 'yeux', 'habituellement', 'alprazolam', 'notamment', 'état', 'enchainé', 'trés', 'teinture', 'valdoxan', 'progesterone', 'baisser', 'spotting', 'solutions', 'conseiller', 'écrit', 'vacciné', 'allergique', 'lutényl', 'grande', 'demain', 'depression', 'durent', 'bouche', 'refaire', 'pyostacine', 'lutéran', 'polio', 'lumalia', 'pilule)', 'diarrhée', 'gelules', 'diluer', 'jour)', 'adresse', 'j’ai', 'suivant', 'habituelle', 'selon', 'augmenté', 'insomnies', 'interruption', 'conseil', 'rouge', 'nuits', 'arnica', 'antidépresseurs', 'pourtant', 'met', 'augmenter', 'juin', 'maladie', 'ressens', 'harmonet', 'poid', 'ailleurs', 'présente', 'ancienne', 'vite', 'reponses', 'régulièrement', 'fatigué', 'suivre', 'ete', 'indesirables', '500mg', 'aucune', 'séroplex', '24h', 'medicaments', 'remplacement', 'éclairer', 'constipation', 'infanrix', 'fumer', 'premiers', 'libre', 'progestérone', 'arriver', 'partie', 'bebe', 'holgyeme', 'lien', 'avril', 'prises', 'vogalene', 'par', 'bilan', '&amp;'])"
      ]
     },
     "execution_count": 62,
     "metadata": {},
     "output_type": "execute_result"
    }
   ],
   "source": [
    "w2v_model.wv.vocab.keys()"
   ]
  },
  {
   "cell_type": "code",
   "execution_count": 63,
   "metadata": {},
   "outputs": [],
   "source": [
    "filename = 'models/word2vec_model.sav'\n",
    "pickle.dump(w2v_model, open(filename, 'wb'))"
   ]
  },
  {
   "cell_type": "code",
   "execution_count": 64,
   "metadata": {
    "scrolled": true
   },
   "outputs": [
    {
     "data": {
      "text/plain": [
       "7820"
      ]
     },
     "execution_count": 64,
     "metadata": {},
     "output_type": "execute_result"
    }
   ],
   "source": [
    "len(vector_list)"
   ]
  },
  {
   "cell_type": "code",
   "execution_count": 65,
   "metadata": {},
   "outputs": [],
   "source": [
    "output_without_na = output_train.intention.copy()\n",
    "for index in reversed(empty_vector_list):\n",
    "    output_without_na.pop(index)\n"
   ]
  },
  {
   "cell_type": "code",
   "execution_count": 66,
   "metadata": {},
   "outputs": [
    {
     "data": {
      "text/plain": [
       "(8028, 7820)"
      ]
     },
     "execution_count": 66,
     "metadata": {},
     "output_type": "execute_result"
    }
   ],
   "source": [
    "len(output_train.intention), len(output_without_na)"
   ]
  },
  {
   "cell_type": "code",
   "execution_count": 67,
   "metadata": {},
   "outputs": [
    {
     "data": {
      "text/plain": [
       "208"
      ]
     },
     "execution_count": 67,
     "metadata": {},
     "output_type": "execute_result"
    }
   ],
   "source": [
    "len(empty_vector_list)"
   ]
  },
  {
   "cell_type": "code",
   "execution_count": 68,
   "metadata": {},
   "outputs": [
    {
     "data": {
      "text/plain": [
       "[array([-0.09480762,  0.04009848, -0.15382615,  0.23562588, -0.06113972,\n",
       "         0.226883  , -0.02991922, -0.05160588, -0.0659386 ,  0.12217726,\n",
       "         0.07898297,  0.10379264,  0.0356514 , -0.02168743, -0.17064598,\n",
       "        -0.05774431, -0.12475802, -0.07232236,  0.05396455,  0.00652508,\n",
       "         0.3509421 ,  0.00686173,  0.12034936,  0.20401496, -0.35626405,\n",
       "        -0.12455468, -0.05546544,  0.3083166 ,  0.04577367, -0.06631514,\n",
       "        -0.18533714, -0.02677513,  0.28513345,  0.00600177, -0.2685898 ,\n",
       "         0.0780156 , -0.08422015,  0.16875748, -0.08469281, -0.03126956,\n",
       "         0.05396742, -0.03067937,  0.29013574, -0.26127443,  0.16418609,\n",
       "         0.0566079 ,  0.086978  ,  0.03219388, -0.00555777, -0.4212009 ,\n",
       "        -0.10104118, -0.03303559,  0.08694988, -0.04452042,  0.2531213 ,\n",
       "         0.13490385,  0.35622695,  0.04711521,  0.05964681, -0.5248763 ,\n",
       "        -0.02304855, -0.10650006,  0.17497449, -0.04425504, -0.13431217,\n",
       "         0.17202245, -0.04419871, -0.06012654,  0.1343918 , -0.08950115,\n",
       "        -0.08250556,  0.04577154,  0.39501777, -0.12960054,  0.2536941 ,\n",
       "         0.30148825,  0.1941279 , -0.09717736,  0.05634753, -0.24454023,\n",
       "         0.2596979 , -0.16183563,  0.2242758 , -0.04321437,  0.13458966,\n",
       "         0.14577788,  0.02174055, -0.0162592 , -0.01500956, -0.09338915,\n",
       "         0.3410789 ,  0.13078967, -0.25232732, -0.03224577,  0.24139425,\n",
       "         0.30079108, -0.02225678, -0.07551278,  0.01080349, -0.19236371],\n",
       "       dtype=float32)]"
      ]
     },
     "execution_count": 68,
     "metadata": {},
     "output_type": "execute_result"
    }
   ],
   "source": [
    "vector_list[:1]"
   ]
  },
  {
   "cell_type": "code",
   "execution_count": 69,
   "metadata": {},
   "outputs": [],
   "source": [
    "x_train, x_test, y_train, y_test = train_test_split(vector_list, output_without_na) "
   ]
  },
  {
   "cell_type": "code",
   "execution_count": 70,
   "metadata": {},
   "outputs": [],
   "source": [
    "x_train_df = pd.DataFrame(x_train)\n",
    "x_test_df = pd.DataFrame(x_test)"
   ]
  },
  {
   "cell_type": "code",
   "execution_count": 71,
   "metadata": {},
   "outputs": [
    {
     "data": {
      "text/html": [
       "<div>\n",
       "<style scoped>\n",
       "    .dataframe tbody tr th:only-of-type {\n",
       "        vertical-align: middle;\n",
       "    }\n",
       "\n",
       "    .dataframe tbody tr th {\n",
       "        vertical-align: top;\n",
       "    }\n",
       "\n",
       "    .dataframe thead th {\n",
       "        text-align: right;\n",
       "    }\n",
       "</style>\n",
       "<table border=\"1\" class=\"dataframe\">\n",
       "  <thead>\n",
       "    <tr style=\"text-align: right;\">\n",
       "      <th></th>\n",
       "      <th>0</th>\n",
       "      <th>1</th>\n",
       "      <th>2</th>\n",
       "      <th>3</th>\n",
       "      <th>4</th>\n",
       "      <th>5</th>\n",
       "      <th>6</th>\n",
       "      <th>7</th>\n",
       "      <th>8</th>\n",
       "      <th>9</th>\n",
       "      <th>...</th>\n",
       "      <th>90</th>\n",
       "      <th>91</th>\n",
       "      <th>92</th>\n",
       "      <th>93</th>\n",
       "      <th>94</th>\n",
       "      <th>95</th>\n",
       "      <th>96</th>\n",
       "      <th>97</th>\n",
       "      <th>98</th>\n",
       "      <th>99</th>\n",
       "    </tr>\n",
       "  </thead>\n",
       "  <tbody>\n",
       "    <tr>\n",
       "      <td>0</td>\n",
       "      <td>-0.100134</td>\n",
       "      <td>0.036247</td>\n",
       "      <td>-0.155400</td>\n",
       "      <td>0.238379</td>\n",
       "      <td>-0.061043</td>\n",
       "      <td>0.231729</td>\n",
       "      <td>-0.031135</td>\n",
       "      <td>-0.049739</td>\n",
       "      <td>-0.065842</td>\n",
       "      <td>0.120727</td>\n",
       "      <td>...</td>\n",
       "      <td>0.344797</td>\n",
       "      <td>0.127721</td>\n",
       "      <td>-0.257176</td>\n",
       "      <td>-0.032437</td>\n",
       "      <td>0.239663</td>\n",
       "      <td>0.303976</td>\n",
       "      <td>-0.020656</td>\n",
       "      <td>-0.079280</td>\n",
       "      <td>0.009889</td>\n",
       "      <td>-0.199021</td>\n",
       "    </tr>\n",
       "    <tr>\n",
       "      <td>1</td>\n",
       "      <td>-0.090927</td>\n",
       "      <td>0.036596</td>\n",
       "      <td>-0.143584</td>\n",
       "      <td>0.218690</td>\n",
       "      <td>-0.058305</td>\n",
       "      <td>0.210481</td>\n",
       "      <td>-0.023636</td>\n",
       "      <td>-0.048446</td>\n",
       "      <td>-0.064694</td>\n",
       "      <td>0.113241</td>\n",
       "      <td>...</td>\n",
       "      <td>0.318490</td>\n",
       "      <td>0.118387</td>\n",
       "      <td>-0.233099</td>\n",
       "      <td>-0.027574</td>\n",
       "      <td>0.222851</td>\n",
       "      <td>0.281130</td>\n",
       "      <td>-0.019121</td>\n",
       "      <td>-0.068710</td>\n",
       "      <td>0.014453</td>\n",
       "      <td>-0.177916</td>\n",
       "    </tr>\n",
       "    <tr>\n",
       "      <td>2</td>\n",
       "      <td>-0.093685</td>\n",
       "      <td>0.039917</td>\n",
       "      <td>-0.152280</td>\n",
       "      <td>0.234345</td>\n",
       "      <td>-0.060787</td>\n",
       "      <td>0.224456</td>\n",
       "      <td>-0.030627</td>\n",
       "      <td>-0.051062</td>\n",
       "      <td>-0.065496</td>\n",
       "      <td>0.121941</td>\n",
       "      <td>...</td>\n",
       "      <td>0.338752</td>\n",
       "      <td>0.128895</td>\n",
       "      <td>-0.250239</td>\n",
       "      <td>-0.033491</td>\n",
       "      <td>0.239722</td>\n",
       "      <td>0.297474</td>\n",
       "      <td>-0.022979</td>\n",
       "      <td>-0.074054</td>\n",
       "      <td>0.012358</td>\n",
       "      <td>-0.189314</td>\n",
       "    </tr>\n",
       "    <tr>\n",
       "      <td>3</td>\n",
       "      <td>-0.096368</td>\n",
       "      <td>0.038911</td>\n",
       "      <td>-0.154553</td>\n",
       "      <td>0.238241</td>\n",
       "      <td>-0.062929</td>\n",
       "      <td>0.227553</td>\n",
       "      <td>-0.031547</td>\n",
       "      <td>-0.049586</td>\n",
       "      <td>-0.065986</td>\n",
       "      <td>0.121758</td>\n",
       "      <td>...</td>\n",
       "      <td>0.342069</td>\n",
       "      <td>0.129741</td>\n",
       "      <td>-0.254019</td>\n",
       "      <td>-0.033835</td>\n",
       "      <td>0.242704</td>\n",
       "      <td>0.300804</td>\n",
       "      <td>-0.022960</td>\n",
       "      <td>-0.076396</td>\n",
       "      <td>0.010572</td>\n",
       "      <td>-0.195852</td>\n",
       "    </tr>\n",
       "    <tr>\n",
       "      <td>4</td>\n",
       "      <td>-0.092471</td>\n",
       "      <td>0.038472</td>\n",
       "      <td>-0.149583</td>\n",
       "      <td>0.226674</td>\n",
       "      <td>-0.059667</td>\n",
       "      <td>0.220474</td>\n",
       "      <td>-0.030360</td>\n",
       "      <td>-0.048874</td>\n",
       "      <td>-0.065029</td>\n",
       "      <td>0.118644</td>\n",
       "      <td>...</td>\n",
       "      <td>0.330785</td>\n",
       "      <td>0.128810</td>\n",
       "      <td>-0.242395</td>\n",
       "      <td>-0.030714</td>\n",
       "      <td>0.233335</td>\n",
       "      <td>0.291174</td>\n",
       "      <td>-0.023603</td>\n",
       "      <td>-0.074197</td>\n",
       "      <td>0.011769</td>\n",
       "      <td>-0.187380</td>\n",
       "    </tr>\n",
       "  </tbody>\n",
       "</table>\n",
       "<p>5 rows × 100 columns</p>\n",
       "</div>"
      ],
      "text/plain": [
       "         0         1         2         3         4         5         6   \\\n",
       "0 -0.100134  0.036247 -0.155400  0.238379 -0.061043  0.231729 -0.031135   \n",
       "1 -0.090927  0.036596 -0.143584  0.218690 -0.058305  0.210481 -0.023636   \n",
       "2 -0.093685  0.039917 -0.152280  0.234345 -0.060787  0.224456 -0.030627   \n",
       "3 -0.096368  0.038911 -0.154553  0.238241 -0.062929  0.227553 -0.031547   \n",
       "4 -0.092471  0.038472 -0.149583  0.226674 -0.059667  0.220474 -0.030360   \n",
       "\n",
       "         7         8         9   ...        90        91        92        93  \\\n",
       "0 -0.049739 -0.065842  0.120727  ...  0.344797  0.127721 -0.257176 -0.032437   \n",
       "1 -0.048446 -0.064694  0.113241  ...  0.318490  0.118387 -0.233099 -0.027574   \n",
       "2 -0.051062 -0.065496  0.121941  ...  0.338752  0.128895 -0.250239 -0.033491   \n",
       "3 -0.049586 -0.065986  0.121758  ...  0.342069  0.129741 -0.254019 -0.033835   \n",
       "4 -0.048874 -0.065029  0.118644  ...  0.330785  0.128810 -0.242395 -0.030714   \n",
       "\n",
       "         94        95        96        97        98        99  \n",
       "0  0.239663  0.303976 -0.020656 -0.079280  0.009889 -0.199021  \n",
       "1  0.222851  0.281130 -0.019121 -0.068710  0.014453 -0.177916  \n",
       "2  0.239722  0.297474 -0.022979 -0.074054  0.012358 -0.189314  \n",
       "3  0.242704  0.300804 -0.022960 -0.076396  0.010572 -0.195852  \n",
       "4  0.233335  0.291174 -0.023603 -0.074197  0.011769 -0.187380  \n",
       "\n",
       "[5 rows x 100 columns]"
      ]
     },
     "execution_count": 71,
     "metadata": {},
     "output_type": "execute_result"
    }
   ],
   "source": [
    "x_train_df.head()"
   ]
  },
  {
   "cell_type": "code",
   "execution_count": 72,
   "metadata": {},
   "outputs": [],
   "source": [
    "#grid = {\"gamma\": [0.001, 0.01, 0.1,1,10, 100], \"C\":[0.001, 0.01, 0.1,1,10,100]}\n",
    "grid = {\"gamma\": [ 100, 1000], \"C\":[1000,100]}"
   ]
  },
  {
   "cell_type": "code",
   "execution_count": 73,
   "metadata": {},
   "outputs": [],
   "source": [
    "gs_wv = GridSearchCV(SVC(probability=True),grid, cv=3)"
   ]
  },
  {
   "cell_type": "code",
   "execution_count": 74,
   "metadata": {},
   "outputs": [
    {
     "data": {
      "text/plain": [
       "GridSearchCV(cv=3, error_score='raise-deprecating',\n",
       "             estimator=SVC(C=1.0, cache_size=200, class_weight=None, coef0=0.0,\n",
       "                           decision_function_shape='ovr', degree=3,\n",
       "                           gamma='auto_deprecated', kernel='rbf', max_iter=-1,\n",
       "                           probability=True, random_state=None, shrinking=True,\n",
       "                           tol=0.001, verbose=False),\n",
       "             iid='warn', n_jobs=None,\n",
       "             param_grid={'C': [1000, 100], 'gamma': [100, 1000]},\n",
       "             pre_dispatch='2*n_jobs', refit=True, return_train_score=False,\n",
       "             scoring=None, verbose=0)"
      ]
     },
     "execution_count": 74,
     "metadata": {},
     "output_type": "execute_result"
    }
   ],
   "source": [
    "gs_wv.fit(x_train_df, y_train)"
   ]
  },
  {
   "cell_type": "code",
   "execution_count": 75,
   "metadata": {},
   "outputs": [
    {
     "data": {
      "text/plain": [
       "SVC(C=100, cache_size=200, class_weight=None, coef0=0.0,\n",
       "    decision_function_shape='ovr', degree=3, gamma=100, kernel='rbf',\n",
       "    max_iter=-1, probability=True, random_state=None, shrinking=True, tol=0.001,\n",
       "    verbose=False)"
      ]
     },
     "execution_count": 75,
     "metadata": {},
     "output_type": "execute_result"
    }
   ],
   "source": [
    "gs_wv.best_estimator_"
   ]
  },
  {
   "cell_type": "code",
   "execution_count": 76,
   "metadata": {},
   "outputs": [
    {
     "data": {
      "text/plain": [
       "0.4608695652173913"
      ]
     },
     "execution_count": 76,
     "metadata": {},
     "output_type": "execute_result"
    }
   ],
   "source": [
    "gs_wv.best_score_"
   ]
  },
  {
   "cell_type": "code",
   "execution_count": 77,
   "metadata": {},
   "outputs": [
    {
     "data": {
      "text/plain": [
       "0.4762148337595908"
      ]
     },
     "execution_count": 77,
     "metadata": {},
     "output_type": "execute_result"
    }
   ],
   "source": [
    "gs_wv.score(x_test_df, y_test)"
   ]
  },
  {
   "cell_type": "code",
   "execution_count": 78,
   "metadata": {},
   "outputs": [],
   "source": [
    "pred = gs_wv.predict(x_test_df)\n",
    "confusion = confusion_matrix(y_test, pred)"
   ]
  },
  {
   "cell_type": "code",
   "execution_count": 79,
   "metadata": {},
   "outputs": [
    {
     "data": {
      "image/png": "[encoded data removed]",
      "text/plain": [
       "<Figure size 1296x1296 with 1 Axes>"
      ]
     },
     "metadata": {
      "needs_background": "light"
     },
     "output_type": "display_data"
    }
   ],
   "source": [
    "fig, ax = plot_confusion_matrix(conf_mat=confusion, figsize=(18,18))\n",
    "plt.show()"
   ]
  },
  {
   "cell_type": "code",
   "execution_count": 80,
   "metadata": {},
   "outputs": [
    {
     "name": "stderr",
     "output_type": "stream",
     "text": [
      "/Users/antoine/Documents/Tests/interview/Posos/posos_interview/venvPosos/lib/python3.7/site-packages/sklearn/metrics/classification.py:1437: UndefinedMetricWarning: F-score is ill-defined and being set to 0.0 in labels with no predicted samples.\n",
      "  'precision', 'predicted', average, warn_for)\n"
     ]
    },
    {
     "data": {
      "text/plain": [
       "(0.4762148337595908, 0.3127344443525843)"
      ]
     },
     "execution_count": 80,
     "metadata": {},
     "output_type": "execute_result"
    }
   ],
   "source": [
    "f1_score(y_test, pred, average=\"micro\") ,f1_score(y_test, pred, average=\"macro\") "
   ]
  },
  {
   "cell_type": "code",
   "execution_count": 81,
   "metadata": {},
   "outputs": [],
   "source": [
    "filename_svm = 'models/svm_wv_model.sav'\n",
    "pickle.dump(gs_wv.best_estimator_, open(filename_svm, 'wb'))"
   ]
  },
  {
   "cell_type": "code",
   "execution_count": 82,
   "metadata": {},
   "outputs": [
    {
     "data": {
      "text/plain": [
       "SVC(C=100, cache_size=200, class_weight=None, coef0=0.0,\n",
       "    decision_function_shape='ovr', degree=3, gamma=100, kernel='rbf',\n",
       "    max_iter=-1, probability=True, random_state=None, shrinking=True, tol=0.001,\n",
       "    verbose=False)"
      ]
     },
     "execution_count": 82,
     "metadata": {},
     "output_type": "execute_result"
    }
   ],
   "source": [
    "gs_wv.best_estimator_"
   ]
  },
  {
   "cell_type": "code",
   "execution_count": 83,
   "metadata": {},
   "outputs": [],
   "source": [
    "filename_svm = 'svm_wv_model.sav'"
   ]
  },
  {
   "cell_type": "code",
   "execution_count": 84,
   "metadata": {},
   "outputs": [
    {
     "data": {
      "text/plain": [
       "SVC(C=100, cache_size=200, class_weight=None, coef0=0.0,\n",
       "    decision_function_shape='ovr', degree=3, gamma=100, kernel='rbf',\n",
       "    max_iter=-1, probability=True, random_state=None, shrinking=True, tol=0.001,\n",
       "    verbose=False)"
      ]
     },
     "execution_count": 84,
     "metadata": {},
     "output_type": "execute_result"
    }
   ],
   "source": [
    "loaded_model = pickle.load(open(filename_svm, 'rb'))\n",
    "loaded_model"
   ]
  },
  {
   "cell_type": "code",
   "execution_count": 85,
   "metadata": {},
   "outputs": [
    {
     "data": {
      "text/plain": [
       "0.4762148337595908"
      ]
     },
     "execution_count": 85,
     "metadata": {},
     "output_type": "execute_result"
    }
   ],
   "source": [
    "loaded_model.score(x_test_df, y_test)"
   ]
  },
  {
   "cell_type": "code",
   "execution_count": 86,
   "metadata": {},
   "outputs": [],
   "source": [
    "# TEST on query"
   ]
  },
  {
   "cell_type": "code",
   "execution_count": 87,
   "metadata": {},
   "outputs": [],
   "source": [
    "query_to_test = \"risques poisson cru pendant la grossesse ?\""
   ]
  },
  {
   "cell_type": "code",
   "execution_count": 88,
   "metadata": {},
   "outputs": [],
   "source": [
    "cleaned_query_to_test = [re.sub(\",|-|'|\\.|\\?\" ,\" \", str(query_to_test)).split(\" \") ]"
   ]
  },
  {
   "cell_type": "code",
   "execution_count": 89,
   "metadata": {},
   "outputs": [
    {
     "data": {
      "text/plain": [
       "[['risques', 'poisson', 'cru', 'pendant', 'la', 'grossesse', '', '']]"
      ]
     },
     "execution_count": 89,
     "metadata": {},
     "output_type": "execute_result"
    }
   ],
   "source": [
    "cleaned_query_to_test"
   ]
  },
  {
   "cell_type": "code",
   "execution_count": 90,
   "metadata": {},
   "outputs": [],
   "source": [
    "cleaned_query_vectorized = get_vector_list(cleaned_query_to_test, w2v_model) "
   ]
  },
  {
   "cell_type": "code",
   "execution_count": 91,
   "metadata": {},
   "outputs": [
    {
     "data": {
      "text/plain": [
       "array([44])"
      ]
     },
     "execution_count": 91,
     "metadata": {},
     "output_type": "execute_result"
    }
   ],
   "source": [
    "loaded_model.predict(cleaned_query_vectorized[0])"
   ]
  },
  {
   "cell_type": "code",
   "execution_count": 99,
   "metadata": {},
   "outputs": [
    {
     "data": {
      "text/plain": [
       "([array([-0.0941275 ,  0.03645319, -0.1523491 ,  0.2320203 , -0.06239169,\n",
       "          0.22209795, -0.0265361 , -0.04952991, -0.06219365,  0.11961462,\n",
       "          0.07932341,  0.10187658,  0.03324719, -0.02323397, -0.16870777,\n",
       "         -0.05632761, -0.12117753, -0.0696787 ,  0.0506738 ,  0.00545292,\n",
       "          0.34525895,  0.00319484,  0.1154505 ,  0.19955695, -0.3469055 ,\n",
       "         -0.12535048, -0.05605337,  0.30258453,  0.04672601, -0.06304171,\n",
       "         -0.18323183, -0.0274012 ,  0.2814717 ,  0.00500825, -0.26435736,\n",
       "          0.07674479, -0.08536127,  0.16636303, -0.08346764, -0.02971424,\n",
       "          0.05281016, -0.0311511 ,  0.285229  , -0.2560178 ,  0.16080983,\n",
       "          0.05450256,  0.08472773,  0.03443843, -0.00888435, -0.41215757,\n",
       "         -0.10152227, -0.03409123,  0.08301149, -0.04246217,  0.248226  ,\n",
       "          0.13006932,  0.35104397,  0.04498231,  0.05716096, -0.5137158 ,\n",
       "         -0.02380779, -0.10377884,  0.1712842 , -0.04171622, -0.13175313,\n",
       "          0.16798162, -0.04106819, -0.06219684,  0.13071497, -0.08890054,\n",
       "         -0.08261189,  0.04559841,  0.38398838, -0.12754531,  0.25130564,\n",
       "          0.29609945,  0.19260514, -0.09443643,  0.0547737 , -0.2413045 ,\n",
       "          0.25449878, -0.15925261,  0.22147425, -0.04081446,  0.12994884,\n",
       "          0.14416265,  0.02329758, -0.01432821, -0.01736863, -0.09356296,\n",
       "          0.33665308,  0.12409458, -0.24948704, -0.03286514,  0.23528545,\n",
       "          0.29603806, -0.02196554, -0.07401517,  0.00933099, -0.18765016],\n",
       "        dtype=float32)], [])"
      ]
     },
     "execution_count": 99,
     "metadata": {},
     "output_type": "execute_result"
    }
   ],
   "source": [
    "cleaned_query_vectorized"
   ]
  },
  {
   "cell_type": "code",
   "execution_count": 97,
   "metadata": {},
   "outputs": [
    {
     "data": {
      "text/plain": [
       "[array([-0.0941275 ,  0.03645319, -0.1523491 ,  0.2320203 , -0.06239169,\n",
       "         0.22209795, -0.0265361 , -0.04952991, -0.06219365,  0.11961462,\n",
       "         0.07932341,  0.10187658,  0.03324719, -0.02323397, -0.16870777,\n",
       "        -0.05632761, -0.12117753, -0.0696787 ,  0.0506738 ,  0.00545292,\n",
       "         0.34525895,  0.00319484,  0.1154505 ,  0.19955695, -0.3469055 ,\n",
       "        -0.12535048, -0.05605337,  0.30258453,  0.04672601, -0.06304171,\n",
       "        -0.18323183, -0.0274012 ,  0.2814717 ,  0.00500825, -0.26435736,\n",
       "         0.07674479, -0.08536127,  0.16636303, -0.08346764, -0.02971424,\n",
       "         0.05281016, -0.0311511 ,  0.285229  , -0.2560178 ,  0.16080983,\n",
       "         0.05450256,  0.08472773,  0.03443843, -0.00888435, -0.41215757,\n",
       "        -0.10152227, -0.03409123,  0.08301149, -0.04246217,  0.248226  ,\n",
       "         0.13006932,  0.35104397,  0.04498231,  0.05716096, -0.5137158 ,\n",
       "        -0.02380779, -0.10377884,  0.1712842 , -0.04171622, -0.13175313,\n",
       "         0.16798162, -0.04106819, -0.06219684,  0.13071497, -0.08890054,\n",
       "        -0.08261189,  0.04559841,  0.38398838, -0.12754531,  0.25130564,\n",
       "         0.29609945,  0.19260514, -0.09443643,  0.0547737 , -0.2413045 ,\n",
       "         0.25449878, -0.15925261,  0.22147425, -0.04081446,  0.12994884,\n",
       "         0.14416265,  0.02329758, -0.01432821, -0.01736863, -0.09356296,\n",
       "         0.33665308,  0.12409458, -0.24948704, -0.03286514,  0.23528545,\n",
       "         0.29603806, -0.02196554, -0.07401517,  0.00933099, -0.18765016],\n",
       "       dtype=float32)]"
      ]
     },
     "execution_count": 97,
     "metadata": {},
     "output_type": "execute_result"
    }
   ],
   "source": [
    "cleaned_query_vectorized[0]"
   ]
  },
  {
   "cell_type": "code",
   "execution_count": 93,
   "metadata": {},
   "outputs": [
    {
     "data": {
      "text/plain": [
       "array([[2.83425696e-03, 9.77740230e-04, 3.04240081e-03, 6.67662232e-04,\n",
       "        3.67323709e-03, 8.06496716e-03, 2.12654467e-03, 1.82882905e-03,\n",
       "        9.64227203e-03, 1.60204634e-03, 1.69850244e-03, 7.95199375e-04,\n",
       "        1.00155360e-03, 6.55596286e-04, 4.36097266e-03, 6.17396546e-04,\n",
       "        2.22466613e-03, 5.90876556e-03, 2.07193277e-03, 3.99797039e-04,\n",
       "        1.62799129e-03, 3.08929588e-03, 3.79995176e-03, 2.03171196e-03,\n",
       "        2.58400114e-03, 5.08658591e-03, 7.51627882e-03, 3.16940530e-03,\n",
       "        2.36475763e-02, 2.88819989e-03, 1.15979310e-02, 3.50051940e-03,\n",
       "        2.07041352e-02, 6.52235254e-03, 8.32572921e-03, 3.13096574e-03,\n",
       "        1.13690291e-03, 7.77060976e-03, 1.54734710e-03, 3.01148645e-03,\n",
       "        7.68249335e-04, 2.14590236e-03, 6.39168877e-03, 1.19001151e-02,\n",
       "        6.92131252e-01, 2.31965332e-03, 5.45274796e-03, 1.12855427e-03,\n",
       "        9.91959005e-02, 1.21843321e-03, 4.64186144e-04]])"
      ]
     },
     "execution_count": 93,
     "metadata": {},
     "output_type": "execute_result"
    }
   ],
   "source": [
    "loaded_model.predict_proba(cleaned_query_vectorized[0])"
   ]
  },
  {
   "cell_type": "code",
   "execution_count": 94,
   "metadata": {},
   "outputs": [
    {
     "data": {
      "text/plain": [
       "44"
      ]
     },
     "execution_count": 94,
     "metadata": {},
     "output_type": "execute_result"
    }
   ],
   "source": [
    "np.argmax(loaded_model.predict_proba(cleaned_query_vectorized[0]))"
   ]
  },
  {
   "cell_type": "code",
   "execution_count": 95,
   "metadata": {},
   "outputs": [
    {
     "data": {
      "text/plain": [
       "0.6921312524380857"
      ]
     },
     "execution_count": 95,
     "metadata": {},
     "output_type": "execute_result"
    }
   ],
   "source": [
    "loaded_model.predict_proba(cleaned_query_vectorized[0])[0][44]"
   ]
  },
  {
   "cell_type": "code",
   "execution_count": null,
   "metadata": {},
   "outputs": [],
   "source": []
  },
  {
   "cell_type": "code",
   "execution_count": null,
   "metadata": {},
   "outputs": [],
   "source": []
  }
 ],
 "metadata": {
  "kernelspec": {
   "display_name": "Python 3",
   "language": "python",
   "name": "python3"
  },
  "language_info": {
   "codemirror_mode": {
    "name": "ipython",
    "version": 3
   },
   "file_extension": ".py",
   "mimetype": "text/x-python",
   "name": "python",
   "nbconvert_exporter": "python",
   "pygments_lexer": "ipython3",
   "version": "3.7.3"
  }
 },
 "nbformat": 4,
 "nbformat_minor": 2
}
