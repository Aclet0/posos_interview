{
 "cells": [
  {
   "cell_type": "code",
   "execution_count": 22,
   "metadata": {},
   "outputs": [],
   "source": [
    "import sklearn\n",
    "import mglearn\n",
    "import numpy as np\n",
    "import pandas as pd\n",
    "import re\n",
    "import matplotlib.pyplot as plt"
   ]
  },
  {
   "cell_type": "code",
   "execution_count": 3,
   "metadata": {},
   "outputs": [
    {
     "name": "stdout",
     "output_type": "stream",
     "text": [
      "input_test_b1Yip6O.csv input_train.csv        output_train.csv\r\n"
     ]
    }
   ],
   "source": [
    "!ls data"
   ]
  },
  {
   "cell_type": "code",
   "execution_count": 4,
   "metadata": {},
   "outputs": [],
   "source": [
    "input_train = pd.read_csv(\"data/input_train.csv\")\n",
    "output_train = pd.read_csv(\"data/output_train.csv\")"
   ]
  },
  {
   "cell_type": "code",
   "execution_count": 5,
   "metadata": {
    "scrolled": true
   },
   "outputs": [
    {
     "data": {
      "text/html": [
       "<div>\n",
       "<style scoped>\n",
       "    .dataframe tbody tr th:only-of-type {\n",
       "        vertical-align: middle;\n",
       "    }\n",
       "\n",
       "    .dataframe tbody tr th {\n",
       "        vertical-align: top;\n",
       "    }\n",
       "\n",
       "    .dataframe thead th {\n",
       "        text-align: right;\n",
       "    }\n",
       "</style>\n",
       "<table border=\"1\" class=\"dataframe\">\n",
       "  <thead>\n",
       "    <tr style=\"text-align: right;\">\n",
       "      <th></th>\n",
       "      <th>index</th>\n",
       "      <th>intention</th>\n",
       "    </tr>\n",
       "  </thead>\n",
       "  <tbody>\n",
       "    <tr>\n",
       "      <td>0</td>\n",
       "      <td>28</td>\n",
       "      <td>1796</td>\n",
       "    </tr>\n",
       "    <tr>\n",
       "      <td>1</td>\n",
       "      <td>31</td>\n",
       "      <td>565</td>\n",
       "    </tr>\n",
       "    <tr>\n",
       "      <td>2</td>\n",
       "      <td>44</td>\n",
       "      <td>560</td>\n",
       "    </tr>\n",
       "    <tr>\n",
       "      <td>3</td>\n",
       "      <td>22</td>\n",
       "      <td>461</td>\n",
       "    </tr>\n",
       "    <tr>\n",
       "      <td>4</td>\n",
       "      <td>48</td>\n",
       "      <td>387</td>\n",
       "    </tr>\n",
       "  </tbody>\n",
       "</table>\n",
       "</div>"
      ],
      "text/plain": [
       "   index  intention\n",
       "0     28       1796\n",
       "1     31        565\n",
       "2     44        560\n",
       "3     22        461\n",
       "4     48        387"
      ]
     },
     "execution_count": 5,
     "metadata": {},
     "output_type": "execute_result"
    }
   ],
   "source": [
    "intention_count_df = output_train[\"intention\"].value_counts().reset_index()\n",
    "intention_count_df.head()"
   ]
  },
  {
   "cell_type": "code",
   "execution_count": 6,
   "metadata": {},
   "outputs": [
    {
     "data": {
      "image/png": "[encoded data removed]",
      "text/plain": [
       "<Figure size 864x864 with 1 Axes>"
      ]
     },
     "metadata": {
      "needs_background": "light"
     },
     "output_type": "display_data"
    }
   ],
   "source": [
    "ind = np.arange(intention_count_df.shape[0])\n",
    "fig, ax = plt.subplots(figsize=(12,12))\n",
    "rects = ax.barh(ind, intention_count_df[\"intention\"].values)\n",
    "ax.set_yticks(ind)\n",
    "ax.set_yticklabels(intention_count_df[\"index\"].values ,rotation='horizontal')\n",
    "plt.show()"
   ]
  },
  {
   "cell_type": "code",
   "execution_count": 7,
   "metadata": {},
   "outputs": [
    {
     "data": {
      "text/plain": [
       "((8028, 2), (8028, 2))"
      ]
     },
     "execution_count": 7,
     "metadata": {},
     "output_type": "execute_result"
    }
   ],
   "source": [
    "input_train.shape, output_train.shape"
   ]
  },
  {
   "cell_type": "code",
   "execution_count": 8,
   "metadata": {},
   "outputs": [
    {
     "data": {
      "text/html": [
       "<div>\n",
       "<style scoped>\n",
       "    .dataframe tbody tr th:only-of-type {\n",
       "        vertical-align: middle;\n",
       "    }\n",
       "\n",
       "    .dataframe tbody tr th {\n",
       "        vertical-align: top;\n",
       "    }\n",
       "\n",
       "    .dataframe thead th {\n",
       "        text-align: right;\n",
       "    }\n",
       "</style>\n",
       "<table border=\"1\" class=\"dataframe\">\n",
       "  <thead>\n",
       "    <tr style=\"text-align: right;\">\n",
       "      <th></th>\n",
       "      <th>ID</th>\n",
       "      <th>question</th>\n",
       "    </tr>\n",
       "  </thead>\n",
       "  <tbody>\n",
       "    <tr>\n",
       "      <td>0</td>\n",
       "      <td>0</td>\n",
       "      <td>bonjour,  je m suis trompé de forum pour ma qu...</td>\n",
       "    </tr>\n",
       "    <tr>\n",
       "      <td>1</td>\n",
       "      <td>1</td>\n",
       "      <td>est ce que le motilium me soulagera contre les...</td>\n",
       "    </tr>\n",
       "    <tr>\n",
       "      <td>2</td>\n",
       "      <td>2</td>\n",
       "      <td>mon médecin m'a prescrit adenyl. au 2ème cache...</td>\n",
       "    </tr>\n",
       "    <tr>\n",
       "      <td>3</td>\n",
       "      <td>3</td>\n",
       "      <td>Est-ce qu'il existe une forme adaptée aux enfa...</td>\n",
       "    </tr>\n",
       "    <tr>\n",
       "      <td>4</td>\n",
       "      <td>4</td>\n",
       "      <td>mon  medecin  me soigne  pour  une  rhino  pha...</td>\n",
       "    </tr>\n",
       "  </tbody>\n",
       "</table>\n",
       "</div>"
      ],
      "text/plain": [
       "   ID                                           question\n",
       "0   0  bonjour,  je m suis trompé de forum pour ma qu...\n",
       "1   1  est ce que le motilium me soulagera contre les...\n",
       "2   2  mon médecin m'a prescrit adenyl. au 2ème cache...\n",
       "3   3  Est-ce qu'il existe une forme adaptée aux enfa...\n",
       "4   4  mon  medecin  me soigne  pour  une  rhino  pha..."
      ]
     },
     "execution_count": 8,
     "metadata": {},
     "output_type": "execute_result"
    }
   ],
   "source": [
    "input_train.head()"
   ]
  },
  {
   "cell_type": "code",
   "execution_count": 9,
   "metadata": {},
   "outputs": [
    {
     "data": {
      "text/html": [
       "<div>\n",
       "<style scoped>\n",
       "    .dataframe tbody tr th:only-of-type {\n",
       "        vertical-align: middle;\n",
       "    }\n",
       "\n",
       "    .dataframe tbody tr th {\n",
       "        vertical-align: top;\n",
       "    }\n",
       "\n",
       "    .dataframe thead th {\n",
       "        text-align: right;\n",
       "    }\n",
       "</style>\n",
       "<table border=\"1\" class=\"dataframe\">\n",
       "  <thead>\n",
       "    <tr style=\"text-align: right;\">\n",
       "      <th></th>\n",
       "      <th>ID</th>\n",
       "      <th>intention</th>\n",
       "    </tr>\n",
       "  </thead>\n",
       "  <tbody>\n",
       "    <tr>\n",
       "      <td>0</td>\n",
       "      <td>0</td>\n",
       "      <td>28</td>\n",
       "    </tr>\n",
       "    <tr>\n",
       "      <td>1</td>\n",
       "      <td>1</td>\n",
       "      <td>31</td>\n",
       "    </tr>\n",
       "    <tr>\n",
       "      <td>2</td>\n",
       "      <td>2</td>\n",
       "      <td>28</td>\n",
       "    </tr>\n",
       "    <tr>\n",
       "      <td>3</td>\n",
       "      <td>3</td>\n",
       "      <td>44</td>\n",
       "    </tr>\n",
       "    <tr>\n",
       "      <td>4</td>\n",
       "      <td>4</td>\n",
       "      <td>31</td>\n",
       "    </tr>\n",
       "  </tbody>\n",
       "</table>\n",
       "</div>"
      ],
      "text/plain": [
       "   ID  intention\n",
       "0   0         28\n",
       "1   1         31\n",
       "2   2         28\n",
       "3   3         44\n",
       "4   4         31"
      ]
     },
     "execution_count": 9,
     "metadata": {},
     "output_type": "execute_result"
    }
   ],
   "source": [
    "output_train.head()"
   ]
  },
  {
   "cell_type": "code",
   "execution_count": 7,
   "metadata": {},
   "outputs": [],
   "source": [
    "from sklearn.feature_extraction.text import TfidfVectorizer, CountVectorizer\n",
    "from sklearn.model_selection import train_test_split\n",
    "from sklearn.svm import SVC\n",
    "import nltk"
   ]
  },
  {
   "cell_type": "code",
   "execution_count": 8,
   "metadata": {},
   "outputs": [
    {
     "name": "stderr",
     "output_type": "stream",
     "text": [
      "[nltk_data] Downloading package stopwords to\n",
      "[nltk_data]     /Users/antoine/nltk_data...\n",
      "[nltk_data]   Package stopwords is already up-to-date!\n"
     ]
    },
    {
     "data": {
      "text/plain": [
       "True"
      ]
     },
     "execution_count": 8,
     "metadata": {},
     "output_type": "execute_result"
    }
   ],
   "source": [
    "nltk.download('stopwords')"
   ]
  },
  {
   "cell_type": "code",
   "execution_count": 2,
   "metadata": {},
   "outputs": [
    {
     "ename": "NameError",
     "evalue": "name 'input_train' is not defined",
     "output_type": "error",
     "traceback": [
      "\u001b[0;31m---------------------------------------------------------------------------\u001b[0m",
      "\u001b[0;31mNameError\u001b[0m                                 Traceback (most recent call last)",
      "\u001b[0;32m<ipython-input-2-ac94711248ad>\u001b[0m in \u001b[0;36m<module>\u001b[0;34m\u001b[0m\n\u001b[1;32m      1\u001b[0m \u001b[0mstop_words_fr\u001b[0m \u001b[0;34m=\u001b[0m \u001b[0mstopwords\u001b[0m\u001b[0;34m.\u001b[0m\u001b[0mwords\u001b[0m\u001b[0;34m(\u001b[0m\u001b[0;34m\"french\"\u001b[0m\u001b[0;34m)\u001b[0m\u001b[0;34m\u001b[0m\u001b[0;34m\u001b[0m\u001b[0m\n\u001b[0;32m----> 2\u001b[0;31m \u001b[0mx_vect_count\u001b[0m \u001b[0;34m=\u001b[0m \u001b[0mCountVectorizer\u001b[0m\u001b[0;34m(\u001b[0m\u001b[0mmin_df\u001b[0m\u001b[0;34m=\u001b[0m\u001b[0;36m5\u001b[0m\u001b[0;34m,\u001b[0m \u001b[0mstop_words\u001b[0m\u001b[0;34m=\u001b[0m\u001b[0mstop_words_fr\u001b[0m\u001b[0;34m)\u001b[0m\u001b[0;34m.\u001b[0m\u001b[0mfit\u001b[0m\u001b[0;34m(\u001b[0m\u001b[0minput_train\u001b[0m\u001b[0;34m[\u001b[0m\u001b[0;34m\"question\"\u001b[0m\u001b[0;34m]\u001b[0m\u001b[0;34m)\u001b[0m\u001b[0;34m\u001b[0m\u001b[0;34m\u001b[0m\u001b[0m\n\u001b[0m\u001b[1;32m      3\u001b[0m \u001b[0mx_train_count\u001b[0m \u001b[0;34m=\u001b[0m \u001b[0mx_vect_count\u001b[0m\u001b[0;34m.\u001b[0m\u001b[0mtransform\u001b[0m\u001b[0;34m(\u001b[0m\u001b[0minput_train\u001b[0m\u001b[0;34m[\u001b[0m\u001b[0;34m\"question\"\u001b[0m\u001b[0;34m]\u001b[0m\u001b[0;34m)\u001b[0m\u001b[0;34m\u001b[0m\u001b[0;34m\u001b[0m\u001b[0m\n\u001b[1;32m      4\u001b[0m \u001b[0my\u001b[0m \u001b[0;34m=\u001b[0m \u001b[0moutput_train\u001b[0m\u001b[0;34m[\u001b[0m\u001b[0;34m\"intention\"\u001b[0m\u001b[0;34m]\u001b[0m\u001b[0;34m\u001b[0m\u001b[0;34m\u001b[0m\u001b[0m\n",
      "\u001b[0;31mNameError\u001b[0m: name 'input_train' is not defined"
     ]
    }
   ],
   "source": [
    "stop_words_fr = stopwords.words(\"french\")\n",
    "x_vect_count = CountVectorizer(min_df=5, stop_words=stop_words_fr).fit(input_train[\"question\"])\n",
    "x_train_count = x_vect_count.transform(input_train[\"question\"])\n",
    "y = output_train[\"intention\"]"
   ]
  },
  {
   "cell_type": "code",
   "execution_count": 13,
   "metadata": {},
   "outputs": [
    {
     "name": "stdout",
     "output_type": "stream",
     "text": [
      " feature len 2046\n",
      "\n",
      "feature begining ['00', '10', '100', '100mg', '10h', '10mg', '11', '11h', '12', '12h', '13', '14', '15', '150', '150mg', '15ch', '16', '17', '18', '19'] \n",
      "\n",
      "feature midlr ['arnica', 'arret', 'arrete', 'arreter', 'arreté', 'arrive', 'arrivent', 'arriver', 'arrivé', 'arrivée', 'arrivées', 'arréter', 'arrété', 'arrêt', 'arrête', 'arrêter', 'arrêté', 'arrêtée', 'arsenicum', 'aspegic'] \n"
     ]
    }
   ],
   "source": [
    "feature_names = x_vect_count.get_feature_names()\n",
    "print(\" feature len {}\\n\".format(len(feature_names)))\n",
    "print(\"feature begining {} \\n\".format(feature_names[:20]))\n",
    "print(\"feature midlr {} \".format(feature_names[200:220]))"
   ]
  },
  {
   "cell_type": "code",
   "execution_count": 14,
   "metadata": {},
   "outputs": [
    {
     "data": {
      "text/plain": [
       "(8028, 2046)"
      ]
     },
     "execution_count": 14,
     "metadata": {},
     "output_type": "execute_result"
    }
   ],
   "source": [
    "x_train_count .shape"
   ]
  },
  {
   "cell_type": "code",
   "execution_count": 15,
   "metadata": {},
   "outputs": [
    {
     "data": {
      "text/plain": [
       "(array([0, 0, 0, 0, 0, 0, 0, 0, 0, 0, 0, 0, 0, 0, 0, 0, 0, 0, 0, 0, 0, 0,\n",
       "        0, 0, 0, 0]),\n",
       " array([ 145,  300,  348,  467,  490,  541,  550,  794,  805,  885,  887,\n",
       "         922, 1081, 1105, 1121, 1223, 1302, 1310, 1428, 1453, 1537, 1601,\n",
       "        1685, 1869, 1905, 1991]))"
      ]
     },
     "execution_count": 15,
     "metadata": {},
     "output_type": "execute_result"
    }
   ],
   "source": [
    "np.nonzero(x_train_count[:1,:].toarray())"
   ]
  },
  {
   "cell_type": "code",
   "execution_count": 16,
   "metadata": {},
   "outputs": [],
   "source": [
    "x_train, x_test, y_train, y_test = train_test_split(x_train_count, y)"
   ]
  },
  {
   "cell_type": "code",
   "execution_count": 17,
   "metadata": {},
   "outputs": [
    {
     "data": {
      "text/plain": [
       "((6021, 2046), (6021,))"
      ]
     },
     "execution_count": 17,
     "metadata": {},
     "output_type": "execute_result"
    }
   ],
   "source": [
    "x_train.shape, y_train.shape"
   ]
  },
  {
   "cell_type": "code",
   "execution_count": 18,
   "metadata": {},
   "outputs": [
    {
     "name": "stderr",
     "output_type": "stream",
     "text": [
      "/Users/antoine/Documents/Tests/interview/Posos/posos_interview/venvPosos/lib/python3.7/site-packages/sklearn/svm/base.py:193: FutureWarning: The default value of gamma will change from 'auto' to 'scale' in version 0.22 to account better for unscaled features. Set gamma explicitly to 'auto' or 'scale' to avoid this warning.\n",
      "  \"avoid this warning.\", FutureWarning)\n"
     ]
    }
   ],
   "source": [
    "svc = SVC().fit(x_train, y_train)"
   ]
  },
  {
   "cell_type": "code",
   "execution_count": 19,
   "metadata": {},
   "outputs": [
    {
     "data": {
      "text/plain": [
       "(0.22438133200465038, 0.22172396611858494)"
      ]
     },
     "execution_count": 19,
     "metadata": {},
     "output_type": "execute_result"
    }
   ],
   "source": [
    "svc.score(x_train, y_train), svc.score(x_test, y_test)"
   ]
  },
  {
   "cell_type": "markdown",
   "metadata": {},
   "source": [
    "# TFIDF method"
   ]
  },
  {
   "cell_type": "code",
   "execution_count": 116,
   "metadata": {},
   "outputs": [],
   "source": [
    "# need to clean a bit my sentences remove - , : ...\n",
    "from sklearn.model_selection import GridSearchCV\n",
    "import matplotlib.pyplot as plt\n",
    "from mlxtend.evaluate import confusion_matrix\n",
    "from mlxtend.plotting import plot_confusion_matrix\n",
    "import nltk\n",
    "from sklearn.metrics import f1_score"
   ]
  },
  {
   "cell_type": "code",
   "execution_count": 117,
   "metadata": {},
   "outputs": [
    {
     "data": {
      "text/plain": [
       "'bonjour   je m suis trompé de forum pour ma question alors je la repose ici  je pris pour la première fois hier du paroxétine et ce matin c est une catastrophe  picotement dasn tous le corps annonciateur de sueur froide très très massive et de vomissement  j en suis à deux crises depuis 5 heure du mat  la cela semble passer mes mes mains reste moites et chaude estce normal pour la première fois merci a tous'"
      ]
     },
     "execution_count": 117,
     "metadata": {},
     "output_type": "execute_result"
    }
   ],
   "source": [
    "stop_words_fr = stopwords.words(\"french\")\n",
    "cleaned_sentence_array = [re.sub(\",|-|'|\\.|\\?\" ,\" \", str(row)).lower() for row  in input_train[\"question\"]   ]\n",
    "cleaned_sentence_array[0]             "
   ]
  },
  {
   "cell_type": "code",
   "execution_count": 118,
   "metadata": {},
   "outputs": [
    {
     "data": {
      "text/plain": [
       "0       bonjour,  je m suis trompé de forum pour ma qu...\n",
       "1       est ce que le motilium me soulagera contre les...\n",
       "2       mon médecin m'a prescrit adenyl. au 2ème cache...\n",
       "3       Est-ce qu'il existe une forme adaptée aux enfa...\n",
       "4       mon  medecin  me soigne  pour  une  rhino  pha...\n",
       "                              ...                        \n",
       "8023    en combien de temps un antibio n'est plus prés...\n",
       "8024    j'ai fait vacciner de revaxis mon fils 'année ...\n",
       "8025    Un patient m’a ramené une ordonnance de 3x1g d...\n",
       "8026    prise pillule du lendemain, faire une pause en...\n",
       "8027                                    advil médicament?\n",
       "Name: question, Length: 8028, dtype: object"
      ]
     },
     "execution_count": 118,
     "metadata": {},
     "output_type": "execute_result"
    }
   ],
   "source": [
    "input_train[\"question\"]"
   ]
  },
  {
   "cell_type": "code",
   "execution_count": 119,
   "metadata": {},
   "outputs": [],
   "source": [
    "y = output_train[\"intention\"]"
   ]
  },
  {
   "cell_type": "code",
   "execution_count": 120,
   "metadata": {},
   "outputs": [],
   "source": [
    "text_train = TfidfVectorizer(min_df=5, stop_words=stop_words_fr).fit_transform(cleaned_sentence_array)"
   ]
  },
  {
   "cell_type": "code",
   "execution_count": 121,
   "metadata": {},
   "outputs": [
    {
     "data": {
      "text/plain": [
       "<8028x2046 sparse matrix of type '<class 'numpy.float64'>'\n",
       "\twith 59954 stored elements in Compressed Sparse Row format>"
      ]
     },
     "execution_count": 121,
     "metadata": {},
     "output_type": "execute_result"
    }
   ],
   "source": [
    "text_train"
   ]
  },
  {
   "cell_type": "code",
   "execution_count": 122,
   "metadata": {},
   "outputs": [],
   "source": [
    "x_train_idf, x_test_idf, y_train_idf, y_test_idf = train_test_split(text_train,y)"
   ]
  },
  {
   "cell_type": "code",
   "execution_count": 123,
   "metadata": {},
   "outputs": [
    {
     "data": {
      "text/plain": [
       "((6021, 2046), (2007, 2046))"
      ]
     },
     "execution_count": 123,
     "metadata": {},
     "output_type": "execute_result"
    }
   ],
   "source": [
    "x_train_idf.shape ,x_test_idf.shape"
   ]
  },
  {
   "cell_type": "code",
   "execution_count": 124,
   "metadata": {},
   "outputs": [],
   "source": [
    "#grid = {\"C\":[0.001,0.01,1,10,100], \"gamma\":[0.001,0.01,1,10,100]}"
   ]
  },
  {
   "cell_type": "code",
   "execution_count": 125,
   "metadata": {},
   "outputs": [],
   "source": [
    "#gs_idf = GridSearchCV(SVC(), grid, cv=3)"
   ]
  },
  {
   "cell_type": "code",
   "execution_count": 126,
   "metadata": {},
   "outputs": [],
   "source": [
    "#gs_idf.fit(x_train_idf, y_train_idf)"
   ]
  },
  {
   "cell_type": "code",
   "execution_count": 127,
   "metadata": {},
   "outputs": [],
   "source": [
    "#gs_idf.best_estimator_"
   ]
  },
  {
   "cell_type": "code",
   "execution_count": 128,
   "metadata": {},
   "outputs": [],
   "source": [
    "#gs_idf.best_score_"
   ]
  },
  {
   "cell_type": "code",
   "execution_count": 129,
   "metadata": {},
   "outputs": [],
   "source": [
    "#gs_idf.score(x_train_idf, y_train_idf), gs_idf.score(x_test_idf, y_test_idf)"
   ]
  },
  {
   "cell_type": "code",
   "execution_count": 130,
   "metadata": {
    "scrolled": true
   },
   "outputs": [],
   "source": [
    "#pd.DataFrame(gs_idf.cv_results_)"
   ]
  },
  {
   "cell_type": "code",
   "execution_count": 131,
   "metadata": {},
   "outputs": [],
   "source": [
    "# TRY to normalize to improve SVC perf"
   ]
  },
  {
   "cell_type": "code",
   "execution_count": 132,
   "metadata": {},
   "outputs": [],
   "source": [
    "#from sklearn.preprocessing import MinMaxScaler, MaxAbsScaler\n",
    "#scaler = MaxAbsScaler()\n",
    "#x_train_scaled = scaler.fit_transform(x_train_idf)\n",
    "#x_test_scaled = scaler.transform(x_test_idf)"
   ]
  },
  {
   "cell_type": "code",
   "execution_count": 133,
   "metadata": {},
   "outputs": [],
   "source": [
    "#svc_idf_scaled = SVC().fit(x_train_scaled, y_train_idf)"
   ]
  },
  {
   "cell_type": "code",
   "execution_count": 134,
   "metadata": {},
   "outputs": [],
   "source": [
    "#svc_idf_scaled.score(x_train_scaled, y_train_idf), svc_idf_scaled.score(x_test_scaled, y_test_idf)"
   ]
  },
  {
   "cell_type": "code",
   "execution_count": 135,
   "metadata": {},
   "outputs": [],
   "source": [
    "# Try FRENCH STEMMER\n",
    "stemmer_fr=nltk.stem.snowball.FrenchStemmer()"
   ]
  },
  {
   "cell_type": "code",
   "execution_count": 136,
   "metadata": {},
   "outputs": [
    {
     "name": "stderr",
     "output_type": "stream",
     "text": [
      "/Users/antoine/Documents/Tests/interview/Posos/posos_interview/venvPosos/lib/python3.7/site-packages/sklearn/feature_extraction/text.py:300: UserWarning: Your stop_words may be inconsistent with your preprocessing. Tokenizing the stop words generated tokens ['aur', 'aurion', 'auron', 'avi', 'avion', 'avon', 'ayon', 'dan', 'e', 'euss', 'eussion', 'eûm', 'fuss', 'fussion', 'fûm', 'mêm', 'notr', 'ser', 'serion', 'seron', 'soi', 'somm', 'soyon', 'votr', 'éti', 'étion', 'ête'] not in stop_words.\n",
      "  'stop_words.' % sorted(inconsistent))\n"
     ]
    }
   ],
   "source": [
    "def stemming_tokenizer_fr(str_input):\n",
    "    #cleaned_sentence_array = [re.sub(\",|-|'|\\.|\\?\" ,\" \", str(row)).lower() for row  in input_train[\"question\"]   ]\n",
    "\n",
    "    words = re.sub(\",|-|'|\\.|\\?\", \" \", str_input).lower().split()\n",
    "    words = [stemmer_fr.stem(word) for word in words]\n",
    "    return words\n",
    "\n",
    "tf_vectorizer_2 = TfidfVectorizer(tokenizer=stemming_tokenizer_fr,\n",
    "                       stop_words = stop_words_fr,\n",
    "                       min_df = 5).fit(input_train[\"question\"])"
   ]
  },
  {
   "cell_type": "code",
   "execution_count": 137,
   "metadata": {},
   "outputs": [],
   "source": [
    "#x_fr = tf_vectorizer_2.transform(input_train[\"question\"])"
   ]
  },
  {
   "cell_type": "code",
   "execution_count": 138,
   "metadata": {},
   "outputs": [],
   "source": [
    "#x_train_1, x_test_1, y_train_1, y_test_1 = train_test_split(x_fr, y)"
   ]
  },
  {
   "cell_type": "code",
   "execution_count": 139,
   "metadata": {},
   "outputs": [],
   "source": [
    "#x_train_1.shape"
   ]
  },
  {
   "cell_type": "code",
   "execution_count": 140,
   "metadata": {},
   "outputs": [],
   "source": [
    "#grid = {\"C\":[0.001,0.01,1,10,100], \"gamma\":[0.001,0.01,1,10,100]}\n",
    "#gs = GridSearchCV(SVC(), grid, cv=5)"
   ]
  },
  {
   "cell_type": "code",
   "execution_count": 141,
   "metadata": {},
   "outputs": [],
   "source": [
    "#gs.fit(x_train_1, y_train_1)"
   ]
  },
  {
   "cell_type": "code",
   "execution_count": 142,
   "metadata": {},
   "outputs": [],
   "source": [
    "#gs.score(x_train_1, y_train_1), gs.score(x_test_1, y_test_1)"
   ]
  },
  {
   "cell_type": "code",
   "execution_count": 143,
   "metadata": {},
   "outputs": [],
   "source": [
    "#gs.best_score_, gs.best_params_"
   ]
  },
  {
   "cell_type": "code",
   "execution_count": 144,
   "metadata": {
    "scrolled": true
   },
   "outputs": [],
   "source": [
    "#pd.DataFrame(gs.cv_results_)"
   ]
  },
  {
   "cell_type": "code",
   "execution_count": 145,
   "metadata": {},
   "outputs": [],
   "source": [
    "# MATRICE DE CONFUSION / RAPPEL / F1_SCORE"
   ]
  },
  {
   "cell_type": "code",
   "execution_count": 146,
   "metadata": {},
   "outputs": [],
   "source": [
    "#pred = gs.predict(x_test_1)\n",
    "#confusion = confusion_matrix(y_test_1, pred)"
   ]
  },
  {
   "cell_type": "code",
   "execution_count": 147,
   "metadata": {},
   "outputs": [],
   "source": [
    "#confusion"
   ]
  },
  {
   "cell_type": "code",
   "execution_count": 148,
   "metadata": {},
   "outputs": [],
   "source": [
    "#fig, ax = plot_confusion_matrix(conf_mat=confusion, figsize=(18,18))\n",
    "#plt.show()"
   ]
  },
  {
   "cell_type": "code",
   "execution_count": 149,
   "metadata": {},
   "outputs": [],
   "source": [
    "#f1_score(y_test_1, pred, average=\"micro\") ,f1_score(y_test_1, pred, average=\"macro\") "
   ]
  },
  {
   "cell_type": "code",
   "execution_count": null,
   "metadata": {},
   "outputs": [],
   "source": []
  },
  {
   "cell_type": "code",
   "execution_count": null,
   "metadata": {},
   "outputs": [],
   "source": []
  },
  {
   "cell_type": "markdown",
   "metadata": {},
   "source": [
    "# Word2vec"
   ]
  },
  {
   "cell_type": "code",
   "execution_count": 150,
   "metadata": {},
   "outputs": [],
   "source": [
    "from gensim.models import Word2Vec\n",
    "from sklearn.model_selection import GridSearchCV\n",
    "from sklearn.svm import SVC\n",
    "import pickle"
   ]
  },
  {
   "cell_type": "code",
   "execution_count": 151,
   "metadata": {},
   "outputs": [
    {
     "data": {
      "text/plain": [
       "(8028, 2)"
      ]
     },
     "execution_count": 151,
     "metadata": {},
     "output_type": "execute_result"
    }
   ],
   "source": [
    "input_train.shape"
   ]
  },
  {
   "cell_type": "code",
   "execution_count": 152,
   "metadata": {},
   "outputs": [
    {
     "data": {
      "text/html": [
       "<div>\n",
       "<style scoped>\n",
       "    .dataframe tbody tr th:only-of-type {\n",
       "        vertical-align: middle;\n",
       "    }\n",
       "\n",
       "    .dataframe tbody tr th {\n",
       "        vertical-align: top;\n",
       "    }\n",
       "\n",
       "    .dataframe thead th {\n",
       "        text-align: right;\n",
       "    }\n",
       "</style>\n",
       "<table border=\"1\" class=\"dataframe\">\n",
       "  <thead>\n",
       "    <tr style=\"text-align: right;\">\n",
       "      <th></th>\n",
       "      <th>ID</th>\n",
       "      <th>question</th>\n",
       "    </tr>\n",
       "  </thead>\n",
       "  <tbody>\n",
       "    <tr>\n",
       "      <td>0</td>\n",
       "      <td>0</td>\n",
       "      <td>bonjour,  je m suis trompé de forum pour ma qu...</td>\n",
       "    </tr>\n",
       "    <tr>\n",
       "      <td>1</td>\n",
       "      <td>1</td>\n",
       "      <td>est ce que le motilium me soulagera contre les...</td>\n",
       "    </tr>\n",
       "    <tr>\n",
       "      <td>2</td>\n",
       "      <td>2</td>\n",
       "      <td>mon médecin m'a prescrit adenyl. au 2ème cache...</td>\n",
       "    </tr>\n",
       "    <tr>\n",
       "      <td>3</td>\n",
       "      <td>3</td>\n",
       "      <td>Est-ce qu'il existe une forme adaptée aux enfa...</td>\n",
       "    </tr>\n",
       "    <tr>\n",
       "      <td>4</td>\n",
       "      <td>4</td>\n",
       "      <td>mon  medecin  me soigne  pour  une  rhino  pha...</td>\n",
       "    </tr>\n",
       "  </tbody>\n",
       "</table>\n",
       "</div>"
      ],
      "text/plain": [
       "   ID                                           question\n",
       "0   0  bonjour,  je m suis trompé de forum pour ma qu...\n",
       "1   1  est ce que le motilium me soulagera contre les...\n",
       "2   2  mon médecin m'a prescrit adenyl. au 2ème cache...\n",
       "3   3  Est-ce qu'il existe une forme adaptée aux enfa...\n",
       "4   4  mon  medecin  me soigne  pour  une  rhino  pha..."
      ]
     },
     "execution_count": 152,
     "metadata": {},
     "output_type": "execute_result"
    }
   ],
   "source": [
    "input_train.head()"
   ]
  },
  {
   "cell_type": "code",
   "execution_count": 153,
   "metadata": {},
   "outputs": [
    {
     "data": {
      "text/plain": [
       "'bonjour   je m suis trompé de forum pour ma question alors je la repose ici  je pris pour la première fois hier du paroxétine et ce matin c est une catastrophe  picotement dasn tous le corps annonciateur de sueur froide très très massive et de vomissement  j en suis à deux crises depuis 5 heure du mat  la cela semble passer mes mes mains reste moites et chaude estce normal pour la première fois merci a tous'"
      ]
     },
     "execution_count": 153,
     "metadata": {},
     "output_type": "execute_result"
    }
   ],
   "source": [
    "stop_words_fr = stopwords.words(\"french\")\n",
    "cleaned_sentence_array = [re.sub(\",|-|'|\\.|\\?\" ,\" \", str(row)) for row  in input_train[\"question\"]   ]\n",
    "cleaned_sentence_array[0]             "
   ]
  },
  {
   "cell_type": "code",
   "execution_count": 154,
   "metadata": {},
   "outputs": [],
   "source": [
    "def get_sentence_splited_list(cleaned_sentence_array):\n",
    "    sentence_splited_list = []\n",
    "    for sentence in cleaned_sentence_array:\n",
    "        new_splited_sentence = []\n",
    "        for word in sentence.split(\" \"):\n",
    "            if word and len(word) >2 and word not in stop_words_fr:\n",
    "                new_splited_sentence.append(word.lower())\n",
    "        sentence_splited_list.append(new_splited_sentence) \n",
    "    return sentence_splited_list\n",
    "    "
   ]
  },
  {
   "cell_type": "code",
   "execution_count": 155,
   "metadata": {},
   "outputs": [],
   "source": [
    "def get_vector_list(sentence_splited_list, w2v_model):\n",
    "    empty_vector_list = []\n",
    "    vector_list = []\n",
    "    for index, word_list in enumerate(sentence_splited_list): #[1:2]:\n",
    "        vocab_words = []\n",
    "        for word in word_list:\n",
    "            if word in w2v_model.wv.vocab.keys():\n",
    "                vocab_words.append(w2v_model.wv[word])\n",
    "        if not vocab_words:\n",
    "            empty_vector_list.append(index)\n",
    "        else:\n",
    "            mean_vect = np.mean(vocab_words, axis=0)\n",
    "            vector_list.append(mean_vect)\n",
    "    return vector_list, empty_vector_list"
   ]
  },
  {
   "cell_type": "code",
   "execution_count": 156,
   "metadata": {
    "scrolled": true
   },
   "outputs": [
    {
     "data": {
      "text/html": [
       "<div>\n",
       "<style scoped>\n",
       "    .dataframe tbody tr th:only-of-type {\n",
       "        vertical-align: middle;\n",
       "    }\n",
       "\n",
       "    .dataframe tbody tr th {\n",
       "        vertical-align: top;\n",
       "    }\n",
       "\n",
       "    .dataframe thead th {\n",
       "        text-align: right;\n",
       "    }\n",
       "</style>\n",
       "<table border=\"1\" class=\"dataframe\">\n",
       "  <thead>\n",
       "    <tr style=\"text-align: right;\">\n",
       "      <th></th>\n",
       "      <th>question_splited</th>\n",
       "    </tr>\n",
       "  </thead>\n",
       "  <tbody>\n",
       "    <tr>\n",
       "      <td>0</td>\n",
       "      <td>[bonjour, trompé, forum, question, alors, repo...</td>\n",
       "    </tr>\n",
       "    <tr>\n",
       "      <td>1</td>\n",
       "      <td>[motilium, soulagera, contre, nausées]</td>\n",
       "    </tr>\n",
       "    <tr>\n",
       "      <td>2</td>\n",
       "      <td>[médecin, prescrit, adenyl, 2ème, cachet, maux...</td>\n",
       "    </tr>\n",
       "    <tr>\n",
       "      <td>3</td>\n",
       "      <td>[est, existe, forme, adaptée, enfant, 5ans, mi...</td>\n",
       "    </tr>\n",
       "    <tr>\n",
       "      <td>4</td>\n",
       "      <td>[medecin, soigne, rhino, pharingite, prescrit,...</td>\n",
       "    </tr>\n",
       "  </tbody>\n",
       "</table>\n",
       "</div>"
      ],
      "text/plain": [
       "                                    question_splited\n",
       "0  [bonjour, trompé, forum, question, alors, repo...\n",
       "1             [motilium, soulagera, contre, nausées]\n",
       "2  [médecin, prescrit, adenyl, 2ème, cachet, maux...\n",
       "3  [est, existe, forme, adaptée, enfant, 5ans, mi...\n",
       "4  [medecin, soigne, rhino, pharingite, prescrit,..."
      ]
     },
     "execution_count": 156,
     "metadata": {},
     "output_type": "execute_result"
    }
   ],
   "source": [
    "sentence_splited_list = get_sentence_splited_list(cleaned_sentence_array)\n",
    "splited_df = pd.DataFrame({\"question_splited\": sentence_splited_list})\n",
    "splited_df.head()"
   ]
  },
  {
   "cell_type": "code",
   "execution_count": 157,
   "metadata": {},
   "outputs": [
    {
     "data": {
      "text/plain": [
       "10812"
      ]
     },
     "execution_count": 157,
     "metadata": {},
     "output_type": "execute_result"
    }
   ],
   "source": [
    "from collections import defaultdict\n",
    "word_freq = defaultdict(int)\n",
    "for sent in sentence_splited_list:\n",
    "    for w in sent:\n",
    "        word_freq[w] += 1\n",
    "len(word_freq)"
   ]
  },
  {
   "cell_type": "code",
   "execution_count": 158,
   "metadata": {
    "scrolled": true
   },
   "outputs": [],
   "source": [
    "w2v_model = Word2Vec(sentence_splited_list,\n",
    "                     min_count=10,\n",
    "                     window=2,\n",
    "                     size=100,\n",
    "                     sample=6e-5, \n",
    "                     alpha=0.03, \n",
    "                     min_alpha=0.0007, \n",
    "                     negative=20,\n",
    "                     sg=1\n",
    "                     )\n",
    "vector_list, empty_vector_list = get_vector_list(sentence_splited_list, w2v_model)"
   ]
  },
  {
   "cell_type": "code",
   "execution_count": 159,
   "metadata": {
    "scrolled": true
   },
   "outputs": [
    {
     "data": {
      "text/plain": [
       "dict_keys(['bonjour', 'forum', 'question', 'alors', 'ici', 'pris', 'première', 'fois', 'hier', 'paroxétine', 'matin', 'tous', 'corps', 'très', 'vomissement', 'deux', 'crises', 'depuis', 'heure', 'cela', 'semble', 'passer', 'mains', 'reste', 'normal', 'merci', 'contre', 'nausées', 'médecin', 'prescrit', '2ème', 'cachet', 'maux', 'tête', 'palpitations', 'sueurs', 'chaleur', 'tremblements', 'dès', 'arrêt', 'médicament', 'symptômes', 'déjà', 'arrivé', 'quelqu', 'est', 'existe', 'forme', 'enfant', 'medecin', 'amoxicilline', 'comme', 'anti', 'vraiment', 'cette', 'indication', 'viens', 'enceinte', 'savez', 'peux', 'dangereux', 'long', 'terme', 'sous', 'mercilon', 'saignements', 'quoi', 'prend', 'trinordiol', 'fin', 'plaquette', 'copain', 'pilule', 'donc', 'bien', 'efficace', 'debut', 'douleur', 'poitrine', 'impression', 'peu', 'plus', 'mal', 'bas', 'dois', 'laroxyl', 'doses', 'stress', 'psy', 'dit', 'prendre', '50mg', 'sertraline', 'soir', 'peut', '100mg', 'midi', 'bientot', 'semaine', 'sais', 'gratte', 'point', 'lié', 'antibiotique', 'quel', 'vaccin', 'cancer', 'col', 'vaccins', 'possible', 'pendant', 'grossesse', 'être', 'mis', 'savoir', 'bout', 'combien', 'injections', 'produit', 'faire', 'effets', 'jours', 'après', 'chaque', 'injection', 'sentir', 'comment', 'traiter', 'cuivre', 'eau', 'marché', '1er', 'indésirables', 'quels', 'risques', 'millepertuis', 'meme', 'temps', 'quand', 'termine', 'avoir', 'sexuels', 'quelle', 'durée', 'conservation', 'fais', 'grossir', 'sans', 'prise', 'toujours', 'protégée', 'non', 'utiliser', 'patch', 'evra', 'commencé', 'pdt', 'mois', 'temesta', 'deroxat', 'anxiolytique', 'antidépresseur', 'presque', 'effexor', 'xanax', 'cas', 'crise', 'angoisse', 'car', 'fait', 'voila', 'raison', 'rien', 'avaler', 'habitude', 'mange', 'chose', 'provoque', 'prends', 'jour', 'malgré', 'remarqué', 'peur', 'vacances', 'durer', 'type', 'vois', 'premiere', 'une', 'reçoit', 'prescription', 'bébé', 'demande', 'encore', 'aide', 'maigrir', '300', 'plein', 'partout', 'traitement', 'secondaires', 'commencer', 'puis', 'procurer', 'vitamine', 'provoquer', 'bouffées', 'anxiété', 'gastro', 'traitant', 'ensemble', 'réaction', 'petits', 'rouges', 'arreté', 'grippe', 'fer', 'oublier', 'rapport', 'protégé', 'celle', 'repris', 'dernière', 'normalement', 'risque', 'etre', 'risperdal', 'clomid', 'filles', 'fortes', 'estomac', 'connaissez', 'lovenox', 'rupture', 'aimerais', 'gel', 'sert', 'agit', 'lysanxia', 'dose', 'sirop', 'rhume', 'problème', 'vendredi', 'dernier', 'règles', 'nuit', 'jeudi', '22h', 'voudrais', '1ere', 'trop', 'tard', 'premier', 'regles', 'sexuel', 'cours', 'préservatif', 'conseillez', 'prenne', 'lendemain', 'avance', 'atarax', 'mélodia', 'voulais', 'prix', 'générique', '20mg', 'passé', 'reprendre', 'vers', 'fallait', 'comprimés', 'seropram', 'jasmine', 'poids', 'abilify', '100', 'pensez', 'mère', 'pieds', 'prescrire', 'avant', 'valium', 'ordonnance', 'moment', 'faut', 'augmentation', 'demi', 'aussi', 'fatiguée', 'voir', 'surtout', 'passe', 'beaucoup', 'moins', 'perdre', 'pourrait', 'aider', 'seulement', 'pillule', 'daily', 'probleme', 'sein', 'prescris', 'jasminelle', 'parait', 'saignement', 'vont', 'parce', 'solian', 'souffre', 'tout', 'début', 'poussée', 'acné', 'prenais', 'ludéal', 'près', 'ans', 'récemment', 'leeloo', 'aujourd', 'hui', 'dépression', 'que', 'souhaiterais', 'médicaments', 'oubli', 'microval', 'dépendance', 'ixprim', 'remplacer', 'copine', 'octobre', 'traitements', 'medicament', 'prozac', 'calme', 'arret', 'arrêter', 'malade', 'creme', 'mycose', 'pharmacie', 'continu', 'efferalgan', 'compatible', 'dimanche', 'urticaire', 'jambes', 'bras', 'allergie', 'stresam', 'arrêté', 'important', 'inquiète', 'continue', 'voudrai', 'molécule', 'nourrisson', 'cure', 'vrai', 'granules', 'gouttes', 'melodia', 'tant', 'contraception', 'skenan', 'doliprane', 'seins', 'gonfle', 'varnoline', 'vertiges', 'stilnox', 'entraine', 'seroquel', 'effet', 'femme', 'seule', 'fasse', 'malheureusement', 'hépatite', 'droit', 'solution', 'haldol', 'méliane', 'surdosage', 'danger', 'utilisé', 'petites', 'problèmes', 'dos', 'entre', 'rivotril', 'crois', 'soleil', 'ludeal', 'oublié', 'composition', 'boite', 'équivalent', 'laisser', 'patients', 'diane', 'chez', 'patiente', 'dosages', 'solupred', 'ginseng', 'utile', 'arrivent', 'milieu', 'cycle', 'marche', 'alternative', 'cialis', 'androcur', 'conseils', 'triafémi', 'oublie', 'comprimé', 'veux', 'dire', 'différents', 'enchaîner', 'plaquettes', 'toute', 'cerazette', 'stablon', 'connait', 'rotarix', 'bonjour!', 'arreter', 'quelles', 'autres', 'pilules', 'uniquement', 'norset', 'fièvre', 'jaune', 'placebo', 'dtp', 'enfin', 'disponible', 'cause', 'sur', 'chamomilla', 'duphaston', '9ch', 'gelsemium', 'pharmacienne', 'souhaiterai', 'pourquoi', 'ibuprofène', 'disponibles', 'teva', 'santé', 'différence', 'classe', 'thérapeutique', 'vie', 'utilise', 'svp', 'lorsqu', 'apparition', 'durant', 'attendre', 'complètement', 'perdu', '7jours', 'sevrage', 'demander', 'tercian', 'seroplex', 'donne', 'donner', 'secondaire', 'lexomil', 'surgestone', 'ixel', 'week', 'end', 'cet', '200', 'déconseillé', '12h', '5mg', 'assez', 'ainsi', 'panique', 'mieux', 'tombe', 'etc', 'dis', '10mg', 'gélules', 'causer', 'importante', 'patient', 'oui', 'cycléane', 'dure', 'action', 'les', 'antibiotiques', 'utérus', 'docteur', 'libido', 'veille', 'migraines', 'délivrance', 'posologie', 'ovulation', 'jusqu', 'depakote', 'insomnie', 'ressent', 'norlevo', 'tomber', 'carlin', 'maintenant', 'marron', 'trouver', 'dosage', 'mirena', 'faible', 'souvent', 'toutes', 'hors', 'amm', 'voie', 'xeroquel', 'mg)', 'commence', 'substituer', 'remboursé', 'vais', 'concernant', 'angoisses', 'dormir', 'convient', 'minesse', 'dosée', 'changement', 'ensuite', 'trouvé', 'bizarre', 'test', 'france', 'colpotrophine', 'ovule', 'autre', 'tres', 'tete', 'apres', 'compte', 'date', 'grave', 'huile', 'foie', 'cholestérol', 'bon', 'vacciner', 'generique', 'cystite', 'sterilet', 'visage', 'repas', 'ventre', 'veut', 'fatigue', 'reprends', 'pourriez', 'lyrica', 'fille', 'pouvez', 'éviter', 'certains', 'efficacité', 'escitalopram', 'personnes', 'part', 'doit', 'envie', 'subutex', 'quelques', 'mettre', 'implant', 'boutons', 'cérazette', 'environ', 'pertes', 'blanches', 'bcp', 'abondantes', 'inexium', 'lors', '2eme', 'recommence', 'petit', 'regle', 'avis', 'cependant', 'imovane', 'propranolol', 'diminuer', 'homéopathique', 'crampes', 'méthadone', 'conseillé', 'calcium', 'jamais', 'gynéco', 'douleurs', 'peuvent', 'indiqué', 'souhaite', 'possibles', 'alcool', 'suite', 'tétanos', 'semaines', 'pose', 'diu', 'advil', 'paracetamol', 'femmes', 'mauvaise', 'partir', 'nuvaring', 'anneau', 'retiré', 'tôt', 'rapports', 'juste', 'magnesium', 'dermato', 'moral', 'symptomes', 'quantité', 'notice', 'yaz', 'ceux', 'sang', 'tranxene', 'appétit', 'manger', 'fils', 'mardi', 'lequel', 'âge', 'fonctionne', 'passée', 'plaques', 'ror', 'adépal', 'reprise', 'crème', 'ovules', 'mari', 'troubles', 'seresta', 'belara', 'vient', 'sens', 'petite', 'venir', 'pillules', 'ami', 'période', 'forte', 'retard', 'minidril', 'jai', 'fini', 'vitamines', 'cachets', 'font', 'spiruline', 'marque', 'changer', 'actuellement', 'actif', 'indésirable', 'acide', 'indications', 'recommencer', 'aucun', 'suivante', 'recommandé', 'zoloft', '500', 'allait', 'utrogestan', 'poser', 'stérilet', 'plusieurs', 'tension', 'til', 'humeur', 'morphine', 'ceci', 'deja', 'prenant', 'infos', 'sujet', 'place', 'paroxetine', 'cymbalta', 'mai', 'devais', 'sachant', 'exemple', 'charge', 'optimizette', 'gros', 'cycles', 'antibio', 'mars', 'problemes', 'sommeil', 'faite', 'devrait', 'seul', 'noroxine', '400', 'augmentin', 'soigner', 'mélanger', 'gardasil', 'peau', 'oubliée', 'demandais', 'contraceptive', 'etait', 'pense', 'années', 'lithium', 'triella', 'continuer', 'cycleane', 'voilà', '1/2', 'certaines', 'acheter', 'tramadol', 'pause', 'coup', 'samedi', 'appliquer', 'conséquence', 'nouvelle', 'ordre', 'sinon', 'asthme', 'mon', 'gygy', 'donné', 'retrait', 'arrivée', 'deuxieme', 'croyez', 'deuxième', 'enchainer', 'afin', 'régles', 'entendu', 'qlaira', 'vaginale', 'homeo', 'produits', 'marrons', 'ignatia', 'celui', 'normale', 'niveau', 'pouvais', 'pouvoir', 'repevax', 'utilisation', 'connaît', 'huiles', 'essentielles', 'sait', 'attends', 'comprime', 'puisse', 'essayé', 'recommencé', 'généraliste', '(en', 'traite', 'rappel', 'prevenar', 'reviennent', 'elles', 'quelque', 'derniers', 'devrais', 'crestor', 'accoutumance', 'retrouver', 'nez', 'fort', 'nasonex', 'plutôt', 'longue', 'rapidement', 'décidé', 'heures', 'lorsque', 'ultra', 'douloureuses', 'homéopathie', 'perte', 'pourrais', 'voulu', 'musculaires', 'supporte', 'dors', 'simplement', 'traité', 'associer', 'lieu', 'conséquences', 'chute', 'cheveux', 'renseigner', 'aprés', 'fievre', 'transpiration', 'excessive', 'également', 'prochaine', 'protégés', 'eme', 'nausée', 'c’est', 'connu', 'explique', 'soucis', '(donc', 'goutte', 'journée', 'dafalgan', 'arrête', 'dés', 'essentielle', 'acnée', 'optilova', 'pareil', 'aller', 'consulter', 'longtemps', 'déja', 'ressenti', 'témoignages', 'nom', 'citalopram', 'sensation', 'homme', 'arrive', 'personne', 'dessus', 'précise', 'doute', 'souci', 'lundi', 'vomir', 'faisait', 'totalement', 'réponses', 'parler', 'pire', 'réponse', 'questions', 'besoin', 'message', 'aimerai', 'directement', 'roaccutane', 'déroxat', 'grosse', 'minerva', 'préservatifs', 'pouvait', 'change', 'vaccination', 'psychiatre', 'liste', 'donormyl', 'vente', 'accouchement', 'endroit', 'vomissements', 'mercredi', 'changé', '(daily', 'septembre', 'mêmes', 'sorte', 'anafranil', '150', 'vaginal', 'cherche', 'prévention', 'divarius', 'hépatique', 'prévu', 'bref', 'sauf', 'progressivement', 'langue', 'estreva', 'nexplanon', 'régime', 'amie', 'finir', 'contient', 'maximale', 'paracétamol', 'levothyrox', 'mise', 'gorge', 'genre', 'revaxis', 'rendue', 'bonsoir', 'zyprexa', 'gélule', 'coucher', 'varicelle', 'sédatif', 'certain', 'orelox', 'boire', 'rendre', 'poils', 'lait', 'diminution', 'démangeaisons', 'pharmacien', 'nux', 'vomica', 'température', 'seroxat', 'contraceptif', 'spasfon', 'délivrer', 'lutenyl', 'boîte', 'dont', 'magnésium', 'meliane', 'exactement', 'leponex', 'etais', 'plavix', 'lyoc', 'adepal', 'derniere', 'preservatif', 'nouveau', 'brunes', 'blanc', 'toux', 'influenzinum', 'coeur', 'enfants', 'diminue', 'allaitement', 'mildac', 'délai', 'jours)', 'pommade', '5ch', 'hyper', 'baisse', 'avlocardyl', 'gyneco', 'compatibles', 'phobie', 'sociale', 'zinc', 'désir', 'juillet', 'règle', 'migraine', 'protéger', 'biogaran', 'flacon', 'année', 'infection', 'urinaire', 'frigo', 'maximum', 'vagin', 'age', 'association', 'lesquels', '40mg', 'champix', 'sécurité', 'folique', 'provames', 'mauvais', 'prennent', 'fausse', 'trouve', 'trois', 'taux', 'thymuline', 'bonne', 'moyen', 'suivi', 'retour', '(je', 'kilos', 'parfois', 'hormones', 'mode', 'sandoz', 'interaction', 'injectable', 'tardyferon', 'débuter', 'doc', 'prenez', 'passage', 'arrete', 'gynécologue', 'enlever', 'remède', 'pour', 'positifs', '(ou', 'gé)', 'agir', 'manque', 'mylan', 'prescrite', 'floxyfral', 'etat', 'soulager', 'décaler', 'connaître', 'luteran', 'entrainer', 'bénéfiques', 'monuril', 'salut', 'mets', 'yeux', 'habituellement', 'alprazolam', 'notamment', 'état', 'enchainé', 'trés', 'teinture', 'valdoxan', 'progesterone', 'baisser', 'spotting', 'solutions', 'conseiller', 'écrit', 'vacciné', 'allergique', 'lutényl', 'grande', 'demain', 'depression', 'durent', 'bouche', 'refaire', 'pyostacine', 'lutéran', 'polio', 'lumalia', 'pilule)', 'diarrhée', 'gelules', 'diluer', 'jour)', 'adresse', 'j’ai', 'suivant', 'habituelle', 'selon', 'augmenté', 'insomnies', 'interruption', 'conseil', 'rouge', 'nuits', 'arnica', 'antidépresseurs', 'pourtant', 'met', 'augmenter', 'juin', 'maladie', 'ressens', 'harmonet', 'poid', 'ailleurs', 'présente', 'ancienne', 'vite', 'reponses', 'régulièrement', 'fatigué', 'suivre', 'ete', 'indesirables', '500mg', 'aucune', 'séroplex', '24h', 'medicaments', 'remplacement', 'éclairer', 'constipation', 'infanrix', 'fumer', 'premiers', 'libre', 'progestérone', 'arriver', 'partie', 'bebe', 'holgyeme', 'lien', 'avril', 'prises', 'vogalene', 'par', 'bilan', '&amp;'])"
      ]
     },
     "execution_count": 159,
     "metadata": {},
     "output_type": "execute_result"
    }
   ],
   "source": [
    "w2v_model.wv.vocab.keys()"
   ]
  },
  {
   "cell_type": "code",
   "execution_count": 160,
   "metadata": {},
   "outputs": [
    {
     "data": {
      "text/plain": [
       "7820"
      ]
     },
     "execution_count": 160,
     "metadata": {},
     "output_type": "execute_result"
    }
   ],
   "source": [
    "len(vector_list)"
   ]
  },
  {
   "cell_type": "code",
   "execution_count": 161,
   "metadata": {},
   "outputs": [],
   "source": [
    "output_without_na = output_train.intention.copy()\n",
    "for index in reversed(empty_vector_list):\n",
    "    output_without_na.pop(index)\n"
   ]
  },
  {
   "cell_type": "code",
   "execution_count": 162,
   "metadata": {},
   "outputs": [
    {
     "data": {
      "text/plain": [
       "(8028, 7820)"
      ]
     },
     "execution_count": 162,
     "metadata": {},
     "output_type": "execute_result"
    }
   ],
   "source": [
    "len(output_train.intention), len(output_without_na)"
   ]
  },
  {
   "cell_type": "code",
   "execution_count": 163,
   "metadata": {},
   "outputs": [
    {
     "data": {
      "text/plain": [
       "208"
      ]
     },
     "execution_count": 163,
     "metadata": {},
     "output_type": "execute_result"
    }
   ],
   "source": [
    "len(empty_vector_list)"
   ]
  },
  {
   "cell_type": "code",
   "execution_count": 164,
   "metadata": {},
   "outputs": [
    {
     "data": {
      "text/plain": [
       "[array([-5.02711944e-02, -7.04407692e-02, -1.13963932e-02, -1.27767831e-01,\n",
       "         3.06720696e-02,  2.43328251e-02, -8.57262537e-02,  2.03735381e-01,\n",
       "         1.40515983e-03,  1.13417946e-01, -3.32893074e-01,  7.60972425e-02,\n",
       "        -3.02236080e-01,  5.78853302e-02, -9.16702300e-02, -2.79964972e-02,\n",
       "         1.14886805e-01, -1.97526664e-01,  3.39002043e-01,  1.03668543e-02,\n",
       "         1.62153110e-01,  1.31117031e-01,  1.87451378e-01, -1.62184507e-01,\n",
       "         1.98077306e-01, -1.24465004e-01, -2.02676803e-01, -6.19483031e-02,\n",
       "         4.75129485e-03,  4.54394743e-02,  7.12586194e-02, -2.86668330e-01,\n",
       "        -5.44352569e-02,  4.42748815e-02, -3.00522894e-01, -1.43743217e-01,\n",
       "        -2.33833954e-01, -1.60866547e-02,  1.88712895e-01, -2.72914092e-03,\n",
       "         5.95692061e-02,  3.31013709e-01,  4.67350036e-02, -2.72676170e-01,\n",
       "        -1.36070093e-02,  2.63328999e-01,  3.66331525e-02,  1.88621674e-02,\n",
       "        -1.48400575e-01,  1.39834493e-01,  2.19556883e-01,  1.66954920e-01,\n",
       "         2.97824204e-01, -2.91556567e-01,  1.47960514e-01, -5.74209122e-03,\n",
       "         1.30386859e-01,  2.37304851e-01, -3.66170816e-02, -2.04383343e-01,\n",
       "         2.11322203e-01,  3.45149427e-03, -2.19921605e-03, -1.27947375e-01,\n",
       "        -1.34479150e-01, -2.83730447e-01,  2.17705786e-01,  4.46578078e-02,\n",
       "         1.21848032e-01, -2.60717832e-02, -1.23141050e-01,  1.61883101e-01,\n",
       "        -3.75438511e-01,  1.59159034e-01,  1.12722114e-01, -3.29547435e-01,\n",
       "         3.11814040e-01,  2.25856781e-01, -1.75273344e-01,  1.30220145e-01,\n",
       "         2.08640303e-02,  1.37400836e-01, -2.46048629e-01,  1.21301629e-01,\n",
       "         1.77052349e-01, -3.43527347e-01, -1.42672183e-02,  1.84645683e-01,\n",
       "         5.44985487e-05,  2.27493629e-01,  8.70695263e-02, -1.93933696e-01,\n",
       "        -1.17301187e-02,  5.39427847e-02,  1.66622713e-01,  1.02730818e-01,\n",
       "         2.59402037e-01,  8.81664380e-02, -1.27969310e-01, -6.18033335e-02],\n",
       "       dtype=float32)]"
      ]
     },
     "execution_count": 164,
     "metadata": {},
     "output_type": "execute_result"
    }
   ],
   "source": [
    "vector_list[:1]"
   ]
  },
  {
   "cell_type": "code",
   "execution_count": 165,
   "metadata": {},
   "outputs": [],
   "source": [
    "x_train, x_test, y_train, y_test = train_test_split(vector_list, output_without_na) "
   ]
  },
  {
   "cell_type": "code",
   "execution_count": 166,
   "metadata": {},
   "outputs": [],
   "source": [
    "x_train_df = pd.DataFrame(x_train)\n",
    "x_test_df = pd.DataFrame(x_test)"
   ]
  },
  {
   "cell_type": "code",
   "execution_count": 167,
   "metadata": {},
   "outputs": [
    {
     "data": {
      "text/html": [
       "<div>\n",
       "<style scoped>\n",
       "    .dataframe tbody tr th:only-of-type {\n",
       "        vertical-align: middle;\n",
       "    }\n",
       "\n",
       "    .dataframe tbody tr th {\n",
       "        vertical-align: top;\n",
       "    }\n",
       "\n",
       "    .dataframe thead th {\n",
       "        text-align: right;\n",
       "    }\n",
       "</style>\n",
       "<table border=\"1\" class=\"dataframe\">\n",
       "  <thead>\n",
       "    <tr style=\"text-align: right;\">\n",
       "      <th></th>\n",
       "      <th>0</th>\n",
       "      <th>1</th>\n",
       "      <th>2</th>\n",
       "      <th>3</th>\n",
       "      <th>4</th>\n",
       "      <th>5</th>\n",
       "      <th>6</th>\n",
       "      <th>7</th>\n",
       "      <th>8</th>\n",
       "      <th>9</th>\n",
       "      <th>...</th>\n",
       "      <th>90</th>\n",
       "      <th>91</th>\n",
       "      <th>92</th>\n",
       "      <th>93</th>\n",
       "      <th>94</th>\n",
       "      <th>95</th>\n",
       "      <th>96</th>\n",
       "      <th>97</th>\n",
       "      <th>98</th>\n",
       "      <th>99</th>\n",
       "    </tr>\n",
       "  </thead>\n",
       "  <tbody>\n",
       "    <tr>\n",
       "      <td>0</td>\n",
       "      <td>-0.051758</td>\n",
       "      <td>-0.068668</td>\n",
       "      <td>-0.010562</td>\n",
       "      <td>-0.126517</td>\n",
       "      <td>0.028656</td>\n",
       "      <td>0.025329</td>\n",
       "      <td>-0.087326</td>\n",
       "      <td>0.206770</td>\n",
       "      <td>0.000396</td>\n",
       "      <td>0.111406</td>\n",
       "      <td>...</td>\n",
       "      <td>0.087708</td>\n",
       "      <td>-0.194135</td>\n",
       "      <td>-0.009229</td>\n",
       "      <td>0.052738</td>\n",
       "      <td>0.168520</td>\n",
       "      <td>0.100738</td>\n",
       "      <td>0.261475</td>\n",
       "      <td>0.088118</td>\n",
       "      <td>-0.129676</td>\n",
       "      <td>-0.064622</td>\n",
       "    </tr>\n",
       "    <tr>\n",
       "      <td>1</td>\n",
       "      <td>-0.047531</td>\n",
       "      <td>-0.070771</td>\n",
       "      <td>-0.010011</td>\n",
       "      <td>-0.125961</td>\n",
       "      <td>0.032131</td>\n",
       "      <td>0.024619</td>\n",
       "      <td>-0.083894</td>\n",
       "      <td>0.204511</td>\n",
       "      <td>0.002562</td>\n",
       "      <td>0.107583</td>\n",
       "      <td>...</td>\n",
       "      <td>0.086227</td>\n",
       "      <td>-0.190160</td>\n",
       "      <td>-0.013411</td>\n",
       "      <td>0.054539</td>\n",
       "      <td>0.164715</td>\n",
       "      <td>0.097718</td>\n",
       "      <td>0.256792</td>\n",
       "      <td>0.086023</td>\n",
       "      <td>-0.124156</td>\n",
       "      <td>-0.061157</td>\n",
       "    </tr>\n",
       "    <tr>\n",
       "      <td>2</td>\n",
       "      <td>-0.045993</td>\n",
       "      <td>-0.069378</td>\n",
       "      <td>-0.011859</td>\n",
       "      <td>-0.124600</td>\n",
       "      <td>0.033455</td>\n",
       "      <td>0.025502</td>\n",
       "      <td>-0.083307</td>\n",
       "      <td>0.198855</td>\n",
       "      <td>0.003303</td>\n",
       "      <td>0.109143</td>\n",
       "      <td>...</td>\n",
       "      <td>0.085133</td>\n",
       "      <td>-0.191097</td>\n",
       "      <td>-0.012400</td>\n",
       "      <td>0.053001</td>\n",
       "      <td>0.159944</td>\n",
       "      <td>0.099277</td>\n",
       "      <td>0.251738</td>\n",
       "      <td>0.087021</td>\n",
       "      <td>-0.123277</td>\n",
       "      <td>-0.060558</td>\n",
       "    </tr>\n",
       "    <tr>\n",
       "      <td>3</td>\n",
       "      <td>-0.048543</td>\n",
       "      <td>-0.067216</td>\n",
       "      <td>-0.010283</td>\n",
       "      <td>-0.126164</td>\n",
       "      <td>0.029914</td>\n",
       "      <td>0.025167</td>\n",
       "      <td>-0.083477</td>\n",
       "      <td>0.198862</td>\n",
       "      <td>0.001475</td>\n",
       "      <td>0.110899</td>\n",
       "      <td>...</td>\n",
       "      <td>0.084446</td>\n",
       "      <td>-0.188982</td>\n",
       "      <td>-0.011445</td>\n",
       "      <td>0.053431</td>\n",
       "      <td>0.161609</td>\n",
       "      <td>0.100120</td>\n",
       "      <td>0.253084</td>\n",
       "      <td>0.087189</td>\n",
       "      <td>-0.125530</td>\n",
       "      <td>-0.059073</td>\n",
       "    </tr>\n",
       "    <tr>\n",
       "      <td>4</td>\n",
       "      <td>-0.053408</td>\n",
       "      <td>-0.067083</td>\n",
       "      <td>-0.010698</td>\n",
       "      <td>-0.130035</td>\n",
       "      <td>0.032475</td>\n",
       "      <td>0.026551</td>\n",
       "      <td>-0.087101</td>\n",
       "      <td>0.202933</td>\n",
       "      <td>-0.002096</td>\n",
       "      <td>0.111731</td>\n",
       "      <td>...</td>\n",
       "      <td>0.086888</td>\n",
       "      <td>-0.196433</td>\n",
       "      <td>-0.011619</td>\n",
       "      <td>0.052958</td>\n",
       "      <td>0.165897</td>\n",
       "      <td>0.101392</td>\n",
       "      <td>0.260136</td>\n",
       "      <td>0.090081</td>\n",
       "      <td>-0.128042</td>\n",
       "      <td>-0.063120</td>\n",
       "    </tr>\n",
       "  </tbody>\n",
       "</table>\n",
       "<p>5 rows × 100 columns</p>\n",
       "</div>"
      ],
      "text/plain": [
       "         0         1         2         3         4         5         6         7         8         9   ...        90        91        92        93        94        95        96        97        98        99\n",
       "0 -0.051758 -0.068668 -0.010562 -0.126517  0.028656  0.025329 -0.087326  0.206770  0.000396  0.111406  ...  0.087708 -0.194135 -0.009229  0.052738  0.168520  0.100738  0.261475  0.088118 -0.129676 -0.064622\n",
       "1 -0.047531 -0.070771 -0.010011 -0.125961  0.032131  0.024619 -0.083894  0.204511  0.002562  0.107583  ...  0.086227 -0.190160 -0.013411  0.054539  0.164715  0.097718  0.256792  0.086023 -0.124156 -0.061157\n",
       "2 -0.045993 -0.069378 -0.011859 -0.124600  0.033455  0.025502 -0.083307  0.198855  0.003303  0.109143  ...  0.085133 -0.191097 -0.012400  0.053001  0.159944  0.099277  0.251738  0.087021 -0.123277 -0.060558\n",
       "3 -0.048543 -0.067216 -0.010283 -0.126164  0.029914  0.025167 -0.083477  0.198862  0.001475  0.110899  ...  0.084446 -0.188982 -0.011445  0.053431  0.161609  0.100120  0.253084  0.087189 -0.125530 -0.059073\n",
       "4 -0.053408 -0.067083 -0.010698 -0.130035  0.032475  0.026551 -0.087101  0.202933 -0.002096  0.111731  ...  0.086888 -0.196433 -0.011619  0.052958  0.165897  0.101392  0.260136  0.090081 -0.128042 -0.063120\n",
       "\n",
       "[5 rows x 100 columns]"
      ]
     },
     "execution_count": 167,
     "metadata": {},
     "output_type": "execute_result"
    }
   ],
   "source": [
    "x_train_df.head()"
   ]
  },
  {
   "cell_type": "code",
   "execution_count": 168,
   "metadata": {},
   "outputs": [],
   "source": [
    "#grid = {\"gamma\": [0.001, 0.01, 0.1,1,10, 100], \"C\":[0.001, 0.01, 0.1,1,10,100]}\n",
    "grid = {\"gamma\": [ 100, 1000], \"C\":[1000,100]}"
   ]
  },
  {
   "cell_type": "code",
   "execution_count": 169,
   "metadata": {},
   "outputs": [],
   "source": [
    "gs_wv = GridSearchCV(SVC(probability=True),grid, cv=3)"
   ]
  },
  {
   "cell_type": "code",
   "execution_count": 170,
   "metadata": {},
   "outputs": [
    {
     "data": {
      "text/plain": [
       "GridSearchCV(cv=3, error_score='raise-deprecating',\n",
       "             estimator=SVC(C=1.0, cache_size=200, class_weight=None, coef0=0.0,\n",
       "                           decision_function_shape='ovr', degree=3,\n",
       "                           gamma='auto_deprecated', kernel='rbf', max_iter=-1,\n",
       "                           probability=True, random_state=None, shrinking=True,\n",
       "                           tol=0.001, verbose=False),\n",
       "             iid='warn', n_jobs=None,\n",
       "             param_grid={'C': [1000, 100], 'gamma': [100, 1000]},\n",
       "             pre_dispatch='2*n_jobs', refit=True, return_train_score=False,\n",
       "             scoring=None, verbose=0)"
      ]
     },
     "execution_count": 170,
     "metadata": {},
     "output_type": "execute_result"
    }
   ],
   "source": [
    "gs_wv.fit(x_train_df, y_train)"
   ]
  },
  {
   "cell_type": "code",
   "execution_count": 171,
   "metadata": {},
   "outputs": [
    {
     "data": {
      "text/plain": [
       "SVC(C=100, cache_size=200, class_weight=None, coef0=0.0,\n",
       "    decision_function_shape='ovr', degree=3, gamma=100, kernel='rbf',\n",
       "    max_iter=-1, probability=True, random_state=None, shrinking=True, tol=0.001,\n",
       "    verbose=False)"
      ]
     },
     "execution_count": 171,
     "metadata": {},
     "output_type": "execute_result"
    }
   ],
   "source": [
    "gs_wv.best_estimator_"
   ]
  },
  {
   "cell_type": "code",
   "execution_count": 172,
   "metadata": {},
   "outputs": [
    {
     "data": {
      "text/plain": [
       "0.45933503836317136"
      ]
     },
     "execution_count": 172,
     "metadata": {},
     "output_type": "execute_result"
    }
   ],
   "source": [
    "gs_wv.best_score_"
   ]
  },
  {
   "cell_type": "code",
   "execution_count": 173,
   "metadata": {},
   "outputs": [
    {
     "data": {
      "text/plain": [
       "0.48081841432225064"
      ]
     },
     "execution_count": 173,
     "metadata": {},
     "output_type": "execute_result"
    }
   ],
   "source": [
    "gs_wv.score(x_test_df, y_test)"
   ]
  },
  {
   "cell_type": "code",
   "execution_count": 174,
   "metadata": {},
   "outputs": [],
   "source": [
    "pred = gs_wv.predict(x_test_df)\n",
    "confusion = confusion_matrix(y_test, pred)"
   ]
  },
  {
   "cell_type": "code",
   "execution_count": 175,
   "metadata": {},
   "outputs": [
    {
     "name": "stderr",
     "output_type": "stream",
     "text": [
      "/Users/antoine/Documents/Tests/interview/Posos/posos_interview/venvPosos/lib/python3.7/site-packages/mlxtend/plotting/plot_confusion_matrix.py:66: RuntimeWarning: invalid value encountered in true_divide\n",
      "  normed_conf_mat = conf_mat.astype('float') / total_samples\n"
     ]
    },
    {
     "data": {
      "image/png": "[encoded data removed]",
      "text/plain": [
       "<Figure size 1296x1296 with 1 Axes>"
      ]
     },
     "metadata": {
      "needs_background": "light"
     },
     "output_type": "display_data"
    }
   ],
   "source": [
    "fig, ax = plot_confusion_matrix(conf_mat=confusion, figsize=(18,18))\n",
    "plt.show()"
   ]
  },
  {
   "cell_type": "code",
   "execution_count": 177,
   "metadata": {},
   "outputs": [
    {
     "data": {
      "text/plain": [
       "(0.48081841432225064, 0.3270565556341877)"
      ]
     },
     "execution_count": 177,
     "metadata": {},
     "output_type": "execute_result"
    }
   ],
   "source": [
    "f1_score(y_test, pred, average=\"micro\") ,f1_score(y_test, pred, average=\"macro\") "
   ]
  },
  {
   "cell_type": "code",
   "execution_count": 92,
   "metadata": {},
   "outputs": [],
   "source": [
    "filename = 'svm_wv_model.sav'\n",
    "pickle.dump(gs_wv.best_estimator_, open(filename, 'wb'))"
   ]
  },
  {
   "cell_type": "code",
   "execution_count": 93,
   "metadata": {},
   "outputs": [
    {
     "data": {
      "text/plain": [
       "SVC(C=100, cache_size=200, class_weight=None, coef0=0.0,\n",
       "    decision_function_shape='ovr', degree=3, gamma=100, kernel='rbf',\n",
       "    max_iter=-1, probability=True, random_state=None, shrinking=True, tol=0.001,\n",
       "    verbose=False)"
      ]
     },
     "execution_count": 93,
     "metadata": {},
     "output_type": "execute_result"
    }
   ],
   "source": [
    "gs_wv.best_estimator_"
   ]
  },
  {
   "cell_type": "code",
   "execution_count": 94,
   "metadata": {},
   "outputs": [],
   "source": [
    "loaded_model = pickle.load(open(filename, 'rb'))\n",
    "loaded_model"
   ]
  },
  {
   "cell_type": "code",
   "execution_count": 96,
   "metadata": {},
   "outputs": [
    {
     "data": {
      "text/plain": [
       "0.478772378516624"
      ]
     },
     "execution_count": 96,
     "metadata": {},
     "output_type": "execute_result"
    }
   ],
   "source": [
    "loaded_model.score(x_test_df, y_test)"
   ]
  },
  {
   "cell_type": "code",
   "execution_count": 106,
   "metadata": {},
   "outputs": [],
   "source": [
    "# TEST on query"
   ]
  },
  {
   "cell_type": "code",
   "execution_count": 97,
   "metadata": {},
   "outputs": [],
   "source": [
    "query_to_test = \"risques poisson cru pendant la grossesse ?\""
   ]
  },
  {
   "cell_type": "code",
   "execution_count": 98,
   "metadata": {},
   "outputs": [],
   "source": [
    "cleaned_query_to_test = [re.sub(\",|-|'|\\.|\\?\" ,\" \", str(query_to_test)).split(\" \") ]"
   ]
  },
  {
   "cell_type": "code",
   "execution_count": 99,
   "metadata": {},
   "outputs": [
    {
     "data": {
      "text/plain": [
       "[['risques', 'poisson', 'cru', 'pendant', 'la', 'grossesse', '', '']]"
      ]
     },
     "execution_count": 99,
     "metadata": {},
     "output_type": "execute_result"
    }
   ],
   "source": [
    "cleaned_query_to_test"
   ]
  },
  {
   "cell_type": "code",
   "execution_count": 100,
   "metadata": {},
   "outputs": [],
   "source": [
    "cleaned_query_vectorized = get_vector_list(cleaned_query_to_test, w2v_model) "
   ]
  },
  {
   "cell_type": "code",
   "execution_count": 101,
   "metadata": {},
   "outputs": [
    {
     "data": {
      "text/plain": [
       "array([44])"
      ]
     },
     "execution_count": 101,
     "metadata": {},
     "output_type": "execute_result"
    }
   ],
   "source": [
    "loaded_model.predict(cleaned_query_vectorized[0])"
   ]
  },
  {
   "cell_type": "code",
   "execution_count": 102,
   "metadata": {},
   "outputs": [
    {
     "data": {
      "text/plain": [
       "array([[9.94047006e-03, 1.03058168e-03, 1.32429312e-04, 4.40898944e-04,\n",
       "        4.77386457e-04, 6.19848560e-04, 2.95174200e-04, 2.95450248e-04,\n",
       "        1.61009619e-03, 1.40694957e-03, 1.65433631e-03, 8.25731278e-04,\n",
       "        1.50325837e-03, 2.10503612e-03, 1.18288400e-02, 1.71771329e-04,\n",
       "        4.07701422e-04, 2.64157172e-04, 1.00528755e-03, 8.62382075e-04,\n",
       "        2.10219731e-04, 1.46620683e-03, 1.47209456e-03, 1.93284133e-03,\n",
       "        1.12486785e-03, 3.52288007e-04, 5.23898528e-03, 1.09966980e-03,\n",
       "        7.14822708e-03, 2.69215739e-04, 2.43944605e-03, 4.08572869e-03,\n",
       "        7.01064149e-03, 2.47822164e-03, 4.47081134e-03, 1.27626661e-03,\n",
       "        5.79881939e-04, 1.20802414e-02, 4.10383164e-03, 3.45452906e-03,\n",
       "        4.29785516e-04, 6.06962809e-04, 3.78145221e-03, 3.69950476e-03,\n",
       "        7.51098999e-01, 1.75553358e-03, 6.09268048e-04, 1.47894862e-03,\n",
       "        1.36701741e-01, 2.76499398e-04, 3.89303125e-04]])"
      ]
     },
     "execution_count": 102,
     "metadata": {},
     "output_type": "execute_result"
    }
   ],
   "source": [
    "loaded_model.predict_proba(cleaned_query_vectorized[0])"
   ]
  },
  {
   "cell_type": "code",
   "execution_count": 103,
   "metadata": {},
   "outputs": [
    {
     "data": {
      "text/plain": [
       "44"
      ]
     },
     "execution_count": 103,
     "metadata": {},
     "output_type": "execute_result"
    }
   ],
   "source": [
    "np.argmax(loaded_model.predict_proba(cleaned_query_vectorized[0]))"
   ]
  },
  {
   "cell_type": "code",
   "execution_count": 104,
   "metadata": {},
   "outputs": [
    {
     "data": {
      "text/plain": [
       "0.7510989985618736"
      ]
     },
     "execution_count": 104,
     "metadata": {},
     "output_type": "execute_result"
    }
   ],
   "source": [
    "loaded_model.predict_proba(cleaned_query_vectorized[0])[0][44]"
   ]
  },
  {
   "cell_type": "code",
   "execution_count": null,
   "metadata": {},
   "outputs": [],
   "source": []
  },
  {
   "cell_type": "code",
   "execution_count": null,
   "metadata": {},
   "outputs": [],
   "source": []
  }
 ],
 "metadata": {
  "kernelspec": {
   "display_name": "Python 3",
   "language": "python",
   "name": "python3"
  },
  "language_info": {
   "codemirror_mode": {
    "name": "ipython",
    "version": 3
   },
   "file_extension": ".py",
   "mimetype": "text/x-python",
   "name": "python",
   "nbconvert_exporter": "python",
   "pygments_lexer": "ipython3",
   "version": "3.7.3"
  }
 },
 "nbformat": 4,
 "nbformat_minor": 2
}
