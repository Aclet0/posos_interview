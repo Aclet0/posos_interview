{
 "cells": [
  {
   "cell_type": "code",
   "execution_count": 1,
   "metadata": {},
   "outputs": [
    {
     "name": "stderr",
     "output_type": "stream",
     "text": [
      "/Users/antoine/Documents/Tests/Posos/posos_interview/venv/lib/python3.7/site-packages/sklearn/externals/six.py:31: DeprecationWarning: The module is deprecated in version 0.21 and will be removed in version 0.23 since we've dropped support for Python 2.7. Please rely on the official version of six (https://pypi.org/project/six/).\n",
      "  \"(https://pypi.org/project/six/).\", DeprecationWarning)\n",
      "/Users/antoine/Documents/Tests/Posos/posos_interview/venv/lib/python3.7/site-packages/sklearn/externals/joblib/__init__.py:15: DeprecationWarning: sklearn.externals.joblib is deprecated in 0.21 and will be removed in 0.23. Please import this functionality directly from joblib, which can be installed with: pip install joblib. If this warning is raised when loading pickled models, you may need to re-serialize those models with scikit-learn 0.21+.\n",
      "  warnings.warn(msg, category=DeprecationWarning)\n"
     ]
    }
   ],
   "source": [
    "import sklearn\n",
    "import mglearn\n",
    "import numpy as np\n",
    "import pandas as pd\n",
    "import matplotlib.pyplot as plt"
   ]
  },
  {
   "cell_type": "code",
   "execution_count": 2,
   "metadata": {},
   "outputs": [
    {
     "name": "stdout",
     "output_type": "stream",
     "text": [
      "input_test_b1Yip6O.csv input_train.csv        output_train.csv\r\n"
     ]
    }
   ],
   "source": [
    "!ls data"
   ]
  },
  {
   "cell_type": "code",
   "execution_count": 3,
   "metadata": {},
   "outputs": [],
   "source": [
    "input_train = pd.read_csv(\"data/input_train.csv\")\n",
    "output_train = pd.read_csv(\"data/output_train.csv\")"
   ]
  },
  {
   "cell_type": "code",
   "execution_count": 99,
   "metadata": {
    "scrolled": true
   },
   "outputs": [
    {
     "data": {
      "text/html": [
       "<div>\n",
       "<style scoped>\n",
       "    .dataframe tbody tr th:only-of-type {\n",
       "        vertical-align: middle;\n",
       "    }\n",
       "\n",
       "    .dataframe tbody tr th {\n",
       "        vertical-align: top;\n",
       "    }\n",
       "\n",
       "    .dataframe thead th {\n",
       "        text-align: right;\n",
       "    }\n",
       "</style>\n",
       "<table border=\"1\" class=\"dataframe\">\n",
       "  <thead>\n",
       "    <tr style=\"text-align: right;\">\n",
       "      <th></th>\n",
       "      <th>index</th>\n",
       "      <th>intention</th>\n",
       "    </tr>\n",
       "  </thead>\n",
       "  <tbody>\n",
       "    <tr>\n",
       "      <td>0</td>\n",
       "      <td>28</td>\n",
       "      <td>1796</td>\n",
       "    </tr>\n",
       "    <tr>\n",
       "      <td>1</td>\n",
       "      <td>31</td>\n",
       "      <td>565</td>\n",
       "    </tr>\n",
       "    <tr>\n",
       "      <td>2</td>\n",
       "      <td>44</td>\n",
       "      <td>560</td>\n",
       "    </tr>\n",
       "    <tr>\n",
       "      <td>3</td>\n",
       "      <td>22</td>\n",
       "      <td>461</td>\n",
       "    </tr>\n",
       "    <tr>\n",
       "      <td>4</td>\n",
       "      <td>48</td>\n",
       "      <td>387</td>\n",
       "    </tr>\n",
       "  </tbody>\n",
       "</table>\n",
       "</div>"
      ],
      "text/plain": [
       "   index  intention\n",
       "0     28       1796\n",
       "1     31        565\n",
       "2     44        560\n",
       "3     22        461\n",
       "4     48        387"
      ]
     },
     "execution_count": 99,
     "metadata": {},
     "output_type": "execute_result"
    }
   ],
   "source": [
    "intention_count_df = output_train[\"intention\"].value_counts().reset_index()\n",
    "intention_count_df.head()"
   ]
  },
  {
   "cell_type": "code",
   "execution_count": 100,
   "metadata": {},
   "outputs": [
    {
     "data": {
      "image/png": "[encoded data removed]",
      "text/plain": [
       "<Figure size 864x864 with 1 Axes>"
      ]
     },
     "metadata": {
      "needs_background": "light"
     },
     "output_type": "display_data"
    }
   ],
   "source": [
    "ind = np.arange(intention_count_df.shape[0])\n",
    "fig, ax = plt.subplots(figsize=(12,12))\n",
    "rects = ax.barh(ind, intention_count_df[\"intention\"].values)\n",
    "ax.set_yticks(ind)\n",
    "ax.set_yticklabels(intention_count_df[\"index\"].values ,rotation='horizontal')\n",
    "plt.show()"
   ]
  },
  {
   "cell_type": "code",
   "execution_count": 4,
   "metadata": {},
   "outputs": [
    {
     "data": {
      "text/plain": [
       "((8028, 2), (8028, 2))"
      ]
     },
     "execution_count": 4,
     "metadata": {},
     "output_type": "execute_result"
    }
   ],
   "source": [
    "input_train.shape, output_train.shape"
   ]
  },
  {
   "cell_type": "code",
   "execution_count": 5,
   "metadata": {},
   "outputs": [
    {
     "data": {
      "text/html": [
       "<div>\n",
       "<style scoped>\n",
       "    .dataframe tbody tr th:only-of-type {\n",
       "        vertical-align: middle;\n",
       "    }\n",
       "\n",
       "    .dataframe tbody tr th {\n",
       "        vertical-align: top;\n",
       "    }\n",
       "\n",
       "    .dataframe thead th {\n",
       "        text-align: right;\n",
       "    }\n",
       "</style>\n",
       "<table border=\"1\" class=\"dataframe\">\n",
       "  <thead>\n",
       "    <tr style=\"text-align: right;\">\n",
       "      <th></th>\n",
       "      <th>ID</th>\n",
       "      <th>question</th>\n",
       "    </tr>\n",
       "  </thead>\n",
       "  <tbody>\n",
       "    <tr>\n",
       "      <td>0</td>\n",
       "      <td>0</td>\n",
       "      <td>bonjour,  je m suis trompé de forum pour ma qu...</td>\n",
       "    </tr>\n",
       "    <tr>\n",
       "      <td>1</td>\n",
       "      <td>1</td>\n",
       "      <td>est ce que le motilium me soulagera contre les...</td>\n",
       "    </tr>\n",
       "    <tr>\n",
       "      <td>2</td>\n",
       "      <td>2</td>\n",
       "      <td>mon médecin m'a prescrit adenyl. au 2ème cache...</td>\n",
       "    </tr>\n",
       "    <tr>\n",
       "      <td>3</td>\n",
       "      <td>3</td>\n",
       "      <td>Est-ce qu'il existe une forme adaptée aux enfa...</td>\n",
       "    </tr>\n",
       "    <tr>\n",
       "      <td>4</td>\n",
       "      <td>4</td>\n",
       "      <td>mon  medecin  me soigne  pour  une  rhino  pha...</td>\n",
       "    </tr>\n",
       "  </tbody>\n",
       "</table>\n",
       "</div>"
      ],
      "text/plain": [
       "   ID                                           question\n",
       "0   0  bonjour,  je m suis trompé de forum pour ma qu...\n",
       "1   1  est ce que le motilium me soulagera contre les...\n",
       "2   2  mon médecin m'a prescrit adenyl. au 2ème cache...\n",
       "3   3  Est-ce qu'il existe une forme adaptée aux enfa...\n",
       "4   4  mon  medecin  me soigne  pour  une  rhino  pha..."
      ]
     },
     "execution_count": 5,
     "metadata": {},
     "output_type": "execute_result"
    }
   ],
   "source": [
    "input_train.head()"
   ]
  },
  {
   "cell_type": "code",
   "execution_count": 6,
   "metadata": {},
   "outputs": [
    {
     "data": {
      "text/html": [
       "<div>\n",
       "<style scoped>\n",
       "    .dataframe tbody tr th:only-of-type {\n",
       "        vertical-align: middle;\n",
       "    }\n",
       "\n",
       "    .dataframe tbody tr th {\n",
       "        vertical-align: top;\n",
       "    }\n",
       "\n",
       "    .dataframe thead th {\n",
       "        text-align: right;\n",
       "    }\n",
       "</style>\n",
       "<table border=\"1\" class=\"dataframe\">\n",
       "  <thead>\n",
       "    <tr style=\"text-align: right;\">\n",
       "      <th></th>\n",
       "      <th>ID</th>\n",
       "      <th>intention</th>\n",
       "    </tr>\n",
       "  </thead>\n",
       "  <tbody>\n",
       "    <tr>\n",
       "      <td>0</td>\n",
       "      <td>0</td>\n",
       "      <td>28</td>\n",
       "    </tr>\n",
       "    <tr>\n",
       "      <td>1</td>\n",
       "      <td>1</td>\n",
       "      <td>31</td>\n",
       "    </tr>\n",
       "    <tr>\n",
       "      <td>2</td>\n",
       "      <td>2</td>\n",
       "      <td>28</td>\n",
       "    </tr>\n",
       "    <tr>\n",
       "      <td>3</td>\n",
       "      <td>3</td>\n",
       "      <td>44</td>\n",
       "    </tr>\n",
       "    <tr>\n",
       "      <td>4</td>\n",
       "      <td>4</td>\n",
       "      <td>31</td>\n",
       "    </tr>\n",
       "  </tbody>\n",
       "</table>\n",
       "</div>"
      ],
      "text/plain": [
       "   ID  intention\n",
       "0   0         28\n",
       "1   1         31\n",
       "2   2         28\n",
       "3   3         44\n",
       "4   4         31"
      ]
     },
     "execution_count": 6,
     "metadata": {},
     "output_type": "execute_result"
    }
   ],
   "source": [
    "output_train.head()"
   ]
  },
  {
   "cell_type": "code",
   "execution_count": 86,
   "metadata": {},
   "outputs": [],
   "source": [
    "from sklearn.feature_extraction.text import TfidfVectorizer, CountVectorizer\n",
    "from nltk.corpus import stopwords\n",
    "from sklearn.model_selection import train_test_split\n",
    "from sklearn.svm import SVC"
   ]
  },
  {
   "cell_type": "code",
   "execution_count": 104,
   "metadata": {},
   "outputs": [],
   "source": [
    "stop_words_fr = stopwords.words(\"french\")\n",
    "x_vect_count = CountVectorizer(min_df=5, stop_words=stop_words_fr).fit(input_train[\"question\"])\n",
    "x_train_count = x_vect_count.transform(input_train[\"question\"])\n",
    "y = output_train[\"intention\"]"
   ]
  },
  {
   "cell_type": "code",
   "execution_count": 84,
   "metadata": {},
   "outputs": [
    {
     "name": "stdout",
     "output_type": "stream",
     "text": [
      " feature len 2046\n",
      "\n",
      "feature begining ['00', '10', '100', '100mg', '10h', '10mg', '11', '11h', '12', '12h', '13', '14', '15', '150', '150mg', '15ch', '16', '17', '18', '19'] \n",
      "\n",
      "feature midlr ['arnica', 'arret', 'arrete', 'arreter', 'arreté', 'arrive', 'arrivent', 'arriver', 'arrivé', 'arrivée', 'arrivées', 'arréter', 'arrété', 'arrêt', 'arrête', 'arrêter', 'arrêté', 'arrêtée', 'arsenicum', 'aspegic'] \n"
     ]
    }
   ],
   "source": [
    "feature_names = x_vect_count.get_feature_names()\n",
    "print(\" feature len {}\\n\".format(len(feature_names)))\n",
    "print(\"feature begining {} \\n\".format(feature_names[:20]))\n",
    "print(\"feature midlr {} \".format(feature_names[200:220]))"
   ]
  },
  {
   "cell_type": "code",
   "execution_count": 107,
   "metadata": {},
   "outputs": [
    {
     "data": {
      "text/plain": [
       "(8028, 2046)"
      ]
     },
     "execution_count": 107,
     "metadata": {},
     "output_type": "execute_result"
    }
   ],
   "source": [
    "x_train_count .shape"
   ]
  },
  {
   "cell_type": "code",
   "execution_count": 258,
   "metadata": {},
   "outputs": [
    {
     "data": {
      "text/plain": [
       "(array([0, 0, 0, 0, 0, 0, 0, 0, 0, 0, 0, 0, 0, 0, 0, 0, 0, 0, 0, 0, 0, 0,\n",
       "        0, 0, 0, 0]),\n",
       " array([ 145,  300,  348,  467,  490,  541,  550,  794,  805,  885,  887,\n",
       "         922, 1081, 1105, 1121, 1223, 1302, 1310, 1428, 1453, 1537, 1601,\n",
       "        1685, 1869, 1905, 1991]))"
      ]
     },
     "execution_count": 258,
     "metadata": {},
     "output_type": "execute_result"
    }
   ],
   "source": [
    "np.nonzero(x_train_count[:1,:].toarray())"
   ]
  },
  {
   "cell_type": "code",
   "execution_count": 105,
   "metadata": {},
   "outputs": [],
   "source": [
    "x_train, x_test, y_train, y_test = train_test_split(x_train_count, y)"
   ]
  },
  {
   "cell_type": "code",
   "execution_count": 108,
   "metadata": {},
   "outputs": [
    {
     "data": {
      "text/plain": [
       "((6021, 2046), (6021,))"
      ]
     },
     "execution_count": 108,
     "metadata": {},
     "output_type": "execute_result"
    }
   ],
   "source": [
    "x_train.shape, y_train.shape"
   ]
  },
  {
   "cell_type": "code",
   "execution_count": 111,
   "metadata": {},
   "outputs": [
    {
     "name": "stderr",
     "output_type": "stream",
     "text": [
      "/Users/antoine/Documents/Tests/Posos/posos_interview/venv/lib/python3.7/site-packages/sklearn/svm/base.py:193: FutureWarning: The default value of gamma will change from 'auto' to 'scale' in version 0.22 to account better for unscaled features. Set gamma explicitly to 'auto' or 'scale' to avoid this warning.\n",
      "  \"avoid this warning.\", FutureWarning)\n"
     ]
    }
   ],
   "source": [
    "svc = SVC().fit(x_train, y_train)"
   ]
  },
  {
   "cell_type": "code",
   "execution_count": 113,
   "metadata": {},
   "outputs": [
    {
     "data": {
      "text/plain": [
       "(0.22654044178707855, 0.21524663677130046)"
      ]
     },
     "execution_count": 113,
     "metadata": {},
     "output_type": "execute_result"
    }
   ],
   "source": [
    "svc.score(x_train, y_train), svc.score(x_test, y_test)"
   ]
  },
  {
   "cell_type": "code",
   "execution_count": null,
   "metadata": {},
   "outputs": [],
   "source": []
  },
  {
   "cell_type": "code",
   "execution_count": 115,
   "metadata": {},
   "outputs": [
    {
     "data": {
      "text/html": [
       "<div>\n",
       "<style scoped>\n",
       "    .dataframe tbody tr th:only-of-type {\n",
       "        vertical-align: middle;\n",
       "    }\n",
       "\n",
       "    .dataframe tbody tr th {\n",
       "        vertical-align: top;\n",
       "    }\n",
       "\n",
       "    .dataframe thead th {\n",
       "        text-align: right;\n",
       "    }\n",
       "</style>\n",
       "<table border=\"1\" class=\"dataframe\">\n",
       "  <thead>\n",
       "    <tr style=\"text-align: right;\">\n",
       "      <th></th>\n",
       "      <th>ID</th>\n",
       "      <th>question</th>\n",
       "    </tr>\n",
       "  </thead>\n",
       "  <tbody>\n",
       "    <tr>\n",
       "      <td>0</td>\n",
       "      <td>0</td>\n",
       "      <td>bonjour,  je m suis trompé de forum pour ma qu...</td>\n",
       "    </tr>\n",
       "    <tr>\n",
       "      <td>1</td>\n",
       "      <td>1</td>\n",
       "      <td>est ce que le motilium me soulagera contre les...</td>\n",
       "    </tr>\n",
       "    <tr>\n",
       "      <td>2</td>\n",
       "      <td>2</td>\n",
       "      <td>mon médecin m'a prescrit adenyl. au 2ème cache...</td>\n",
       "    </tr>\n",
       "    <tr>\n",
       "      <td>3</td>\n",
       "      <td>3</td>\n",
       "      <td>Est-ce qu'il existe une forme adaptée aux enfa...</td>\n",
       "    </tr>\n",
       "    <tr>\n",
       "      <td>4</td>\n",
       "      <td>4</td>\n",
       "      <td>mon  medecin  me soigne  pour  une  rhino  pha...</td>\n",
       "    </tr>\n",
       "  </tbody>\n",
       "</table>\n",
       "</div>"
      ],
      "text/plain": [
       "   ID                                           question\n",
       "0   0  bonjour,  je m suis trompé de forum pour ma qu...\n",
       "1   1  est ce que le motilium me soulagera contre les...\n",
       "2   2  mon médecin m'a prescrit adenyl. au 2ème cache...\n",
       "3   3  Est-ce qu'il existe une forme adaptée aux enfa...\n",
       "4   4  mon  medecin  me soigne  pour  une  rhino  pha..."
      ]
     },
     "execution_count": 115,
     "metadata": {},
     "output_type": "execute_result"
    }
   ],
   "source": [
    "input_train.head()"
   ]
  },
  {
   "cell_type": "markdown",
   "metadata": {},
   "source": [
    "# TFIDF method"
   ]
  },
  {
   "cell_type": "code",
   "execution_count": 322,
   "metadata": {},
   "outputs": [],
   "source": [
    "# need to clean a bit my sentences remove - , : ..."
   ]
  },
  {
   "cell_type": "code",
   "execution_count": 341,
   "metadata": {},
   "outputs": [
    {
     "data": {
      "text/plain": [
       "'bonjour   je m suis trompé de forum pour ma question alors je la repose ici  je pris pour la première fois hier du paroxétine et ce matin c est une catastrophe  picotement dasn tous le corps annonciateur de sueur froide très très massive et de vomissement  j en suis à deux crises depuis 5 heure du mat  la cela semble passer mes mes mains reste moites et chaude estce normal pour la première fois merci a tous'"
      ]
     },
     "execution_count": 341,
     "metadata": {},
     "output_type": "execute_result"
    }
   ],
   "source": [
    "stop_words_fr = stopwords.words(\"french\")\n",
    "cleaned_sentence_array = [re.sub(\",|-|'|\\.|\\?\" ,\" \", str(row)).lower() for row  in input_train[\"question\"]   ]\n",
    "cleaned_sentence_array[0]             "
   ]
  },
  {
   "cell_type": "code",
   "execution_count": 254,
   "metadata": {},
   "outputs": [
    {
     "data": {
      "text/plain": [
       "0       bonjour,  je m suis trompé de forum pour ma qu...\n",
       "1       est ce que le motilium me soulagera contre les...\n",
       "2       mon médecin m'a prescrit adenyl. au 2ème cache...\n",
       "3       Est-ce qu'il existe une forme adaptée aux enfa...\n",
       "4       mon  medecin  me soigne  pour  une  rhino  pha...\n",
       "                              ...                        \n",
       "8023    en combien de temps un antibio n'est plus prés...\n",
       "8024    j'ai fait vacciner de revaxis mon fils 'année ...\n",
       "8025    Un patient m’a ramené une ordonnance de 3x1g d...\n",
       "8026    prise pillule du lendemain, faire une pause en...\n",
       "8027                                    advil médicament?\n",
       "Name: question, Length: 8028, dtype: object"
      ]
     },
     "execution_count": 254,
     "metadata": {},
     "output_type": "execute_result"
    }
   ],
   "source": [
    "input_train[\"question\"]"
   ]
  },
  {
   "cell_type": "code",
   "execution_count": 327,
   "metadata": {},
   "outputs": [],
   "source": [
    "y = output_train[\"intention\"]"
   ]
  },
  {
   "cell_type": "code",
   "execution_count": 342,
   "metadata": {},
   "outputs": [],
   "source": [
    "text_train = TfidfVectorizer(min_df=5, stop_words=stop_words_fr).fit_transform(cleaned_sentence_array)"
   ]
  },
  {
   "cell_type": "code",
   "execution_count": 343,
   "metadata": {},
   "outputs": [
    {
     "data": {
      "text/plain": [
       "<8028x2046 sparse matrix of type '<class 'numpy.float64'>'\n",
       "\twith 59954 stored elements in Compressed Sparse Row format>"
      ]
     },
     "execution_count": 343,
     "metadata": {},
     "output_type": "execute_result"
    }
   ],
   "source": [
    "text_train"
   ]
  },
  {
   "cell_type": "code",
   "execution_count": 344,
   "metadata": {},
   "outputs": [],
   "source": [
    "x_train_idf, x_test_idf, y_train_idf, y_test_idf = train_test_split(text_train,y)"
   ]
  },
  {
   "cell_type": "code",
   "execution_count": 345,
   "metadata": {},
   "outputs": [
    {
     "data": {
      "text/plain": [
       "((6021, 2046), (2007, 2046))"
      ]
     },
     "execution_count": 345,
     "metadata": {},
     "output_type": "execute_result"
    }
   ],
   "source": [
    "x_train_idf.shape ,x_test_idf.shape"
   ]
  },
  {
   "cell_type": "code",
   "execution_count": 346,
   "metadata": {},
   "outputs": [],
   "source": [
    "grid = {\"C\":[0.001,0.01,1,10,100], \"gamma\":[0.001,0.01,1,10,100]}"
   ]
  },
  {
   "cell_type": "code",
   "execution_count": 347,
   "metadata": {},
   "outputs": [],
   "source": [
    "gs_idf = GridSearchCV(SVC(), grid, cv=3)"
   ]
  },
  {
   "cell_type": "code",
   "execution_count": 348,
   "metadata": {},
   "outputs": [
    {
     "data": {
      "text/plain": [
       "GridSearchCV(cv=3, error_score='raise-deprecating',\n",
       "             estimator=SVC(C=1.0, cache_size=200, class_weight=None, coef0=0.0,\n",
       "                           decision_function_shape='ovr', degree=3,\n",
       "                           gamma='auto_deprecated', kernel='rbf', max_iter=-1,\n",
       "                           probability=False, random_state=None, shrinking=True,\n",
       "                           tol=0.001, verbose=False),\n",
       "             iid='warn', n_jobs=None,\n",
       "             param_grid={'C': [0.001, 0.01, 1, 10, 100],\n",
       "                         'gamma': [0.001, 0.01, 1, 10, 100]},\n",
       "             pre_dispatch='2*n_jobs', refit=True, return_train_score=False,\n",
       "             scoring=None, verbose=0)"
      ]
     },
     "execution_count": 348,
     "metadata": {},
     "output_type": "execute_result"
    }
   ],
   "source": [
    "gs_idf.fit(x_train_idf, y_train_idf)"
   ]
  },
  {
   "cell_type": "code",
   "execution_count": 349,
   "metadata": {},
   "outputs": [
    {
     "data": {
      "text/plain": [
       "SVC(C=100, cache_size=200, class_weight=None, coef0=0.0,\n",
       "    decision_function_shape='ovr', degree=3, gamma=0.01, kernel='rbf',\n",
       "    max_iter=-1, probability=False, random_state=None, shrinking=True,\n",
       "    tol=0.001, verbose=False)"
      ]
     },
     "execution_count": 349,
     "metadata": {},
     "output_type": "execute_result"
    }
   ],
   "source": [
    "gs_idf.best_estimator_"
   ]
  },
  {
   "cell_type": "code",
   "execution_count": 350,
   "metadata": {},
   "outputs": [
    {
     "data": {
      "text/plain": [
       "0.604384653712008"
      ]
     },
     "execution_count": 350,
     "metadata": {},
     "output_type": "execute_result"
    }
   ],
   "source": [
    "gs_idf.best_score_"
   ]
  },
  {
   "cell_type": "code",
   "execution_count": 351,
   "metadata": {},
   "outputs": [
    {
     "data": {
      "text/plain": [
       "(0.9265902673974423, 0.6203288490284006)"
      ]
     },
     "execution_count": 351,
     "metadata": {},
     "output_type": "execute_result"
    }
   ],
   "source": [
    "gs_idf.score(x_train_idf, y_train_idf), gs_idf.score(x_test_idf, y_test_idf)"
   ]
  },
  {
   "cell_type": "code",
   "execution_count": 352,
   "metadata": {
    "scrolled": true
   },
   "outputs": [
    {
     "data": {
      "text/html": [
       "<div>\n",
       "<style scoped>\n",
       "    .dataframe tbody tr th:only-of-type {\n",
       "        vertical-align: middle;\n",
       "    }\n",
       "\n",
       "    .dataframe tbody tr th {\n",
       "        vertical-align: top;\n",
       "    }\n",
       "\n",
       "    .dataframe thead th {\n",
       "        text-align: right;\n",
       "    }\n",
       "</style>\n",
       "<table border=\"1\" class=\"dataframe\">\n",
       "  <thead>\n",
       "    <tr style=\"text-align: right;\">\n",
       "      <th></th>\n",
       "      <th>mean_fit_time</th>\n",
       "      <th>std_fit_time</th>\n",
       "      <th>mean_score_time</th>\n",
       "      <th>std_score_time</th>\n",
       "      <th>param_C</th>\n",
       "      <th>param_gamma</th>\n",
       "      <th>params</th>\n",
       "      <th>split0_test_score</th>\n",
       "      <th>split1_test_score</th>\n",
       "      <th>split2_test_score</th>\n",
       "      <th>mean_test_score</th>\n",
       "      <th>std_test_score</th>\n",
       "      <th>rank_test_score</th>\n",
       "    </tr>\n",
       "  </thead>\n",
       "  <tbody>\n",
       "    <tr>\n",
       "      <td>0</td>\n",
       "      <td>1.173661</td>\n",
       "      <td>0.032522</td>\n",
       "      <td>0.772951</td>\n",
       "      <td>0.020625</td>\n",
       "      <td>0.001</td>\n",
       "      <td>0.001</td>\n",
       "      <td>{'C': 0.001, 'gamma': 0.001}</td>\n",
       "      <td>0.219585</td>\n",
       "      <td>0.221226</td>\n",
       "      <td>0.222390</td>\n",
       "      <td>0.221060</td>\n",
       "      <td>0.001151</td>\n",
       "      <td>14</td>\n",
       "    </tr>\n",
       "    <tr>\n",
       "      <td>1</td>\n",
       "      <td>1.175652</td>\n",
       "      <td>0.017797</td>\n",
       "      <td>0.776914</td>\n",
       "      <td>0.004191</td>\n",
       "      <td>0.001</td>\n",
       "      <td>0.01</td>\n",
       "      <td>{'C': 0.001, 'gamma': 0.01}</td>\n",
       "      <td>0.219585</td>\n",
       "      <td>0.221226</td>\n",
       "      <td>0.222390</td>\n",
       "      <td>0.221060</td>\n",
       "      <td>0.001151</td>\n",
       "      <td>14</td>\n",
       "    </tr>\n",
       "    <tr>\n",
       "      <td>2</td>\n",
       "      <td>1.222351</td>\n",
       "      <td>0.004381</td>\n",
       "      <td>0.763392</td>\n",
       "      <td>0.009417</td>\n",
       "      <td>0.001</td>\n",
       "      <td>1</td>\n",
       "      <td>{'C': 0.001, 'gamma': 1}</td>\n",
       "      <td>0.219585</td>\n",
       "      <td>0.221226</td>\n",
       "      <td>0.222390</td>\n",
       "      <td>0.221060</td>\n",
       "      <td>0.001151</td>\n",
       "      <td>14</td>\n",
       "    </tr>\n",
       "    <tr>\n",
       "      <td>3</td>\n",
       "      <td>1.285483</td>\n",
       "      <td>0.029623</td>\n",
       "      <td>0.791258</td>\n",
       "      <td>0.059659</td>\n",
       "      <td>0.001</td>\n",
       "      <td>10</td>\n",
       "      <td>{'C': 0.001, 'gamma': 10}</td>\n",
       "      <td>0.219585</td>\n",
       "      <td>0.221226</td>\n",
       "      <td>0.222390</td>\n",
       "      <td>0.221060</td>\n",
       "      <td>0.001151</td>\n",
       "      <td>14</td>\n",
       "    </tr>\n",
       "    <tr>\n",
       "      <td>4</td>\n",
       "      <td>1.634155</td>\n",
       "      <td>0.079833</td>\n",
       "      <td>0.734701</td>\n",
       "      <td>0.015782</td>\n",
       "      <td>0.001</td>\n",
       "      <td>100</td>\n",
       "      <td>{'C': 0.001, 'gamma': 100}</td>\n",
       "      <td>0.219585</td>\n",
       "      <td>0.221226</td>\n",
       "      <td>0.222390</td>\n",
       "      <td>0.221060</td>\n",
       "      <td>0.001151</td>\n",
       "      <td>14</td>\n",
       "    </tr>\n",
       "    <tr>\n",
       "      <td>5</td>\n",
       "      <td>1.233728</td>\n",
       "      <td>0.023919</td>\n",
       "      <td>0.809147</td>\n",
       "      <td>0.037039</td>\n",
       "      <td>0.01</td>\n",
       "      <td>0.001</td>\n",
       "      <td>{'C': 0.01, 'gamma': 0.001}</td>\n",
       "      <td>0.219585</td>\n",
       "      <td>0.221226</td>\n",
       "      <td>0.222390</td>\n",
       "      <td>0.221060</td>\n",
       "      <td>0.001151</td>\n",
       "      <td>14</td>\n",
       "    </tr>\n",
       "    <tr>\n",
       "      <td>6</td>\n",
       "      <td>1.203839</td>\n",
       "      <td>0.004487</td>\n",
       "      <td>0.785030</td>\n",
       "      <td>0.009640</td>\n",
       "      <td>0.01</td>\n",
       "      <td>0.01</td>\n",
       "      <td>{'C': 0.01, 'gamma': 0.01}</td>\n",
       "      <td>0.219585</td>\n",
       "      <td>0.221226</td>\n",
       "      <td>0.222390</td>\n",
       "      <td>0.221060</td>\n",
       "      <td>0.001151</td>\n",
       "      <td>14</td>\n",
       "    </tr>\n",
       "    <tr>\n",
       "      <td>7</td>\n",
       "      <td>2.393610</td>\n",
       "      <td>0.030828</td>\n",
       "      <td>0.790330</td>\n",
       "      <td>0.011203</td>\n",
       "      <td>0.01</td>\n",
       "      <td>1</td>\n",
       "      <td>{'C': 0.01, 'gamma': 1}</td>\n",
       "      <td>0.219585</td>\n",
       "      <td>0.221226</td>\n",
       "      <td>0.222390</td>\n",
       "      <td>0.221060</td>\n",
       "      <td>0.001151</td>\n",
       "      <td>14</td>\n",
       "    </tr>\n",
       "    <tr>\n",
       "      <td>8</td>\n",
       "      <td>3.596744</td>\n",
       "      <td>0.036239</td>\n",
       "      <td>0.780380</td>\n",
       "      <td>0.005394</td>\n",
       "      <td>0.01</td>\n",
       "      <td>10</td>\n",
       "      <td>{'C': 0.01, 'gamma': 10}</td>\n",
       "      <td>0.219585</td>\n",
       "      <td>0.221226</td>\n",
       "      <td>0.222390</td>\n",
       "      <td>0.221060</td>\n",
       "      <td>0.001151</td>\n",
       "      <td>14</td>\n",
       "    </tr>\n",
       "    <tr>\n",
       "      <td>9</td>\n",
       "      <td>3.649868</td>\n",
       "      <td>0.171750</td>\n",
       "      <td>0.811934</td>\n",
       "      <td>0.009964</td>\n",
       "      <td>0.01</td>\n",
       "      <td>100</td>\n",
       "      <td>{'C': 0.01, 'gamma': 100}</td>\n",
       "      <td>0.219585</td>\n",
       "      <td>0.221226</td>\n",
       "      <td>0.222390</td>\n",
       "      <td>0.221060</td>\n",
       "      <td>0.001151</td>\n",
       "      <td>14</td>\n",
       "    </tr>\n",
       "    <tr>\n",
       "      <td>10</td>\n",
       "      <td>1.538137</td>\n",
       "      <td>0.059587</td>\n",
       "      <td>0.797296</td>\n",
       "      <td>0.025228</td>\n",
       "      <td>1</td>\n",
       "      <td>0.001</td>\n",
       "      <td>{'C': 1, 'gamma': 0.001}</td>\n",
       "      <td>0.219585</td>\n",
       "      <td>0.221226</td>\n",
       "      <td>0.222390</td>\n",
       "      <td>0.221060</td>\n",
       "      <td>0.001151</td>\n",
       "      <td>14</td>\n",
       "    </tr>\n",
       "    <tr>\n",
       "      <td>11</td>\n",
       "      <td>2.049794</td>\n",
       "      <td>0.047685</td>\n",
       "      <td>0.823761</td>\n",
       "      <td>0.053997</td>\n",
       "      <td>1</td>\n",
       "      <td>0.01</td>\n",
       "      <td>{'C': 1, 'gamma': 0.01}</td>\n",
       "      <td>0.219585</td>\n",
       "      <td>0.221226</td>\n",
       "      <td>0.222390</td>\n",
       "      <td>0.221060</td>\n",
       "      <td>0.001151</td>\n",
       "      <td>14</td>\n",
       "    </tr>\n",
       "    <tr>\n",
       "      <td>12</td>\n",
       "      <td>3.708874</td>\n",
       "      <td>0.108539</td>\n",
       "      <td>0.773262</td>\n",
       "      <td>0.013307</td>\n",
       "      <td>1</td>\n",
       "      <td>1</td>\n",
       "      <td>{'C': 1, 'gamma': 1}</td>\n",
       "      <td>0.537587</td>\n",
       "      <td>0.529646</td>\n",
       "      <td>0.528112</td>\n",
       "      <td>0.531805</td>\n",
       "      <td>0.004158</td>\n",
       "      <td>4</td>\n",
       "    </tr>\n",
       "    <tr>\n",
       "      <td>13</td>\n",
       "      <td>5.221786</td>\n",
       "      <td>0.125239</td>\n",
       "      <td>0.845771</td>\n",
       "      <td>0.058952</td>\n",
       "      <td>1</td>\n",
       "      <td>10</td>\n",
       "      <td>{'C': 1, 'gamma': 10}</td>\n",
       "      <td>0.283383</td>\n",
       "      <td>0.285501</td>\n",
       "      <td>0.297189</td>\n",
       "      <td>0.288656</td>\n",
       "      <td>0.006062</td>\n",
       "      <td>9</td>\n",
       "    </tr>\n",
       "    <tr>\n",
       "      <td>14</td>\n",
       "      <td>5.213413</td>\n",
       "      <td>0.104226</td>\n",
       "      <td>0.821350</td>\n",
       "      <td>0.033834</td>\n",
       "      <td>1</td>\n",
       "      <td>100</td>\n",
       "      <td>{'C': 1, 'gamma': 100}</td>\n",
       "      <td>0.283383</td>\n",
       "      <td>0.285501</td>\n",
       "      <td>0.296687</td>\n",
       "      <td>0.288490</td>\n",
       "      <td>0.005828</td>\n",
       "      <td>10</td>\n",
       "    </tr>\n",
       "    <tr>\n",
       "      <td>15</td>\n",
       "      <td>1.935354</td>\n",
       "      <td>0.005410</td>\n",
       "      <td>0.795926</td>\n",
       "      <td>0.028194</td>\n",
       "      <td>10</td>\n",
       "      <td>0.001</td>\n",
       "      <td>{'C': 10, 'gamma': 0.001}</td>\n",
       "      <td>0.219585</td>\n",
       "      <td>0.221226</td>\n",
       "      <td>0.224398</td>\n",
       "      <td>0.221724</td>\n",
       "      <td>0.001996</td>\n",
       "      <td>13</td>\n",
       "    </tr>\n",
       "    <tr>\n",
       "      <td>16</td>\n",
       "      <td>2.149984</td>\n",
       "      <td>0.079586</td>\n",
       "      <td>0.782032</td>\n",
       "      <td>0.036708</td>\n",
       "      <td>10</td>\n",
       "      <td>0.01</td>\n",
       "      <td>{'C': 10, 'gamma': 0.01}</td>\n",
       "      <td>0.383284</td>\n",
       "      <td>0.380668</td>\n",
       "      <td>0.368474</td>\n",
       "      <td>0.377512</td>\n",
       "      <td>0.006445</td>\n",
       "      <td>6</td>\n",
       "    </tr>\n",
       "    <tr>\n",
       "      <td>17</td>\n",
       "      <td>3.698230</td>\n",
       "      <td>0.048214</td>\n",
       "      <td>0.784178</td>\n",
       "      <td>0.005048</td>\n",
       "      <td>10</td>\n",
       "      <td>1</td>\n",
       "      <td>{'C': 10, 'gamma': 1}</td>\n",
       "      <td>0.584075</td>\n",
       "      <td>0.568510</td>\n",
       "      <td>0.577309</td>\n",
       "      <td>0.576648</td>\n",
       "      <td>0.006383</td>\n",
       "      <td>2</td>\n",
       "    </tr>\n",
       "    <tr>\n",
       "      <td>18</td>\n",
       "      <td>5.145484</td>\n",
       "      <td>0.008870</td>\n",
       "      <td>0.765724</td>\n",
       "      <td>0.024118</td>\n",
       "      <td>10</td>\n",
       "      <td>10</td>\n",
       "      <td>{'C': 10, 'gamma': 10}</td>\n",
       "      <td>0.283877</td>\n",
       "      <td>0.286497</td>\n",
       "      <td>0.297189</td>\n",
       "      <td>0.289155</td>\n",
       "      <td>0.005750</td>\n",
       "      <td>7</td>\n",
       "    </tr>\n",
       "    <tr>\n",
       "      <td>19</td>\n",
       "      <td>5.173798</td>\n",
       "      <td>0.212112</td>\n",
       "      <td>0.761771</td>\n",
       "      <td>0.031703</td>\n",
       "      <td>10</td>\n",
       "      <td>100</td>\n",
       "      <td>{'C': 10, 'gamma': 100}</td>\n",
       "      <td>0.283383</td>\n",
       "      <td>0.285501</td>\n",
       "      <td>0.296687</td>\n",
       "      <td>0.288490</td>\n",
       "      <td>0.005828</td>\n",
       "      <td>10</td>\n",
       "    </tr>\n",
       "    <tr>\n",
       "      <td>20</td>\n",
       "      <td>2.158808</td>\n",
       "      <td>0.049633</td>\n",
       "      <td>0.777503</td>\n",
       "      <td>0.019955</td>\n",
       "      <td>100</td>\n",
       "      <td>0.001</td>\n",
       "      <td>{'C': 100, 'gamma': 0.001}</td>\n",
       "      <td>0.386251</td>\n",
       "      <td>0.385152</td>\n",
       "      <td>0.369980</td>\n",
       "      <td>0.380502</td>\n",
       "      <td>0.007412</td>\n",
       "      <td>5</td>\n",
       "    </tr>\n",
       "    <tr>\n",
       "      <td>21</td>\n",
       "      <td>2.303231</td>\n",
       "      <td>0.016644</td>\n",
       "      <td>0.783481</td>\n",
       "      <td>0.009441</td>\n",
       "      <td>100</td>\n",
       "      <td>0.01</td>\n",
       "      <td>{'C': 100, 'gamma': 0.01}</td>\n",
       "      <td>0.610287</td>\n",
       "      <td>0.598406</td>\n",
       "      <td>0.604418</td>\n",
       "      <td>0.604385</td>\n",
       "      <td>0.004860</td>\n",
       "      <td>1</td>\n",
       "    </tr>\n",
       "    <tr>\n",
       "      <td>22</td>\n",
       "      <td>3.796760</td>\n",
       "      <td>0.089614</td>\n",
       "      <td>0.786591</td>\n",
       "      <td>0.024521</td>\n",
       "      <td>100</td>\n",
       "      <td>1</td>\n",
       "      <td>{'C': 100, 'gamma': 1}</td>\n",
       "      <td>0.583581</td>\n",
       "      <td>0.568510</td>\n",
       "      <td>0.577309</td>\n",
       "      <td>0.576482</td>\n",
       "      <td>0.006191</td>\n",
       "      <td>3</td>\n",
       "    </tr>\n",
       "    <tr>\n",
       "      <td>23</td>\n",
       "      <td>5.152561</td>\n",
       "      <td>0.047311</td>\n",
       "      <td>0.738019</td>\n",
       "      <td>0.008717</td>\n",
       "      <td>100</td>\n",
       "      <td>10</td>\n",
       "      <td>{'C': 100, 'gamma': 10}</td>\n",
       "      <td>0.283877</td>\n",
       "      <td>0.286497</td>\n",
       "      <td>0.297189</td>\n",
       "      <td>0.289155</td>\n",
       "      <td>0.005750</td>\n",
       "      <td>7</td>\n",
       "    </tr>\n",
       "    <tr>\n",
       "      <td>24</td>\n",
       "      <td>5.021643</td>\n",
       "      <td>0.027220</td>\n",
       "      <td>0.759896</td>\n",
       "      <td>0.026063</td>\n",
       "      <td>100</td>\n",
       "      <td>100</td>\n",
       "      <td>{'C': 100, 'gamma': 100}</td>\n",
       "      <td>0.283383</td>\n",
       "      <td>0.285501</td>\n",
       "      <td>0.296687</td>\n",
       "      <td>0.288490</td>\n",
       "      <td>0.005828</td>\n",
       "      <td>10</td>\n",
       "    </tr>\n",
       "  </tbody>\n",
       "</table>\n",
       "</div>"
      ],
      "text/plain": [
       "    mean_fit_time  std_fit_time  mean_score_time  std_score_time param_C param_gamma                        params  split0_test_score  split1_test_score  split2_test_score  mean_test_score  std_test_score  rank_test_score\n",
       "0        1.173661      0.032522         0.772951        0.020625   0.001       0.001  {'C': 0.001, 'gamma': 0.001}           0.219585           0.221226           0.222390         0.221060        0.001151               14\n",
       "1        1.175652      0.017797         0.776914        0.004191   0.001        0.01   {'C': 0.001, 'gamma': 0.01}           0.219585           0.221226           0.222390         0.221060        0.001151               14\n",
       "2        1.222351      0.004381         0.763392        0.009417   0.001           1      {'C': 0.001, 'gamma': 1}           0.219585           0.221226           0.222390         0.221060        0.001151               14\n",
       "3        1.285483      0.029623         0.791258        0.059659   0.001          10     {'C': 0.001, 'gamma': 10}           0.219585           0.221226           0.222390         0.221060        0.001151               14\n",
       "4        1.634155      0.079833         0.734701        0.015782   0.001         100    {'C': 0.001, 'gamma': 100}           0.219585           0.221226           0.222390         0.221060        0.001151               14\n",
       "5        1.233728      0.023919         0.809147        0.037039    0.01       0.001   {'C': 0.01, 'gamma': 0.001}           0.219585           0.221226           0.222390         0.221060        0.001151               14\n",
       "6        1.203839      0.004487         0.785030        0.009640    0.01        0.01    {'C': 0.01, 'gamma': 0.01}           0.219585           0.221226           0.222390         0.221060        0.001151               14\n",
       "7        2.393610      0.030828         0.790330        0.011203    0.01           1       {'C': 0.01, 'gamma': 1}           0.219585           0.221226           0.222390         0.221060        0.001151               14\n",
       "8        3.596744      0.036239         0.780380        0.005394    0.01          10      {'C': 0.01, 'gamma': 10}           0.219585           0.221226           0.222390         0.221060        0.001151               14\n",
       "9        3.649868      0.171750         0.811934        0.009964    0.01         100     {'C': 0.01, 'gamma': 100}           0.219585           0.221226           0.222390         0.221060        0.001151               14\n",
       "10       1.538137      0.059587         0.797296        0.025228       1       0.001      {'C': 1, 'gamma': 0.001}           0.219585           0.221226           0.222390         0.221060        0.001151               14\n",
       "11       2.049794      0.047685         0.823761        0.053997       1        0.01       {'C': 1, 'gamma': 0.01}           0.219585           0.221226           0.222390         0.221060        0.001151               14\n",
       "12       3.708874      0.108539         0.773262        0.013307       1           1          {'C': 1, 'gamma': 1}           0.537587           0.529646           0.528112         0.531805        0.004158                4\n",
       "13       5.221786      0.125239         0.845771        0.058952       1          10         {'C': 1, 'gamma': 10}           0.283383           0.285501           0.297189         0.288656        0.006062                9\n",
       "14       5.213413      0.104226         0.821350        0.033834       1         100        {'C': 1, 'gamma': 100}           0.283383           0.285501           0.296687         0.288490        0.005828               10\n",
       "15       1.935354      0.005410         0.795926        0.028194      10       0.001     {'C': 10, 'gamma': 0.001}           0.219585           0.221226           0.224398         0.221724        0.001996               13\n",
       "16       2.149984      0.079586         0.782032        0.036708      10        0.01      {'C': 10, 'gamma': 0.01}           0.383284           0.380668           0.368474         0.377512        0.006445                6\n",
       "17       3.698230      0.048214         0.784178        0.005048      10           1         {'C': 10, 'gamma': 1}           0.584075           0.568510           0.577309         0.576648        0.006383                2\n",
       "18       5.145484      0.008870         0.765724        0.024118      10          10        {'C': 10, 'gamma': 10}           0.283877           0.286497           0.297189         0.289155        0.005750                7\n",
       "19       5.173798      0.212112         0.761771        0.031703      10         100       {'C': 10, 'gamma': 100}           0.283383           0.285501           0.296687         0.288490        0.005828               10\n",
       "20       2.158808      0.049633         0.777503        0.019955     100       0.001    {'C': 100, 'gamma': 0.001}           0.386251           0.385152           0.369980         0.380502        0.007412                5\n",
       "21       2.303231      0.016644         0.783481        0.009441     100        0.01     {'C': 100, 'gamma': 0.01}           0.610287           0.598406           0.604418         0.604385        0.004860                1\n",
       "22       3.796760      0.089614         0.786591        0.024521     100           1        {'C': 100, 'gamma': 1}           0.583581           0.568510           0.577309         0.576482        0.006191                3\n",
       "23       5.152561      0.047311         0.738019        0.008717     100          10       {'C': 100, 'gamma': 10}           0.283877           0.286497           0.297189         0.289155        0.005750                7\n",
       "24       5.021643      0.027220         0.759896        0.026063     100         100      {'C': 100, 'gamma': 100}           0.283383           0.285501           0.296687         0.288490        0.005828               10"
      ]
     },
     "execution_count": 352,
     "metadata": {},
     "output_type": "execute_result"
    }
   ],
   "source": [
    "pd.DataFrame(gs_idf.cv_results_)"
   ]
  },
  {
   "cell_type": "code",
   "execution_count": 338,
   "metadata": {},
   "outputs": [],
   "source": [
    "# TRY to normalize to improve SVC perf"
   ]
  },
  {
   "cell_type": "code",
   "execution_count": 141,
   "metadata": {},
   "outputs": [],
   "source": [
    "from sklearn.preprocessing import MinMaxScaler, MaxAbsScaler\n",
    "scaler = MaxAbsScaler()\n",
    "x_train_scaled = scaler.fit_transform(x_train_idf)\n",
    "x_test_scaled = scaler.transform(x_test_idf)"
   ]
  },
  {
   "cell_type": "code",
   "execution_count": 140,
   "metadata": {},
   "outputs": [
    {
     "data": {
      "text/plain": [
       "<6021x2046 sparse matrix of type '<class 'numpy.float64'>'\n",
       "\twith 44861 stored elements in Compressed Sparse Row format>"
      ]
     },
     "execution_count": 140,
     "metadata": {},
     "output_type": "execute_result"
    }
   ],
   "source": [
    "x_scaled"
   ]
  },
  {
   "cell_type": "code",
   "execution_count": 142,
   "metadata": {},
   "outputs": [
    {
     "name": "stderr",
     "output_type": "stream",
     "text": [
      "/Users/antoine/Documents/Tests/Posos/posos_interview/venv/lib/python3.7/site-packages/sklearn/svm/base.py:193: FutureWarning: The default value of gamma will change from 'auto' to 'scale' in version 0.22 to account better for unscaled features. Set gamma explicitly to 'auto' or 'scale' to avoid this warning.\n",
      "  \"avoid this warning.\", FutureWarning)\n"
     ]
    }
   ],
   "source": [
    "svc_idf_scaled = SVC().fit(x_train_scaled, y_train_idf)"
   ]
  },
  {
   "cell_type": "code",
   "execution_count": 143,
   "metadata": {},
   "outputs": [
    {
     "data": {
      "text/plain": [
       "(0.22504567347616675, 0.21973094170403587)"
      ]
     },
     "execution_count": 143,
     "metadata": {},
     "output_type": "execute_result"
    }
   ],
   "source": [
    "svc_idf_scaled.score(x_train_scaled, y_train_idf), svc_idf_scaled.score(x_test_scaled, y_test_idf)"
   ]
  },
  {
   "cell_type": "code",
   "execution_count": null,
   "metadata": {},
   "outputs": [],
   "source": []
  },
  {
   "cell_type": "code",
   "execution_count": 354,
   "metadata": {},
   "outputs": [],
   "source": [
    "# Try FRENCH STEMMER\n",
    "import nltk\n",
    "stemmer_fr=nltk.stem.snowball.FrenchStemmer()"
   ]
  },
  {
   "cell_type": "code",
   "execution_count": 355,
   "metadata": {},
   "outputs": [
    {
     "name": "stderr",
     "output_type": "stream",
     "text": [
      "/Users/antoine/Documents/Tests/Posos/posos_interview/venv/lib/python3.7/site-packages/sklearn/feature_extraction/text.py:300: UserWarning: Your stop_words may be inconsistent with your preprocessing. Tokenizing the stop words generated tokens ['aur', 'aurion', 'auron', 'avi', 'avion', 'avon', 'ayon', 'dan', 'e', 'euss', 'eussion', 'eûm', 'fuss', 'fussion', 'fûm', 'mêm', 'notr', 'ser', 'serion', 'seron', 'soi', 'somm', 'soyon', 'votr', 'éti', 'étion', 'ête'] not in stop_words.\n",
      "  'stop_words.' % sorted(inconsistent))\n"
     ]
    }
   ],
   "source": [
    "def stemming_tokenizer_fr(str_input):\n",
    "    #cleaned_sentence_array = [re.sub(\",|-|'|\\.|\\?\" ,\" \", str(row)).lower() for row  in input_train[\"question\"]   ]\n",
    "\n",
    "    words = re.sub(\",|-|'|\\.|\\?\", \" \", str_input).lower().split()\n",
    "    words = [stemmer_fr.stem(word) for word in words]\n",
    "    return words\n",
    "\n",
    "tf_vectorizer_2 = TfidfVectorizer(tokenizer=stemming_tokenizer_fr,\n",
    "                       stop_words = stop_words_fr,\n",
    "                       min_df = 5).fit(input_train[\"question\"])"
   ]
  },
  {
   "cell_type": "code",
   "execution_count": 356,
   "metadata": {},
   "outputs": [],
   "source": [
    "x_fr = tf_vectorizer_2.transform(input_train[\"question\"])"
   ]
  },
  {
   "cell_type": "code",
   "execution_count": 358,
   "metadata": {},
   "outputs": [],
   "source": [
    "x_train_1, x_test_1, y_train_1, y_test_1 = train_test_split(x_fr, y)"
   ]
  },
  {
   "cell_type": "code",
   "execution_count": 359,
   "metadata": {},
   "outputs": [
    {
     "data": {
      "text/plain": [
       "(6021, 1862)"
      ]
     },
     "execution_count": 359,
     "metadata": {},
     "output_type": "execute_result"
    }
   ],
   "source": [
    "x_train_1.shape"
   ]
  },
  {
   "cell_type": "code",
   "execution_count": 365,
   "metadata": {},
   "outputs": [],
   "source": [
    "grid = {\"C\":[0.001,0.01,1,10,100], \"gamma\":[0.001,0.01,1,10,100]}\n",
    "gs = GridSearchCV(SVC(), grid, cv=5)"
   ]
  },
  {
   "cell_type": "code",
   "execution_count": 366,
   "metadata": {},
   "outputs": [
    {
     "data": {
      "text/plain": [
       "GridSearchCV(cv=5, error_score='raise-deprecating',\n",
       "             estimator=SVC(C=1.0, cache_size=200, class_weight=None, coef0=0.0,\n",
       "                           decision_function_shape='ovr', degree=3,\n",
       "                           gamma='auto_deprecated', kernel='rbf', max_iter=-1,\n",
       "                           probability=False, random_state=None, shrinking=True,\n",
       "                           tol=0.001, verbose=False),\n",
       "             iid='warn', n_jobs=None,\n",
       "             param_grid={'C': [0.001, 0.01, 1, 10, 100],\n",
       "                         'gamma': [0.001, 0.01, 1, 10, 100]},\n",
       "             pre_dispatch='2*n_jobs', refit=True, return_train_score=False,\n",
       "             scoring=None, verbose=0)"
      ]
     },
     "execution_count": 366,
     "metadata": {},
     "output_type": "execute_result"
    }
   ],
   "source": [
    "gs.fit(x_train_1, y_train_1)"
   ]
  },
  {
   "cell_type": "code",
   "execution_count": 367,
   "metadata": {},
   "outputs": [
    {
     "data": {
      "text/plain": [
       "(0.9345623650556386, 0.6472346786248132)"
      ]
     },
     "execution_count": 367,
     "metadata": {},
     "output_type": "execute_result"
    }
   ],
   "source": [
    "gs.score(x_train_1, y_train_1), gs.score(x_test_1, y_test_1)"
   ]
  },
  {
   "cell_type": "code",
   "execution_count": 368,
   "metadata": {},
   "outputs": [
    {
     "data": {
      "text/plain": [
       "(0.6281348613187179, {'C': 100, 'gamma': 0.01})"
      ]
     },
     "execution_count": 368,
     "metadata": {},
     "output_type": "execute_result"
    }
   ],
   "source": [
    "gs.best_score_, gs.best_params_"
   ]
  },
  {
   "cell_type": "code",
   "execution_count": 369,
   "metadata": {
    "scrolled": true
   },
   "outputs": [
    {
     "data": {
      "text/html": [
       "<div>\n",
       "<style scoped>\n",
       "    .dataframe tbody tr th:only-of-type {\n",
       "        vertical-align: middle;\n",
       "    }\n",
       "\n",
       "    .dataframe tbody tr th {\n",
       "        vertical-align: top;\n",
       "    }\n",
       "\n",
       "    .dataframe thead th {\n",
       "        text-align: right;\n",
       "    }\n",
       "</style>\n",
       "<table border=\"1\" class=\"dataframe\">\n",
       "  <thead>\n",
       "    <tr style=\"text-align: right;\">\n",
       "      <th></th>\n",
       "      <th>mean_fit_time</th>\n",
       "      <th>std_fit_time</th>\n",
       "      <th>mean_score_time</th>\n",
       "      <th>std_score_time</th>\n",
       "      <th>param_C</th>\n",
       "      <th>param_gamma</th>\n",
       "      <th>params</th>\n",
       "      <th>split0_test_score</th>\n",
       "      <th>split1_test_score</th>\n",
       "      <th>split2_test_score</th>\n",
       "      <th>split3_test_score</th>\n",
       "      <th>split4_test_score</th>\n",
       "      <th>mean_test_score</th>\n",
       "      <th>std_test_score</th>\n",
       "      <th>rank_test_score</th>\n",
       "    </tr>\n",
       "  </thead>\n",
       "  <tbody>\n",
       "    <tr>\n",
       "      <td>0</td>\n",
       "      <td>1.867238</td>\n",
       "      <td>0.037329</td>\n",
       "      <td>0.601249</td>\n",
       "      <td>0.019354</td>\n",
       "      <td>0.001</td>\n",
       "      <td>0.001</td>\n",
       "      <td>{'C': 0.001, 'gamma': 0.001}</td>\n",
       "      <td>0.219951</td>\n",
       "      <td>0.221582</td>\n",
       "      <td>0.223237</td>\n",
       "      <td>0.225293</td>\n",
       "      <td>0.227004</td>\n",
       "      <td>0.223385</td>\n",
       "      <td>0.002521</td>\n",
       "      <td>15</td>\n",
       "    </tr>\n",
       "    <tr>\n",
       "      <td>1</td>\n",
       "      <td>1.878413</td>\n",
       "      <td>0.040647</td>\n",
       "      <td>0.618903</td>\n",
       "      <td>0.030111</td>\n",
       "      <td>0.001</td>\n",
       "      <td>0.01</td>\n",
       "      <td>{'C': 0.001, 'gamma': 0.01}</td>\n",
       "      <td>0.219951</td>\n",
       "      <td>0.221582</td>\n",
       "      <td>0.223237</td>\n",
       "      <td>0.225293</td>\n",
       "      <td>0.227004</td>\n",
       "      <td>0.223385</td>\n",
       "      <td>0.002521</td>\n",
       "      <td>15</td>\n",
       "    </tr>\n",
       "    <tr>\n",
       "      <td>2</td>\n",
       "      <td>2.079878</td>\n",
       "      <td>0.039166</td>\n",
       "      <td>0.623542</td>\n",
       "      <td>0.010690</td>\n",
       "      <td>0.001</td>\n",
       "      <td>1</td>\n",
       "      <td>{'C': 0.001, 'gamma': 1}</td>\n",
       "      <td>0.219951</td>\n",
       "      <td>0.221582</td>\n",
       "      <td>0.223237</td>\n",
       "      <td>0.225293</td>\n",
       "      <td>0.227004</td>\n",
       "      <td>0.223385</td>\n",
       "      <td>0.002521</td>\n",
       "      <td>15</td>\n",
       "    </tr>\n",
       "    <tr>\n",
       "      <td>3</td>\n",
       "      <td>2.138148</td>\n",
       "      <td>0.017886</td>\n",
       "      <td>0.625777</td>\n",
       "      <td>0.004580</td>\n",
       "      <td>0.001</td>\n",
       "      <td>10</td>\n",
       "      <td>{'C': 0.001, 'gamma': 10}</td>\n",
       "      <td>0.219951</td>\n",
       "      <td>0.221582</td>\n",
       "      <td>0.223237</td>\n",
       "      <td>0.225293</td>\n",
       "      <td>0.227004</td>\n",
       "      <td>0.223385</td>\n",
       "      <td>0.002521</td>\n",
       "      <td>15</td>\n",
       "    </tr>\n",
       "    <tr>\n",
       "      <td>4</td>\n",
       "      <td>2.671735</td>\n",
       "      <td>0.020434</td>\n",
       "      <td>0.587312</td>\n",
       "      <td>0.006001</td>\n",
       "      <td>0.001</td>\n",
       "      <td>100</td>\n",
       "      <td>{'C': 0.001, 'gamma': 100}</td>\n",
       "      <td>0.219951</td>\n",
       "      <td>0.221582</td>\n",
       "      <td>0.223237</td>\n",
       "      <td>0.225293</td>\n",
       "      <td>0.227004</td>\n",
       "      <td>0.223385</td>\n",
       "      <td>0.002521</td>\n",
       "      <td>15</td>\n",
       "    </tr>\n",
       "    <tr>\n",
       "      <td>5</td>\n",
       "      <td>1.902655</td>\n",
       "      <td>0.008130</td>\n",
       "      <td>0.615129</td>\n",
       "      <td>0.005806</td>\n",
       "      <td>0.01</td>\n",
       "      <td>0.001</td>\n",
       "      <td>{'C': 0.01, 'gamma': 0.001}</td>\n",
       "      <td>0.219951</td>\n",
       "      <td>0.221582</td>\n",
       "      <td>0.223237</td>\n",
       "      <td>0.225293</td>\n",
       "      <td>0.227004</td>\n",
       "      <td>0.223385</td>\n",
       "      <td>0.002521</td>\n",
       "      <td>15</td>\n",
       "    </tr>\n",
       "    <tr>\n",
       "      <td>6</td>\n",
       "      <td>1.922035</td>\n",
       "      <td>0.008422</td>\n",
       "      <td>0.611498</td>\n",
       "      <td>0.003890</td>\n",
       "      <td>0.01</td>\n",
       "      <td>0.01</td>\n",
       "      <td>{'C': 0.01, 'gamma': 0.01}</td>\n",
       "      <td>0.219951</td>\n",
       "      <td>0.221582</td>\n",
       "      <td>0.223237</td>\n",
       "      <td>0.225293</td>\n",
       "      <td>0.227004</td>\n",
       "      <td>0.223385</td>\n",
       "      <td>0.002521</td>\n",
       "      <td>15</td>\n",
       "    </tr>\n",
       "    <tr>\n",
       "      <td>7</td>\n",
       "      <td>3.660770</td>\n",
       "      <td>0.038898</td>\n",
       "      <td>0.627157</td>\n",
       "      <td>0.002911</td>\n",
       "      <td>0.01</td>\n",
       "      <td>1</td>\n",
       "      <td>{'C': 0.01, 'gamma': 1}</td>\n",
       "      <td>0.219951</td>\n",
       "      <td>0.221582</td>\n",
       "      <td>0.223237</td>\n",
       "      <td>0.225293</td>\n",
       "      <td>0.227004</td>\n",
       "      <td>0.223385</td>\n",
       "      <td>0.002521</td>\n",
       "      <td>15</td>\n",
       "    </tr>\n",
       "    <tr>\n",
       "      <td>8</td>\n",
       "      <td>5.914565</td>\n",
       "      <td>0.044110</td>\n",
       "      <td>0.630685</td>\n",
       "      <td>0.002257</td>\n",
       "      <td>0.01</td>\n",
       "      <td>10</td>\n",
       "      <td>{'C': 0.01, 'gamma': 10}</td>\n",
       "      <td>0.219951</td>\n",
       "      <td>0.221582</td>\n",
       "      <td>0.223237</td>\n",
       "      <td>0.225293</td>\n",
       "      <td>0.227004</td>\n",
       "      <td>0.223385</td>\n",
       "      <td>0.002521</td>\n",
       "      <td>15</td>\n",
       "    </tr>\n",
       "    <tr>\n",
       "      <td>9</td>\n",
       "      <td>5.708607</td>\n",
       "      <td>0.112368</td>\n",
       "      <td>0.613545</td>\n",
       "      <td>0.014103</td>\n",
       "      <td>0.01</td>\n",
       "      <td>100</td>\n",
       "      <td>{'C': 0.01, 'gamma': 100}</td>\n",
       "      <td>0.219951</td>\n",
       "      <td>0.221582</td>\n",
       "      <td>0.223237</td>\n",
       "      <td>0.225293</td>\n",
       "      <td>0.227004</td>\n",
       "      <td>0.223385</td>\n",
       "      <td>0.002521</td>\n",
       "      <td>15</td>\n",
       "    </tr>\n",
       "    <tr>\n",
       "      <td>10</td>\n",
       "      <td>2.249037</td>\n",
       "      <td>0.023409</td>\n",
       "      <td>0.588119</td>\n",
       "      <td>0.008685</td>\n",
       "      <td>1</td>\n",
       "      <td>0.001</td>\n",
       "      <td>{'C': 1, 'gamma': 0.001}</td>\n",
       "      <td>0.219951</td>\n",
       "      <td>0.221582</td>\n",
       "      <td>0.223237</td>\n",
       "      <td>0.225293</td>\n",
       "      <td>0.227004</td>\n",
       "      <td>0.223385</td>\n",
       "      <td>0.002521</td>\n",
       "      <td>15</td>\n",
       "    </tr>\n",
       "    <tr>\n",
       "      <td>11</td>\n",
       "      <td>2.810777</td>\n",
       "      <td>0.037301</td>\n",
       "      <td>0.583663</td>\n",
       "      <td>0.015518</td>\n",
       "      <td>1</td>\n",
       "      <td>0.01</td>\n",
       "      <td>{'C': 1, 'gamma': 0.01}</td>\n",
       "      <td>0.222404</td>\n",
       "      <td>0.225700</td>\n",
       "      <td>0.224066</td>\n",
       "      <td>0.228643</td>\n",
       "      <td>0.227848</td>\n",
       "      <td>0.225710</td>\n",
       "      <td>0.002317</td>\n",
       "      <td>13</td>\n",
       "    </tr>\n",
       "    <tr>\n",
       "      <td>12</td>\n",
       "      <td>5.025740</td>\n",
       "      <td>0.055414</td>\n",
       "      <td>0.593139</td>\n",
       "      <td>0.008856</td>\n",
       "      <td>1</td>\n",
       "      <td>1</td>\n",
       "      <td>{'C': 1, 'gamma': 1}</td>\n",
       "      <td>0.549469</td>\n",
       "      <td>0.570840</td>\n",
       "      <td>0.587552</td>\n",
       "      <td>0.574539</td>\n",
       "      <td>0.572996</td>\n",
       "      <td>0.571001</td>\n",
       "      <td>0.012340</td>\n",
       "      <td>4</td>\n",
       "    </tr>\n",
       "    <tr>\n",
       "      <td>13</td>\n",
       "      <td>7.947883</td>\n",
       "      <td>0.162435</td>\n",
       "      <td>0.600908</td>\n",
       "      <td>0.031549</td>\n",
       "      <td>1</td>\n",
       "      <td>10</td>\n",
       "      <td>{'C': 1, 'gamma': 10}</td>\n",
       "      <td>0.286182</td>\n",
       "      <td>0.297364</td>\n",
       "      <td>0.296266</td>\n",
       "      <td>0.286432</td>\n",
       "      <td>0.307173</td>\n",
       "      <td>0.294635</td>\n",
       "      <td>0.007799</td>\n",
       "      <td>9</td>\n",
       "    </tr>\n",
       "    <tr>\n",
       "      <td>14</td>\n",
       "      <td>7.468880</td>\n",
       "      <td>0.191147</td>\n",
       "      <td>0.579099</td>\n",
       "      <td>0.014111</td>\n",
       "      <td>1</td>\n",
       "      <td>100</td>\n",
       "      <td>{'C': 1, 'gamma': 100}</td>\n",
       "      <td>0.285364</td>\n",
       "      <td>0.297364</td>\n",
       "      <td>0.294606</td>\n",
       "      <td>0.286432</td>\n",
       "      <td>0.307173</td>\n",
       "      <td>0.294137</td>\n",
       "      <td>0.007937</td>\n",
       "      <td>10</td>\n",
       "    </tr>\n",
       "    <tr>\n",
       "      <td>15</td>\n",
       "      <td>2.670717</td>\n",
       "      <td>0.014540</td>\n",
       "      <td>0.557670</td>\n",
       "      <td>0.010130</td>\n",
       "      <td>10</td>\n",
       "      <td>0.001</td>\n",
       "      <td>{'C': 10, 'gamma': 0.001}</td>\n",
       "      <td>0.222404</td>\n",
       "      <td>0.225700</td>\n",
       "      <td>0.224066</td>\n",
       "      <td>0.228643</td>\n",
       "      <td>0.227848</td>\n",
       "      <td>0.225710</td>\n",
       "      <td>0.002317</td>\n",
       "      <td>13</td>\n",
       "    </tr>\n",
       "    <tr>\n",
       "      <td>16</td>\n",
       "      <td>2.764976</td>\n",
       "      <td>0.009132</td>\n",
       "      <td>0.557085</td>\n",
       "      <td>0.008335</td>\n",
       "      <td>10</td>\n",
       "      <td>0.01</td>\n",
       "      <td>{'C': 10, 'gamma': 0.01}</td>\n",
       "      <td>0.409648</td>\n",
       "      <td>0.438221</td>\n",
       "      <td>0.453942</td>\n",
       "      <td>0.445561</td>\n",
       "      <td>0.437131</td>\n",
       "      <td>0.436805</td>\n",
       "      <td>0.014973</td>\n",
       "      <td>6</td>\n",
       "    </tr>\n",
       "    <tr>\n",
       "      <td>17</td>\n",
       "      <td>5.076847</td>\n",
       "      <td>0.056988</td>\n",
       "      <td>0.557516</td>\n",
       "      <td>0.026958</td>\n",
       "      <td>10</td>\n",
       "      <td>1</td>\n",
       "      <td>{'C': 10, 'gamma': 1}</td>\n",
       "      <td>0.596075</td>\n",
       "      <td>0.612850</td>\n",
       "      <td>0.613278</td>\n",
       "      <td>0.616415</td>\n",
       "      <td>0.609283</td>\n",
       "      <td>0.609533</td>\n",
       "      <td>0.007157</td>\n",
       "      <td>3</td>\n",
       "    </tr>\n",
       "    <tr>\n",
       "      <td>18</td>\n",
       "      <td>7.547993</td>\n",
       "      <td>0.051810</td>\n",
       "      <td>0.545244</td>\n",
       "      <td>0.006655</td>\n",
       "      <td>10</td>\n",
       "      <td>10</td>\n",
       "      <td>{'C': 10, 'gamma': 10}</td>\n",
       "      <td>0.287817</td>\n",
       "      <td>0.301483</td>\n",
       "      <td>0.296266</td>\n",
       "      <td>0.286432</td>\n",
       "      <td>0.308017</td>\n",
       "      <td>0.295964</td>\n",
       "      <td>0.008139</td>\n",
       "      <td>7</td>\n",
       "    </tr>\n",
       "    <tr>\n",
       "      <td>19</td>\n",
       "      <td>7.547833</td>\n",
       "      <td>0.110986</td>\n",
       "      <td>0.551580</td>\n",
       "      <td>0.011728</td>\n",
       "      <td>10</td>\n",
       "      <td>100</td>\n",
       "      <td>{'C': 10, 'gamma': 100}</td>\n",
       "      <td>0.285364</td>\n",
       "      <td>0.297364</td>\n",
       "      <td>0.294606</td>\n",
       "      <td>0.286432</td>\n",
       "      <td>0.307173</td>\n",
       "      <td>0.294137</td>\n",
       "      <td>0.007937</td>\n",
       "      <td>10</td>\n",
       "    </tr>\n",
       "    <tr>\n",
       "      <td>20</td>\n",
       "      <td>2.738543</td>\n",
       "      <td>0.018773</td>\n",
       "      <td>0.549162</td>\n",
       "      <td>0.005338</td>\n",
       "      <td>100</td>\n",
       "      <td>0.001</td>\n",
       "      <td>{'C': 100, 'gamma': 0.001}</td>\n",
       "      <td>0.412101</td>\n",
       "      <td>0.438221</td>\n",
       "      <td>0.454772</td>\n",
       "      <td>0.448074</td>\n",
       "      <td>0.441350</td>\n",
       "      <td>0.438798</td>\n",
       "      <td>0.014637</td>\n",
       "      <td>5</td>\n",
       "    </tr>\n",
       "    <tr>\n",
       "      <td>21</td>\n",
       "      <td>2.818268</td>\n",
       "      <td>0.027265</td>\n",
       "      <td>0.537983</td>\n",
       "      <td>0.006066</td>\n",
       "      <td>100</td>\n",
       "      <td>0.01</td>\n",
       "      <td>{'C': 100, 'gamma': 0.01}</td>\n",
       "      <td>0.605070</td>\n",
       "      <td>0.626030</td>\n",
       "      <td>0.628216</td>\n",
       "      <td>0.653266</td>\n",
       "      <td>0.628692</td>\n",
       "      <td>0.628135</td>\n",
       "      <td>0.015306</td>\n",
       "      <td>1</td>\n",
       "    </tr>\n",
       "    <tr>\n",
       "      <td>22</td>\n",
       "      <td>5.040131</td>\n",
       "      <td>0.042828</td>\n",
       "      <td>0.551984</td>\n",
       "      <td>0.008579</td>\n",
       "      <td>100</td>\n",
       "      <td>1</td>\n",
       "      <td>{'C': 100, 'gamma': 1}</td>\n",
       "      <td>0.596075</td>\n",
       "      <td>0.612850</td>\n",
       "      <td>0.613278</td>\n",
       "      <td>0.618090</td>\n",
       "      <td>0.609283</td>\n",
       "      <td>0.609865</td>\n",
       "      <td>0.007499</td>\n",
       "      <td>2</td>\n",
       "    </tr>\n",
       "    <tr>\n",
       "      <td>23</td>\n",
       "      <td>7.531148</td>\n",
       "      <td>0.049936</td>\n",
       "      <td>0.544853</td>\n",
       "      <td>0.006577</td>\n",
       "      <td>100</td>\n",
       "      <td>10</td>\n",
       "      <td>{'C': 100, 'gamma': 10}</td>\n",
       "      <td>0.287817</td>\n",
       "      <td>0.301483</td>\n",
       "      <td>0.296266</td>\n",
       "      <td>0.286432</td>\n",
       "      <td>0.308017</td>\n",
       "      <td>0.295964</td>\n",
       "      <td>0.008139</td>\n",
       "      <td>7</td>\n",
       "    </tr>\n",
       "    <tr>\n",
       "      <td>24</td>\n",
       "      <td>7.461117</td>\n",
       "      <td>0.045149</td>\n",
       "      <td>0.547065</td>\n",
       "      <td>0.006797</td>\n",
       "      <td>100</td>\n",
       "      <td>100</td>\n",
       "      <td>{'C': 100, 'gamma': 100}</td>\n",
       "      <td>0.285364</td>\n",
       "      <td>0.297364</td>\n",
       "      <td>0.294606</td>\n",
       "      <td>0.286432</td>\n",
       "      <td>0.307173</td>\n",
       "      <td>0.294137</td>\n",
       "      <td>0.007937</td>\n",
       "      <td>10</td>\n",
       "    </tr>\n",
       "  </tbody>\n",
       "</table>\n",
       "</div>"
      ],
      "text/plain": [
       "    mean_fit_time  std_fit_time  mean_score_time  std_score_time param_C param_gamma                        params  split0_test_score  split1_test_score  split2_test_score  split3_test_score  split4_test_score  mean_test_score  std_test_score  rank_test_score\n",
       "0        1.867238      0.037329         0.601249        0.019354   0.001       0.001  {'C': 0.001, 'gamma': 0.001}           0.219951           0.221582           0.223237           0.225293           0.227004         0.223385        0.002521               15\n",
       "1        1.878413      0.040647         0.618903        0.030111   0.001        0.01   {'C': 0.001, 'gamma': 0.01}           0.219951           0.221582           0.223237           0.225293           0.227004         0.223385        0.002521               15\n",
       "2        2.079878      0.039166         0.623542        0.010690   0.001           1      {'C': 0.001, 'gamma': 1}           0.219951           0.221582           0.223237           0.225293           0.227004         0.223385        0.002521               15\n",
       "3        2.138148      0.017886         0.625777        0.004580   0.001          10     {'C': 0.001, 'gamma': 10}           0.219951           0.221582           0.223237           0.225293           0.227004         0.223385        0.002521               15\n",
       "4        2.671735      0.020434         0.587312        0.006001   0.001         100    {'C': 0.001, 'gamma': 100}           0.219951           0.221582           0.223237           0.225293           0.227004         0.223385        0.002521               15\n",
       "5        1.902655      0.008130         0.615129        0.005806    0.01       0.001   {'C': 0.01, 'gamma': 0.001}           0.219951           0.221582           0.223237           0.225293           0.227004         0.223385        0.002521               15\n",
       "6        1.922035      0.008422         0.611498        0.003890    0.01        0.01    {'C': 0.01, 'gamma': 0.01}           0.219951           0.221582           0.223237           0.225293           0.227004         0.223385        0.002521               15\n",
       "7        3.660770      0.038898         0.627157        0.002911    0.01           1       {'C': 0.01, 'gamma': 1}           0.219951           0.221582           0.223237           0.225293           0.227004         0.223385        0.002521               15\n",
       "8        5.914565      0.044110         0.630685        0.002257    0.01          10      {'C': 0.01, 'gamma': 10}           0.219951           0.221582           0.223237           0.225293           0.227004         0.223385        0.002521               15\n",
       "9        5.708607      0.112368         0.613545        0.014103    0.01         100     {'C': 0.01, 'gamma': 100}           0.219951           0.221582           0.223237           0.225293           0.227004         0.223385        0.002521               15\n",
       "10       2.249037      0.023409         0.588119        0.008685       1       0.001      {'C': 1, 'gamma': 0.001}           0.219951           0.221582           0.223237           0.225293           0.227004         0.223385        0.002521               15\n",
       "11       2.810777      0.037301         0.583663        0.015518       1        0.01       {'C': 1, 'gamma': 0.01}           0.222404           0.225700           0.224066           0.228643           0.227848         0.225710        0.002317               13\n",
       "12       5.025740      0.055414         0.593139        0.008856       1           1          {'C': 1, 'gamma': 1}           0.549469           0.570840           0.587552           0.574539           0.572996         0.571001        0.012340                4\n",
       "13       7.947883      0.162435         0.600908        0.031549       1          10         {'C': 1, 'gamma': 10}           0.286182           0.297364           0.296266           0.286432           0.307173         0.294635        0.007799                9\n",
       "14       7.468880      0.191147         0.579099        0.014111       1         100        {'C': 1, 'gamma': 100}           0.285364           0.297364           0.294606           0.286432           0.307173         0.294137        0.007937               10\n",
       "15       2.670717      0.014540         0.557670        0.010130      10       0.001     {'C': 10, 'gamma': 0.001}           0.222404           0.225700           0.224066           0.228643           0.227848         0.225710        0.002317               13\n",
       "16       2.764976      0.009132         0.557085        0.008335      10        0.01      {'C': 10, 'gamma': 0.01}           0.409648           0.438221           0.453942           0.445561           0.437131         0.436805        0.014973                6\n",
       "17       5.076847      0.056988         0.557516        0.026958      10           1         {'C': 10, 'gamma': 1}           0.596075           0.612850           0.613278           0.616415           0.609283         0.609533        0.007157                3\n",
       "18       7.547993      0.051810         0.545244        0.006655      10          10        {'C': 10, 'gamma': 10}           0.287817           0.301483           0.296266           0.286432           0.308017         0.295964        0.008139                7\n",
       "19       7.547833      0.110986         0.551580        0.011728      10         100       {'C': 10, 'gamma': 100}           0.285364           0.297364           0.294606           0.286432           0.307173         0.294137        0.007937               10\n",
       "20       2.738543      0.018773         0.549162        0.005338     100       0.001    {'C': 100, 'gamma': 0.001}           0.412101           0.438221           0.454772           0.448074           0.441350         0.438798        0.014637                5\n",
       "21       2.818268      0.027265         0.537983        0.006066     100        0.01     {'C': 100, 'gamma': 0.01}           0.605070           0.626030           0.628216           0.653266           0.628692         0.628135        0.015306                1\n",
       "22       5.040131      0.042828         0.551984        0.008579     100           1        {'C': 100, 'gamma': 1}           0.596075           0.612850           0.613278           0.618090           0.609283         0.609865        0.007499                2\n",
       "23       7.531148      0.049936         0.544853        0.006577     100          10       {'C': 100, 'gamma': 10}           0.287817           0.301483           0.296266           0.286432           0.308017         0.295964        0.008139                7\n",
       "24       7.461117      0.045149         0.547065        0.006797     100         100      {'C': 100, 'gamma': 100}           0.285364           0.297364           0.294606           0.286432           0.307173         0.294137        0.007937               10"
      ]
     },
     "execution_count": 369,
     "metadata": {},
     "output_type": "execute_result"
    }
   ],
   "source": [
    "pd.DataFrame(gs.cv_results_)"
   ]
  },
  {
   "cell_type": "code",
   "execution_count": 238,
   "metadata": {},
   "outputs": [],
   "source": [
    "# MATRICE DE CONFUSION / RAPPEL / F1_SCORE"
   ]
  },
  {
   "cell_type": "code",
   "execution_count": 370,
   "metadata": {},
   "outputs": [],
   "source": [
    "from sklearn.metrics import confusion_matrix\n",
    "pred = gs.predict(x_test_1)\n",
    "confusion = confusion_matrix(y_test_1, pred)"
   ]
  },
  {
   "cell_type": "code",
   "execution_count": 371,
   "metadata": {},
   "outputs": [
    {
     "data": {
      "text/plain": [
       "array([[23,  0,  0, ...,  0,  0,  0],\n",
       "       [ 0,  0,  0, ...,  0,  0,  0],\n",
       "       [ 0,  0,  1, ...,  0,  0,  0],\n",
       "       ...,\n",
       "       [ 0,  0,  0, ..., 62,  0,  0],\n",
       "       [ 0,  0,  0, ...,  0,  4,  0],\n",
       "       [ 0,  0,  0, ...,  0,  0, 10]])"
      ]
     },
     "execution_count": 371,
     "metadata": {},
     "output_type": "execute_result"
    }
   ],
   "source": [
    "confusion"
   ]
  },
  {
   "cell_type": "code",
   "execution_count": 372,
   "metadata": {},
   "outputs": [
    {
     "data": {
      "image/png": "[encoded data removed]",
      "text/plain": [
       "<Figure size 1296x1296 with 1 Axes>"
      ]
     },
     "metadata": {
      "needs_background": "light"
     },
     "output_type": "display_data"
    }
   ],
   "source": [
    "import matplotlib.pyplot as plt\n",
    "from mlxtend.evaluate import confusion_matrix\n",
    "from mlxtend.plotting import plot_confusion_matrix\n",
    "\n",
    "\n",
    "fig, ax = plot_confusion_matrix(conf_mat=confusion, figsize=(18,18))\n",
    "plt.show()"
   ]
  },
  {
   "cell_type": "code",
   "execution_count": 373,
   "metadata": {},
   "outputs": [
    {
     "name": "stderr",
     "output_type": "stream",
     "text": [
      "/Users/antoine/Documents/Tests/Posos/posos_interview/venv/lib/python3.7/site-packages/sklearn/metrics/classification.py:1437: UndefinedMetricWarning: F-score is ill-defined and being set to 0.0 in labels with no predicted samples.\n",
      "  'precision', 'predicted', average, warn_for)\n"
     ]
    },
    {
     "data": {
      "text/plain": [
       "(0.6472346786248132, 0.5399088665628495)"
      ]
     },
     "execution_count": 373,
     "metadata": {},
     "output_type": "execute_result"
    }
   ],
   "source": [
    "from sklearn.metrics import f1_score\n",
    "f1_score(y_test_1, pred, average=\"micro\") ,f1_score(y_test_1, pred, average=\"macro\") "
   ]
  },
  {
   "cell_type": "code",
   "execution_count": null,
   "metadata": {},
   "outputs": [],
   "source": []
  },
  {
   "cell_type": "code",
   "execution_count": null,
   "metadata": {},
   "outputs": [],
   "source": []
  },
  {
   "cell_type": "markdown",
   "metadata": {},
   "source": [
    "# Word2vec"
   ]
  },
  {
   "cell_type": "code",
   "execution_count": 12,
   "metadata": {},
   "outputs": [],
   "source": [
    "from gensim.models import Word2Vec\n",
    "import re\n",
    "from sklearn.model_selection import GridSearchCV\n",
    "from sklearn.svm import SVC"
   ]
  },
  {
   "cell_type": "code",
   "execution_count": 9,
   "metadata": {},
   "outputs": [
    {
     "data": {
      "text/plain": [
       "(8028, 2)"
      ]
     },
     "execution_count": 9,
     "metadata": {},
     "output_type": "execute_result"
    }
   ],
   "source": [
    "input_train.shape"
   ]
  },
  {
   "cell_type": "code",
   "execution_count": 264,
   "metadata": {},
   "outputs": [
    {
     "data": {
      "text/html": [
       "<div>\n",
       "<style scoped>\n",
       "    .dataframe tbody tr th:only-of-type {\n",
       "        vertical-align: middle;\n",
       "    }\n",
       "\n",
       "    .dataframe tbody tr th {\n",
       "        vertical-align: top;\n",
       "    }\n",
       "\n",
       "    .dataframe thead th {\n",
       "        text-align: right;\n",
       "    }\n",
       "</style>\n",
       "<table border=\"1\" class=\"dataframe\">\n",
       "  <thead>\n",
       "    <tr style=\"text-align: right;\">\n",
       "      <th></th>\n",
       "      <th>ID</th>\n",
       "      <th>question</th>\n",
       "    </tr>\n",
       "  </thead>\n",
       "  <tbody>\n",
       "    <tr>\n",
       "      <td>0</td>\n",
       "      <td>0</td>\n",
       "      <td>bonjour,  je m suis trompé de forum pour ma qu...</td>\n",
       "    </tr>\n",
       "    <tr>\n",
       "      <td>1</td>\n",
       "      <td>1</td>\n",
       "      <td>est ce que le motilium me soulagera contre les...</td>\n",
       "    </tr>\n",
       "    <tr>\n",
       "      <td>2</td>\n",
       "      <td>2</td>\n",
       "      <td>mon médecin m'a prescrit adenyl. au 2ème cache...</td>\n",
       "    </tr>\n",
       "    <tr>\n",
       "      <td>3</td>\n",
       "      <td>3</td>\n",
       "      <td>Est-ce qu'il existe une forme adaptée aux enfa...</td>\n",
       "    </tr>\n",
       "    <tr>\n",
       "      <td>4</td>\n",
       "      <td>4</td>\n",
       "      <td>mon  medecin  me soigne  pour  une  rhino  pha...</td>\n",
       "    </tr>\n",
       "  </tbody>\n",
       "</table>\n",
       "</div>"
      ],
      "text/plain": [
       "   ID                                           question\n",
       "0   0  bonjour,  je m suis trompé de forum pour ma qu...\n",
       "1   1  est ce que le motilium me soulagera contre les...\n",
       "2   2  mon médecin m'a prescrit adenyl. au 2ème cache...\n",
       "3   3  Est-ce qu'il existe une forme adaptée aux enfa...\n",
       "4   4  mon  medecin  me soigne  pour  une  rhino  pha..."
      ]
     },
     "execution_count": 264,
     "metadata": {},
     "output_type": "execute_result"
    }
   ],
   "source": [
    "pd.set_option('display.width', 10000)\n",
    "input_train.head()"
   ]
  },
  {
   "cell_type": "code",
   "execution_count": 267,
   "metadata": {},
   "outputs": [
    {
     "data": {
      "text/plain": [
       "'bonjour   je m suis trompé de forum pour ma question alors je la repose ici  je pris pour la première fois hier du paroxétine et ce matin c est une catastrophe  picotement dasn tous le corps annonciateur de sueur froide très très massive et de vomissement  j en suis à deux crises depuis 5 heure du mat  la cela semble passer mes mes mains reste moites et chaude estce normal pour la première fois merci a tous'"
      ]
     },
     "execution_count": 267,
     "metadata": {},
     "output_type": "execute_result"
    }
   ],
   "source": [
    "stop_words_fr = stopwords.words(\"french\")\n",
    "cleaned_sentence_array = [re.sub(\",|-|'|\\.|\\?\" ,\" \", str(row)) for row  in input_train[\"question\"]   ]\n",
    "cleaned_sentence_array[0]             "
   ]
  },
  {
   "cell_type": "code",
   "execution_count": 299,
   "metadata": {},
   "outputs": [],
   "source": [
    "def get_sentence_splited_list(cleaned_sentence_array):\n",
    "    sentence_splited_list = []\n",
    "    for sentence in cleaned_sentence_array:\n",
    "        new_splited_sentence = []\n",
    "        for word in sentence.split(\" \"):\n",
    "            if word and len(word) >2 and word not in stop_words_fr:\n",
    "                new_splited_sentence.append(word.lower())\n",
    "        sentence_splited_list.append(new_splited_sentence) \n",
    "    return sentence_splited_list\n",
    "    "
   ]
  },
  {
   "cell_type": "code",
   "execution_count": 300,
   "metadata": {},
   "outputs": [],
   "source": [
    "def get_vector_list(sentence_splited_list, w2v_model):\n",
    "    empty_vector_list = []\n",
    "    vector_list = []\n",
    "    #test = []\n",
    "    for index, word_list in enumerate(sentence_splited_list): #[1:2]:\n",
    "        #print (word_list)\n",
    "        vocab_words = []\n",
    "        for word in word_list:\n",
    "            if word in w2v_model.wv.vocab.keys():\n",
    "                vocab_words.append(w2v_model.wv[word])\n",
    "                #test.append(w2v_model.wv[word][0])\n",
    "        #print(vocab_words)\n",
    "        if not vocab_words:\n",
    "            #print(index)\n",
    "            #print(\"empty array\")\n",
    "            empty_vector_list.append(index)\n",
    "            \n",
    "        else:\n",
    "            mean_vect = np.mean(vocab_words, axis=0)\n",
    "            vector_list.append(mean_vect)\n",
    "    return vector_list, empty_vector_list"
   ]
  },
  {
   "cell_type": "code",
   "execution_count": 301,
   "metadata": {
    "scrolled": true
   },
   "outputs": [
    {
     "data": {
      "text/html": [
       "<div>\n",
       "<style scoped>\n",
       "    .dataframe tbody tr th:only-of-type {\n",
       "        vertical-align: middle;\n",
       "    }\n",
       "\n",
       "    .dataframe tbody tr th {\n",
       "        vertical-align: top;\n",
       "    }\n",
       "\n",
       "    .dataframe thead th {\n",
       "        text-align: right;\n",
       "    }\n",
       "</style>\n",
       "<table border=\"1\" class=\"dataframe\">\n",
       "  <thead>\n",
       "    <tr style=\"text-align: right;\">\n",
       "      <th></th>\n",
       "      <th>question_splited</th>\n",
       "    </tr>\n",
       "  </thead>\n",
       "  <tbody>\n",
       "    <tr>\n",
       "      <td>0</td>\n",
       "      <td>[bonjour, trompé, forum, question, alors, repo...</td>\n",
       "    </tr>\n",
       "    <tr>\n",
       "      <td>1</td>\n",
       "      <td>[motilium, soulagera, contre, nausées]</td>\n",
       "    </tr>\n",
       "    <tr>\n",
       "      <td>2</td>\n",
       "      <td>[médecin, prescrit, adenyl, 2ème, cachet, maux...</td>\n",
       "    </tr>\n",
       "    <tr>\n",
       "      <td>3</td>\n",
       "      <td>[est, existe, forme, adaptée, enfant, 5ans, mi...</td>\n",
       "    </tr>\n",
       "    <tr>\n",
       "      <td>4</td>\n",
       "      <td>[medecin, soigne, rhino, pharingite, prescrit,...</td>\n",
       "    </tr>\n",
       "  </tbody>\n",
       "</table>\n",
       "</div>"
      ],
      "text/plain": [
       "                                    question_splited\n",
       "0  [bonjour, trompé, forum, question, alors, repo...\n",
       "1             [motilium, soulagera, contre, nausées]\n",
       "2  [médecin, prescrit, adenyl, 2ème, cachet, maux...\n",
       "3  [est, existe, forme, adaptée, enfant, 5ans, mi...\n",
       "4  [medecin, soigne, rhino, pharingite, prescrit,..."
      ]
     },
     "execution_count": 301,
     "metadata": {},
     "output_type": "execute_result"
    }
   ],
   "source": [
    "sentence_splited_list = get_sentence_splited_list(cleaned_sentence_array)\n",
    "splited_df = pd.DataFrame({\"question_splited\": sentence_splited_list})\n",
    "splited_df.head()"
   ]
  },
  {
   "cell_type": "code",
   "execution_count": 302,
   "metadata": {},
   "outputs": [
    {
     "data": {
      "text/plain": [
       "10812"
      ]
     },
     "execution_count": 302,
     "metadata": {},
     "output_type": "execute_result"
    }
   ],
   "source": [
    "from collections import defaultdict\n",
    "word_freq = defaultdict(int)\n",
    "for sent in sentence_splited_list:\n",
    "    for w in sent:\n",
    "        word_freq[w] += 1\n",
    "len(word_freq)"
   ]
  },
  {
   "cell_type": "code",
   "execution_count": 303,
   "metadata": {
    "scrolled": true
   },
   "outputs": [],
   "source": [
    "w2v_model = Word2Vec(sentence_splited_list,\n",
    "                     min_count=10,\n",
    "                     window=2,\n",
    "                     size=100,\n",
    "                     sample=6e-5, \n",
    "                     alpha=0.03, \n",
    "                     min_alpha=0.0007, \n",
    "                     negative=20,\n",
    "                     sg=1\n",
    "                     )\n",
    "vector_list, empty_vector_list = get_vector_list(sentence_splited_list, w2v_model)"
   ]
  },
  {
   "cell_type": "code",
   "execution_count": 417,
   "metadata": {
    "scrolled": true
   },
   "outputs": [
    {
     "data": {
      "text/plain": [
       "dict_keys(['bonjour', 'forum', 'question', 'alors', 'ici', 'pris', 'première', 'fois', 'hier', 'paroxétine', 'matin', 'tous', 'corps', 'très', 'vomissement', 'deux', 'crises', 'depuis', 'heure', 'cela', 'semble', 'passer', 'mains', 'reste', 'normal', 'merci', 'contre', 'nausées', 'médecin', 'prescrit', '2ème', 'cachet', 'maux', 'tête', 'palpitations', 'sueurs', 'chaleur', 'tremblements', 'dès', 'arrêt', 'médicament', 'symptômes', 'déjà', 'arrivé', 'quelqu', 'est', 'existe', 'forme', 'enfant', 'medecin', 'amoxicilline', 'comme', 'anti', 'vraiment', 'cette', 'indication', 'viens', 'enceinte', 'savez', 'peux', 'dangereux', 'long', 'terme', 'sous', 'mercilon', 'saignements', 'quoi', 'prend', 'trinordiol', 'fin', 'plaquette', 'copain', 'pilule', 'donc', 'bien', 'efficace', 'debut', 'douleur', 'poitrine', 'impression', 'peu', 'plus', 'mal', 'bas', 'dois', 'laroxyl', 'doses', 'stress', 'psy', 'dit', 'prendre', '50mg', 'sertraline', 'soir', 'peut', '100mg', 'midi', 'bientot', 'semaine', 'sais', 'gratte', 'point', 'lié', 'antibiotique', 'quel', 'vaccin', 'cancer', 'col', 'vaccins', 'possible', 'pendant', 'grossesse', 'être', 'mis', 'savoir', 'bout', 'combien', 'injections', 'produit', 'faire', 'effets', 'jours', 'après', 'chaque', 'injection', 'sentir', 'comment', 'traiter', 'cuivre', 'eau', 'marché', '1er', 'indésirables', 'quels', 'risques', 'millepertuis', 'meme', 'temps', 'quand', 'termine', 'avoir', 'sexuels', 'quelle', 'durée', 'conservation', 'fais', 'grossir', 'sans', 'prise', 'toujours', 'protégée', 'non', 'utiliser', 'patch', 'evra', 'commencé', 'pdt', 'mois', 'temesta', 'deroxat', 'anxiolytique', 'antidépresseur', 'presque', 'effexor', 'xanax', 'cas', 'crise', 'angoisse', 'car', 'fait', 'voila', 'raison', 'rien', 'avaler', 'habitude', 'mange', 'chose', 'provoque', 'prends', 'jour', 'malgré', 'remarqué', 'peur', 'vacances', 'durer', 'type', 'vois', 'premiere', 'une', 'reçoit', 'prescription', 'bébé', 'demande', 'encore', 'aide', 'maigrir', '300', 'plein', 'partout', 'traitement', 'secondaires', 'commencer', 'puis', 'procurer', 'vitamine', 'provoquer', 'bouffées', 'anxiété', 'gastro', 'traitant', 'ensemble', 'réaction', 'petits', 'rouges', 'arreté', 'grippe', 'fer', 'oublier', 'rapport', 'protégé', 'celle', 'repris', 'dernière', 'normalement', 'risque', 'etre', 'risperdal', 'clomid', 'filles', 'fortes', 'estomac', 'connaissez', 'lovenox', 'rupture', 'aimerais', 'gel', 'sert', 'agit', 'lysanxia', 'dose', 'sirop', 'rhume', 'problème', 'vendredi', 'dernier', 'règles', 'nuit', 'jeudi', '22h', 'voudrais', '1ere', 'trop', 'tard', 'premier', 'regles', 'sexuel', 'cours', 'préservatif', 'conseillez', 'prenne', 'lendemain', 'avance', 'atarax', 'mélodia', 'voulais', 'prix', 'générique', '20mg', 'passé', 'reprendre', 'vers', 'fallait', 'comprimés', 'seropram', 'jasmine', 'poids', 'abilify', '100', 'pensez', 'mère', 'pieds', 'prescrire', 'avant', 'valium', 'ordonnance', 'moment', 'faut', 'augmentation', 'demi', 'aussi', 'fatiguée', 'voir', 'surtout', 'passe', 'beaucoup', 'moins', 'perdre', 'pourrait', 'aider', 'seulement', 'pillule', 'daily', 'probleme', 'sein', 'prescris', 'jasminelle', 'parait', 'saignement', 'vont', 'parce', 'solian', 'souffre', 'tout', 'début', 'poussée', 'acné', 'prenais', 'ludéal', 'près', 'ans', 'récemment', 'leeloo', 'aujourd', 'hui', 'dépression', 'que', 'souhaiterais', 'médicaments', 'oubli', 'microval', 'dépendance', 'ixprim', 'remplacer', 'copine', 'octobre', 'traitements', 'medicament', 'prozac', 'calme', 'arret', 'arrêter', 'malade', 'creme', 'mycose', 'pharmacie', 'continu', 'efferalgan', 'compatible', 'dimanche', 'urticaire', 'jambes', 'bras', 'allergie', 'stresam', 'arrêté', 'important', 'inquiète', 'continue', 'voudrai', 'molécule', 'nourrisson', 'cure', 'vrai', 'granules', 'gouttes', 'melodia', 'tant', 'contraception', 'skenan', 'doliprane', 'seins', 'gonfle', 'varnoline', 'vertiges', 'stilnox', 'entraine', 'seroquel', 'effet', 'femme', 'seule', 'fasse', 'malheureusement', 'hépatite', 'droit', 'solution', 'haldol', 'méliane', 'surdosage', 'danger', 'utilisé', 'petites', 'problèmes', 'dos', 'entre', 'rivotril', 'crois', 'soleil', 'ludeal', 'oublié', 'composition', 'boite', 'équivalent', 'laisser', 'patients', 'diane', 'chez', 'patiente', 'dosages', 'solupred', 'ginseng', 'utile', 'arrivent', 'milieu', 'cycle', 'marche', 'alternative', 'cialis', 'androcur', 'conseils', 'triafémi', 'oublie', 'comprimé', 'veux', 'dire', 'différents', 'enchaîner', 'plaquettes', 'toute', 'cerazette', 'stablon', 'connait', 'rotarix', 'bonjour!', 'arreter', 'quelles', 'autres', 'pilules', 'uniquement', 'norset', 'fièvre', 'jaune', 'placebo', 'dtp', 'enfin', 'disponible', 'cause', 'sur', 'chamomilla', 'duphaston', '9ch', 'gelsemium', 'pharmacienne', 'souhaiterai', 'pourquoi', 'ibuprofène', 'disponibles', 'teva', 'santé', 'différence', 'classe', 'thérapeutique', 'vie', 'utilise', 'svp', 'lorsqu', 'apparition', 'durant', 'attendre', 'complètement', 'perdu', '7jours', 'sevrage', 'demander', 'tercian', 'seroplex', 'donne', 'donner', 'secondaire', 'lexomil', 'surgestone', 'ixel', 'week', 'end', 'cet', '200', 'déconseillé', '12h', '5mg', 'assez', 'ainsi', 'panique', 'mieux', 'tombe', 'etc', 'dis', '10mg', 'gélules', 'causer', 'importante', 'patient', 'oui', 'cycléane', 'dure', 'action', 'les', 'antibiotiques', 'utérus', 'docteur', 'libido', 'veille', 'migraines', 'délivrance', 'posologie', 'ovulation', 'jusqu', 'depakote', 'insomnie', 'ressent', 'norlevo', 'tomber', 'carlin', 'maintenant', 'marron', 'trouver', 'dosage', 'mirena', 'faible', 'souvent', 'toutes', 'hors', 'amm', 'voie', 'xeroquel', 'mg)', 'commence', 'substituer', 'remboursé', 'vais', 'concernant', 'angoisses', 'dormir', 'convient', 'minesse', 'dosée', 'changement', 'ensuite', 'trouvé', 'bizarre', 'test', 'france', 'colpotrophine', 'ovule', 'autre', 'tres', 'tete', 'apres', 'compte', 'date', 'grave', 'huile', 'foie', 'cholestérol', 'bon', 'vacciner', 'generique', 'cystite', 'sterilet', 'visage', 'repas', 'ventre', 'veut', 'fatigue', 'reprends', 'pourriez', 'lyrica', 'fille', 'pouvez', 'éviter', 'certains', 'efficacité', 'escitalopram', 'personnes', 'part', 'doit', 'envie', 'subutex', 'quelques', 'mettre', 'implant', 'boutons', 'cérazette', 'environ', 'pertes', 'blanches', 'bcp', 'abondantes', 'inexium', 'lors', '2eme', 'recommence', 'petit', 'regle', 'avis', 'cependant', 'imovane', 'propranolol', 'diminuer', 'homéopathique', 'crampes', 'méthadone', 'conseillé', 'calcium', 'jamais', 'gynéco', 'douleurs', 'peuvent', 'indiqué', 'souhaite', 'possibles', 'alcool', 'suite', 'tétanos', 'semaines', 'pose', 'diu', 'advil', 'paracetamol', 'femmes', 'mauvaise', 'partir', 'nuvaring', 'anneau', 'retiré', 'tôt', 'rapports', 'juste', 'magnesium', 'dermato', 'moral', 'symptomes', 'quantité', 'notice', 'yaz', 'ceux', 'sang', 'tranxene', 'appétit', 'manger', 'fils', 'mardi', 'lequel', 'âge', 'fonctionne', 'passée', 'plaques', 'ror', 'adépal', 'reprise', 'crème', 'ovules', 'mari', 'troubles', 'seresta', 'belara', 'vient', 'sens', 'petite', 'venir', 'pillules', 'ami', 'période', 'forte', 'retard', 'minidril', 'jai', 'fini', 'vitamines', 'cachets', 'font', 'spiruline', 'marque', 'changer', 'actuellement', 'actif', 'indésirable', 'acide', 'indications', 'recommencer', 'aucun', 'suivante', 'recommandé', 'zoloft', '500', 'allait', 'utrogestan', 'poser', 'stérilet', 'plusieurs', 'tension', 'til', 'humeur', 'morphine', 'ceci', 'deja', 'prenant', 'infos', 'sujet', 'place', 'paroxetine', 'cymbalta', 'mai', 'devais', 'sachant', 'exemple', 'charge', 'optimizette', 'gros', 'cycles', 'antibio', 'mars', 'problemes', 'sommeil', 'faite', 'devrait', 'seul', 'noroxine', '400', 'augmentin', 'soigner', 'mélanger', 'gardasil', 'peau', 'oubliée', 'demandais', 'contraceptive', 'etait', 'pense', 'années', 'lithium', 'triella', 'continuer', 'cycleane', 'voilà', '1/2', 'certaines', 'acheter', 'tramadol', 'pause', 'coup', 'samedi', 'appliquer', 'conséquence', 'nouvelle', 'ordre', 'sinon', 'asthme', 'mon', 'gygy', 'donné', 'retrait', 'arrivée', 'deuxieme', 'croyez', 'deuxième', 'enchainer', 'afin', 'régles', 'entendu', 'qlaira', 'vaginale', 'homeo', 'produits', 'marrons', 'ignatia', 'celui', 'normale', 'niveau', 'pouvais', 'pouvoir', 'repevax', 'utilisation', 'connaît', 'huiles', 'essentielles', 'sait', 'attends', 'comprime', 'puisse', 'essayé', 'recommencé', 'généraliste', '(en', 'traite', 'rappel', 'prevenar', 'reviennent', 'elles', 'quelque', 'derniers', 'devrais', 'crestor', 'accoutumance', 'retrouver', 'nez', 'fort', 'nasonex', 'plutôt', 'longue', 'rapidement', 'décidé', 'heures', 'lorsque', 'ultra', 'douloureuses', 'homéopathie', 'perte', 'pourrais', 'voulu', 'musculaires', 'supporte', 'dors', 'simplement', 'traité', 'associer', 'lieu', 'conséquences', 'chute', 'cheveux', 'renseigner', 'aprés', 'fievre', 'transpiration', 'excessive', 'également', 'prochaine', 'protégés', 'eme', 'nausée', 'c’est', 'connu', 'explique', 'soucis', '(donc', 'goutte', 'journée', 'dafalgan', 'arrête', 'dés', 'essentielle', 'acnée', 'optilova', 'pareil', 'aller', 'consulter', 'longtemps', 'déja', 'ressenti', 'témoignages', 'nom', 'citalopram', 'sensation', 'homme', 'arrive', 'personne', 'dessus', 'précise', 'doute', 'souci', 'lundi', 'vomir', 'faisait', 'totalement', 'réponses', 'parler', 'pire', 'réponse', 'questions', 'besoin', 'message', 'aimerai', 'directement', 'roaccutane', 'déroxat', 'grosse', 'minerva', 'préservatifs', 'pouvait', 'change', 'vaccination', 'psychiatre', 'liste', 'donormyl', 'vente', 'accouchement', 'endroit', 'vomissements', 'mercredi', 'changé', '(daily', 'septembre', 'mêmes', 'sorte', 'anafranil', '150', 'vaginal', 'cherche', 'prévention', 'divarius', 'hépatique', 'prévu', 'bref', 'sauf', 'progressivement', 'langue', 'estreva', 'nexplanon', 'régime', 'amie', 'finir', 'contient', 'maximale', 'paracétamol', 'levothyrox', 'mise', 'gorge', 'genre', 'revaxis', 'rendue', 'bonsoir', 'zyprexa', 'gélule', 'coucher', 'varicelle', 'sédatif', 'certain', 'orelox', 'boire', 'rendre', 'poils', 'lait', 'diminution', 'démangeaisons', 'pharmacien', 'nux', 'vomica', 'température', 'seroxat', 'contraceptif', 'spasfon', 'délivrer', 'lutenyl', 'boîte', 'dont', 'magnésium', 'meliane', 'exactement', 'leponex', 'etais', 'plavix', 'lyoc', 'adepal', 'derniere', 'preservatif', 'nouveau', 'brunes', 'blanc', 'toux', 'influenzinum', 'coeur', 'enfants', 'diminue', 'allaitement', 'mildac', 'délai', 'jours)', 'pommade', '5ch', 'hyper', 'baisse', 'avlocardyl', 'gyneco', 'compatibles', 'phobie', 'sociale', 'zinc', 'désir', 'juillet', 'règle', 'migraine', 'protéger', 'biogaran', 'flacon', 'année', 'infection', 'urinaire', 'frigo', 'maximum', 'vagin', 'age', 'association', 'lesquels', '40mg', 'champix', 'sécurité', 'folique', 'provames', 'mauvais', 'prennent', 'fausse', 'trouve', 'trois', 'taux', 'thymuline', 'bonne', 'moyen', 'suivi', 'retour', '(je', 'kilos', 'parfois', 'hormones', 'mode', 'sandoz', 'interaction', 'injectable', 'tardyferon', 'débuter', 'doc', 'prenez', 'passage', 'arrete', 'gynécologue', 'enlever', 'remède', 'pour', 'positifs', '(ou', 'gé)', 'agir', 'manque', 'mylan', 'prescrite', 'floxyfral', 'etat', 'soulager', 'décaler', 'connaître', 'luteran', 'entrainer', 'bénéfiques', 'monuril', 'salut', 'mets', 'yeux', 'habituellement', 'alprazolam', 'notamment', 'état', 'enchainé', 'trés', 'teinture', 'valdoxan', 'progesterone', 'baisser', 'spotting', 'solutions', 'conseiller', 'écrit', 'vacciné', 'allergique', 'lutényl', 'grande', 'demain', 'depression', 'durent', 'bouche', 'refaire', 'pyostacine', 'lutéran', 'polio', 'lumalia', 'pilule)', 'diarrhée', 'gelules', 'diluer', 'jour)', 'adresse', 'j’ai', 'suivant', 'habituelle', 'selon', 'augmenté', 'insomnies', 'interruption', 'conseil', 'rouge', 'nuits', 'arnica', 'antidépresseurs', 'pourtant', 'met', 'augmenter', 'juin', 'maladie', 'ressens', 'harmonet', 'poid', 'ailleurs', 'présente', 'ancienne', 'vite', 'reponses', 'régulièrement', 'fatigué', 'suivre', 'ete', 'indesirables', '500mg', 'aucune', 'séroplex', '24h', 'medicaments', 'remplacement', 'éclairer', 'constipation', 'infanrix', 'fumer', 'premiers', 'libre', 'progestérone', 'arriver', 'partie', 'bebe', 'holgyeme', 'lien', 'avril', 'prises', 'vogalene', 'par', 'bilan', '&amp;'])"
      ]
     },
     "execution_count": 417,
     "metadata": {},
     "output_type": "execute_result"
    }
   ],
   "source": [
    "w2v_model.wv.vocab.keys()"
   ]
  },
  {
   "cell_type": "code",
   "execution_count": 437,
   "metadata": {},
   "outputs": [],
   "source": [
    "# save wv_model in pickle\n",
    "filename_wv = 'word2vec_model.sav'\n",
    "pickle.dump(w2v_model, open(filename_wv, 'wb'))\n"
   ]
  },
  {
   "cell_type": "code",
   "execution_count": 438,
   "metadata": {},
   "outputs": [],
   "source": [
    "loaded_model = pickle.load(open(filename_wv, 'rb'))"
   ]
  },
  {
   "cell_type": "code",
   "execution_count": 439,
   "metadata": {},
   "outputs": [
    {
     "data": {
      "text/plain": [
       "array([-2.11111568e-02,  4.70625646e-02, -1.62574336e-01, -1.85251236e-01,\n",
       "        9.32878330e-02, -2.10314870e-01, -1.55153602e-01,  5.57471275e-01,\n",
       "        2.52545208e-01, -1.75033450e-01,  8.35994631e-02,  1.55923918e-01,\n",
       "        1.06819764e-01,  7.53539205e-02, -5.03516123e-02,  1.70250565e-01,\n",
       "        3.35607082e-02,  1.42688975e-01,  1.53487295e-01, -2.29011569e-02,\n",
       "       -2.33930901e-01, -6.51472360e-02, -2.74805315e-02,  1.63735226e-01,\n",
       "        1.19199179e-01, -2.53687538e-02,  1.46250557e-02,  5.02729714e-02,\n",
       "        9.54420865e-02,  9.61372107e-02,  5.91148660e-02, -6.94807917e-02,\n",
       "        6.98641762e-02,  1.00456163e-01,  2.23745391e-01,  5.22618042e-03,\n",
       "       -2.25227326e-01, -1.72498778e-01,  2.91327506e-01, -3.14963609e-01,\n",
       "        7.22332671e-02,  4.68509272e-02, -2.38041133e-01,  1.28257181e-02,\n",
       "        2.02650949e-01,  3.53968561e-01, -8.71009529e-02,  1.17101781e-01,\n",
       "       -4.76881117e-02, -6.65454268e-02,  3.49712014e-01, -1.02459356e-01,\n",
       "       -1.22074097e-01,  9.88557935e-02, -4.18805867e-01, -6.78390041e-02,\n",
       "        2.63255656e-01,  3.69582504e-01,  2.10686103e-01,  1.00694403e-01,\n",
       "       -1.88274235e-01, -3.04220505e-02, -7.08542764e-02,  3.22135352e-02,\n",
       "        2.01786563e-04, -2.76346713e-01,  6.77771568e-02,  2.32608113e-02,\n",
       "        8.05308297e-03,  3.48222554e-02,  6.89772367e-02, -6.39077947e-02,\n",
       "        1.47361392e-02, -7.34853745e-02, -2.24357441e-01, -1.11209504e-01,\n",
       "        1.47524774e-01, -1.77419689e-02,  1.80359617e-01,  9.81820077e-02,\n",
       "       -4.15988654e-01,  6.05631173e-02,  3.54407072e-01, -6.49748323e-03,\n",
       "        2.12241933e-01, -6.07406087e-02,  2.06612363e-01, -5.06483838e-02,\n",
       "        8.39833990e-02, -1.90449327e-01,  1.01238824e-01, -1.19639814e-01,\n",
       "        1.90406129e-01, -6.39401525e-02,  1.66021705e-01,  3.14637125e-01,\n",
       "        1.05992984e-03, -8.67409483e-02,  9.35570002e-02,  8.51246640e-02],\n",
       "      dtype=float32)"
      ]
     },
     "execution_count": 439,
     "metadata": {},
     "output_type": "execute_result"
    }
   ],
   "source": [
    "loaded_model.wv[\"grossesse\"]"
   ]
  },
  {
   "cell_type": "code",
   "execution_count": null,
   "metadata": {},
   "outputs": [],
   "source": []
  },
  {
   "cell_type": "code",
   "execution_count": 304,
   "metadata": {},
   "outputs": [
    {
     "data": {
      "text/plain": [
       "7820"
      ]
     },
     "execution_count": 304,
     "metadata": {},
     "output_type": "execute_result"
    }
   ],
   "source": [
    "len(vector_list)"
   ]
  },
  {
   "cell_type": "code",
   "execution_count": 305,
   "metadata": {},
   "outputs": [],
   "source": [
    "output_without_na = output_train.intention.copy()\n",
    "for index in reversed(empty_vector_list):\n",
    "    output_without_na.pop(index)\n"
   ]
  },
  {
   "cell_type": "code",
   "execution_count": 306,
   "metadata": {},
   "outputs": [
    {
     "data": {
      "text/plain": [
       "(8028, 7820)"
      ]
     },
     "execution_count": 306,
     "metadata": {},
     "output_type": "execute_result"
    }
   ],
   "source": [
    "len(output_train.intention), len(output_without_na)"
   ]
  },
  {
   "cell_type": "code",
   "execution_count": 307,
   "metadata": {},
   "outputs": [
    {
     "data": {
      "text/plain": [
       "208"
      ]
     },
     "execution_count": 307,
     "metadata": {},
     "output_type": "execute_result"
    }
   ],
   "source": [
    "len(empty_vector_list)"
   ]
  },
  {
   "cell_type": "code",
   "execution_count": 320,
   "metadata": {},
   "outputs": [
    {
     "data": {
      "text/plain": [
       "[array([-0.02248336,  0.04687505, -0.1641482 , -0.18325695,  0.09454917,\n",
       "        -0.2112281 , -0.15443636,  0.5657513 ,  0.25201243, -0.17368506,\n",
       "         0.08619639,  0.15894769,  0.10341179,  0.07816289, -0.05388571,\n",
       "         0.17109661,  0.03643755,  0.14423819,  0.15261771, -0.02326376,\n",
       "        -0.23338555, -0.05936332, -0.02247147,  0.1669953 ,  0.11556664,\n",
       "        -0.02208309,  0.01546241,  0.04547411,  0.09416819,  0.09606989,\n",
       "         0.05855985, -0.06831264,  0.07517734,  0.10118445,  0.22561915,\n",
       "         0.0043017 , -0.22392868, -0.17458211,  0.29711643, -0.31732818,\n",
       "         0.07790334,  0.05182887, -0.23745033,  0.00692797,  0.20077148,\n",
       "         0.35502928, -0.08364818,  0.12221667, -0.04585804, -0.06269227,\n",
       "         0.35180345, -0.10415153, -0.12474247,  0.09711885, -0.4212531 ,\n",
       "        -0.07183241,  0.26547018,  0.36828214,  0.21012197,  0.10549582,\n",
       "        -0.18775895, -0.03154062, -0.07097395,  0.03010649,  0.00464217,\n",
       "        -0.2757436 ,  0.06794237,  0.02111209,  0.0103505 ,  0.0362138 ,\n",
       "         0.07267865, -0.06697333,  0.01966932, -0.07713847, -0.22651853,\n",
       "        -0.10875455,  0.14881703, -0.01417313,  0.18340777,  0.10113181,\n",
       "        -0.41489443,  0.05650917,  0.35459766, -0.00359688,  0.21031825,\n",
       "        -0.06411945,  0.20947333, -0.05319309,  0.08187128, -0.19592874,\n",
       "         0.09783959, -0.12193214,  0.18867232, -0.06428156,  0.1659588 ,\n",
       "         0.313197  , -0.00454177, -0.08603962,  0.09442773,  0.08703835],\n",
       "       dtype=float32)]"
      ]
     },
     "execution_count": 320,
     "metadata": {},
     "output_type": "execute_result"
    }
   ],
   "source": [
    "vector_list[:1]"
   ]
  },
  {
   "cell_type": "code",
   "execution_count": 309,
   "metadata": {},
   "outputs": [],
   "source": [
    "x_train, x_test, y_train, y_test = train_test_split(vector_list, output_without_na) "
   ]
  },
  {
   "cell_type": "code",
   "execution_count": 310,
   "metadata": {},
   "outputs": [],
   "source": [
    "x_train_df = pd.DataFrame(x_train)\n",
    "x_test_df = pd.DataFrame(x_test)"
   ]
  },
  {
   "cell_type": "code",
   "execution_count": 311,
   "metadata": {},
   "outputs": [
    {
     "data": {
      "text/html": [
       "<div>\n",
       "<style scoped>\n",
       "    .dataframe tbody tr th:only-of-type {\n",
       "        vertical-align: middle;\n",
       "    }\n",
       "\n",
       "    .dataframe tbody tr th {\n",
       "        vertical-align: top;\n",
       "    }\n",
       "\n",
       "    .dataframe thead th {\n",
       "        text-align: right;\n",
       "    }\n",
       "</style>\n",
       "<table border=\"1\" class=\"dataframe\">\n",
       "  <thead>\n",
       "    <tr style=\"text-align: right;\">\n",
       "      <th></th>\n",
       "      <th>0</th>\n",
       "      <th>1</th>\n",
       "      <th>2</th>\n",
       "      <th>3</th>\n",
       "      <th>4</th>\n",
       "      <th>5</th>\n",
       "      <th>6</th>\n",
       "      <th>7</th>\n",
       "      <th>8</th>\n",
       "      <th>9</th>\n",
       "      <th>...</th>\n",
       "      <th>90</th>\n",
       "      <th>91</th>\n",
       "      <th>92</th>\n",
       "      <th>93</th>\n",
       "      <th>94</th>\n",
       "      <th>95</th>\n",
       "      <th>96</th>\n",
       "      <th>97</th>\n",
       "      <th>98</th>\n",
       "      <th>99</th>\n",
       "    </tr>\n",
       "  </thead>\n",
       "  <tbody>\n",
       "    <tr>\n",
       "      <td>0</td>\n",
       "      <td>-0.023123</td>\n",
       "      <td>0.045866</td>\n",
       "      <td>-0.163452</td>\n",
       "      <td>-0.183587</td>\n",
       "      <td>0.092692</td>\n",
       "      <td>-0.213284</td>\n",
       "      <td>-0.153785</td>\n",
       "      <td>0.561962</td>\n",
       "      <td>0.252081</td>\n",
       "      <td>-0.173866</td>\n",
       "      <td>...</td>\n",
       "      <td>0.098689</td>\n",
       "      <td>-0.120002</td>\n",
       "      <td>0.189562</td>\n",
       "      <td>-0.062404</td>\n",
       "      <td>0.164402</td>\n",
       "      <td>0.311555</td>\n",
       "      <td>-0.001159</td>\n",
       "      <td>-0.086624</td>\n",
       "      <td>0.092746</td>\n",
       "      <td>0.086938</td>\n",
       "    </tr>\n",
       "    <tr>\n",
       "      <td>1</td>\n",
       "      <td>-0.021280</td>\n",
       "      <td>0.043591</td>\n",
       "      <td>-0.160078</td>\n",
       "      <td>-0.176484</td>\n",
       "      <td>0.091541</td>\n",
       "      <td>-0.203297</td>\n",
       "      <td>-0.149225</td>\n",
       "      <td>0.548890</td>\n",
       "      <td>0.243566</td>\n",
       "      <td>-0.166845</td>\n",
       "      <td>...</td>\n",
       "      <td>0.095762</td>\n",
       "      <td>-0.121163</td>\n",
       "      <td>0.183105</td>\n",
       "      <td>-0.059628</td>\n",
       "      <td>0.162406</td>\n",
       "      <td>0.305653</td>\n",
       "      <td>-0.003957</td>\n",
       "      <td>-0.084842</td>\n",
       "      <td>0.088892</td>\n",
       "      <td>0.083861</td>\n",
       "    </tr>\n",
       "    <tr>\n",
       "      <td>2</td>\n",
       "      <td>-0.019531</td>\n",
       "      <td>0.047683</td>\n",
       "      <td>-0.164782</td>\n",
       "      <td>-0.180650</td>\n",
       "      <td>0.096614</td>\n",
       "      <td>-0.213880</td>\n",
       "      <td>-0.152749</td>\n",
       "      <td>0.564460</td>\n",
       "      <td>0.250655</td>\n",
       "      <td>-0.172092</td>\n",
       "      <td>...</td>\n",
       "      <td>0.099723</td>\n",
       "      <td>-0.120642</td>\n",
       "      <td>0.186995</td>\n",
       "      <td>-0.062281</td>\n",
       "      <td>0.165505</td>\n",
       "      <td>0.313849</td>\n",
       "      <td>-0.004797</td>\n",
       "      <td>-0.086416</td>\n",
       "      <td>0.091905</td>\n",
       "      <td>0.084494</td>\n",
       "    </tr>\n",
       "    <tr>\n",
       "      <td>3</td>\n",
       "      <td>-0.022775</td>\n",
       "      <td>0.047320</td>\n",
       "      <td>-0.157104</td>\n",
       "      <td>-0.179764</td>\n",
       "      <td>0.092367</td>\n",
       "      <td>-0.204656</td>\n",
       "      <td>-0.151966</td>\n",
       "      <td>0.549904</td>\n",
       "      <td>0.245616</td>\n",
       "      <td>-0.172508</td>\n",
       "      <td>...</td>\n",
       "      <td>0.096164</td>\n",
       "      <td>-0.121700</td>\n",
       "      <td>0.182061</td>\n",
       "      <td>-0.066063</td>\n",
       "      <td>0.163263</td>\n",
       "      <td>0.305534</td>\n",
       "      <td>-0.001797</td>\n",
       "      <td>-0.081283</td>\n",
       "      <td>0.091370</td>\n",
       "      <td>0.081538</td>\n",
       "    </tr>\n",
       "    <tr>\n",
       "      <td>4</td>\n",
       "      <td>-0.022977</td>\n",
       "      <td>0.047319</td>\n",
       "      <td>-0.163388</td>\n",
       "      <td>-0.179172</td>\n",
       "      <td>0.093867</td>\n",
       "      <td>-0.206919</td>\n",
       "      <td>-0.148944</td>\n",
       "      <td>0.553830</td>\n",
       "      <td>0.247878</td>\n",
       "      <td>-0.171566</td>\n",
       "      <td>...</td>\n",
       "      <td>0.095846</td>\n",
       "      <td>-0.119455</td>\n",
       "      <td>0.183998</td>\n",
       "      <td>-0.062234</td>\n",
       "      <td>0.160530</td>\n",
       "      <td>0.307366</td>\n",
       "      <td>-0.002725</td>\n",
       "      <td>-0.083575</td>\n",
       "      <td>0.092215</td>\n",
       "      <td>0.084583</td>\n",
       "    </tr>\n",
       "  </tbody>\n",
       "</table>\n",
       "<p>5 rows × 100 columns</p>\n",
       "</div>"
      ],
      "text/plain": [
       "         0         1         2         3         4         5         6         7         8         9   ...        90        91        92        93        94        95        96        97        98        99\n",
       "0 -0.023123  0.045866 -0.163452 -0.183587  0.092692 -0.213284 -0.153785  0.561962  0.252081 -0.173866  ...  0.098689 -0.120002  0.189562 -0.062404  0.164402  0.311555 -0.001159 -0.086624  0.092746  0.086938\n",
       "1 -0.021280  0.043591 -0.160078 -0.176484  0.091541 -0.203297 -0.149225  0.548890  0.243566 -0.166845  ...  0.095762 -0.121163  0.183105 -0.059628  0.162406  0.305653 -0.003957 -0.084842  0.088892  0.083861\n",
       "2 -0.019531  0.047683 -0.164782 -0.180650  0.096614 -0.213880 -0.152749  0.564460  0.250655 -0.172092  ...  0.099723 -0.120642  0.186995 -0.062281  0.165505  0.313849 -0.004797 -0.086416  0.091905  0.084494\n",
       "3 -0.022775  0.047320 -0.157104 -0.179764  0.092367 -0.204656 -0.151966  0.549904  0.245616 -0.172508  ...  0.096164 -0.121700  0.182061 -0.066063  0.163263  0.305534 -0.001797 -0.081283  0.091370  0.081538\n",
       "4 -0.022977  0.047319 -0.163388 -0.179172  0.093867 -0.206919 -0.148944  0.553830  0.247878 -0.171566  ...  0.095846 -0.119455  0.183998 -0.062234  0.160530  0.307366 -0.002725 -0.083575  0.092215  0.084583\n",
       "\n",
       "[5 rows x 100 columns]"
      ]
     },
     "execution_count": 311,
     "metadata": {},
     "output_type": "execute_result"
    }
   ],
   "source": [
    "x_train_df.head()"
   ]
  },
  {
   "cell_type": "code",
   "execution_count": 312,
   "metadata": {},
   "outputs": [],
   "source": [
    "grid = {\"gamma\": [0.001, 0.01, 0.1,1,10, 100], \"C\":[0.001, 0.01, 0.1,1,10,100]}\n",
    "#grid = {\"gamma\": [ 100, 1000], \"C\":[1000,100]}"
   ]
  },
  {
   "cell_type": "code",
   "execution_count": 398,
   "metadata": {},
   "outputs": [],
   "source": [
    "gs_wv = GridSearchCV(SVC(probability=True),grid, cv=3)"
   ]
  },
  {
   "cell_type": "code",
   "execution_count": 399,
   "metadata": {},
   "outputs": [
    {
     "name": "stderr",
     "output_type": "stream",
     "text": [
      "/Users/antoine/Documents/Tests/Posos/posos_interview/venv/lib/python3.7/site-packages/sklearn/model_selection/_split.py:657: Warning: The least populated class in y has only 2 members, which is too few. The minimum number of members in any class cannot be less than n_splits=3.\n",
      "  % (min_groups, self.n_splits)), Warning)\n"
     ]
    },
    {
     "data": {
      "text/plain": [
       "GridSearchCV(cv=3, error_score='raise-deprecating',\n",
       "             estimator=SVC(C=1.0, cache_size=200, class_weight=None, coef0=0.0,\n",
       "                           decision_function_shape='ovr', degree=3,\n",
       "                           gamma='auto_deprecated', kernel='rbf', max_iter=-1,\n",
       "                           probability=True, random_state=None, shrinking=True,\n",
       "                           tol=0.001, verbose=False),\n",
       "             iid='warn', n_jobs=None,\n",
       "             param_grid={'C': [0.001, 0.01, 1, 10, 100],\n",
       "                         'gamma': [0.001, 0.01, 1, 10, 100]},\n",
       "             pre_dispatch='2*n_jobs', refit=True, return_train_score=False,\n",
       "             scoring=None, verbose=0)"
      ]
     },
     "execution_count": 399,
     "metadata": {},
     "output_type": "execute_result"
    }
   ],
   "source": [
    "gs_wv.fit(x_train_df, y_train)"
   ]
  },
  {
   "cell_type": "code",
   "execution_count": 400,
   "metadata": {},
   "outputs": [
    {
     "data": {
      "text/plain": [
       "SVC(C=100, cache_size=200, class_weight=None, coef0=0.0,\n",
       "    decision_function_shape='ovr', degree=3, gamma=100, kernel='rbf',\n",
       "    max_iter=-1, probability=True, random_state=None, shrinking=True, tol=0.001,\n",
       "    verbose=False)"
      ]
     },
     "execution_count": 400,
     "metadata": {},
     "output_type": "execute_result"
    }
   ],
   "source": [
    "gs_wv.best_estimator_"
   ]
  },
  {
   "cell_type": "code",
   "execution_count": 401,
   "metadata": {},
   "outputs": [
    {
     "data": {
      "text/plain": [
       "0.4751918158567775"
      ]
     },
     "execution_count": 401,
     "metadata": {},
     "output_type": "execute_result"
    }
   ],
   "source": [
    "gs_wv.best_score_"
   ]
  },
  {
   "cell_type": "code",
   "execution_count": 402,
   "metadata": {},
   "outputs": [
    {
     "data": {
      "text/plain": [
       "0.49411764705882355"
      ]
     },
     "execution_count": 402,
     "metadata": {},
     "output_type": "execute_result"
    }
   ],
   "source": [
    "gs_wv.score(x_test_df, y_test)"
   ]
  },
  {
   "cell_type": "code",
   "execution_count": 380,
   "metadata": {},
   "outputs": [],
   "source": [
    "from sklearn.metrics import confusion_matrix\n",
    "pred = gs_wv.predict(x_test_df)\n",
    "confusion = confusion_matrix(y_test, pred)"
   ]
  },
  {
   "cell_type": "code",
   "execution_count": 381,
   "metadata": {
    "collapsed": true
   },
   "outputs": [
    {
     "data": {
      "image/png": "[encoded data removed]",
      "text/plain": [
       "<Figure size 1296x1296 with 1 Axes>"
      ]
     },
     "metadata": {
      "needs_background": "light"
     },
     "output_type": "display_data"
    }
   ],
   "source": [
    "import matplotlib.pyplot as plt\n",
    "from mlxtend.evaluate import confusion_matrix\n",
    "from mlxtend.plotting import plot_confusion_matrix\n",
    "\n",
    "\n",
    "fig, ax = plot_confusion_matrix(conf_mat=confusion, figsize=(18,18))\n",
    "plt.show()"
   ]
  },
  {
   "cell_type": "code",
   "execution_count": 382,
   "metadata": {},
   "outputs": [
    {
     "name": "stderr",
     "output_type": "stream",
     "text": [
      "/Users/antoine/Documents/Tests/Posos/posos_interview/venv/lib/python3.7/site-packages/sklearn/metrics/classification.py:1437: UndefinedMetricWarning: F-score is ill-defined and being set to 0.0 in labels with no predicted samples.\n",
      "  'precision', 'predicted', average, warn_for)\n"
     ]
    },
    {
     "data": {
      "text/plain": [
       "(0.49411764705882355, 0.34887839618025934)"
      ]
     },
     "execution_count": 382,
     "metadata": {},
     "output_type": "execute_result"
    }
   ],
   "source": [
    "f1_score(y_test, pred, average=\"micro\") ,f1_score(y_test, pred, average=\"macro\") "
   ]
  },
  {
   "cell_type": "code",
   "execution_count": 383,
   "metadata": {},
   "outputs": [],
   "source": [
    "import pickle"
   ]
  },
  {
   "cell_type": "code",
   "execution_count": 435,
   "metadata": {},
   "outputs": [],
   "source": [
    "filename = 'svm_wv_model.sav'\n",
    "pickle.dump(gs_wv.best_estimator_, open(filename, 'wb'))"
   ]
  },
  {
   "cell_type": "code",
   "execution_count": 423,
   "metadata": {},
   "outputs": [
    {
     "data": {
      "text/plain": [
       "SVC(C=100, cache_size=200, class_weight=None, coef0=0.0,\n",
       "    decision_function_shape='ovr', degree=3, gamma=100, kernel='rbf',\n",
       "    max_iter=-1, probability=True, random_state=None, shrinking=True, tol=0.001,\n",
       "    verbose=False)"
      ]
     },
     "execution_count": 423,
     "metadata": {},
     "output_type": "execute_result"
    }
   ],
   "source": [
    "gs_wv.best_estimator_"
   ]
  },
  {
   "cell_type": "code",
   "execution_count": null,
   "metadata": {},
   "outputs": [],
   "source": [
    "# autre test"
   ]
  },
  {
   "cell_type": "code",
   "execution_count": null,
   "metadata": {},
   "outputs": [],
   "source": []
  },
  {
   "cell_type": "code",
   "execution_count": 424,
   "metadata": {},
   "outputs": [],
   "source": [
    "loaded_model = pickle.load(open(filename, 'rb'))"
   ]
  },
  {
   "cell_type": "code",
   "execution_count": 425,
   "metadata": {},
   "outputs": [
    {
     "data": {
      "text/plain": [
       "0.49411764705882355"
      ]
     },
     "execution_count": 425,
     "metadata": {},
     "output_type": "execute_result"
    }
   ],
   "source": [
    "loaded_model.score(x_test_df, y_test)"
   ]
  },
  {
   "cell_type": "code",
   "execution_count": null,
   "metadata": {},
   "outputs": [],
   "source": []
  },
  {
   "cell_type": "code",
   "execution_count": 406,
   "metadata": {},
   "outputs": [],
   "source": [
    "query_to_test = \"risques poisson cru pendant la grossesse ?\""
   ]
  },
  {
   "cell_type": "code",
   "execution_count": 407,
   "metadata": {},
   "outputs": [],
   "source": [
    "cleaned_query_to_test = [re.sub(\",|-|'|\\.|\\?\" ,\" \", str(query_to_test)).split(\" \") ]"
   ]
  },
  {
   "cell_type": "code",
   "execution_count": 408,
   "metadata": {},
   "outputs": [
    {
     "data": {
      "text/plain": [
       "[['risques', 'poisson', 'cru', 'pendant', 'la', 'grossesse', '', '']]"
      ]
     },
     "execution_count": 408,
     "metadata": {},
     "output_type": "execute_result"
    }
   ],
   "source": [
    "cleaned_query_to_test"
   ]
  },
  {
   "cell_type": "code",
   "execution_count": 409,
   "metadata": {},
   "outputs": [],
   "source": [
    "cleaned_query_vectorized = get_vector_list(cleaned_query_to_test, w2v_model) "
   ]
  },
  {
   "cell_type": "code",
   "execution_count": 410,
   "metadata": {},
   "outputs": [
    {
     "data": {
      "text/plain": [
       "array([44])"
      ]
     },
     "execution_count": 410,
     "metadata": {},
     "output_type": "execute_result"
    }
   ],
   "source": [
    "loaded_model.predict(cleaned_query_vectorized[0])"
   ]
  },
  {
   "cell_type": "code",
   "execution_count": 411,
   "metadata": {},
   "outputs": [
    {
     "data": {
      "text/plain": [
       "array([[2.28105275e-03, 3.49205293e-04, 8.39932559e-04, 9.81808254e-05,\n",
       "        6.11031770e-04, 6.77847627e-04, 2.65075377e-04, 2.39037432e-04,\n",
       "        6.65954684e-04, 2.81377340e-04, 3.63811121e-04, 1.31509777e-03,\n",
       "        6.68476006e-04, 1.32086757e-03, 3.35304143e-03, 1.38963300e-04,\n",
       "        1.25994321e-03, 8.58368093e-04, 3.73870190e-04, 3.11880460e-04,\n",
       "        1.13219790e-04, 1.22269270e-03, 1.25543029e-03, 2.04101369e-03,\n",
       "        1.80688604e-04, 2.44470671e-04, 5.22351739e-03, 1.25921075e-03,\n",
       "        4.59701941e-03, 1.95156596e-04, 1.95589663e-04, 3.68547519e-03,\n",
       "        3.75321193e-03, 1.94835805e-03, 2.25600768e-03, 4.75229761e-04,\n",
       "        4.29797612e-04, 1.95295340e-03, 1.63916212e-03, 6.10637574e-03,\n",
       "        3.10579912e-04, 2.61611553e-04, 3.82970568e-03, 7.69235824e-03,\n",
       "        8.89797017e-01, 1.94104199e-04, 5.51541366e-04, 7.50782335e-04,\n",
       "        4.12505027e-02, 1.59087388e-04, 1.55113769e-04]])"
      ]
     },
     "execution_count": 411,
     "metadata": {},
     "output_type": "execute_result"
    }
   ],
   "source": [
    "loaded_model.predict_proba(cleaned_query_vectorized[0])"
   ]
  },
  {
   "cell_type": "code",
   "execution_count": 426,
   "metadata": {},
   "outputs": [
    {
     "data": {
      "text/plain": [
       "44"
      ]
     },
     "execution_count": 426,
     "metadata": {},
     "output_type": "execute_result"
    }
   ],
   "source": [
    "np.argmax(loaded_model.predict_proba(cleaned_query_vectorized[0]))"
   ]
  },
  {
   "cell_type": "code",
   "execution_count": 434,
   "metadata": {},
   "outputs": [
    {
     "data": {
      "text/plain": [
       "0.8897970169742426"
      ]
     },
     "execution_count": 434,
     "metadata": {},
     "output_type": "execute_result"
    }
   ],
   "source": [
    "loaded_model.predict_proba(cleaned_query_vectorized[0])[0][44]"
   ]
  },
  {
   "cell_type": "code",
   "execution_count": null,
   "metadata": {},
   "outputs": [],
   "source": []
  },
  {
   "cell_type": "code",
   "execution_count": null,
   "metadata": {},
   "outputs": [],
   "source": []
  },
  {
   "cell_type": "code",
   "execution_count": null,
   "metadata": {},
   "outputs": [],
   "source": [
    "# HERE IT MIGHT WORK BUT ENGLISH ONLY"
   ]
  },
  {
   "cell_type": "code",
   "execution_count": 182,
   "metadata": {},
   "outputs": [],
   "source": [
    "from nltk import word_tokenize          \n",
    "from nltk.stem import WordNetLemmatizer \n",
    "class LemmaTokenizer(object):\n",
    "    def __init__(self):\n",
    "        self.wnl = WordNetLemmatizer()\n",
    "    def __call__(self, articles):\n",
    "        return [self.wnl.lemmatize(t) for t in word_tokenize(articles)]"
   ]
  },
  {
   "cell_type": "code",
   "execution_count": 191,
   "metadata": {},
   "outputs": [
    {
     "name": "stderr",
     "output_type": "stream",
     "text": [
      "/Users/antoine/Documents/Tests/Posos/posos_interview/venv/lib/python3.7/site-packages/sklearn/feature_extraction/text.py:300: UserWarning: Your stop_words may be inconsistent with your preprocessing. Tokenizing the stop words generated tokens ['a', 'avon', 'e', 'fuss', 'no', 'pa', 'serum', 'somme'] not in stop_words.\n",
      "  'stop_words.' % sorted(inconsistent))\n"
     ]
    }
   ],
   "source": [
    "tf_vectorizer = TfidfVectorizer(tokenizer=LemmaTokenizer(),\n",
    "                       #strip_accents = 'unicode',\n",
    "                       stop_words = stop_words_fr,\n",
    "                       #token_pattern = r'\\b[a-zA-Z]{3,}\\b', # keeps words of 3 or more characters\n",
    "                       #max_df = 0.5,\n",
    "                       min_df = 5).fit(input_train[\"question\"])\n",
    "tf_vect = tf_vectorizer.transform(input_train[\"question\"])"
   ]
  },
  {
   "cell_type": "code",
   "execution_count": 202,
   "metadata": {},
   "outputs": [],
   "source": [
    "import re\n",
    "from nltk.stem.porter import PorterStemmer\n",
    "porter_stemmer = PorterStemmer()"
   ]
  },
  {
   "cell_type": "code",
   "execution_count": 203,
   "metadata": {},
   "outputs": [],
   "source": [
    "def stemming_tokenizer(str_input):\n",
    "    words = re.sub(r\"[^A-Za-z0-9\\-]\", \" \", str_input).lower().split()\n",
    "    words = [porter_stemmer.stem(word) for word in words]\n",
    "    return words"
   ]
  },
  {
   "cell_type": "code",
   "execution_count": 204,
   "metadata": {},
   "outputs": [
    {
     "name": "stderr",
     "output_type": "stream",
     "text": [
      "/Users/antoine/Documents/Tests/Posos/posos_interview/venv/lib/python3.7/site-packages/sklearn/feature_extraction/text.py:300: UserWarning: Your stop_words may be inconsistent with your preprocessing. Tokenizing the stop words generated tokens ['aurion', 'auron', 'avai', 'avion', 'avon', 'ayon', 'dan', 'e', 'ell', 'euss', 'eussion', 'f', 'fu', 'fuss', 'fussion', 'mai', 'no', 'notr', 'nou', 'pa', 'serion', 'seron', 'soi', 'somm', 'soyon', 'sui', 'tai', 'taient', 'tait', 'tant', 'tiez', 'tion', 'vo', 'votr', 'vou'] not in stop_words.\n",
      "  'stop_words.' % sorted(inconsistent))\n"
     ]
    }
   ],
   "source": [
    "tf_vectorizer_3 = TfidfVectorizer(tokenizer=stemming_tokenizer,\n",
    "                       stop_words = stop_words_fr,\n",
    "                       min_df = 5).fit(input_train[\"question\"])"
   ]
  },
  {
   "cell_type": "code",
   "execution_count": null,
   "metadata": {},
   "outputs": [],
   "source": []
  }
 ],
 "metadata": {
  "kernelspec": {
   "display_name": "Python 3",
   "language": "python",
   "name": "python3"
  },
  "language_info": {
   "codemirror_mode": {
    "name": "ipython",
    "version": 3
   },
   "file_extension": ".py",
   "mimetype": "text/x-python",
   "name": "python",
   "nbconvert_exporter": "python",
   "pygments_lexer": "ipython3",
   "version": "3.7.3"
  }
 },
 "nbformat": 4,
 "nbformat_minor": 2
}
